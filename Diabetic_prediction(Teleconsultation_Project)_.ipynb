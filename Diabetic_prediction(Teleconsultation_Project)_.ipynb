{
  "nbformat": 4,
  "nbformat_minor": 0,
  "metadata": {
    "kernelspec": {
      "display_name": "Python 3",
      "language": "python",
      "name": "python3"
    },
    "language_info": {
      "codemirror_mode": {
        "name": "ipython",
        "version": 3
      },
      "file_extension": ".py",
      "mimetype": "text/x-python",
      "name": "python",
      "nbconvert_exporter": "python",
      "pygments_lexer": "ipython3",
      "version": "3.8.5"
    },
    "colab": {
      "name": "Diabetic prediction(Teleconsultation Project) .ipynb",
      "provenance": [],
      "collapsed_sections": []
    }
  },
  "cells": [
    {
      "cell_type": "raw",
      "metadata": {
        "id": "nFBMYJyM5rze"
      },
      "source": [
        "The objective of the dataset is to diagnostically predict whether or not a patient has diabetes, based on certain diagnostic measurements included in the dataset. Several constraints were placed on the selection of these instances from a larger database. In particular, all patients here are females at least 21 years old of Pima Indian heritage."
      ]
    },
    {
      "cell_type": "code",
      "metadata": {
        "id": "KLS34Xt45rzf"
      },
      "source": [
        "%matplotlib inline\n",
        "### import libraries\n",
        "import numpy as np\n",
        "import pandas as pd\n",
        "import matplotlib.pyplot as plt\n",
        "from matplotlib import style\n",
        "import seaborn as sns  \n",
        "import plotly.express as px\n",
        "from sklearn.model_selection import train_test_split\n",
        "from sklearn.linear_model import LogisticRegression\n",
        "from sklearn.neighbors import KNeighborsClassifier\n",
        "from sklearn.svm import SVC\n",
        "from sklearn.tree import DecisionTreeClassifier\n",
        "from sklearn.discriminant_analysis import LinearDiscriminantAnalysis\n",
        "from sklearn.ensemble import RandomForestClassifier\n",
        "from sklearn.metrics import confusion_matrix\n",
        "from sklearn.preprocessing import StandardScaler\n",
        "from imblearn.over_sampling import SMOTE\n",
        "sns.set_theme()\n",
        "import warnings\n",
        "warnings.filterwarnings('ignore')"
      ],
      "execution_count": 33,
      "outputs": []
    },
    {
      "cell_type": "code",
      "metadata": {
        "id": "jK4sLYQt5rzg"
      },
      "source": [
        "data = pd.read_csv('health care diabetes.csv')"
      ],
      "execution_count": 2,
      "outputs": []
    },
    {
      "cell_type": "code",
      "metadata": {
        "colab": {
          "base_uri": "https://localhost:8080/",
          "height": 203
        },
        "id": "GcN7EO0K5rzg",
        "outputId": "42b4fb4c-fb40-4fde-a3ad-50b1c4f17c0a"
      },
      "source": [
        "data.head()"
      ],
      "execution_count": 3,
      "outputs": [
        {
          "output_type": "execute_result",
          "data": {
            "text/html": [
              "<div>\n",
              "<style scoped>\n",
              "    .dataframe tbody tr th:only-of-type {\n",
              "        vertical-align: middle;\n",
              "    }\n",
              "\n",
              "    .dataframe tbody tr th {\n",
              "        vertical-align: top;\n",
              "    }\n",
              "\n",
              "    .dataframe thead th {\n",
              "        text-align: right;\n",
              "    }\n",
              "</style>\n",
              "<table border=\"1\" class=\"dataframe\">\n",
              "  <thead>\n",
              "    <tr style=\"text-align: right;\">\n",
              "      <th></th>\n",
              "      <th>Pregnancies</th>\n",
              "      <th>Glucose</th>\n",
              "      <th>BloodPressure</th>\n",
              "      <th>SkinThickness</th>\n",
              "      <th>Insulin</th>\n",
              "      <th>BMI</th>\n",
              "      <th>DiabetesPedigreeFunction</th>\n",
              "      <th>Age</th>\n",
              "      <th>Outcome</th>\n",
              "    </tr>\n",
              "  </thead>\n",
              "  <tbody>\n",
              "    <tr>\n",
              "      <th>0</th>\n",
              "      <td>6</td>\n",
              "      <td>148</td>\n",
              "      <td>72</td>\n",
              "      <td>35</td>\n",
              "      <td>0</td>\n",
              "      <td>33.6</td>\n",
              "      <td>0.627</td>\n",
              "      <td>50</td>\n",
              "      <td>1</td>\n",
              "    </tr>\n",
              "    <tr>\n",
              "      <th>1</th>\n",
              "      <td>1</td>\n",
              "      <td>85</td>\n",
              "      <td>66</td>\n",
              "      <td>29</td>\n",
              "      <td>0</td>\n",
              "      <td>26.6</td>\n",
              "      <td>0.351</td>\n",
              "      <td>31</td>\n",
              "      <td>0</td>\n",
              "    </tr>\n",
              "    <tr>\n",
              "      <th>2</th>\n",
              "      <td>8</td>\n",
              "      <td>183</td>\n",
              "      <td>64</td>\n",
              "      <td>0</td>\n",
              "      <td>0</td>\n",
              "      <td>23.3</td>\n",
              "      <td>0.672</td>\n",
              "      <td>32</td>\n",
              "      <td>1</td>\n",
              "    </tr>\n",
              "    <tr>\n",
              "      <th>3</th>\n",
              "      <td>1</td>\n",
              "      <td>89</td>\n",
              "      <td>66</td>\n",
              "      <td>23</td>\n",
              "      <td>94</td>\n",
              "      <td>28.1</td>\n",
              "      <td>0.167</td>\n",
              "      <td>21</td>\n",
              "      <td>0</td>\n",
              "    </tr>\n",
              "    <tr>\n",
              "      <th>4</th>\n",
              "      <td>0</td>\n",
              "      <td>137</td>\n",
              "      <td>40</td>\n",
              "      <td>35</td>\n",
              "      <td>168</td>\n",
              "      <td>43.1</td>\n",
              "      <td>2.288</td>\n",
              "      <td>33</td>\n",
              "      <td>1</td>\n",
              "    </tr>\n",
              "  </tbody>\n",
              "</table>\n",
              "</div>"
            ],
            "text/plain": [
              "   Pregnancies  Glucose  BloodPressure  ...  DiabetesPedigreeFunction  Age  Outcome\n",
              "0            6      148             72  ...                     0.627   50        1\n",
              "1            1       85             66  ...                     0.351   31        0\n",
              "2            8      183             64  ...                     0.672   32        1\n",
              "3            1       89             66  ...                     0.167   21        0\n",
              "4            0      137             40  ...                     2.288   33        1\n",
              "\n",
              "[5 rows x 9 columns]"
            ]
          },
          "metadata": {
            "tags": []
          },
          "execution_count": 3
        }
      ]
    },
    {
      "cell_type": "markdown",
      "metadata": {
        "id": "VpfQNNKB59ET"
      },
      "source": [
        "#An overview of the columns in the dataset\n",
        "\n",
        "Pregnancies:  Number of times pregnant\n",
        "    \n",
        "Glucose: Plasma glucose concentration a 2 hours in an oral glucose tolerance test\n",
        "    \n",
        "BloodPressure: Diastolic blood pressure (mm Hg)\n",
        "    \n",
        "SkinThickness: Triceps skin fold thickness (mm)\n",
        "       \n",
        "Insulin: 2-Hour serum insulin (mu U/ml)\n",
        "    \n",
        "BMI: Body mass index (weight in kg/(height in m)^2)\n",
        "    \n",
        "DiabetesPedigreeFunction: Diabetes pedigree function\n",
        "    \n",
        "Age: Age (years)\n",
        "    \n",
        "Cabin : Cabin Number\n",
        "    \n",
        "Outcome: Class variable (0 or 1)\n"
      ]
    },
    {
      "cell_type": "code",
      "metadata": {
        "colab": {
          "base_uri": "https://localhost:8080/"
        },
        "id": "IFL7hnx_5rzh",
        "outputId": "02c6d585-ee04-487b-fb0c-fea4bcb71dc1"
      },
      "source": [
        "#Printing out some information about the data\n",
        "def eda(data):\n",
        "    print(\"----------Top-5- Record----------\")\n",
        "    print(data.head(5))\n",
        "    \n",
        "    print(\"-----------Information-----------\")\n",
        "    print(data.info())\n",
        "    \n",
        "    print(\"-----------Data Types-----------\")\n",
        "    print(data.dtypes)\n",
        "    \n",
        "    print(\"----------Missing value-----------\")\n",
        "    print(data.isnull().sum())\n",
        "    \n",
        "    print(\"----------Null value-----------\")\n",
        "    print(data.isna().sum())\n",
        "    \n",
        "    print(\"----------Shape of Data----------\")\n",
        "    print(data.shape)\n",
        "eda(data)"
      ],
      "execution_count": 4,
      "outputs": [
        {
          "output_type": "stream",
          "text": [
            "----------Top-5- Record----------\n",
            "   Pregnancies  Glucose  BloodPressure  ...  DiabetesPedigreeFunction  Age  Outcome\n",
            "0            6      148             72  ...                     0.627   50        1\n",
            "1            1       85             66  ...                     0.351   31        0\n",
            "2            8      183             64  ...                     0.672   32        1\n",
            "3            1       89             66  ...                     0.167   21        0\n",
            "4            0      137             40  ...                     2.288   33        1\n",
            "\n",
            "[5 rows x 9 columns]\n",
            "-----------Information-----------\n",
            "<class 'pandas.core.frame.DataFrame'>\n",
            "RangeIndex: 768 entries, 0 to 767\n",
            "Data columns (total 9 columns):\n",
            " #   Column                    Non-Null Count  Dtype  \n",
            "---  ------                    --------------  -----  \n",
            " 0   Pregnancies               768 non-null    int64  \n",
            " 1   Glucose                   768 non-null    int64  \n",
            " 2   BloodPressure             768 non-null    int64  \n",
            " 3   SkinThickness             768 non-null    int64  \n",
            " 4   Insulin                   768 non-null    int64  \n",
            " 5   BMI                       768 non-null    float64\n",
            " 6   DiabetesPedigreeFunction  768 non-null    float64\n",
            " 7   Age                       768 non-null    int64  \n",
            " 8   Outcome                   768 non-null    int64  \n",
            "dtypes: float64(2), int64(7)\n",
            "memory usage: 54.1 KB\n",
            "None\n",
            "-----------Data Types-----------\n",
            "Pregnancies                   int64\n",
            "Glucose                       int64\n",
            "BloodPressure                 int64\n",
            "SkinThickness                 int64\n",
            "Insulin                       int64\n",
            "BMI                         float64\n",
            "DiabetesPedigreeFunction    float64\n",
            "Age                           int64\n",
            "Outcome                       int64\n",
            "dtype: object\n",
            "----------Missing value-----------\n",
            "Pregnancies                 0\n",
            "Glucose                     0\n",
            "BloodPressure               0\n",
            "SkinThickness               0\n",
            "Insulin                     0\n",
            "BMI                         0\n",
            "DiabetesPedigreeFunction    0\n",
            "Age                         0\n",
            "Outcome                     0\n",
            "dtype: int64\n",
            "----------Null value-----------\n",
            "Pregnancies                 0\n",
            "Glucose                     0\n",
            "BloodPressure               0\n",
            "SkinThickness               0\n",
            "Insulin                     0\n",
            "BMI                         0\n",
            "DiabetesPedigreeFunction    0\n",
            "Age                         0\n",
            "Outcome                     0\n",
            "dtype: int64\n",
            "----------Shape of Data----------\n",
            "(768, 9)\n"
          ],
          "name": "stdout"
        }
      ]
    },
    {
      "cell_type": "markdown",
      "metadata": {
        "id": "EN7Gi-s36H7e"
      },
      "source": [
        "As we can see, there are no missing and null values in our dataset."
      ]
    },
    {
      "cell_type": "code",
      "metadata": {
        "colab": {
          "base_uri": "https://localhost:8080/",
          "height": 203
        },
        "id": "d5_jwBGc5rzh",
        "outputId": "58640f0b-144f-4fc7-b778-e024a74bd38a"
      },
      "source": [
        "Positive = data[data['Outcome']==1]\n",
        "Positive.head(5)"
      ],
      "execution_count": 5,
      "outputs": [
        {
          "output_type": "execute_result",
          "data": {
            "text/html": [
              "<div>\n",
              "<style scoped>\n",
              "    .dataframe tbody tr th:only-of-type {\n",
              "        vertical-align: middle;\n",
              "    }\n",
              "\n",
              "    .dataframe tbody tr th {\n",
              "        vertical-align: top;\n",
              "    }\n",
              "\n",
              "    .dataframe thead th {\n",
              "        text-align: right;\n",
              "    }\n",
              "</style>\n",
              "<table border=\"1\" class=\"dataframe\">\n",
              "  <thead>\n",
              "    <tr style=\"text-align: right;\">\n",
              "      <th></th>\n",
              "      <th>Pregnancies</th>\n",
              "      <th>Glucose</th>\n",
              "      <th>BloodPressure</th>\n",
              "      <th>SkinThickness</th>\n",
              "      <th>Insulin</th>\n",
              "      <th>BMI</th>\n",
              "      <th>DiabetesPedigreeFunction</th>\n",
              "      <th>Age</th>\n",
              "      <th>Outcome</th>\n",
              "    </tr>\n",
              "  </thead>\n",
              "  <tbody>\n",
              "    <tr>\n",
              "      <th>0</th>\n",
              "      <td>6</td>\n",
              "      <td>148</td>\n",
              "      <td>72</td>\n",
              "      <td>35</td>\n",
              "      <td>0</td>\n",
              "      <td>33.6</td>\n",
              "      <td>0.627</td>\n",
              "      <td>50</td>\n",
              "      <td>1</td>\n",
              "    </tr>\n",
              "    <tr>\n",
              "      <th>2</th>\n",
              "      <td>8</td>\n",
              "      <td>183</td>\n",
              "      <td>64</td>\n",
              "      <td>0</td>\n",
              "      <td>0</td>\n",
              "      <td>23.3</td>\n",
              "      <td>0.672</td>\n",
              "      <td>32</td>\n",
              "      <td>1</td>\n",
              "    </tr>\n",
              "    <tr>\n",
              "      <th>4</th>\n",
              "      <td>0</td>\n",
              "      <td>137</td>\n",
              "      <td>40</td>\n",
              "      <td>35</td>\n",
              "      <td>168</td>\n",
              "      <td>43.1</td>\n",
              "      <td>2.288</td>\n",
              "      <td>33</td>\n",
              "      <td>1</td>\n",
              "    </tr>\n",
              "    <tr>\n",
              "      <th>6</th>\n",
              "      <td>3</td>\n",
              "      <td>78</td>\n",
              "      <td>50</td>\n",
              "      <td>32</td>\n",
              "      <td>88</td>\n",
              "      <td>31.0</td>\n",
              "      <td>0.248</td>\n",
              "      <td>26</td>\n",
              "      <td>1</td>\n",
              "    </tr>\n",
              "    <tr>\n",
              "      <th>8</th>\n",
              "      <td>2</td>\n",
              "      <td>197</td>\n",
              "      <td>70</td>\n",
              "      <td>45</td>\n",
              "      <td>543</td>\n",
              "      <td>30.5</td>\n",
              "      <td>0.158</td>\n",
              "      <td>53</td>\n",
              "      <td>1</td>\n",
              "    </tr>\n",
              "  </tbody>\n",
              "</table>\n",
              "</div>"
            ],
            "text/plain": [
              "   Pregnancies  Glucose  BloodPressure  ...  DiabetesPedigreeFunction  Age  Outcome\n",
              "0            6      148             72  ...                     0.627   50        1\n",
              "2            8      183             64  ...                     0.672   32        1\n",
              "4            0      137             40  ...                     2.288   33        1\n",
              "6            3       78             50  ...                     0.248   26        1\n",
              "8            2      197             70  ...                     0.158   53        1\n",
              "\n",
              "[5 rows x 9 columns]"
            ]
          },
          "metadata": {
            "tags": []
          },
          "execution_count": 5
        }
      ]
    },
    {
      "cell_type": "code",
      "metadata": {
        "colab": {
          "base_uri": "https://localhost:8080/",
          "height": 295
        },
        "id": "ZJBqILlt5rzi",
        "outputId": "9db50b53-08f9-47b1-cb84-a388557d742c"
      },
      "source": [
        "#Lets have a look at the statistical info about our data\n",
        "data.describe()"
      ],
      "execution_count": 6,
      "outputs": [
        {
          "output_type": "execute_result",
          "data": {
            "text/html": [
              "<div>\n",
              "<style scoped>\n",
              "    .dataframe tbody tr th:only-of-type {\n",
              "        vertical-align: middle;\n",
              "    }\n",
              "\n",
              "    .dataframe tbody tr th {\n",
              "        vertical-align: top;\n",
              "    }\n",
              "\n",
              "    .dataframe thead th {\n",
              "        text-align: right;\n",
              "    }\n",
              "</style>\n",
              "<table border=\"1\" class=\"dataframe\">\n",
              "  <thead>\n",
              "    <tr style=\"text-align: right;\">\n",
              "      <th></th>\n",
              "      <th>Pregnancies</th>\n",
              "      <th>Glucose</th>\n",
              "      <th>BloodPressure</th>\n",
              "      <th>SkinThickness</th>\n",
              "      <th>Insulin</th>\n",
              "      <th>BMI</th>\n",
              "      <th>DiabetesPedigreeFunction</th>\n",
              "      <th>Age</th>\n",
              "      <th>Outcome</th>\n",
              "    </tr>\n",
              "  </thead>\n",
              "  <tbody>\n",
              "    <tr>\n",
              "      <th>count</th>\n",
              "      <td>768.000000</td>\n",
              "      <td>768.000000</td>\n",
              "      <td>768.000000</td>\n",
              "      <td>768.000000</td>\n",
              "      <td>768.000000</td>\n",
              "      <td>768.000000</td>\n",
              "      <td>768.000000</td>\n",
              "      <td>768.000000</td>\n",
              "      <td>768.000000</td>\n",
              "    </tr>\n",
              "    <tr>\n",
              "      <th>mean</th>\n",
              "      <td>3.845052</td>\n",
              "      <td>120.894531</td>\n",
              "      <td>69.105469</td>\n",
              "      <td>20.536458</td>\n",
              "      <td>79.799479</td>\n",
              "      <td>31.992578</td>\n",
              "      <td>0.471876</td>\n",
              "      <td>33.240885</td>\n",
              "      <td>0.348958</td>\n",
              "    </tr>\n",
              "    <tr>\n",
              "      <th>std</th>\n",
              "      <td>3.369578</td>\n",
              "      <td>31.972618</td>\n",
              "      <td>19.355807</td>\n",
              "      <td>15.952218</td>\n",
              "      <td>115.244002</td>\n",
              "      <td>7.884160</td>\n",
              "      <td>0.331329</td>\n",
              "      <td>11.760232</td>\n",
              "      <td>0.476951</td>\n",
              "    </tr>\n",
              "    <tr>\n",
              "      <th>min</th>\n",
              "      <td>0.000000</td>\n",
              "      <td>0.000000</td>\n",
              "      <td>0.000000</td>\n",
              "      <td>0.000000</td>\n",
              "      <td>0.000000</td>\n",
              "      <td>0.000000</td>\n",
              "      <td>0.078000</td>\n",
              "      <td>21.000000</td>\n",
              "      <td>0.000000</td>\n",
              "    </tr>\n",
              "    <tr>\n",
              "      <th>25%</th>\n",
              "      <td>1.000000</td>\n",
              "      <td>99.000000</td>\n",
              "      <td>62.000000</td>\n",
              "      <td>0.000000</td>\n",
              "      <td>0.000000</td>\n",
              "      <td>27.300000</td>\n",
              "      <td>0.243750</td>\n",
              "      <td>24.000000</td>\n",
              "      <td>0.000000</td>\n",
              "    </tr>\n",
              "    <tr>\n",
              "      <th>50%</th>\n",
              "      <td>3.000000</td>\n",
              "      <td>117.000000</td>\n",
              "      <td>72.000000</td>\n",
              "      <td>23.000000</td>\n",
              "      <td>30.500000</td>\n",
              "      <td>32.000000</td>\n",
              "      <td>0.372500</td>\n",
              "      <td>29.000000</td>\n",
              "      <td>0.000000</td>\n",
              "    </tr>\n",
              "    <tr>\n",
              "      <th>75%</th>\n",
              "      <td>6.000000</td>\n",
              "      <td>140.250000</td>\n",
              "      <td>80.000000</td>\n",
              "      <td>32.000000</td>\n",
              "      <td>127.250000</td>\n",
              "      <td>36.600000</td>\n",
              "      <td>0.626250</td>\n",
              "      <td>41.000000</td>\n",
              "      <td>1.000000</td>\n",
              "    </tr>\n",
              "    <tr>\n",
              "      <th>max</th>\n",
              "      <td>17.000000</td>\n",
              "      <td>199.000000</td>\n",
              "      <td>122.000000</td>\n",
              "      <td>99.000000</td>\n",
              "      <td>846.000000</td>\n",
              "      <td>67.100000</td>\n",
              "      <td>2.420000</td>\n",
              "      <td>81.000000</td>\n",
              "      <td>1.000000</td>\n",
              "    </tr>\n",
              "  </tbody>\n",
              "</table>\n",
              "</div>"
            ],
            "text/plain": [
              "       Pregnancies     Glucose  ...         Age     Outcome\n",
              "count   768.000000  768.000000  ...  768.000000  768.000000\n",
              "mean      3.845052  120.894531  ...   33.240885    0.348958\n",
              "std       3.369578   31.972618  ...   11.760232    0.476951\n",
              "min       0.000000    0.000000  ...   21.000000    0.000000\n",
              "25%       1.000000   99.000000  ...   24.000000    0.000000\n",
              "50%       3.000000  117.000000  ...   29.000000    0.000000\n",
              "75%       6.000000  140.250000  ...   41.000000    1.000000\n",
              "max      17.000000  199.000000  ...   81.000000    1.000000\n",
              "\n",
              "[8 rows x 9 columns]"
            ]
          },
          "metadata": {
            "tags": []
          },
          "execution_count": 6
        }
      ]
    },
    {
      "cell_type": "markdown",
      "metadata": {
        "id": "dzGVMS-Y6O-c"
      },
      "source": [
        "Based on the understanding of the parameters, it seems highly unlikely that glucose, bloodpressure, skinthickness, insulin and bmi levels are 0. I will hence replace the 0 values with the mean of each parameter."
      ]
    },
    {
      "cell_type": "code",
      "metadata": {
        "colab": {
          "base_uri": "https://localhost:8080/",
          "height": 203
        },
        "id": "NXh_OnEX5rzi",
        "outputId": "75fa856f-1bea-472b-b651-f19592e32c0a"
      },
      "source": [
        "# replace the 0 values of the impacted columns with the mean values\n",
        "\n",
        "cols = ['Glucose','BloodPressure','SkinThickness','Insulin','BMI']\n",
        "for i in cols:\n",
        "   data[i].replace(0,data[i].mean(),inplace=True)\n",
        "\n",
        "data.head()"
      ],
      "execution_count": 7,
      "outputs": [
        {
          "output_type": "execute_result",
          "data": {
            "text/html": [
              "<div>\n",
              "<style scoped>\n",
              "    .dataframe tbody tr th:only-of-type {\n",
              "        vertical-align: middle;\n",
              "    }\n",
              "\n",
              "    .dataframe tbody tr th {\n",
              "        vertical-align: top;\n",
              "    }\n",
              "\n",
              "    .dataframe thead th {\n",
              "        text-align: right;\n",
              "    }\n",
              "</style>\n",
              "<table border=\"1\" class=\"dataframe\">\n",
              "  <thead>\n",
              "    <tr style=\"text-align: right;\">\n",
              "      <th></th>\n",
              "      <th>Pregnancies</th>\n",
              "      <th>Glucose</th>\n",
              "      <th>BloodPressure</th>\n",
              "      <th>SkinThickness</th>\n",
              "      <th>Insulin</th>\n",
              "      <th>BMI</th>\n",
              "      <th>DiabetesPedigreeFunction</th>\n",
              "      <th>Age</th>\n",
              "      <th>Outcome</th>\n",
              "    </tr>\n",
              "  </thead>\n",
              "  <tbody>\n",
              "    <tr>\n",
              "      <th>0</th>\n",
              "      <td>6</td>\n",
              "      <td>148.0</td>\n",
              "      <td>72.0</td>\n",
              "      <td>35.000000</td>\n",
              "      <td>79.799479</td>\n",
              "      <td>33.6</td>\n",
              "      <td>0.627</td>\n",
              "      <td>50</td>\n",
              "      <td>1</td>\n",
              "    </tr>\n",
              "    <tr>\n",
              "      <th>1</th>\n",
              "      <td>1</td>\n",
              "      <td>85.0</td>\n",
              "      <td>66.0</td>\n",
              "      <td>29.000000</td>\n",
              "      <td>79.799479</td>\n",
              "      <td>26.6</td>\n",
              "      <td>0.351</td>\n",
              "      <td>31</td>\n",
              "      <td>0</td>\n",
              "    </tr>\n",
              "    <tr>\n",
              "      <th>2</th>\n",
              "      <td>8</td>\n",
              "      <td>183.0</td>\n",
              "      <td>64.0</td>\n",
              "      <td>20.536458</td>\n",
              "      <td>79.799479</td>\n",
              "      <td>23.3</td>\n",
              "      <td>0.672</td>\n",
              "      <td>32</td>\n",
              "      <td>1</td>\n",
              "    </tr>\n",
              "    <tr>\n",
              "      <th>3</th>\n",
              "      <td>1</td>\n",
              "      <td>89.0</td>\n",
              "      <td>66.0</td>\n",
              "      <td>23.000000</td>\n",
              "      <td>94.000000</td>\n",
              "      <td>28.1</td>\n",
              "      <td>0.167</td>\n",
              "      <td>21</td>\n",
              "      <td>0</td>\n",
              "    </tr>\n",
              "    <tr>\n",
              "      <th>4</th>\n",
              "      <td>0</td>\n",
              "      <td>137.0</td>\n",
              "      <td>40.0</td>\n",
              "      <td>35.000000</td>\n",
              "      <td>168.000000</td>\n",
              "      <td>43.1</td>\n",
              "      <td>2.288</td>\n",
              "      <td>33</td>\n",
              "      <td>1</td>\n",
              "    </tr>\n",
              "  </tbody>\n",
              "</table>\n",
              "</div>"
            ],
            "text/plain": [
              "   Pregnancies  Glucose  BloodPressure  ...  DiabetesPedigreeFunction  Age  Outcome\n",
              "0            6    148.0           72.0  ...                     0.627   50        1\n",
              "1            1     85.0           66.0  ...                     0.351   31        0\n",
              "2            8    183.0           64.0  ...                     0.672   32        1\n",
              "3            1     89.0           66.0  ...                     0.167   21        0\n",
              "4            0    137.0           40.0  ...                     2.288   33        1\n",
              "\n",
              "[5 rows x 9 columns]"
            ]
          },
          "metadata": {
            "tags": []
          },
          "execution_count": 7
        }
      ]
    },
    {
      "cell_type": "code",
      "metadata": {
        "colab": {
          "base_uri": "https://localhost:8080/",
          "height": 880
        },
        "id": "5-UNHkRe5rzj",
        "outputId": "3af33c6e-da60-4f96-b1d8-bde5e06b4145"
      },
      "source": [
        "#Let's try to get an idea about the outliers in our dataset\n",
        "plt.style.use('ggplot') \n",
        "\n",
        "f, ax = plt.subplots(figsize=(11, 15))\n",
        "ax.set(xlim=(-.05, 200))\n",
        "plt.ylabel('Variables')\n",
        "plt.title(\"Overview\")\n",
        "ax = sns.boxplot(data = data, \n",
        "  orient = 'h', \n",
        "  palette = 'Set2',)"
      ],
      "execution_count": 8,
      "outputs": [
        {
          "output_type": "display_data",
          "data": {
            "image/png": "[encoded data removed]",
            "text/plain": [
              "<Figure size 792x1080 with 1 Axes>"
            ]
          },
          "metadata": {
            "tags": []
          }
        }
      ]
    },
    {
      "cell_type": "markdown",
      "metadata": {
        "id": "A0MjyVDk6cbA"
      },
      "source": [
        "We can clearly see outliers are present in the data. So now we wil remove the outliers..."
      ]
    },
    {
      "cell_type": "code",
      "metadata": {
        "id": "YxhFMHT25rzk"
      },
      "source": [
        "def Remove_Outlier (col):\n",
        "    Q1,Q3 = np.percentile (col,[25,75])\n",
        "    \n",
        "    IQR= Q3-Q1\n",
        "    \n",
        "    upper_range =  Q3+(IQR*1.5)\n",
        "    \n",
        "    lower_range =  Q1-(IQR*1.5)\n",
        "    \n",
        "    return upper_range,lower_range\n",
        "for i in data[['Pregnancies', 'Glucose', 'BloodPressure', 'SkinThickness', 'Insulin','BMI', 'DiabetesPedigreeFunction', 'Age']]:\n",
        "    ur,lr = Remove_Outlier(data[i])\n",
        "    data[i]= np.where(data[i]>ur,ur,data[i])\n",
        "    data[i]= np.where(data[i]<lr,lr,data[i])"
      ],
      "execution_count": null,
      "outputs": []
    },
    {
      "cell_type": "code",
      "metadata": {
        "colab": {
          "base_uri": "https://localhost:8080/",
          "height": 1000
        },
        "id": "7Uq79v2_5rzk",
        "outputId": "0e5de2d4-8c86-4ab3-85db-1b3f6c9787d7"
      },
      "source": [
        "##Let's have a look at the distribution of the data\n",
        "# Add all column names to a list except for the target variable (outcome)\n",
        "columns=data.columns\n",
        "columns=list(columns)\n",
        "columns.pop()\n",
        "print(\"Column names except for the target column are :\",columns)\n",
        "sns.set(rc={'figure.figsize':(15,17)})\n",
        "sns.set_style(style='white')\n",
        "for i in range(len(columns)):\n",
        "    \n",
        "    plt.subplot(4,2,i+1)\n",
        "    sns.distplot(data[columns[i]], hist=True, rug=True)"
      ],
      "execution_count": 9,
      "outputs": [
        {
          "output_type": "stream",
          "text": [
            "Column names except for the target column are : ['Pregnancies', 'Glucose', 'BloodPressure', 'SkinThickness', 'Insulin', 'BMI', 'DiabetesPedigreeFunction', 'Age']\n"
          ],
          "name": "stdout"
        },
        {
          "output_type": "stream",
          "text": [
            "/usr/local/lib/python3.7/dist-packages/seaborn/distributions.py:2557: FutureWarning:\n",
            "\n",
            "`distplot` is a deprecated function and will be removed in a future version. Please adapt your code to use either `displot` (a figure-level function with similar flexibility) or `histplot` (an axes-level function for histograms).\n",
            "\n",
            "/usr/local/lib/python3.7/dist-packages/seaborn/distributions.py:2056: FutureWarning:\n",
            "\n",
            "The `axis` variable is no longer used and will be removed. Instead, assign variables directly to `x` or `y`.\n",
            "\n",
            "/usr/local/lib/python3.7/dist-packages/seaborn/distributions.py:2557: FutureWarning:\n",
            "\n",
            "`distplot` is a deprecated function and will be removed in a future version. Please adapt your code to use either `displot` (a figure-level function with similar flexibility) or `histplot` (an axes-level function for histograms).\n",
            "\n",
            "/usr/local/lib/python3.7/dist-packages/seaborn/distributions.py:2056: FutureWarning:\n",
            "\n",
            "The `axis` variable is no longer used and will be removed. Instead, assign variables directly to `x` or `y`.\n",
            "\n",
            "/usr/local/lib/python3.7/dist-packages/seaborn/distributions.py:2557: FutureWarning:\n",
            "\n",
            "`distplot` is a deprecated function and will be removed in a future version. Please adapt your code to use either `displot` (a figure-level function with similar flexibility) or `histplot` (an axes-level function for histograms).\n",
            "\n",
            "/usr/local/lib/python3.7/dist-packages/seaborn/distributions.py:2056: FutureWarning:\n",
            "\n",
            "The `axis` variable is no longer used and will be removed. Instead, assign variables directly to `x` or `y`.\n",
            "\n",
            "/usr/local/lib/python3.7/dist-packages/seaborn/distributions.py:2557: FutureWarning:\n",
            "\n",
            "`distplot` is a deprecated function and will be removed in a future version. Please adapt your code to use either `displot` (a figure-level function with similar flexibility) or `histplot` (an axes-level function for histograms).\n",
            "\n",
            "/usr/local/lib/python3.7/dist-packages/seaborn/distributions.py:2056: FutureWarning:\n",
            "\n",
            "The `axis` variable is no longer used and will be removed. Instead, assign variables directly to `x` or `y`.\n",
            "\n",
            "/usr/local/lib/python3.7/dist-packages/seaborn/distributions.py:2557: FutureWarning:\n",
            "\n",
            "`distplot` is a deprecated function and will be removed in a future version. Please adapt your code to use either `displot` (a figure-level function with similar flexibility) or `histplot` (an axes-level function for histograms).\n",
            "\n",
            "/usr/local/lib/python3.7/dist-packages/seaborn/distributions.py:2056: FutureWarning:\n",
            "\n",
            "The `axis` variable is no longer used and will be removed. Instead, assign variables directly to `x` or `y`.\n",
            "\n",
            "/usr/local/lib/python3.7/dist-packages/seaborn/distributions.py:2557: FutureWarning:\n",
            "\n",
            "`distplot` is a deprecated function and will be removed in a future version. Please adapt your code to use either `displot` (a figure-level function with similar flexibility) or `histplot` (an axes-level function for histograms).\n",
            "\n",
            "/usr/local/lib/python3.7/dist-packages/seaborn/distributions.py:2056: FutureWarning:\n",
            "\n",
            "The `axis` variable is no longer used and will be removed. Instead, assign variables directly to `x` or `y`.\n",
            "\n",
            "/usr/local/lib/python3.7/dist-packages/seaborn/distributions.py:2557: FutureWarning:\n",
            "\n",
            "`distplot` is a deprecated function and will be removed in a future version. Please adapt your code to use either `displot` (a figure-level function with similar flexibility) or `histplot` (an axes-level function for histograms).\n",
            "\n",
            "/usr/local/lib/python3.7/dist-packages/seaborn/distributions.py:2056: FutureWarning:\n",
            "\n",
            "The `axis` variable is no longer used and will be removed. Instead, assign variables directly to `x` or `y`.\n",
            "\n",
            "/usr/local/lib/python3.7/dist-packages/seaborn/distributions.py:2557: FutureWarning:\n",
            "\n",
            "`distplot` is a deprecated function and will be removed in a future version. Please adapt your code to use either `displot` (a figure-level function with similar flexibility) or `histplot` (an axes-level function for histograms).\n",
            "\n",
            "/usr/local/lib/python3.7/dist-packages/seaborn/distributions.py:2056: FutureWarning:\n",
            "\n",
            "The `axis` variable is no longer used and will be removed. Instead, assign variables directly to `x` or `y`.\n",
            "\n"
          ],
          "name": "stderr"
        },
        {
          "output_type": "display_data",
          "data": {
            "image/png": "[encoded data removed]",
            "text/plain": [
              "<Figure size 1080x1224 with 8 Axes>"
            ]
          },
          "metadata": {
            "tags": []
          }
        }
      ]
    },
    {
      "cell_type": "markdown",
      "metadata": {
        "id": "eQDFab3R6mSw"
      },
      "source": [
        "The plots show that Glucose, Blood Pressure, BMI are normally distributed.Pregnancies, Insulin, Age, DiabetesPedigreeFunction are rightly skewed."
      ]
    },
    {
      "cell_type": "code",
      "metadata": {
        "colab": {
          "base_uri": "https://localhost:8080/",
          "height": 1000
        },
        "id": "xDAS2hHu5rzl",
        "outputId": "982f992c-779f-495c-c13c-33c30ac22720"
      },
      "source": [
        "#Let's look at how number of pregnancies affect the chances if being Diabetic\n",
        "#Pregnencies vs Outcome\n",
        "fig = px.histogram(data, x = data['Pregnancies'], color = 'Outcome')\n",
        "fig.show()\n",
        "fig2 = px.box(data, x = data['Pregnancies'], color = 'Outcome')\n",
        "fig2.show()"
      ],
      "execution_count": 10,
      "outputs": [
        {
          "output_type": "display_data",
          "data": {
            "text/html": [
              "<html>\n",
              "<head><meta charset=\"utf-8\" /></head>\n",
              "<body>\n",
              "    <div>\n",
              "            <script src=\"https://cdnjs.cloudflare.com/ajax/libs/mathjax/2.7.5/MathJax.js?config=TeX-AMS-MML_SVG\"></script><script type=\"text/javascript\">if (window.MathJax) {MathJax.Hub.Config({SVG: {font: \"STIX-Web\"}});}</script>\n",
              "                <script type=\"text/javascript\">window.PlotlyConfig = {MathJaxConfig: 'local'};</script>\n",
              "        <script src=\"https://cdn.plot.ly/plotly-latest.min.js\"></script>    \n",
              "            <div id=\"8675d121-fd71-4e68-8e3b-02d72bc0c901\" class=\"plotly-graph-div\" style=\"height:525px; width:100%;\"></div>\n",
              "            <script type=\"text/javascript\">\n",
              "                \n",
              "                    window.PLOTLYENV=window.PLOTLYENV || {};\n",
              "                    \n",
              "                if (document.getElementById(\"8675d121-fd71-4e68-8e3b-02d72bc0c901\")) {\n",
              "                    Plotly.newPlot(\n",
              "                        '8675d121-fd71-4e68-8e3b-02d72bc0c901',\n",
              "                        [{\"alignmentgroup\": \"True\", \"bingroup\": \"x\", \"hoverlabel\": {\"namelength\": 0}, \"hovertemplate\": \"Outcome=1<br>Pregnancies=%{x}<br>count=%{y}\", \"legendgroup\": \"Outcome=1\", \"marker\": {\"color\": \"#636efa\"}, \"name\": \"Outcome=1\", \"offsetgroup\": \"Outcome=1\", \"orientation\": \"v\", \"showlegend\": true, \"type\": \"histogram\", \"x\": [6, 8, 0, 3, 2, 8, 10, 1, 5, 7, 0, 7, 1, 7, 9, 11, 10, 7, 3, 9, 2, 4, 9, 0, 7, 8, 7, 8, 7, 0, 2, 13, 0, 5, 15, 4, 1, 1, 0, 3, 8, 7, 4, 5, 0, 0, 1, 1, 0, 4, 9, 3, 10, 9, 8, 7, 17, 0, 6, 6, 6, 8, 0, 5, 7, 8, 1, 8, 5, 7, 11, 5, 3, 4, 4, 8, 5, 7, 0, 9, 12, 5, 5, 5, 0, 2, 3, 4, 6, 4, 7, 0, 9, 3, 6, 9, 12, 1, 11, 3, 4, 0, 2, 10, 7, 0, 7, 2, 1, 0, 2, 1, 2, 14, 0, 2, 5, 10, 0, 2, 2, 7, 3, 6, 3, 0, 13, 1, 2, 1, 5, 9, 7, 5, 9, 1, 13, 1, 5, 4, 6, 1, 3, 12, 4, 5, 8, 5, 5, 4, 0, 3, 4, 5, 5, 4, 8, 1, 0, 3, 4, 3, 8, 4, 1, 1, 0, 0, 8, 4, 0, 0, 2, 14, 10, 8, 2, 3, 0, 0, 4, 7, 6, 0, 12, 3, 9, 9, 4, 3, 8, 3, 10, 8, 5, 6, 0, 0, 2, 2, 0, 8, 8, 3, 11, 3, 0, 1, 7, 4, 1, 3, 7, 11, 9, 0, 7, 13, 7, 6, 1, 0, 11, 2, 3, 1, 8, 9, 6, 4, 10, 6, 9, 3, 0, 4, 1, 13, 7, 7, 3, 6, 1, 10, 9, 2, 10, 7, 3, 5, 1, 3, 8, 2, 1, 11, 9, 1, 3, 6, 4, 0, 8, 1, 0, 6, 9, 1], \"xaxis\": \"x\", \"yaxis\": \"y\"}, {\"alignmentgroup\": \"True\", \"bingroup\": \"x\", \"hoverlabel\": {\"namelength\": 0}, \"hovertemplate\": \"Outcome=0<br>Pregnancies=%{x}<br>count=%{y}\", \"legendgroup\": \"Outcome=0\", \"marker\": {\"color\": \"#EF553B\"}, \"name\": \"Outcome=0\", \"offsetgroup\": \"Outcome=0\", \"orientation\": \"v\", \"showlegend\": true, \"type\": \"histogram\", \"x\": [1, 1, 5, 10, 4, 10, 1, 3, 8, 1, 13, 5, 5, 3, 6, 10, 4, 11, 3, 7, 7, 7, 1, 2, 7, 1, 1, 5, 7, 1, 0, 0, 0, 2, 5, 2, 5, 2, 1, 4, 5, 4, 1, 1, 7, 5, 2, 3, 2, 7, 0, 2, 13, 2, 1, 1, 4, 7, 2, 6, 2, 1, 6, 1, 0, 1, 2, 1, 1, 4, 3, 1, 4, 5, 4, 4, 6, 2, 5, 3, 1, 8, 2, 2, 0, 0, 0, 5, 3, 5, 2, 4, 0, 9, 2, 5, 2, 1, 4, 1, 2, 1, 2, 4, 7, 0, 2, 3, 4, 4, 3, 2, 1, 2, 6, 5, 6, 0, 1, 5, 4, 3, 9, 8, 1, 0, 1, 0, 2, 6, 5, 1, 2, 0, 7, 6, 7, 7, 1, 1, 0, 4, 0, 1, 4, 3, 0, 1, 4, 2, 10, 0, 9, 1, 9, 2, 2, 0, 3, 2, 1, 3, 4, 3, 5, 2, 0, 2, 3, 1, 13, 2, 0, 5, 2, 10, 7, 7, 5, 4, 5, 0, 0, 6, 0, 8, 5, 3, 2, 0, 6, 0, 3, 2, 3, 3, 4, 2, 1, 10, 6, 8, 2, 12, 1, 0, 0, 1, 1, 1, 5, 8, 8, 1, 3, 3, 4, 4, 3, 1, 3, 12, 5, 5, 4, 5, 0, 3, 0, 0, 2, 2, 0, 1, 0, 1, 0, 1, 1, 1, 1, 3, 1, 1, 4, 2, 3, 3, 6, 9, 2, 0, 6, 1, 1, 1, 1, 1, 1, 2, 0, 2, 0, 0, 2, 3, 1, 2, 1, 12, 5, 1, 6, 2, 4, 1, 0, 0, 1, 0, 2, 2, 1, 5, 9, 9, 1, 8, 5, 10, 0, 0, 0, 6, 1, 0, 0, 7, 4, 0, 7, 8, 4, 0, 4, 0, 1, 0, 4, 8, 2, 2, 4, 3, 6, 5, 2, 6, 2, 3, 7, 3, 10, 1, 2, 8, 0, 9, 2, 3, 7, 13, 6, 2, 3, 6, 3, 3, 1, 3, 0, 0, 2, 0, 1, 6, 1, 0, 0, 0, 4, 1, 4, 1, 4, 1, 3, 6, 1, 1, 7, 1, 8, 11, 11, 1, 6, 0, 2, 1, 6, 4, 3, 2, 3, 2, 1, 1, 6, 10, 6, 12, 8, 1, 6, 0, 2, 2, 6, 0, 1, 1, 1, 6, 1, 1, 1, 0, 1, 3, 6, 3, 6, 2, 2, 2, 6, 0, 2, 4, 0, 0, 5, 4, 0, 2, 1, 10, 5, 2, 1, 0, 4, 4, 3, 2, 0, 1, 1, 5, 2, 1, 2, 1, 11, 10, 1, 6, 9, 6, 1, 10, 3, 8, 0, 2, 2, 0, 5, 2, 3, 1, 1, 8, 2, 2, 0, 4, 4, 2, 2, 4, 6, 2, 3, 5, 0, 3, 10, 1, 4, 1, 5, 1, 4, 1, 0, 2, 2, 2, 2, 4, 0, 8, 2, 3, 1, 13, 12, 1, 1, 3, 7, 1, 2, 9, 10, 2, 5, 1], \"xaxis\": \"x\", \"yaxis\": \"y\"}],\n",
              "                        {\"barmode\": \"relative\", \"legend\": {\"tracegroupgap\": 0}, \"margin\": {\"t\": 60}, \"template\": {\"data\": {\"bar\": [{\"error_x\": {\"color\": \"#2a3f5f\"}, \"error_y\": {\"color\": \"#2a3f5f\"}, \"marker\": {\"line\": {\"color\": \"#E5ECF6\", \"width\": 0.5}}, \"type\": \"bar\"}], \"barpolar\": [{\"marker\": {\"line\": {\"color\": \"#E5ECF6\", \"width\": 0.5}}, \"type\": \"barpolar\"}], \"carpet\": [{\"aaxis\": {\"endlinecolor\": \"#2a3f5f\", \"gridcolor\": \"white\", \"linecolor\": \"white\", \"minorgridcolor\": \"white\", \"startlinecolor\": \"#2a3f5f\"}, \"baxis\": {\"endlinecolor\": \"#2a3f5f\", \"gridcolor\": \"white\", \"linecolor\": \"white\", \"minorgridcolor\": \"white\", \"startlinecolor\": \"#2a3f5f\"}, \"type\": \"carpet\"}], \"choropleth\": [{\"colorbar\": {\"outlinewidth\": 0, \"ticks\": \"\"}, \"type\": \"choropleth\"}], \"contour\": [{\"colorbar\": {\"outlinewidth\": 0, \"ticks\": \"\"}, \"colorscale\": [[0.0, \"#0d0887\"], [0.1111111111111111, \"#46039f\"], [0.2222222222222222, \"#7201a8\"], [0.3333333333333333, \"#9c179e\"], [0.4444444444444444, \"#bd3786\"], [0.5555555555555556, \"#d8576b\"], [0.6666666666666666, \"#ed7953\"], [0.7777777777777778, \"#fb9f3a\"], [0.8888888888888888, \"#fdca26\"], [1.0, \"#f0f921\"]], \"type\": \"contour\"}], \"contourcarpet\": [{\"colorbar\": {\"outlinewidth\": 0, \"ticks\": \"\"}, \"type\": \"contourcarpet\"}], \"heatmap\": [{\"colorbar\": {\"outlinewidth\": 0, \"ticks\": \"\"}, \"colorscale\": [[0.0, \"#0d0887\"], [0.1111111111111111, \"#46039f\"], [0.2222222222222222, \"#7201a8\"], [0.3333333333333333, \"#9c179e\"], [0.4444444444444444, \"#bd3786\"], [0.5555555555555556, \"#d8576b\"], [0.6666666666666666, \"#ed7953\"], [0.7777777777777778, \"#fb9f3a\"], [0.8888888888888888, \"#fdca26\"], [1.0, \"#f0f921\"]], \"type\": \"heatmap\"}], \"heatmapgl\": [{\"colorbar\": {\"outlinewidth\": 0, \"ticks\": \"\"}, \"colorscale\": [[0.0, \"#0d0887\"], [0.1111111111111111, \"#46039f\"], [0.2222222222222222, \"#7201a8\"], [0.3333333333333333, \"#9c179e\"], [0.4444444444444444, \"#bd3786\"], [0.5555555555555556, \"#d8576b\"], [0.6666666666666666, \"#ed7953\"], [0.7777777777777778, \"#fb9f3a\"], [0.8888888888888888, \"#fdca26\"], [1.0, \"#f0f921\"]], \"type\": \"heatmapgl\"}], \"histogram\": [{\"marker\": {\"colorbar\": {\"outlinewidth\": 0, \"ticks\": \"\"}}, \"type\": \"histogram\"}], \"histogram2d\": [{\"colorbar\": {\"outlinewidth\": 0, \"ticks\": \"\"}, \"colorscale\": [[0.0, \"#0d0887\"], [0.1111111111111111, \"#46039f\"], [0.2222222222222222, \"#7201a8\"], [0.3333333333333333, \"#9c179e\"], [0.4444444444444444, \"#bd3786\"], [0.5555555555555556, \"#d8576b\"], [0.6666666666666666, \"#ed7953\"], [0.7777777777777778, \"#fb9f3a\"], [0.8888888888888888, \"#fdca26\"], [1.0, \"#f0f921\"]], \"type\": \"histogram2d\"}], \"histogram2dcontour\": [{\"colorbar\": {\"outlinewidth\": 0, \"ticks\": \"\"}, \"colorscale\": [[0.0, \"#0d0887\"], [0.1111111111111111, \"#46039f\"], [0.2222222222222222, \"#7201a8\"], [0.3333333333333333, \"#9c179e\"], [0.4444444444444444, \"#bd3786\"], [0.5555555555555556, \"#d8576b\"], [0.6666666666666666, \"#ed7953\"], [0.7777777777777778, \"#fb9f3a\"], [0.8888888888888888, \"#fdca26\"], [1.0, \"#f0f921\"]], \"type\": \"histogram2dcontour\"}], \"mesh3d\": [{\"colorbar\": {\"outlinewidth\": 0, \"ticks\": \"\"}, \"type\": \"mesh3d\"}], \"parcoords\": [{\"line\": {\"colorbar\": {\"outlinewidth\": 0, \"ticks\": \"\"}}, \"type\": \"parcoords\"}], \"pie\": [{\"automargin\": true, \"type\": \"pie\"}], \"scatter\": [{\"marker\": {\"colorbar\": {\"outlinewidth\": 0, \"ticks\": \"\"}}, \"type\": \"scatter\"}], \"scatter3d\": [{\"line\": {\"colorbar\": {\"outlinewidth\": 0, \"ticks\": \"\"}}, \"marker\": {\"colorbar\": {\"outlinewidth\": 0, \"ticks\": \"\"}}, \"type\": \"scatter3d\"}], \"scattercarpet\": [{\"marker\": {\"colorbar\": {\"outlinewidth\": 0, \"ticks\": \"\"}}, \"type\": \"scattercarpet\"}], \"scattergeo\": [{\"marker\": {\"colorbar\": {\"outlinewidth\": 0, \"ticks\": \"\"}}, \"type\": \"scattergeo\"}], \"scattergl\": [{\"marker\": {\"colorbar\": {\"outlinewidth\": 0, \"ticks\": \"\"}}, \"type\": \"scattergl\"}], \"scattermapbox\": [{\"marker\": {\"colorbar\": {\"outlinewidth\": 0, \"ticks\": \"\"}}, \"type\": \"scattermapbox\"}], \"scatterpolar\": [{\"marker\": {\"colorbar\": {\"outlinewidth\": 0, \"ticks\": \"\"}}, \"type\": \"scatterpolar\"}], \"scatterpolargl\": [{\"marker\": {\"colorbar\": {\"outlinewidth\": 0, \"ticks\": \"\"}}, \"type\": \"scatterpolargl\"}], \"scatterternary\": [{\"marker\": {\"colorbar\": {\"outlinewidth\": 0, \"ticks\": \"\"}}, \"type\": \"scatterternary\"}], \"surface\": [{\"colorbar\": {\"outlinewidth\": 0, \"ticks\": \"\"}, \"colorscale\": [[0.0, \"#0d0887\"], [0.1111111111111111, \"#46039f\"], [0.2222222222222222, \"#7201a8\"], [0.3333333333333333, \"#9c179e\"], [0.4444444444444444, \"#bd3786\"], [0.5555555555555556, \"#d8576b\"], [0.6666666666666666, \"#ed7953\"], [0.7777777777777778, \"#fb9f3a\"], [0.8888888888888888, \"#fdca26\"], [1.0, \"#f0f921\"]], \"type\": \"surface\"}], \"table\": [{\"cells\": {\"fill\": {\"color\": \"#EBF0F8\"}, \"line\": {\"color\": \"white\"}}, \"header\": {\"fill\": {\"color\": \"#C8D4E3\"}, \"line\": {\"color\": \"white\"}}, \"type\": \"table\"}]}, \"layout\": {\"annotationdefaults\": {\"arrowcolor\": \"#2a3f5f\", \"arrowhead\": 0, \"arrowwidth\": 1}, \"coloraxis\": {\"colorbar\": {\"outlinewidth\": 0, \"ticks\": \"\"}}, \"colorscale\": {\"diverging\": [[0, \"#8e0152\"], [0.1, \"#c51b7d\"], [0.2, \"#de77ae\"], [0.3, \"#f1b6da\"], [0.4, \"#fde0ef\"], [0.5, \"#f7f7f7\"], [0.6, \"#e6f5d0\"], [0.7, \"#b8e186\"], [0.8, \"#7fbc41\"], [0.9, \"#4d9221\"], [1, \"#276419\"]], \"sequential\": [[0.0, \"#0d0887\"], [0.1111111111111111, \"#46039f\"], [0.2222222222222222, \"#7201a8\"], [0.3333333333333333, \"#9c179e\"], [0.4444444444444444, \"#bd3786\"], [0.5555555555555556, \"#d8576b\"], [0.6666666666666666, \"#ed7953\"], [0.7777777777777778, \"#fb9f3a\"], [0.8888888888888888, \"#fdca26\"], [1.0, \"#f0f921\"]], \"sequentialminus\": [[0.0, \"#0d0887\"], [0.1111111111111111, \"#46039f\"], [0.2222222222222222, \"#7201a8\"], [0.3333333333333333, \"#9c179e\"], [0.4444444444444444, \"#bd3786\"], [0.5555555555555556, \"#d8576b\"], [0.6666666666666666, \"#ed7953\"], [0.7777777777777778, \"#fb9f3a\"], [0.8888888888888888, \"#fdca26\"], [1.0, \"#f0f921\"]]}, \"colorway\": [\"#636efa\", \"#EF553B\", \"#00cc96\", \"#ab63fa\", \"#FFA15A\", \"#19d3f3\", \"#FF6692\", \"#B6E880\", \"#FF97FF\", \"#FECB52\"], \"font\": {\"color\": \"#2a3f5f\"}, \"geo\": {\"bgcolor\": \"white\", \"lakecolor\": \"white\", \"landcolor\": \"#E5ECF6\", \"showlakes\": true, \"showland\": true, \"subunitcolor\": \"white\"}, \"hoverlabel\": {\"align\": \"left\"}, \"hovermode\": \"closest\", \"mapbox\": {\"style\": \"light\"}, \"paper_bgcolor\": \"white\", \"plot_bgcolor\": \"#E5ECF6\", \"polar\": {\"angularaxis\": {\"gridcolor\": \"white\", \"linecolor\": \"white\", \"ticks\": \"\"}, \"bgcolor\": \"#E5ECF6\", \"radialaxis\": {\"gridcolor\": \"white\", \"linecolor\": \"white\", \"ticks\": \"\"}}, \"scene\": {\"xaxis\": {\"backgroundcolor\": \"#E5ECF6\", \"gridcolor\": \"white\", \"gridwidth\": 2, \"linecolor\": \"white\", \"showbackground\": true, \"ticks\": \"\", \"zerolinecolor\": \"white\"}, \"yaxis\": {\"backgroundcolor\": \"#E5ECF6\", \"gridcolor\": \"white\", \"gridwidth\": 2, \"linecolor\": \"white\", \"showbackground\": true, \"ticks\": \"\", \"zerolinecolor\": \"white\"}, \"zaxis\": {\"backgroundcolor\": \"#E5ECF6\", \"gridcolor\": \"white\", \"gridwidth\": 2, \"linecolor\": \"white\", \"showbackground\": true, \"ticks\": \"\", \"zerolinecolor\": \"white\"}}, \"shapedefaults\": {\"line\": {\"color\": \"#2a3f5f\"}}, \"ternary\": {\"aaxis\": {\"gridcolor\": \"white\", \"linecolor\": \"white\", \"ticks\": \"\"}, \"baxis\": {\"gridcolor\": \"white\", \"linecolor\": \"white\", \"ticks\": \"\"}, \"bgcolor\": \"#E5ECF6\", \"caxis\": {\"gridcolor\": \"white\", \"linecolor\": \"white\", \"ticks\": \"\"}}, \"title\": {\"x\": 0.05}, \"xaxis\": {\"automargin\": true, \"gridcolor\": \"white\", \"linecolor\": \"white\", \"ticks\": \"\", \"title\": {\"standoff\": 15}, \"zerolinecolor\": \"white\", \"zerolinewidth\": 2}, \"yaxis\": {\"automargin\": true, \"gridcolor\": \"white\", \"linecolor\": \"white\", \"ticks\": \"\", \"title\": {\"standoff\": 15}, \"zerolinecolor\": \"white\", \"zerolinewidth\": 2}}}, \"xaxis\": {\"anchor\": \"y\", \"domain\": [0.0, 1.0], \"title\": {\"text\": \"Pregnancies\"}}, \"yaxis\": {\"anchor\": \"x\", \"domain\": [0.0, 1.0], \"title\": {\"text\": \"count\"}}},\n",
              "                        {\"responsive\": true}\n",
              "                    ).then(function(){\n",
              "                            \n",
              "var gd = document.getElementById('8675d121-fd71-4e68-8e3b-02d72bc0c901');\n",
              "var x = new MutationObserver(function (mutations, observer) {{\n",
              "        var display = window.getComputedStyle(gd).display;\n",
              "        if (!display || display === 'none') {{\n",
              "            console.log([gd, 'removed!']);\n",
              "            Plotly.purge(gd);\n",
              "            observer.disconnect();\n",
              "        }}\n",
              "}});\n",
              "\n",
              "// Listen for the removal of the full notebook cells\n",
              "var notebookContainer = gd.closest('#notebook-container');\n",
              "if (notebookContainer) {{\n",
              "    x.observe(notebookContainer, {childList: true});\n",
              "}}\n",
              "\n",
              "// Listen for the clearing of the current output cell\n",
              "var outputEl = gd.closest('.output');\n",
              "if (outputEl) {{\n",
              "    x.observe(outputEl, {childList: true});\n",
              "}}\n",
              "\n",
              "                        })\n",
              "                };\n",
              "                \n",
              "            </script>\n",
              "        </div>\n",
              "</body>\n",
              "</html>"
            ]
          },
          "metadata": {
            "tags": []
          }
        },
        {
          "output_type": "display_data",
          "data": {
            "text/html": [
              "<html>\n",
              "<head><meta charset=\"utf-8\" /></head>\n",
              "<body>\n",
              "    <div>\n",
              "            <script src=\"https://cdnjs.cloudflare.com/ajax/libs/mathjax/2.7.5/MathJax.js?config=TeX-AMS-MML_SVG\"></script><script type=\"text/javascript\">if (window.MathJax) {MathJax.Hub.Config({SVG: {font: \"STIX-Web\"}});}</script>\n",
              "                <script type=\"text/javascript\">window.PlotlyConfig = {MathJaxConfig: 'local'};</script>\n",
              "        <script src=\"https://cdn.plot.ly/plotly-latest.min.js\"></script>    \n",
              "            <div id=\"19e52849-0324-4ab6-ac64-d25b2d9e7a7e\" class=\"plotly-graph-div\" style=\"height:525px; width:100%;\"></div>\n",
              "            <script type=\"text/javascript\">\n",
              "                \n",
              "                    window.PLOTLYENV=window.PLOTLYENV || {};\n",
              "                    \n",
              "                if (document.getElementById(\"19e52849-0324-4ab6-ac64-d25b2d9e7a7e\")) {\n",
              "                    Plotly.newPlot(\n",
              "                        '19e52849-0324-4ab6-ac64-d25b2d9e7a7e',\n",
              "                        [{\"alignmentgroup\": \"True\", \"hoverlabel\": {\"namelength\": 0}, \"hovertemplate\": \"Outcome=1<br>Pregnancies=%{x}\", \"legendgroup\": \"Outcome=1\", \"marker\": {\"color\": \"#636efa\"}, \"name\": \"Outcome=1\", \"notched\": false, \"offsetgroup\": \"Outcome=1\", \"orientation\": \"v\", \"showlegend\": true, \"type\": \"box\", \"x\": [6, 8, 0, 3, 2, 8, 10, 1, 5, 7, 0, 7, 1, 7, 9, 11, 10, 7, 3, 9, 2, 4, 9, 0, 7, 8, 7, 8, 7, 0, 2, 13, 0, 5, 15, 4, 1, 1, 0, 3, 8, 7, 4, 5, 0, 0, 1, 1, 0, 4, 9, 3, 10, 9, 8, 7, 17, 0, 6, 6, 6, 8, 0, 5, 7, 8, 1, 8, 5, 7, 11, 5, 3, 4, 4, 8, 5, 7, 0, 9, 12, 5, 5, 5, 0, 2, 3, 4, 6, 4, 7, 0, 9, 3, 6, 9, 12, 1, 11, 3, 4, 0, 2, 10, 7, 0, 7, 2, 1, 0, 2, 1, 2, 14, 0, 2, 5, 10, 0, 2, 2, 7, 3, 6, 3, 0, 13, 1, 2, 1, 5, 9, 7, 5, 9, 1, 13, 1, 5, 4, 6, 1, 3, 12, 4, 5, 8, 5, 5, 4, 0, 3, 4, 5, 5, 4, 8, 1, 0, 3, 4, 3, 8, 4, 1, 1, 0, 0, 8, 4, 0, 0, 2, 14, 10, 8, 2, 3, 0, 0, 4, 7, 6, 0, 12, 3, 9, 9, 4, 3, 8, 3, 10, 8, 5, 6, 0, 0, 2, 2, 0, 8, 8, 3, 11, 3, 0, 1, 7, 4, 1, 3, 7, 11, 9, 0, 7, 13, 7, 6, 1, 0, 11, 2, 3, 1, 8, 9, 6, 4, 10, 6, 9, 3, 0, 4, 1, 13, 7, 7, 3, 6, 1, 10, 9, 2, 10, 7, 3, 5, 1, 3, 8, 2, 1, 11, 9, 1, 3, 6, 4, 0, 8, 1, 0, 6, 9, 1], \"x0\": \" \", \"xaxis\": \"x\", \"y0\": \" \", \"yaxis\": \"y\"}, {\"alignmentgroup\": \"True\", \"hoverlabel\": {\"namelength\": 0}, \"hovertemplate\": \"Outcome=0<br>Pregnancies=%{x}\", \"legendgroup\": \"Outcome=0\", \"marker\": {\"color\": \"#EF553B\"}, \"name\": \"Outcome=0\", \"notched\": false, \"offsetgroup\": \"Outcome=0\", \"orientation\": \"v\", \"showlegend\": true, \"type\": \"box\", \"x\": [1, 1, 5, 10, 4, 10, 1, 3, 8, 1, 13, 5, 5, 3, 6, 10, 4, 11, 3, 7, 7, 7, 1, 2, 7, 1, 1, 5, 7, 1, 0, 0, 0, 2, 5, 2, 5, 2, 1, 4, 5, 4, 1, 1, 7, 5, 2, 3, 2, 7, 0, 2, 13, 2, 1, 1, 4, 7, 2, 6, 2, 1, 6, 1, 0, 1, 2, 1, 1, 4, 3, 1, 4, 5, 4, 4, 6, 2, 5, 3, 1, 8, 2, 2, 0, 0, 0, 5, 3, 5, 2, 4, 0, 9, 2, 5, 2, 1, 4, 1, 2, 1, 2, 4, 7, 0, 2, 3, 4, 4, 3, 2, 1, 2, 6, 5, 6, 0, 1, 5, 4, 3, 9, 8, 1, 0, 1, 0, 2, 6, 5, 1, 2, 0, 7, 6, 7, 7, 1, 1, 0, 4, 0, 1, 4, 3, 0, 1, 4, 2, 10, 0, 9, 1, 9, 2, 2, 0, 3, 2, 1, 3, 4, 3, 5, 2, 0, 2, 3, 1, 13, 2, 0, 5, 2, 10, 7, 7, 5, 4, 5, 0, 0, 6, 0, 8, 5, 3, 2, 0, 6, 0, 3, 2, 3, 3, 4, 2, 1, 10, 6, 8, 2, 12, 1, 0, 0, 1, 1, 1, 5, 8, 8, 1, 3, 3, 4, 4, 3, 1, 3, 12, 5, 5, 4, 5, 0, 3, 0, 0, 2, 2, 0, 1, 0, 1, 0, 1, 1, 1, 1, 3, 1, 1, 4, 2, 3, 3, 6, 9, 2, 0, 6, 1, 1, 1, 1, 1, 1, 2, 0, 2, 0, 0, 2, 3, 1, 2, 1, 12, 5, 1, 6, 2, 4, 1, 0, 0, 1, 0, 2, 2, 1, 5, 9, 9, 1, 8, 5, 10, 0, 0, 0, 6, 1, 0, 0, 7, 4, 0, 7, 8, 4, 0, 4, 0, 1, 0, 4, 8, 2, 2, 4, 3, 6, 5, 2, 6, 2, 3, 7, 3, 10, 1, 2, 8, 0, 9, 2, 3, 7, 13, 6, 2, 3, 6, 3, 3, 1, 3, 0, 0, 2, 0, 1, 6, 1, 0, 0, 0, 4, 1, 4, 1, 4, 1, 3, 6, 1, 1, 7, 1, 8, 11, 11, 1, 6, 0, 2, 1, 6, 4, 3, 2, 3, 2, 1, 1, 6, 10, 6, 12, 8, 1, 6, 0, 2, 2, 6, 0, 1, 1, 1, 6, 1, 1, 1, 0, 1, 3, 6, 3, 6, 2, 2, 2, 6, 0, 2, 4, 0, 0, 5, 4, 0, 2, 1, 10, 5, 2, 1, 0, 4, 4, 3, 2, 0, 1, 1, 5, 2, 1, 2, 1, 11, 10, 1, 6, 9, 6, 1, 10, 3, 8, 0, 2, 2, 0, 5, 2, 3, 1, 1, 8, 2, 2, 0, 4, 4, 2, 2, 4, 6, 2, 3, 5, 0, 3, 10, 1, 4, 1, 5, 1, 4, 1, 0, 2, 2, 2, 2, 4, 0, 8, 2, 3, 1, 13, 12, 1, 1, 3, 7, 1, 2, 9, 10, 2, 5, 1], \"x0\": \" \", \"xaxis\": \"x\", \"y0\": \" \", \"yaxis\": \"y\"}],\n",
              "                        {\"boxmode\": \"group\", \"legend\": {\"tracegroupgap\": 0}, \"margin\": {\"t\": 60}, \"template\": {\"data\": {\"bar\": [{\"error_x\": {\"color\": \"#2a3f5f\"}, \"error_y\": {\"color\": \"#2a3f5f\"}, \"marker\": {\"line\": {\"color\": \"#E5ECF6\", \"width\": 0.5}}, \"type\": \"bar\"}], \"barpolar\": [{\"marker\": {\"line\": {\"color\": \"#E5ECF6\", \"width\": 0.5}}, \"type\": \"barpolar\"}], \"carpet\": [{\"aaxis\": {\"endlinecolor\": \"#2a3f5f\", \"gridcolor\": \"white\", \"linecolor\": \"white\", \"minorgridcolor\": \"white\", \"startlinecolor\": \"#2a3f5f\"}, \"baxis\": {\"endlinecolor\": \"#2a3f5f\", \"gridcolor\": \"white\", \"linecolor\": \"white\", \"minorgridcolor\": \"white\", \"startlinecolor\": \"#2a3f5f\"}, \"type\": \"carpet\"}], \"choropleth\": [{\"colorbar\": {\"outlinewidth\": 0, \"ticks\": \"\"}, \"type\": \"choropleth\"}], \"contour\": [{\"colorbar\": {\"outlinewidth\": 0, \"ticks\": \"\"}, \"colorscale\": [[0.0, \"#0d0887\"], [0.1111111111111111, \"#46039f\"], [0.2222222222222222, \"#7201a8\"], [0.3333333333333333, \"#9c179e\"], [0.4444444444444444, \"#bd3786\"], [0.5555555555555556, \"#d8576b\"], [0.6666666666666666, \"#ed7953\"], [0.7777777777777778, \"#fb9f3a\"], [0.8888888888888888, \"#fdca26\"], [1.0, \"#f0f921\"]], \"type\": \"contour\"}], \"contourcarpet\": [{\"colorbar\": {\"outlinewidth\": 0, \"ticks\": \"\"}, \"type\": \"contourcarpet\"}], \"heatmap\": [{\"colorbar\": {\"outlinewidth\": 0, \"ticks\": \"\"}, \"colorscale\": [[0.0, \"#0d0887\"], [0.1111111111111111, \"#46039f\"], [0.2222222222222222, \"#7201a8\"], [0.3333333333333333, \"#9c179e\"], [0.4444444444444444, \"#bd3786\"], [0.5555555555555556, \"#d8576b\"], [0.6666666666666666, \"#ed7953\"], [0.7777777777777778, \"#fb9f3a\"], [0.8888888888888888, \"#fdca26\"], [1.0, \"#f0f921\"]], \"type\": \"heatmap\"}], \"heatmapgl\": [{\"colorbar\": {\"outlinewidth\": 0, \"ticks\": \"\"}, \"colorscale\": [[0.0, \"#0d0887\"], [0.1111111111111111, \"#46039f\"], [0.2222222222222222, \"#7201a8\"], [0.3333333333333333, \"#9c179e\"], [0.4444444444444444, \"#bd3786\"], [0.5555555555555556, \"#d8576b\"], [0.6666666666666666, \"#ed7953\"], [0.7777777777777778, \"#fb9f3a\"], [0.8888888888888888, \"#fdca26\"], [1.0, \"#f0f921\"]], \"type\": \"heatmapgl\"}], \"histogram\": [{\"marker\": {\"colorbar\": {\"outlinewidth\": 0, \"ticks\": \"\"}}, \"type\": \"histogram\"}], \"histogram2d\": [{\"colorbar\": {\"outlinewidth\": 0, \"ticks\": \"\"}, \"colorscale\": [[0.0, \"#0d0887\"], [0.1111111111111111, \"#46039f\"], [0.2222222222222222, \"#7201a8\"], [0.3333333333333333, \"#9c179e\"], [0.4444444444444444, \"#bd3786\"], [0.5555555555555556, \"#d8576b\"], [0.6666666666666666, \"#ed7953\"], [0.7777777777777778, \"#fb9f3a\"], [0.8888888888888888, \"#fdca26\"], [1.0, \"#f0f921\"]], \"type\": \"histogram2d\"}], \"histogram2dcontour\": [{\"colorbar\": {\"outlinewidth\": 0, \"ticks\": \"\"}, \"colorscale\": [[0.0, \"#0d0887\"], [0.1111111111111111, \"#46039f\"], [0.2222222222222222, \"#7201a8\"], [0.3333333333333333, \"#9c179e\"], [0.4444444444444444, \"#bd3786\"], [0.5555555555555556, \"#d8576b\"], [0.6666666666666666, \"#ed7953\"], [0.7777777777777778, \"#fb9f3a\"], [0.8888888888888888, \"#fdca26\"], [1.0, \"#f0f921\"]], \"type\": \"histogram2dcontour\"}], \"mesh3d\": [{\"colorbar\": {\"outlinewidth\": 0, \"ticks\": \"\"}, \"type\": \"mesh3d\"}], \"parcoords\": [{\"line\": {\"colorbar\": {\"outlinewidth\": 0, \"ticks\": \"\"}}, \"type\": \"parcoords\"}], \"pie\": [{\"automargin\": true, \"type\": \"pie\"}], \"scatter\": [{\"marker\": {\"colorbar\": {\"outlinewidth\": 0, \"ticks\": \"\"}}, \"type\": \"scatter\"}], \"scatter3d\": [{\"line\": {\"colorbar\": {\"outlinewidth\": 0, \"ticks\": \"\"}}, \"marker\": {\"colorbar\": {\"outlinewidth\": 0, \"ticks\": \"\"}}, \"type\": \"scatter3d\"}], \"scattercarpet\": [{\"marker\": {\"colorbar\": {\"outlinewidth\": 0, \"ticks\": \"\"}}, \"type\": \"scattercarpet\"}], \"scattergeo\": [{\"marker\": {\"colorbar\": {\"outlinewidth\": 0, \"ticks\": \"\"}}, \"type\": \"scattergeo\"}], \"scattergl\": [{\"marker\": {\"colorbar\": {\"outlinewidth\": 0, \"ticks\": \"\"}}, \"type\": \"scattergl\"}], \"scattermapbox\": [{\"marker\": {\"colorbar\": {\"outlinewidth\": 0, \"ticks\": \"\"}}, \"type\": \"scattermapbox\"}], \"scatterpolar\": [{\"marker\": {\"colorbar\": {\"outlinewidth\": 0, \"ticks\": \"\"}}, \"type\": \"scatterpolar\"}], \"scatterpolargl\": [{\"marker\": {\"colorbar\": {\"outlinewidth\": 0, \"ticks\": \"\"}}, \"type\": \"scatterpolargl\"}], \"scatterternary\": [{\"marker\": {\"colorbar\": {\"outlinewidth\": 0, \"ticks\": \"\"}}, \"type\": \"scatterternary\"}], \"surface\": [{\"colorbar\": {\"outlinewidth\": 0, \"ticks\": \"\"}, \"colorscale\": [[0.0, \"#0d0887\"], [0.1111111111111111, \"#46039f\"], [0.2222222222222222, \"#7201a8\"], [0.3333333333333333, \"#9c179e\"], [0.4444444444444444, \"#bd3786\"], [0.5555555555555556, \"#d8576b\"], [0.6666666666666666, \"#ed7953\"], [0.7777777777777778, \"#fb9f3a\"], [0.8888888888888888, \"#fdca26\"], [1.0, \"#f0f921\"]], \"type\": \"surface\"}], \"table\": [{\"cells\": {\"fill\": {\"color\": \"#EBF0F8\"}, \"line\": {\"color\": \"white\"}}, \"header\": {\"fill\": {\"color\": \"#C8D4E3\"}, \"line\": {\"color\": \"white\"}}, \"type\": \"table\"}]}, \"layout\": {\"annotationdefaults\": {\"arrowcolor\": \"#2a3f5f\", \"arrowhead\": 0, \"arrowwidth\": 1}, \"coloraxis\": {\"colorbar\": {\"outlinewidth\": 0, \"ticks\": \"\"}}, \"colorscale\": {\"diverging\": [[0, \"#8e0152\"], [0.1, \"#c51b7d\"], [0.2, \"#de77ae\"], [0.3, \"#f1b6da\"], [0.4, \"#fde0ef\"], [0.5, \"#f7f7f7\"], [0.6, \"#e6f5d0\"], [0.7, \"#b8e186\"], [0.8, \"#7fbc41\"], [0.9, \"#4d9221\"], [1, \"#276419\"]], \"sequential\": [[0.0, \"#0d0887\"], [0.1111111111111111, \"#46039f\"], [0.2222222222222222, \"#7201a8\"], [0.3333333333333333, \"#9c179e\"], [0.4444444444444444, \"#bd3786\"], [0.5555555555555556, \"#d8576b\"], [0.6666666666666666, \"#ed7953\"], [0.7777777777777778, \"#fb9f3a\"], [0.8888888888888888, \"#fdca26\"], [1.0, \"#f0f921\"]], \"sequentialminus\": [[0.0, \"#0d0887\"], [0.1111111111111111, \"#46039f\"], [0.2222222222222222, \"#7201a8\"], [0.3333333333333333, \"#9c179e\"], [0.4444444444444444, \"#bd3786\"], [0.5555555555555556, \"#d8576b\"], [0.6666666666666666, \"#ed7953\"], [0.7777777777777778, \"#fb9f3a\"], [0.8888888888888888, \"#fdca26\"], [1.0, \"#f0f921\"]]}, \"colorway\": [\"#636efa\", \"#EF553B\", \"#00cc96\", \"#ab63fa\", \"#FFA15A\", \"#19d3f3\", \"#FF6692\", \"#B6E880\", \"#FF97FF\", \"#FECB52\"], \"font\": {\"color\": \"#2a3f5f\"}, \"geo\": {\"bgcolor\": \"white\", \"lakecolor\": \"white\", \"landcolor\": \"#E5ECF6\", \"showlakes\": true, \"showland\": true, \"subunitcolor\": \"white\"}, \"hoverlabel\": {\"align\": \"left\"}, \"hovermode\": \"closest\", \"mapbox\": {\"style\": \"light\"}, \"paper_bgcolor\": \"white\", \"plot_bgcolor\": \"#E5ECF6\", \"polar\": {\"angularaxis\": {\"gridcolor\": \"white\", \"linecolor\": \"white\", \"ticks\": \"\"}, \"bgcolor\": \"#E5ECF6\", \"radialaxis\": {\"gridcolor\": \"white\", \"linecolor\": \"white\", \"ticks\": \"\"}}, \"scene\": {\"xaxis\": {\"backgroundcolor\": \"#E5ECF6\", \"gridcolor\": \"white\", \"gridwidth\": 2, \"linecolor\": \"white\", \"showbackground\": true, \"ticks\": \"\", \"zerolinecolor\": \"white\"}, \"yaxis\": {\"backgroundcolor\": \"#E5ECF6\", \"gridcolor\": \"white\", \"gridwidth\": 2, \"linecolor\": \"white\", \"showbackground\": true, \"ticks\": \"\", \"zerolinecolor\": \"white\"}, \"zaxis\": {\"backgroundcolor\": \"#E5ECF6\", \"gridcolor\": \"white\", \"gridwidth\": 2, \"linecolor\": \"white\", \"showbackground\": true, \"ticks\": \"\", \"zerolinecolor\": \"white\"}}, \"shapedefaults\": {\"line\": {\"color\": \"#2a3f5f\"}}, \"ternary\": {\"aaxis\": {\"gridcolor\": \"white\", \"linecolor\": \"white\", \"ticks\": \"\"}, \"baxis\": {\"gridcolor\": \"white\", \"linecolor\": \"white\", \"ticks\": \"\"}, \"bgcolor\": \"#E5ECF6\", \"caxis\": {\"gridcolor\": \"white\", \"linecolor\": \"white\", \"ticks\": \"\"}}, \"title\": {\"x\": 0.05}, \"xaxis\": {\"automargin\": true, \"gridcolor\": \"white\", \"linecolor\": \"white\", \"ticks\": \"\", \"title\": {\"standoff\": 15}, \"zerolinecolor\": \"white\", \"zerolinewidth\": 2}, \"yaxis\": {\"automargin\": true, \"gridcolor\": \"white\", \"linecolor\": \"white\", \"ticks\": \"\", \"title\": {\"standoff\": 15}, \"zerolinecolor\": \"white\", \"zerolinewidth\": 2}}}, \"xaxis\": {\"anchor\": \"y\", \"domain\": [0.0, 1.0], \"title\": {\"text\": \"Pregnancies\"}}, \"yaxis\": {\"anchor\": \"x\", \"domain\": [0.0, 1.0]}},\n",
              "                        {\"responsive\": true}\n",
              "                    ).then(function(){\n",
              "                            \n",
              "var gd = document.getElementById('19e52849-0324-4ab6-ac64-d25b2d9e7a7e');\n",
              "var x = new MutationObserver(function (mutations, observer) {{\n",
              "        var display = window.getComputedStyle(gd).display;\n",
              "        if (!display || display === 'none') {{\n",
              "            console.log([gd, 'removed!']);\n",
              "            Plotly.purge(gd);\n",
              "            observer.disconnect();\n",
              "        }}\n",
              "}});\n",
              "\n",
              "// Listen for the removal of the full notebook cells\n",
              "var notebookContainer = gd.closest('#notebook-container');\n",
              "if (notebookContainer) {{\n",
              "    x.observe(notebookContainer, {childList: true});\n",
              "}}\n",
              "\n",
              "// Listen for the clearing of the current output cell\n",
              "var outputEl = gd.closest('.output');\n",
              "if (outputEl) {{\n",
              "    x.observe(outputEl, {childList: true});\n",
              "}}\n",
              "\n",
              "                        })\n",
              "                };\n",
              "                \n",
              "            </script>\n",
              "        </div>\n",
              "</body>\n",
              "</html>"
            ]
          },
          "metadata": {
            "tags": []
          }
        }
      ]
    },
    {
      "cell_type": "markdown",
      "metadata": {
        "id": "R2-u2_1u6t0n"
      },
      "source": [
        "Looking at both plots we can seee that higher the number of pragnancies, more is the risks of diabetes\n",
        "\n",
        "---\n",
        "\n",
        "# **`bold text`**"
      ]
    },
    {
      "cell_type": "markdown",
      "metadata": {
        "id": "-JqxlI657bJ3"
      },
      "source": [
        "Let's look at how glucose levels affect the chances if being Diabetic"
      ]
    },
    {
      "cell_type": "code",
      "metadata": {
        "colab": {
          "base_uri": "https://localhost:8080/",
          "height": 1000
        },
        "id": "a0lKmlOR63_T",
        "outputId": "3987d214-270f-41bd-8e90-f1a4a4ae0d17"
      },
      "source": [
        "#Glucose vs Outcome\n",
        "fig = px.histogram(data, x = data['Glucose'], color = 'Outcome')\n",
        "fig.show()\n",
        "fig2 = px.box(data, x = data['Glucose'], color = 'Outcome')\n",
        "fig2.show()"
      ],
      "execution_count": 11,
      "outputs": [
        {
          "output_type": "display_data",
          "data": {
            "text/html": [
              "<html>\n",
              "<head><meta charset=\"utf-8\" /></head>\n",
              "<body>\n",
              "    <div>\n",
              "            <script src=\"https://cdnjs.cloudflare.com/ajax/libs/mathjax/2.7.5/MathJax.js?config=TeX-AMS-MML_SVG\"></script><script type=\"text/javascript\">if (window.MathJax) {MathJax.Hub.Config({SVG: {font: \"STIX-Web\"}});}</script>\n",
              "                <script type=\"text/javascript\">window.PlotlyConfig = {MathJaxConfig: 'local'};</script>\n",
              "        <script src=\"https://cdn.plot.ly/plotly-latest.min.js\"></script>    \n",
              "            <div id=\"cec4b7e1-1687-4e4e-a774-1e885ab413c7\" class=\"plotly-graph-div\" style=\"height:525px; width:100%;\"></div>\n",
              "            <script type=\"text/javascript\">\n",
              "                \n",
              "                    window.PLOTLYENV=window.PLOTLYENV || {};\n",
              "                    \n",
              "                if (document.getElementById(\"cec4b7e1-1687-4e4e-a774-1e885ab413c7\")) {\n",
              "                    Plotly.newPlot(\n",
              "                        'cec4b7e1-1687-4e4e-a774-1e885ab413c7',\n",
              "                        [{\"alignmentgroup\": \"True\", \"bingroup\": \"x\", \"hoverlabel\": {\"namelength\": 0}, \"hovertemplate\": \"Outcome=1<br>Glucose=%{x}<br>count=%{y}\", \"legendgroup\": \"Outcome=1\", \"marker\": {\"color\": \"#636efa\"}, \"name\": \"Outcome=1\", \"offsetgroup\": \"Outcome=1\", \"orientation\": \"v\", \"showlegend\": true, \"type\": \"histogram\", \"x\": [148.0, 183.0, 137.0, 78.0, 197.0, 125.0, 168.0, 189.0, 166.0, 100.0, 118.0, 107.0, 115.0, 196.0, 119.0, 143.0, 125.0, 147.0, 158.0, 102.0, 90.0, 111.0, 171.0, 180.0, 103.0, 176.0, 187.0, 133.0, 114.0, 109.0, 100.0, 126.0, 131.0, 137.0, 136.0, 134.0, 122.0, 163.0, 95.0, 171.0, 155.0, 160.0, 146.0, 124.0, 162.0, 113.0, 88.0, 117.0, 105.0, 173.0, 122.0, 170.0, 108.0, 156.0, 188.0, 152.0, 163.0, 131.0, 104.0, 102.0, 134.0, 179.0, 129.0, 130.0, 194.0, 181.0, 128.0, 109.0, 139.0, 159.0, 135.0, 158.0, 107.0, 109.0, 148.0, 196.0, 162.0, 184.0, 140.0, 112.0, 151.0, 109.0, 85.0, 112.0, 177.0, 158.0, 162.0, 142.0, 134.0, 171.0, 181.0, 179.0, 164.0, 139.0, 119.0, 184.0, 92.0, 113.0, 155.0, 141.0, 123.0, 138.0, 146.0, 101.0, 106.0, 146.0, 161.0, 108.0, 119.0, 107.0, 128.0, 128.0, 146.0, 100.0, 167.0, 144.0, 115.0, 161.0, 128.0, 124.0, 155.0, 109.0, 182.0, 194.0, 112.0, 124.0, 152.0, 122.0, 102.0, 180.0, 115.0, 152.0, 178.0, 120.89453125, 165.0, 125.0, 129.0, 196.0, 189.0, 146.0, 124.0, 133.0, 173.0, 140.0, 156.0, 116.0, 105.0, 144.0, 166.0, 158.0, 131.0, 193.0, 95.0, 136.0, 168.0, 115.0, 197.0, 172.0, 138.0, 173.0, 144.0, 129.0, 151.0, 184.0, 181.0, 95.0, 141.0, 189.0, 108.0, 117.0, 180.0, 104.0, 134.0, 175.0, 148.0, 120.0, 105.0, 158.0, 145.0, 135.0, 125.0, 195.0, 120.89453125, 180.0, 84.0, 163.0, 145.0, 130.0, 132.0, 129.0, 100.0, 128.0, 90.0, 186.0, 187.0, 125.0, 198.0, 121.0, 118.0, 197.0, 151.0, 124.0, 143.0, 176.0, 111.0, 132.0, 188.0, 173.0, 150.0, 183.0, 181.0, 174.0, 168.0, 138.0, 112.0, 119.0, 114.0, 104.0, 97.0, 147.0, 167.0, 179.0, 136.0, 155.0, 80.0, 199.0, 167.0, 145.0, 115.0, 145.0, 111.0, 195.0, 156.0, 121.0, 162.0, 125.0, 144.0, 158.0, 129.0, 142.0, 169.0, 125.0, 168.0, 115.0, 164.0, 93.0, 129.0, 187.0, 173.0, 97.0, 149.0, 130.0, 120.0, 174.0, 102.0, 120.0, 140.0, 147.0, 187.0, 162.0, 136.0, 181.0, 154.0, 128.0, 123.0, 190.0, 170.0, 126.0], \"xaxis\": \"x\", \"yaxis\": \"y\"}, {\"alignmentgroup\": \"True\", \"bingroup\": \"x\", \"hoverlabel\": {\"namelength\": 0}, \"hovertemplate\": \"Outcome=0<br>Glucose=%{x}<br>count=%{y}\", \"legendgroup\": \"Outcome=0\", \"marker\": {\"color\": \"#EF553B\"}, \"name\": \"Outcome=0\", \"offsetgroup\": \"Outcome=0\", \"orientation\": \"v\", \"showlegend\": true, \"type\": \"histogram\", \"x\": [85.0, 89.0, 116.0, 115.0, 110.0, 139.0, 103.0, 126.0, 99.0, 97.0, 145.0, 117.0, 109.0, 88.0, 92.0, 122.0, 103.0, 138.0, 180.0, 133.0, 106.0, 159.0, 146.0, 71.0, 105.0, 103.0, 101.0, 88.0, 150.0, 73.0, 100.0, 146.0, 105.0, 84.0, 44.0, 141.0, 99.0, 109.0, 95.0, 146.0, 139.0, 129.0, 79.0, 120.89453125, 62.0, 95.0, 112.0, 113.0, 74.0, 83.0, 101.0, 110.0, 106.0, 100.0, 107.0, 80.0, 123.0, 81.0, 142.0, 144.0, 92.0, 71.0, 93.0, 151.0, 125.0, 81.0, 85.0, 126.0, 96.0, 144.0, 83.0, 89.0, 76.0, 78.0, 97.0, 99.0, 111.0, 107.0, 132.0, 120.0, 118.0, 84.0, 96.0, 125.0, 100.0, 93.0, 129.0, 105.0, 128.0, 106.0, 108.0, 154.0, 102.0, 57.0, 106.0, 147.0, 90.0, 136.0, 114.0, 153.0, 99.0, 109.0, 88.0, 151.0, 102.0, 114.0, 100.0, 148.0, 120.0, 110.0, 111.0, 87.0, 79.0, 75.0, 85.0, 143.0, 87.0, 119.0, 120.89453125, 73.0, 141.0, 111.0, 123.0, 85.0, 105.0, 113.0, 138.0, 108.0, 99.0, 103.0, 111.0, 96.0, 81.0, 147.0, 179.0, 125.0, 119.0, 142.0, 100.0, 87.0, 101.0, 197.0, 117.0, 79.0, 122.0, 74.0, 104.0, 91.0, 91.0, 146.0, 122.0, 165.0, 124.0, 111.0, 106.0, 129.0, 90.0, 86.0, 111.0, 114.0, 193.0, 191.0, 95.0, 142.0, 96.0, 128.0, 102.0, 108.0, 122.0, 71.0, 106.0, 100.0, 104.0, 114.0, 108.0, 129.0, 133.0, 136.0, 155.0, 96.0, 108.0, 78.0, 161.0, 151.0, 126.0, 112.0, 77.0, 150.0, 120.0, 137.0, 80.0, 106.0, 113.0, 112.0, 99.0, 115.0, 129.0, 112.0, 157.0, 179.0, 105.0, 118.0, 87.0, 106.0, 95.0, 165.0, 117.0, 130.0, 95.0, 120.89453125, 122.0, 95.0, 126.0, 139.0, 116.0, 99.0, 92.0, 137.0, 61.0, 90.0, 90.0, 88.0, 158.0, 103.0, 147.0, 99.0, 101.0, 81.0, 118.0, 84.0, 105.0, 122.0, 98.0, 87.0, 93.0, 107.0, 105.0, 109.0, 90.0, 125.0, 119.0, 100.0, 100.0, 131.0, 116.0, 127.0, 96.0, 82.0, 137.0, 72.0, 123.0, 101.0, 102.0, 112.0, 143.0, 143.0, 97.0, 83.0, 119.0, 94.0, 102.0, 115.0, 94.0, 135.0, 99.0, 89.0, 80.0, 139.0, 90.0, 140.0, 147.0, 97.0, 107.0, 83.0, 117.0, 100.0, 95.0, 120.0, 82.0, 91.0, 119.0, 100.0, 135.0, 86.0, 134.0, 120.0, 71.0, 74.0, 88.0, 115.0, 124.0, 74.0, 97.0, 154.0, 144.0, 137.0, 119.0, 136.0, 114.0, 137.0, 114.0, 126.0, 132.0, 123.0, 85.0, 84.0, 139.0, 173.0, 99.0, 194.0, 83.0, 89.0, 99.0, 80.0, 166.0, 110.0, 81.0, 154.0, 117.0, 84.0, 94.0, 96.0, 75.0, 130.0, 84.0, 120.0, 139.0, 91.0, 91.0, 99.0, 125.0, 76.0, 129.0, 68.0, 124.0, 114.0, 125.0, 87.0, 97.0, 116.0, 117.0, 111.0, 122.0, 107.0, 86.0, 91.0, 77.0, 105.0, 57.0, 127.0, 84.0, 88.0, 131.0, 164.0, 189.0, 116.0, 84.0, 114.0, 88.0, 84.0, 124.0, 97.0, 110.0, 103.0, 85.0, 87.0, 99.0, 91.0, 95.0, 99.0, 92.0, 154.0, 78.0, 130.0, 111.0, 98.0, 143.0, 119.0, 108.0, 133.0, 109.0, 121.0, 100.0, 93.0, 103.0, 73.0, 112.0, 82.0, 123.0, 67.0, 89.0, 109.0, 108.0, 96.0, 124.0, 124.0, 92.0, 152.0, 111.0, 106.0, 105.0, 106.0, 117.0, 68.0, 112.0, 92.0, 183.0, 94.0, 108.0, 90.0, 125.0, 132.0, 128.0, 94.0, 102.0, 111.0, 128.0, 92.0, 104.0, 94.0, 100.0, 102.0, 128.0, 90.0, 103.0, 157.0, 107.0, 91.0, 117.0, 123.0, 120.0, 106.0, 101.0, 120.0, 127.0, 162.0, 112.0, 98.0, 154.0, 165.0, 99.0, 68.0, 123.0, 91.0, 93.0, 101.0, 56.0, 95.0, 136.0, 129.0, 130.0, 107.0, 140.0, 107.0, 121.0, 90.0, 99.0, 127.0, 118.0, 122.0, 129.0, 110.0, 80.0, 127.0, 158.0, 126.0, 134.0, 102.0, 94.0, 108.0, 83.0, 114.0, 117.0, 111.0, 112.0, 116.0, 141.0, 175.0, 92.0, 106.0, 105.0, 95.0, 126.0, 65.0, 99.0, 102.0, 109.0, 153.0, 100.0, 81.0, 121.0, 108.0, 137.0, 106.0, 88.0, 89.0, 101.0, 122.0, 121.0, 93.0], \"xaxis\": \"x\", \"yaxis\": \"y\"}],\n",
              "                        {\"barmode\": \"relative\", \"legend\": {\"tracegroupgap\": 0}, \"margin\": {\"t\": 60}, \"template\": {\"data\": {\"bar\": [{\"error_x\": {\"color\": \"#2a3f5f\"}, \"error_y\": {\"color\": \"#2a3f5f\"}, \"marker\": {\"line\": {\"color\": \"#E5ECF6\", \"width\": 0.5}}, \"type\": \"bar\"}], \"barpolar\": [{\"marker\": {\"line\": {\"color\": \"#E5ECF6\", \"width\": 0.5}}, \"type\": \"barpolar\"}], \"carpet\": [{\"aaxis\": {\"endlinecolor\": \"#2a3f5f\", \"gridcolor\": \"white\", \"linecolor\": \"white\", \"minorgridcolor\": \"white\", \"startlinecolor\": \"#2a3f5f\"}, \"baxis\": {\"endlinecolor\": \"#2a3f5f\", \"gridcolor\": \"white\", \"linecolor\": \"white\", \"minorgridcolor\": \"white\", \"startlinecolor\": \"#2a3f5f\"}, \"type\": \"carpet\"}], \"choropleth\": [{\"colorbar\": {\"outlinewidth\": 0, \"ticks\": \"\"}, \"type\": \"choropleth\"}], \"contour\": [{\"colorbar\": {\"outlinewidth\": 0, \"ticks\": \"\"}, \"colorscale\": [[0.0, \"#0d0887\"], [0.1111111111111111, \"#46039f\"], [0.2222222222222222, \"#7201a8\"], [0.3333333333333333, \"#9c179e\"], [0.4444444444444444, \"#bd3786\"], [0.5555555555555556, \"#d8576b\"], [0.6666666666666666, \"#ed7953\"], [0.7777777777777778, \"#fb9f3a\"], [0.8888888888888888, \"#fdca26\"], [1.0, \"#f0f921\"]], \"type\": \"contour\"}], \"contourcarpet\": [{\"colorbar\": {\"outlinewidth\": 0, \"ticks\": \"\"}, \"type\": \"contourcarpet\"}], \"heatmap\": [{\"colorbar\": {\"outlinewidth\": 0, \"ticks\": \"\"}, \"colorscale\": [[0.0, \"#0d0887\"], [0.1111111111111111, \"#46039f\"], [0.2222222222222222, \"#7201a8\"], [0.3333333333333333, \"#9c179e\"], [0.4444444444444444, \"#bd3786\"], [0.5555555555555556, \"#d8576b\"], [0.6666666666666666, \"#ed7953\"], [0.7777777777777778, \"#fb9f3a\"], [0.8888888888888888, \"#fdca26\"], [1.0, \"#f0f921\"]], \"type\": \"heatmap\"}], \"heatmapgl\": [{\"colorbar\": {\"outlinewidth\": 0, \"ticks\": \"\"}, \"colorscale\": [[0.0, \"#0d0887\"], [0.1111111111111111, \"#46039f\"], [0.2222222222222222, \"#7201a8\"], [0.3333333333333333, \"#9c179e\"], [0.4444444444444444, \"#bd3786\"], [0.5555555555555556, \"#d8576b\"], [0.6666666666666666, \"#ed7953\"], [0.7777777777777778, \"#fb9f3a\"], [0.8888888888888888, \"#fdca26\"], [1.0, \"#f0f921\"]], \"type\": \"heatmapgl\"}], \"histogram\": [{\"marker\": {\"colorbar\": {\"outlinewidth\": 0, \"ticks\": \"\"}}, \"type\": \"histogram\"}], \"histogram2d\": [{\"colorbar\": {\"outlinewidth\": 0, \"ticks\": \"\"}, \"colorscale\": [[0.0, \"#0d0887\"], [0.1111111111111111, \"#46039f\"], [0.2222222222222222, \"#7201a8\"], [0.3333333333333333, \"#9c179e\"], [0.4444444444444444, \"#bd3786\"], [0.5555555555555556, \"#d8576b\"], [0.6666666666666666, \"#ed7953\"], [0.7777777777777778, \"#fb9f3a\"], [0.8888888888888888, \"#fdca26\"], [1.0, \"#f0f921\"]], \"type\": \"histogram2d\"}], \"histogram2dcontour\": [{\"colorbar\": {\"outlinewidth\": 0, \"ticks\": \"\"}, \"colorscale\": [[0.0, \"#0d0887\"], [0.1111111111111111, \"#46039f\"], [0.2222222222222222, \"#7201a8\"], [0.3333333333333333, \"#9c179e\"], [0.4444444444444444, \"#bd3786\"], [0.5555555555555556, \"#d8576b\"], [0.6666666666666666, \"#ed7953\"], [0.7777777777777778, \"#fb9f3a\"], [0.8888888888888888, \"#fdca26\"], [1.0, \"#f0f921\"]], \"type\": \"histogram2dcontour\"}], \"mesh3d\": [{\"colorbar\": {\"outlinewidth\": 0, \"ticks\": \"\"}, \"type\": \"mesh3d\"}], \"parcoords\": [{\"line\": {\"colorbar\": {\"outlinewidth\": 0, \"ticks\": \"\"}}, \"type\": \"parcoords\"}], \"pie\": [{\"automargin\": true, \"type\": \"pie\"}], \"scatter\": [{\"marker\": {\"colorbar\": {\"outlinewidth\": 0, \"ticks\": \"\"}}, \"type\": \"scatter\"}], \"scatter3d\": [{\"line\": {\"colorbar\": {\"outlinewidth\": 0, \"ticks\": \"\"}}, \"marker\": {\"colorbar\": {\"outlinewidth\": 0, \"ticks\": \"\"}}, \"type\": \"scatter3d\"}], \"scattercarpet\": [{\"marker\": {\"colorbar\": {\"outlinewidth\": 0, \"ticks\": \"\"}}, \"type\": \"scattercarpet\"}], \"scattergeo\": [{\"marker\": {\"colorbar\": {\"outlinewidth\": 0, \"ticks\": \"\"}}, \"type\": \"scattergeo\"}], \"scattergl\": [{\"marker\": {\"colorbar\": {\"outlinewidth\": 0, \"ticks\": \"\"}}, \"type\": \"scattergl\"}], \"scattermapbox\": [{\"marker\": {\"colorbar\": {\"outlinewidth\": 0, \"ticks\": \"\"}}, \"type\": \"scattermapbox\"}], \"scatterpolar\": [{\"marker\": {\"colorbar\": {\"outlinewidth\": 0, \"ticks\": \"\"}}, \"type\": \"scatterpolar\"}], \"scatterpolargl\": [{\"marker\": {\"colorbar\": {\"outlinewidth\": 0, \"ticks\": \"\"}}, \"type\": \"scatterpolargl\"}], \"scatterternary\": [{\"marker\": {\"colorbar\": {\"outlinewidth\": 0, \"ticks\": \"\"}}, \"type\": \"scatterternary\"}], \"surface\": [{\"colorbar\": {\"outlinewidth\": 0, \"ticks\": \"\"}, \"colorscale\": [[0.0, \"#0d0887\"], [0.1111111111111111, \"#46039f\"], [0.2222222222222222, \"#7201a8\"], [0.3333333333333333, \"#9c179e\"], [0.4444444444444444, \"#bd3786\"], [0.5555555555555556, \"#d8576b\"], [0.6666666666666666, \"#ed7953\"], [0.7777777777777778, \"#fb9f3a\"], [0.8888888888888888, \"#fdca26\"], [1.0, \"#f0f921\"]], \"type\": \"surface\"}], \"table\": [{\"cells\": {\"fill\": {\"color\": \"#EBF0F8\"}, \"line\": {\"color\": \"white\"}}, \"header\": {\"fill\": {\"color\": \"#C8D4E3\"}, \"line\": {\"color\": \"white\"}}, \"type\": \"table\"}]}, \"layout\": {\"annotationdefaults\": {\"arrowcolor\": \"#2a3f5f\", \"arrowhead\": 0, \"arrowwidth\": 1}, \"coloraxis\": {\"colorbar\": {\"outlinewidth\": 0, \"ticks\": \"\"}}, \"colorscale\": {\"diverging\": [[0, \"#8e0152\"], [0.1, \"#c51b7d\"], [0.2, \"#de77ae\"], [0.3, \"#f1b6da\"], [0.4, \"#fde0ef\"], [0.5, \"#f7f7f7\"], [0.6, \"#e6f5d0\"], [0.7, \"#b8e186\"], [0.8, \"#7fbc41\"], [0.9, \"#4d9221\"], [1, \"#276419\"]], \"sequential\": [[0.0, \"#0d0887\"], [0.1111111111111111, \"#46039f\"], [0.2222222222222222, \"#7201a8\"], [0.3333333333333333, \"#9c179e\"], [0.4444444444444444, \"#bd3786\"], [0.5555555555555556, \"#d8576b\"], [0.6666666666666666, \"#ed7953\"], [0.7777777777777778, \"#fb9f3a\"], [0.8888888888888888, \"#fdca26\"], [1.0, \"#f0f921\"]], \"sequentialminus\": [[0.0, \"#0d0887\"], [0.1111111111111111, \"#46039f\"], [0.2222222222222222, \"#7201a8\"], [0.3333333333333333, \"#9c179e\"], [0.4444444444444444, \"#bd3786\"], [0.5555555555555556, \"#d8576b\"], [0.6666666666666666, \"#ed7953\"], [0.7777777777777778, \"#fb9f3a\"], [0.8888888888888888, \"#fdca26\"], [1.0, \"#f0f921\"]]}, \"colorway\": [\"#636efa\", \"#EF553B\", \"#00cc96\", \"#ab63fa\", \"#FFA15A\", \"#19d3f3\", \"#FF6692\", \"#B6E880\", \"#FF97FF\", \"#FECB52\"], \"font\": {\"color\": \"#2a3f5f\"}, \"geo\": {\"bgcolor\": \"white\", \"lakecolor\": \"white\", \"landcolor\": \"#E5ECF6\", \"showlakes\": true, \"showland\": true, \"subunitcolor\": \"white\"}, \"hoverlabel\": {\"align\": \"left\"}, \"hovermode\": \"closest\", \"mapbox\": {\"style\": \"light\"}, \"paper_bgcolor\": \"white\", \"plot_bgcolor\": \"#E5ECF6\", \"polar\": {\"angularaxis\": {\"gridcolor\": \"white\", \"linecolor\": \"white\", \"ticks\": \"\"}, \"bgcolor\": \"#E5ECF6\", \"radialaxis\": {\"gridcolor\": \"white\", \"linecolor\": \"white\", \"ticks\": \"\"}}, \"scene\": {\"xaxis\": {\"backgroundcolor\": \"#E5ECF6\", \"gridcolor\": \"white\", \"gridwidth\": 2, \"linecolor\": \"white\", \"showbackground\": true, \"ticks\": \"\", \"zerolinecolor\": \"white\"}, \"yaxis\": {\"backgroundcolor\": \"#E5ECF6\", \"gridcolor\": \"white\", \"gridwidth\": 2, \"linecolor\": \"white\", \"showbackground\": true, \"ticks\": \"\", \"zerolinecolor\": \"white\"}, \"zaxis\": {\"backgroundcolor\": \"#E5ECF6\", \"gridcolor\": \"white\", \"gridwidth\": 2, \"linecolor\": \"white\", \"showbackground\": true, \"ticks\": \"\", \"zerolinecolor\": \"white\"}}, \"shapedefaults\": {\"line\": {\"color\": \"#2a3f5f\"}}, \"ternary\": {\"aaxis\": {\"gridcolor\": \"white\", \"linecolor\": \"white\", \"ticks\": \"\"}, \"baxis\": {\"gridcolor\": \"white\", \"linecolor\": \"white\", \"ticks\": \"\"}, \"bgcolor\": \"#E5ECF6\", \"caxis\": {\"gridcolor\": \"white\", \"linecolor\": \"white\", \"ticks\": \"\"}}, \"title\": {\"x\": 0.05}, \"xaxis\": {\"automargin\": true, \"gridcolor\": \"white\", \"linecolor\": \"white\", \"ticks\": \"\", \"title\": {\"standoff\": 15}, \"zerolinecolor\": \"white\", \"zerolinewidth\": 2}, \"yaxis\": {\"automargin\": true, \"gridcolor\": \"white\", \"linecolor\": \"white\", \"ticks\": \"\", \"title\": {\"standoff\": 15}, \"zerolinecolor\": \"white\", \"zerolinewidth\": 2}}}, \"xaxis\": {\"anchor\": \"y\", \"domain\": [0.0, 1.0], \"title\": {\"text\": \"Glucose\"}}, \"yaxis\": {\"anchor\": \"x\", \"domain\": [0.0, 1.0], \"title\": {\"text\": \"count\"}}},\n",
              "                        {\"responsive\": true}\n",
              "                    ).then(function(){\n",
              "                            \n",
              "var gd = document.getElementById('cec4b7e1-1687-4e4e-a774-1e885ab413c7');\n",
              "var x = new MutationObserver(function (mutations, observer) {{\n",
              "        var display = window.getComputedStyle(gd).display;\n",
              "        if (!display || display === 'none') {{\n",
              "            console.log([gd, 'removed!']);\n",
              "            Plotly.purge(gd);\n",
              "            observer.disconnect();\n",
              "        }}\n",
              "}});\n",
              "\n",
              "// Listen for the removal of the full notebook cells\n",
              "var notebookContainer = gd.closest('#notebook-container');\n",
              "if (notebookContainer) {{\n",
              "    x.observe(notebookContainer, {childList: true});\n",
              "}}\n",
              "\n",
              "// Listen for the clearing of the current output cell\n",
              "var outputEl = gd.closest('.output');\n",
              "if (outputEl) {{\n",
              "    x.observe(outputEl, {childList: true});\n",
              "}}\n",
              "\n",
              "                        })\n",
              "                };\n",
              "                \n",
              "            </script>\n",
              "        </div>\n",
              "</body>\n",
              "</html>"
            ]
          },
          "metadata": {
            "tags": []
          }
        },
        {
          "output_type": "display_data",
          "data": {
            "text/html": [
              "<html>\n",
              "<head><meta charset=\"utf-8\" /></head>\n",
              "<body>\n",
              "    <div>\n",
              "            <script src=\"https://cdnjs.cloudflare.com/ajax/libs/mathjax/2.7.5/MathJax.js?config=TeX-AMS-MML_SVG\"></script><script type=\"text/javascript\">if (window.MathJax) {MathJax.Hub.Config({SVG: {font: \"STIX-Web\"}});}</script>\n",
              "                <script type=\"text/javascript\">window.PlotlyConfig = {MathJaxConfig: 'local'};</script>\n",
              "        <script src=\"https://cdn.plot.ly/plotly-latest.min.js\"></script>    \n",
              "            <div id=\"c1fb17e2-8247-448a-850d-ae8a711881d3\" class=\"plotly-graph-div\" style=\"height:525px; width:100%;\"></div>\n",
              "            <script type=\"text/javascript\">\n",
              "                \n",
              "                    window.PLOTLYENV=window.PLOTLYENV || {};\n",
              "                    \n",
              "                if (document.getElementById(\"c1fb17e2-8247-448a-850d-ae8a711881d3\")) {\n",
              "                    Plotly.newPlot(\n",
              "                        'c1fb17e2-8247-448a-850d-ae8a711881d3',\n",
              "                        [{\"alignmentgroup\": \"True\", \"hoverlabel\": {\"namelength\": 0}, \"hovertemplate\": \"Outcome=1<br>Glucose=%{x}\", \"legendgroup\": \"Outcome=1\", \"marker\": {\"color\": \"#636efa\"}, \"name\": \"Outcome=1\", \"notched\": false, \"offsetgroup\": \"Outcome=1\", \"orientation\": \"v\", \"showlegend\": true, \"type\": \"box\", \"x\": [148.0, 183.0, 137.0, 78.0, 197.0, 125.0, 168.0, 189.0, 166.0, 100.0, 118.0, 107.0, 115.0, 196.0, 119.0, 143.0, 125.0, 147.0, 158.0, 102.0, 90.0, 111.0, 171.0, 180.0, 103.0, 176.0, 187.0, 133.0, 114.0, 109.0, 100.0, 126.0, 131.0, 137.0, 136.0, 134.0, 122.0, 163.0, 95.0, 171.0, 155.0, 160.0, 146.0, 124.0, 162.0, 113.0, 88.0, 117.0, 105.0, 173.0, 122.0, 170.0, 108.0, 156.0, 188.0, 152.0, 163.0, 131.0, 104.0, 102.0, 134.0, 179.0, 129.0, 130.0, 194.0, 181.0, 128.0, 109.0, 139.0, 159.0, 135.0, 158.0, 107.0, 109.0, 148.0, 196.0, 162.0, 184.0, 140.0, 112.0, 151.0, 109.0, 85.0, 112.0, 177.0, 158.0, 162.0, 142.0, 134.0, 171.0, 181.0, 179.0, 164.0, 139.0, 119.0, 184.0, 92.0, 113.0, 155.0, 141.0, 123.0, 138.0, 146.0, 101.0, 106.0, 146.0, 161.0, 108.0, 119.0, 107.0, 128.0, 128.0, 146.0, 100.0, 167.0, 144.0, 115.0, 161.0, 128.0, 124.0, 155.0, 109.0, 182.0, 194.0, 112.0, 124.0, 152.0, 122.0, 102.0, 180.0, 115.0, 152.0, 178.0, 120.89453125, 165.0, 125.0, 129.0, 196.0, 189.0, 146.0, 124.0, 133.0, 173.0, 140.0, 156.0, 116.0, 105.0, 144.0, 166.0, 158.0, 131.0, 193.0, 95.0, 136.0, 168.0, 115.0, 197.0, 172.0, 138.0, 173.0, 144.0, 129.0, 151.0, 184.0, 181.0, 95.0, 141.0, 189.0, 108.0, 117.0, 180.0, 104.0, 134.0, 175.0, 148.0, 120.0, 105.0, 158.0, 145.0, 135.0, 125.0, 195.0, 120.89453125, 180.0, 84.0, 163.0, 145.0, 130.0, 132.0, 129.0, 100.0, 128.0, 90.0, 186.0, 187.0, 125.0, 198.0, 121.0, 118.0, 197.0, 151.0, 124.0, 143.0, 176.0, 111.0, 132.0, 188.0, 173.0, 150.0, 183.0, 181.0, 174.0, 168.0, 138.0, 112.0, 119.0, 114.0, 104.0, 97.0, 147.0, 167.0, 179.0, 136.0, 155.0, 80.0, 199.0, 167.0, 145.0, 115.0, 145.0, 111.0, 195.0, 156.0, 121.0, 162.0, 125.0, 144.0, 158.0, 129.0, 142.0, 169.0, 125.0, 168.0, 115.0, 164.0, 93.0, 129.0, 187.0, 173.0, 97.0, 149.0, 130.0, 120.0, 174.0, 102.0, 120.0, 140.0, 147.0, 187.0, 162.0, 136.0, 181.0, 154.0, 128.0, 123.0, 190.0, 170.0, 126.0], \"x0\": \" \", \"xaxis\": \"x\", \"y0\": \" \", \"yaxis\": \"y\"}, {\"alignmentgroup\": \"True\", \"hoverlabel\": {\"namelength\": 0}, \"hovertemplate\": \"Outcome=0<br>Glucose=%{x}\", \"legendgroup\": \"Outcome=0\", \"marker\": {\"color\": \"#EF553B\"}, \"name\": \"Outcome=0\", \"notched\": false, \"offsetgroup\": \"Outcome=0\", \"orientation\": \"v\", \"showlegend\": true, \"type\": \"box\", \"x\": [85.0, 89.0, 116.0, 115.0, 110.0, 139.0, 103.0, 126.0, 99.0, 97.0, 145.0, 117.0, 109.0, 88.0, 92.0, 122.0, 103.0, 138.0, 180.0, 133.0, 106.0, 159.0, 146.0, 71.0, 105.0, 103.0, 101.0, 88.0, 150.0, 73.0, 100.0, 146.0, 105.0, 84.0, 44.0, 141.0, 99.0, 109.0, 95.0, 146.0, 139.0, 129.0, 79.0, 120.89453125, 62.0, 95.0, 112.0, 113.0, 74.0, 83.0, 101.0, 110.0, 106.0, 100.0, 107.0, 80.0, 123.0, 81.0, 142.0, 144.0, 92.0, 71.0, 93.0, 151.0, 125.0, 81.0, 85.0, 126.0, 96.0, 144.0, 83.0, 89.0, 76.0, 78.0, 97.0, 99.0, 111.0, 107.0, 132.0, 120.0, 118.0, 84.0, 96.0, 125.0, 100.0, 93.0, 129.0, 105.0, 128.0, 106.0, 108.0, 154.0, 102.0, 57.0, 106.0, 147.0, 90.0, 136.0, 114.0, 153.0, 99.0, 109.0, 88.0, 151.0, 102.0, 114.0, 100.0, 148.0, 120.0, 110.0, 111.0, 87.0, 79.0, 75.0, 85.0, 143.0, 87.0, 119.0, 120.89453125, 73.0, 141.0, 111.0, 123.0, 85.0, 105.0, 113.0, 138.0, 108.0, 99.0, 103.0, 111.0, 96.0, 81.0, 147.0, 179.0, 125.0, 119.0, 142.0, 100.0, 87.0, 101.0, 197.0, 117.0, 79.0, 122.0, 74.0, 104.0, 91.0, 91.0, 146.0, 122.0, 165.0, 124.0, 111.0, 106.0, 129.0, 90.0, 86.0, 111.0, 114.0, 193.0, 191.0, 95.0, 142.0, 96.0, 128.0, 102.0, 108.0, 122.0, 71.0, 106.0, 100.0, 104.0, 114.0, 108.0, 129.0, 133.0, 136.0, 155.0, 96.0, 108.0, 78.0, 161.0, 151.0, 126.0, 112.0, 77.0, 150.0, 120.0, 137.0, 80.0, 106.0, 113.0, 112.0, 99.0, 115.0, 129.0, 112.0, 157.0, 179.0, 105.0, 118.0, 87.0, 106.0, 95.0, 165.0, 117.0, 130.0, 95.0, 120.89453125, 122.0, 95.0, 126.0, 139.0, 116.0, 99.0, 92.0, 137.0, 61.0, 90.0, 90.0, 88.0, 158.0, 103.0, 147.0, 99.0, 101.0, 81.0, 118.0, 84.0, 105.0, 122.0, 98.0, 87.0, 93.0, 107.0, 105.0, 109.0, 90.0, 125.0, 119.0, 100.0, 100.0, 131.0, 116.0, 127.0, 96.0, 82.0, 137.0, 72.0, 123.0, 101.0, 102.0, 112.0, 143.0, 143.0, 97.0, 83.0, 119.0, 94.0, 102.0, 115.0, 94.0, 135.0, 99.0, 89.0, 80.0, 139.0, 90.0, 140.0, 147.0, 97.0, 107.0, 83.0, 117.0, 100.0, 95.0, 120.0, 82.0, 91.0, 119.0, 100.0, 135.0, 86.0, 134.0, 120.0, 71.0, 74.0, 88.0, 115.0, 124.0, 74.0, 97.0, 154.0, 144.0, 137.0, 119.0, 136.0, 114.0, 137.0, 114.0, 126.0, 132.0, 123.0, 85.0, 84.0, 139.0, 173.0, 99.0, 194.0, 83.0, 89.0, 99.0, 80.0, 166.0, 110.0, 81.0, 154.0, 117.0, 84.0, 94.0, 96.0, 75.0, 130.0, 84.0, 120.0, 139.0, 91.0, 91.0, 99.0, 125.0, 76.0, 129.0, 68.0, 124.0, 114.0, 125.0, 87.0, 97.0, 116.0, 117.0, 111.0, 122.0, 107.0, 86.0, 91.0, 77.0, 105.0, 57.0, 127.0, 84.0, 88.0, 131.0, 164.0, 189.0, 116.0, 84.0, 114.0, 88.0, 84.0, 124.0, 97.0, 110.0, 103.0, 85.0, 87.0, 99.0, 91.0, 95.0, 99.0, 92.0, 154.0, 78.0, 130.0, 111.0, 98.0, 143.0, 119.0, 108.0, 133.0, 109.0, 121.0, 100.0, 93.0, 103.0, 73.0, 112.0, 82.0, 123.0, 67.0, 89.0, 109.0, 108.0, 96.0, 124.0, 124.0, 92.0, 152.0, 111.0, 106.0, 105.0, 106.0, 117.0, 68.0, 112.0, 92.0, 183.0, 94.0, 108.0, 90.0, 125.0, 132.0, 128.0, 94.0, 102.0, 111.0, 128.0, 92.0, 104.0, 94.0, 100.0, 102.0, 128.0, 90.0, 103.0, 157.0, 107.0, 91.0, 117.0, 123.0, 120.0, 106.0, 101.0, 120.0, 127.0, 162.0, 112.0, 98.0, 154.0, 165.0, 99.0, 68.0, 123.0, 91.0, 93.0, 101.0, 56.0, 95.0, 136.0, 129.0, 130.0, 107.0, 140.0, 107.0, 121.0, 90.0, 99.0, 127.0, 118.0, 122.0, 129.0, 110.0, 80.0, 127.0, 158.0, 126.0, 134.0, 102.0, 94.0, 108.0, 83.0, 114.0, 117.0, 111.0, 112.0, 116.0, 141.0, 175.0, 92.0, 106.0, 105.0, 95.0, 126.0, 65.0, 99.0, 102.0, 109.0, 153.0, 100.0, 81.0, 121.0, 108.0, 137.0, 106.0, 88.0, 89.0, 101.0, 122.0, 121.0, 93.0], \"x0\": \" \", \"xaxis\": \"x\", \"y0\": \" \", \"yaxis\": \"y\"}],\n",
              "                        {\"boxmode\": \"group\", \"legend\": {\"tracegroupgap\": 0}, \"margin\": {\"t\": 60}, \"template\": {\"data\": {\"bar\": [{\"error_x\": {\"color\": \"#2a3f5f\"}, \"error_y\": {\"color\": \"#2a3f5f\"}, \"marker\": {\"line\": {\"color\": \"#E5ECF6\", \"width\": 0.5}}, \"type\": \"bar\"}], \"barpolar\": [{\"marker\": {\"line\": {\"color\": \"#E5ECF6\", \"width\": 0.5}}, \"type\": \"barpolar\"}], \"carpet\": [{\"aaxis\": {\"endlinecolor\": \"#2a3f5f\", \"gridcolor\": \"white\", \"linecolor\": \"white\", \"minorgridcolor\": \"white\", \"startlinecolor\": \"#2a3f5f\"}, \"baxis\": {\"endlinecolor\": \"#2a3f5f\", \"gridcolor\": \"white\", \"linecolor\": \"white\", \"minorgridcolor\": \"white\", \"startlinecolor\": \"#2a3f5f\"}, \"type\": \"carpet\"}], \"choropleth\": [{\"colorbar\": {\"outlinewidth\": 0, \"ticks\": \"\"}, \"type\": \"choropleth\"}], \"contour\": [{\"colorbar\": {\"outlinewidth\": 0, \"ticks\": \"\"}, \"colorscale\": [[0.0, \"#0d0887\"], [0.1111111111111111, \"#46039f\"], [0.2222222222222222, \"#7201a8\"], [0.3333333333333333, \"#9c179e\"], [0.4444444444444444, \"#bd3786\"], [0.5555555555555556, \"#d8576b\"], [0.6666666666666666, \"#ed7953\"], [0.7777777777777778, \"#fb9f3a\"], [0.8888888888888888, \"#fdca26\"], [1.0, \"#f0f921\"]], \"type\": \"contour\"}], \"contourcarpet\": [{\"colorbar\": {\"outlinewidth\": 0, \"ticks\": \"\"}, \"type\": \"contourcarpet\"}], \"heatmap\": [{\"colorbar\": {\"outlinewidth\": 0, \"ticks\": \"\"}, \"colorscale\": [[0.0, \"#0d0887\"], [0.1111111111111111, \"#46039f\"], [0.2222222222222222, \"#7201a8\"], [0.3333333333333333, \"#9c179e\"], [0.4444444444444444, \"#bd3786\"], [0.5555555555555556, \"#d8576b\"], [0.6666666666666666, \"#ed7953\"], [0.7777777777777778, \"#fb9f3a\"], [0.8888888888888888, \"#fdca26\"], [1.0, \"#f0f921\"]], \"type\": \"heatmap\"}], \"heatmapgl\": [{\"colorbar\": {\"outlinewidth\": 0, \"ticks\": \"\"}, \"colorscale\": [[0.0, \"#0d0887\"], [0.1111111111111111, \"#46039f\"], [0.2222222222222222, \"#7201a8\"], [0.3333333333333333, \"#9c179e\"], [0.4444444444444444, \"#bd3786\"], [0.5555555555555556, \"#d8576b\"], [0.6666666666666666, \"#ed7953\"], [0.7777777777777778, \"#fb9f3a\"], [0.8888888888888888, \"#fdca26\"], [1.0, \"#f0f921\"]], \"type\": \"heatmapgl\"}], \"histogram\": [{\"marker\": {\"colorbar\": {\"outlinewidth\": 0, \"ticks\": \"\"}}, \"type\": \"histogram\"}], \"histogram2d\": [{\"colorbar\": {\"outlinewidth\": 0, \"ticks\": \"\"}, \"colorscale\": [[0.0, \"#0d0887\"], [0.1111111111111111, \"#46039f\"], [0.2222222222222222, \"#7201a8\"], [0.3333333333333333, \"#9c179e\"], [0.4444444444444444, \"#bd3786\"], [0.5555555555555556, \"#d8576b\"], [0.6666666666666666, \"#ed7953\"], [0.7777777777777778, \"#fb9f3a\"], [0.8888888888888888, \"#fdca26\"], [1.0, \"#f0f921\"]], \"type\": \"histogram2d\"}], \"histogram2dcontour\": [{\"colorbar\": {\"outlinewidth\": 0, \"ticks\": \"\"}, \"colorscale\": [[0.0, \"#0d0887\"], [0.1111111111111111, \"#46039f\"], [0.2222222222222222, \"#7201a8\"], [0.3333333333333333, \"#9c179e\"], [0.4444444444444444, \"#bd3786\"], [0.5555555555555556, \"#d8576b\"], [0.6666666666666666, \"#ed7953\"], [0.7777777777777778, \"#fb9f3a\"], [0.8888888888888888, \"#fdca26\"], [1.0, \"#f0f921\"]], \"type\": \"histogram2dcontour\"}], \"mesh3d\": [{\"colorbar\": {\"outlinewidth\": 0, \"ticks\": \"\"}, \"type\": \"mesh3d\"}], \"parcoords\": [{\"line\": {\"colorbar\": {\"outlinewidth\": 0, \"ticks\": \"\"}}, \"type\": \"parcoords\"}], \"pie\": [{\"automargin\": true, \"type\": \"pie\"}], \"scatter\": [{\"marker\": {\"colorbar\": {\"outlinewidth\": 0, \"ticks\": \"\"}}, \"type\": \"scatter\"}], \"scatter3d\": [{\"line\": {\"colorbar\": {\"outlinewidth\": 0, \"ticks\": \"\"}}, \"marker\": {\"colorbar\": {\"outlinewidth\": 0, \"ticks\": \"\"}}, \"type\": \"scatter3d\"}], \"scattercarpet\": [{\"marker\": {\"colorbar\": {\"outlinewidth\": 0, \"ticks\": \"\"}}, \"type\": \"scattercarpet\"}], \"scattergeo\": [{\"marker\": {\"colorbar\": {\"outlinewidth\": 0, \"ticks\": \"\"}}, \"type\": \"scattergeo\"}], \"scattergl\": [{\"marker\": {\"colorbar\": {\"outlinewidth\": 0, \"ticks\": \"\"}}, \"type\": \"scattergl\"}], \"scattermapbox\": [{\"marker\": {\"colorbar\": {\"outlinewidth\": 0, \"ticks\": \"\"}}, \"type\": \"scattermapbox\"}], \"scatterpolar\": [{\"marker\": {\"colorbar\": {\"outlinewidth\": 0, \"ticks\": \"\"}}, \"type\": \"scatterpolar\"}], \"scatterpolargl\": [{\"marker\": {\"colorbar\": {\"outlinewidth\": 0, \"ticks\": \"\"}}, \"type\": \"scatterpolargl\"}], \"scatterternary\": [{\"marker\": {\"colorbar\": {\"outlinewidth\": 0, \"ticks\": \"\"}}, \"type\": \"scatterternary\"}], \"surface\": [{\"colorbar\": {\"outlinewidth\": 0, \"ticks\": \"\"}, \"colorscale\": [[0.0, \"#0d0887\"], [0.1111111111111111, \"#46039f\"], [0.2222222222222222, \"#7201a8\"], [0.3333333333333333, \"#9c179e\"], [0.4444444444444444, \"#bd3786\"], [0.5555555555555556, \"#d8576b\"], [0.6666666666666666, \"#ed7953\"], [0.7777777777777778, \"#fb9f3a\"], [0.8888888888888888, \"#fdca26\"], [1.0, \"#f0f921\"]], \"type\": \"surface\"}], \"table\": [{\"cells\": {\"fill\": {\"color\": \"#EBF0F8\"}, \"line\": {\"color\": \"white\"}}, \"header\": {\"fill\": {\"color\": \"#C8D4E3\"}, \"line\": {\"color\": \"white\"}}, \"type\": \"table\"}]}, \"layout\": {\"annotationdefaults\": {\"arrowcolor\": \"#2a3f5f\", \"arrowhead\": 0, \"arrowwidth\": 1}, \"coloraxis\": {\"colorbar\": {\"outlinewidth\": 0, \"ticks\": \"\"}}, \"colorscale\": {\"diverging\": [[0, \"#8e0152\"], [0.1, \"#c51b7d\"], [0.2, \"#de77ae\"], [0.3, \"#f1b6da\"], [0.4, \"#fde0ef\"], [0.5, \"#f7f7f7\"], [0.6, \"#e6f5d0\"], [0.7, \"#b8e186\"], [0.8, \"#7fbc41\"], [0.9, \"#4d9221\"], [1, \"#276419\"]], \"sequential\": [[0.0, \"#0d0887\"], [0.1111111111111111, \"#46039f\"], [0.2222222222222222, \"#7201a8\"], [0.3333333333333333, \"#9c179e\"], [0.4444444444444444, \"#bd3786\"], [0.5555555555555556, \"#d8576b\"], [0.6666666666666666, \"#ed7953\"], [0.7777777777777778, \"#fb9f3a\"], [0.8888888888888888, \"#fdca26\"], [1.0, \"#f0f921\"]], \"sequentialminus\": [[0.0, \"#0d0887\"], [0.1111111111111111, \"#46039f\"], [0.2222222222222222, \"#7201a8\"], [0.3333333333333333, \"#9c179e\"], [0.4444444444444444, \"#bd3786\"], [0.5555555555555556, \"#d8576b\"], [0.6666666666666666, \"#ed7953\"], [0.7777777777777778, \"#fb9f3a\"], [0.8888888888888888, \"#fdca26\"], [1.0, \"#f0f921\"]]}, \"colorway\": [\"#636efa\", \"#EF553B\", \"#00cc96\", \"#ab63fa\", \"#FFA15A\", \"#19d3f3\", \"#FF6692\", \"#B6E880\", \"#FF97FF\", \"#FECB52\"], \"font\": {\"color\": \"#2a3f5f\"}, \"geo\": {\"bgcolor\": \"white\", \"lakecolor\": \"white\", \"landcolor\": \"#E5ECF6\", \"showlakes\": true, \"showland\": true, \"subunitcolor\": \"white\"}, \"hoverlabel\": {\"align\": \"left\"}, \"hovermode\": \"closest\", \"mapbox\": {\"style\": \"light\"}, \"paper_bgcolor\": \"white\", \"plot_bgcolor\": \"#E5ECF6\", \"polar\": {\"angularaxis\": {\"gridcolor\": \"white\", \"linecolor\": \"white\", \"ticks\": \"\"}, \"bgcolor\": \"#E5ECF6\", \"radialaxis\": {\"gridcolor\": \"white\", \"linecolor\": \"white\", \"ticks\": \"\"}}, \"scene\": {\"xaxis\": {\"backgroundcolor\": \"#E5ECF6\", \"gridcolor\": \"white\", \"gridwidth\": 2, \"linecolor\": \"white\", \"showbackground\": true, \"ticks\": \"\", \"zerolinecolor\": \"white\"}, \"yaxis\": {\"backgroundcolor\": \"#E5ECF6\", \"gridcolor\": \"white\", \"gridwidth\": 2, \"linecolor\": \"white\", \"showbackground\": true, \"ticks\": \"\", \"zerolinecolor\": \"white\"}, \"zaxis\": {\"backgroundcolor\": \"#E5ECF6\", \"gridcolor\": \"white\", \"gridwidth\": 2, \"linecolor\": \"white\", \"showbackground\": true, \"ticks\": \"\", \"zerolinecolor\": \"white\"}}, \"shapedefaults\": {\"line\": {\"color\": \"#2a3f5f\"}}, \"ternary\": {\"aaxis\": {\"gridcolor\": \"white\", \"linecolor\": \"white\", \"ticks\": \"\"}, \"baxis\": {\"gridcolor\": \"white\", \"linecolor\": \"white\", \"ticks\": \"\"}, \"bgcolor\": \"#E5ECF6\", \"caxis\": {\"gridcolor\": \"white\", \"linecolor\": \"white\", \"ticks\": \"\"}}, \"title\": {\"x\": 0.05}, \"xaxis\": {\"automargin\": true, \"gridcolor\": \"white\", \"linecolor\": \"white\", \"ticks\": \"\", \"title\": {\"standoff\": 15}, \"zerolinecolor\": \"white\", \"zerolinewidth\": 2}, \"yaxis\": {\"automargin\": true, \"gridcolor\": \"white\", \"linecolor\": \"white\", \"ticks\": \"\", \"title\": {\"standoff\": 15}, \"zerolinecolor\": \"white\", \"zerolinewidth\": 2}}}, \"xaxis\": {\"anchor\": \"y\", \"domain\": [0.0, 1.0], \"title\": {\"text\": \"Glucose\"}}, \"yaxis\": {\"anchor\": \"x\", \"domain\": [0.0, 1.0]}},\n",
              "                        {\"responsive\": true}\n",
              "                    ).then(function(){\n",
              "                            \n",
              "var gd = document.getElementById('c1fb17e2-8247-448a-850d-ae8a711881d3');\n",
              "var x = new MutationObserver(function (mutations, observer) {{\n",
              "        var display = window.getComputedStyle(gd).display;\n",
              "        if (!display || display === 'none') {{\n",
              "            console.log([gd, 'removed!']);\n",
              "            Plotly.purge(gd);\n",
              "            observer.disconnect();\n",
              "        }}\n",
              "}});\n",
              "\n",
              "// Listen for the removal of the full notebook cells\n",
              "var notebookContainer = gd.closest('#notebook-container');\n",
              "if (notebookContainer) {{\n",
              "    x.observe(notebookContainer, {childList: true});\n",
              "}}\n",
              "\n",
              "// Listen for the clearing of the current output cell\n",
              "var outputEl = gd.closest('.output');\n",
              "if (outputEl) {{\n",
              "    x.observe(outputEl, {childList: true});\n",
              "}}\n",
              "\n",
              "                        })\n",
              "                };\n",
              "                \n",
              "            </script>\n",
              "        </div>\n",
              "</body>\n",
              "</html>"
            ]
          },
          "metadata": {
            "tags": []
          }
        }
      ]
    },
    {
      "cell_type": "markdown",
      "metadata": {
        "id": "aEzFBuj67jNb"
      },
      "source": [
        "Higher Glucose level leads to more chances of Diabetes!**bold text**"
      ]
    },
    {
      "cell_type": "markdown",
      "metadata": {
        "papermill": {
          "duration": 0.057815,
          "end_time": "2021-07-22T14:33:28.708481",
          "exception": false,
          "start_time": "2021-07-22T14:33:28.650666",
          "status": "completed"
        },
        "tags": [],
        "id": "4ca8001b"
      },
      "source": [
        "\n",
        "<p style=\"font-family: Arials; line-height: 1.3; font-size: 23px; font-weight: bold; letter-spacing: 2px; text-align: left; color: #23527c\">Let's look at how blood pressure affect the chances if being Diabetic</p>"
      ]
    },
    {
      "cell_type": "code",
      "metadata": {
        "colab": {
          "base_uri": "https://localhost:8080/",
          "height": 1000
        },
        "id": "sQwJ0_Cr7viU",
        "outputId": "adfc2c94-eb1a-46bb-9f0f-e21f5f39cd10"
      },
      "source": [
        "#BloodPressure vs Outcome\n",
        "fig = px.histogram(data, x = data['BloodPressure'], color = 'Outcome')\n",
        "fig.show()\n",
        "fig2 = px.box(data, x = data['BloodPressure'], color = 'Outcome')\n",
        "fig2.show()"
      ],
      "execution_count": 12,
      "outputs": [
        {
          "output_type": "display_data",
          "data": {
            "text/html": [
              "<html>\n",
              "<head><meta charset=\"utf-8\" /></head>\n",
              "<body>\n",
              "    <div>\n",
              "            <script src=\"https://cdnjs.cloudflare.com/ajax/libs/mathjax/2.7.5/MathJax.js?config=TeX-AMS-MML_SVG\"></script><script type=\"text/javascript\">if (window.MathJax) {MathJax.Hub.Config({SVG: {font: \"STIX-Web\"}});}</script>\n",
              "                <script type=\"text/javascript\">window.PlotlyConfig = {MathJaxConfig: 'local'};</script>\n",
              "        <script src=\"https://cdn.plot.ly/plotly-latest.min.js\"></script>    \n",
              "            <div id=\"3c071182-946c-4668-8f15-4fb4c28286b0\" class=\"plotly-graph-div\" style=\"height:525px; width:100%;\"></div>\n",
              "            <script type=\"text/javascript\">\n",
              "                \n",
              "                    window.PLOTLYENV=window.PLOTLYENV || {};\n",
              "                    \n",
              "                if (document.getElementById(\"3c071182-946c-4668-8f15-4fb4c28286b0\")) {\n",
              "                    Plotly.newPlot(\n",
              "                        '3c071182-946c-4668-8f15-4fb4c28286b0',\n",
              "                        [{\"alignmentgroup\": \"True\", \"bingroup\": \"x\", \"hoverlabel\": {\"namelength\": 0}, \"hovertemplate\": \"Outcome=1<br>BloodPressure=%{x}<br>count=%{y}\", \"legendgroup\": \"Outcome=1\", \"marker\": {\"color\": \"#636efa\"}, \"name\": \"Outcome=1\", \"offsetgroup\": \"Outcome=1\", \"orientation\": \"v\", \"showlegend\": true, \"type\": \"histogram\", \"x\": [72.0, 64.0, 40.0, 50.0, 70.0, 96.0, 74.0, 60.0, 72.0, 69.10546875, 84.0, 74.0, 70.0, 90.0, 80.0, 94.0, 70.0, 76.0, 76.0, 76.0, 68.0, 72.0, 110.0, 66.0, 66.0, 90.0, 68.0, 72.0, 66.0, 88.0, 66.0, 90.0, 69.10546875, 108.0, 70.0, 72.0, 90.0, 72.0, 85.0, 72.0, 62.0, 54.0, 92.0, 74.0, 76.0, 76.0, 30.0, 88.0, 84.0, 70.0, 56.0, 64.0, 66.0, 86.0, 78.0, 88.0, 72.0, 88.0, 74.0, 82.0, 70.0, 72.0, 110.0, 82.0, 68.0, 68.0, 98.0, 76.0, 80.0, 66.0, 69.10546875, 84.0, 62.0, 64.0, 60.0, 76.0, 104.0, 84.0, 65.0, 82.0, 70.0, 62.0, 74.0, 66.0, 60.0, 90.0, 52.0, 86.0, 80.0, 72.0, 84.0, 90.0, 84.0, 54.0, 50.0, 85.0, 62.0, 64.0, 76.0, 69.10546875, 62.0, 69.10546875, 69.10546875, 86.0, 60.0, 70.0, 86.0, 80.0, 86.0, 62.0, 78.0, 48.0, 70.0, 78.0, 69.10546875, 58.0, 98.0, 68.0, 68.0, 68.0, 74.0, 80.0, 74.0, 78.0, 74.0, 70.0, 90.0, 64.0, 86.0, 69.10546875, 76.0, 78.0, 84.0, 80.0, 88.0, 50.0, 69.10546875, 76.0, 64.0, 78.0, 72.0, 102.0, 82.0, 82.0, 75.0, 74.0, 100.0, 82.0, 76.0, 78.0, 66.0, 70.0, 64.0, 84.0, 64.0, 72.0, 74.0, 68.0, 60.0, 84.0, 82.0, 64.0, 78.0, 78.0, 64.0, 82.0, 69.10546875, 104.0, 70.0, 62.0, 78.0, 64.0, 70.0, 62.0, 84.0, 69.10546875, 80.0, 70.0, 69.10546875, 68.0, 70.0, 70.0, 68.0, 90.0, 72.0, 70.0, 88.0, 70.0, 69.10546875, 92.0, 74.0, 72.0, 85.0, 90.0, 76.0, 76.0, 66.0, 66.0, 80.0, 70.0, 90.0, 76.0, 66.0, 86.0, 84.0, 80.0, 82.0, 74.0, 78.0, 69.10546875, 78.0, 58.0, 88.0, 74.0, 82.0, 69.10546875, 64.0, 72.0, 76.0, 80.0, 74.0, 50.0, 84.0, 52.0, 82.0, 76.0, 106.0, 80.0, 60.0, 82.0, 70.0, 70.0, 86.0, 52.0, 76.0, 80.0, 82.0, 114.0, 68.0, 90.0, 74.0, 78.0, 88.0, 69.10546875, 78.0, 64.0, 62.0, 50.0, 78.0, 76.0, 68.0, 78.0, 86.0, 88.0, 74.0, 80.0, 94.0, 94.0, 70.0, 62.0, 70.0, 88.0, 78.0, 88.0, 72.0, 92.0, 74.0, 60.0], \"xaxis\": \"x\", \"yaxis\": \"y\"}, {\"alignmentgroup\": \"True\", \"bingroup\": \"x\", \"hoverlabel\": {\"namelength\": 0}, \"hovertemplate\": \"Outcome=0<br>BloodPressure=%{x}<br>count=%{y}\", \"legendgroup\": \"Outcome=0\", \"marker\": {\"color\": \"#EF553B\"}, \"name\": \"Outcome=0\", \"offsetgroup\": \"Outcome=0\", \"orientation\": \"v\", \"showlegend\": true, \"type\": \"histogram\", \"x\": [66.0, 66.0, 74.0, 69.10546875, 92.0, 80.0, 30.0, 88.0, 84.0, 66.0, 82.0, 92.0, 75.0, 58.0, 92.0, 78.0, 60.0, 76.0, 64.0, 84.0, 92.0, 64.0, 56.0, 70.0, 69.10546875, 80.0, 50.0, 66.0, 66.0, 50.0, 88.0, 82.0, 64.0, 69.10546875, 62.0, 58.0, 74.0, 92.0, 66.0, 85.0, 64.0, 86.0, 75.0, 48.0, 78.0, 72.0, 66.0, 44.0, 69.10546875, 78.0, 65.0, 74.0, 72.0, 68.0, 68.0, 55.0, 80.0, 78.0, 82.0, 72.0, 62.0, 48.0, 50.0, 60.0, 96.0, 72.0, 65.0, 56.0, 122.0, 58.0, 58.0, 76.0, 62.0, 48.0, 60.0, 76.0, 64.0, 74.0, 80.0, 70.0, 58.0, 74.0, 68.0, 60.0, 70.0, 60.0, 80.0, 72.0, 78.0, 82.0, 52.0, 62.0, 75.0, 80.0, 64.0, 78.0, 70.0, 74.0, 65.0, 82.0, 52.0, 56.0, 74.0, 90.0, 74.0, 80.0, 64.0, 66.0, 68.0, 66.0, 90.0, 69.10546875, 60.0, 64.0, 78.0, 78.0, 80.0, 64.0, 74.0, 60.0, 74.0, 62.0, 70.0, 55.0, 58.0, 80.0, 82.0, 68.0, 70.0, 72.0, 72.0, 64.0, 60.0, 85.0, 95.0, 68.0, 69.10546875, 60.0, 66.0, 78.0, 76.0, 70.0, 80.0, 80.0, 68.0, 68.0, 76.0, 64.0, 70.0, 76.0, 68.0, 90.0, 70.0, 86.0, 52.0, 84.0, 80.0, 68.0, 56.0, 68.0, 50.0, 68.0, 70.0, 80.0, 74.0, 64.0, 52.0, 62.0, 78.0, 78.0, 70.0, 70.0, 64.0, 74.0, 62.0, 76.0, 88.0, 74.0, 84.0, 56.0, 72.0, 88.0, 50.0, 62.0, 84.0, 72.0, 82.0, 76.0, 76.0, 68.0, 66.0, 70.0, 50.0, 68.0, 80.0, 66.0, 60.0, 75.0, 72.0, 70.0, 70.0, 72.0, 58.0, 80.0, 60.0, 76.0, 69.10546875, 70.0, 74.0, 68.0, 86.0, 72.0, 88.0, 46.0, 69.10546875, 62.0, 80.0, 84.0, 82.0, 62.0, 78.0, 74.0, 70.0, 108.0, 74.0, 54.0, 64.0, 86.0, 64.0, 64.0, 58.0, 52.0, 82.0, 60.0, 100.0, 72.0, 68.0, 60.0, 62.0, 70.0, 54.0, 68.0, 66.0, 64.0, 72.0, 58.0, 56.0, 70.0, 61.0, 78.0, 48.0, 62.0, 90.0, 72.0, 84.0, 74.0, 68.0, 68.0, 88.0, 68.0, 64.0, 64.0, 69.10546875, 94.0, 69.10546875, 74.0, 74.0, 75.0, 68.0, 85.0, 75.0, 70.0, 88.0, 66.0, 64.0, 72.0, 80.0, 74.0, 64.0, 68.0, 69.10546875, 54.0, 54.0, 68.0, 74.0, 72.0, 62.0, 70.0, 78.0, 98.0, 56.0, 52.0, 64.0, 78.0, 82.0, 70.0, 66.0, 90.0, 64.0, 84.0, 76.0, 74.0, 86.0, 88.0, 58.0, 82.0, 62.0, 78.0, 72.0, 80.0, 65.0, 90.0, 68.0, 69.10546875, 74.0, 68.0, 72.0, 74.0, 90.0, 72.0, 64.0, 78.0, 82.0, 60.0, 50.0, 78.0, 62.0, 68.0, 62.0, 54.0, 86.0, 60.0, 90.0, 70.0, 80.0, 69.10546875, 58.0, 60.0, 64.0, 74.0, 66.0, 65.0, 60.0, 76.0, 66.0, 69.10546875, 56.0, 90.0, 60.0, 80.0, 90.0, 78.0, 68.0, 82.0, 110.0, 70.0, 68.0, 88.0, 62.0, 64.0, 70.0, 70.0, 76.0, 68.0, 74.0, 68.0, 60.0, 80.0, 54.0, 72.0, 62.0, 72.0, 70.0, 96.0, 58.0, 60.0, 86.0, 44.0, 44.0, 68.0, 60.0, 78.0, 76.0, 56.0, 66.0, 69.10546875, 78.0, 52.0, 72.0, 76.0, 24.0, 38.0, 88.0, 69.10546875, 74.0, 60.0, 62.0, 82.0, 62.0, 54.0, 80.0, 72.0, 96.0, 62.0, 86.0, 76.0, 94.0, 70.0, 64.0, 88.0, 68.0, 78.0, 80.0, 65.0, 78.0, 60.0, 82.0, 62.0, 74.0, 76.0, 74.0, 86.0, 70.0, 69.10546875, 72.0, 74.0, 60.0, 54.0, 60.0, 74.0, 54.0, 70.0, 58.0, 80.0, 106.0, 84.0, 80.0, 58.0, 78.0, 68.0, 58.0, 106.0, 100.0, 82.0, 60.0, 58.0, 56.0, 64.0, 82.0, 74.0, 64.0, 50.0, 74.0, 80.0, 70.0, 60.0, 69.10546875, 88.0, 70.0, 76.0, 69.10546875, 76.0, 80.0, 46.0, 64.0, 78.0, 58.0, 74.0, 72.0, 60.0, 86.0, 66.0, 86.0, 94.0, 78.0, 78.0, 84.0, 88.0, 52.0, 56.0, 75.0, 60.0, 86.0, 72.0, 60.0, 44.0, 58.0, 88.0, 84.0, 74.0, 78.0, 62.0, 90.0, 76.0, 58.0, 62.0, 76.0, 70.0, 72.0, 70.0], \"xaxis\": \"x\", \"yaxis\": \"y\"}],\n",
              "                        {\"barmode\": \"relative\", \"legend\": {\"tracegroupgap\": 0}, \"margin\": {\"t\": 60}, \"template\": {\"data\": {\"bar\": [{\"error_x\": {\"color\": \"#2a3f5f\"}, \"error_y\": {\"color\": \"#2a3f5f\"}, \"marker\": {\"line\": {\"color\": \"#E5ECF6\", \"width\": 0.5}}, \"type\": \"bar\"}], \"barpolar\": [{\"marker\": {\"line\": {\"color\": \"#E5ECF6\", \"width\": 0.5}}, \"type\": \"barpolar\"}], \"carpet\": [{\"aaxis\": {\"endlinecolor\": \"#2a3f5f\", \"gridcolor\": \"white\", \"linecolor\": \"white\", \"minorgridcolor\": \"white\", \"startlinecolor\": \"#2a3f5f\"}, \"baxis\": {\"endlinecolor\": \"#2a3f5f\", \"gridcolor\": \"white\", \"linecolor\": \"white\", \"minorgridcolor\": \"white\", \"startlinecolor\": \"#2a3f5f\"}, \"type\": \"carpet\"}], \"choropleth\": [{\"colorbar\": {\"outlinewidth\": 0, \"ticks\": \"\"}, \"type\": \"choropleth\"}], \"contour\": [{\"colorbar\": {\"outlinewidth\": 0, \"ticks\": \"\"}, \"colorscale\": [[0.0, \"#0d0887\"], [0.1111111111111111, \"#46039f\"], [0.2222222222222222, \"#7201a8\"], [0.3333333333333333, \"#9c179e\"], [0.4444444444444444, \"#bd3786\"], [0.5555555555555556, \"#d8576b\"], [0.6666666666666666, \"#ed7953\"], [0.7777777777777778, \"#fb9f3a\"], [0.8888888888888888, \"#fdca26\"], [1.0, \"#f0f921\"]], \"type\": \"contour\"}], \"contourcarpet\": [{\"colorbar\": {\"outlinewidth\": 0, \"ticks\": \"\"}, \"type\": \"contourcarpet\"}], \"heatmap\": [{\"colorbar\": {\"outlinewidth\": 0, \"ticks\": \"\"}, \"colorscale\": [[0.0, \"#0d0887\"], [0.1111111111111111, \"#46039f\"], [0.2222222222222222, \"#7201a8\"], [0.3333333333333333, \"#9c179e\"], [0.4444444444444444, \"#bd3786\"], [0.5555555555555556, \"#d8576b\"], [0.6666666666666666, \"#ed7953\"], [0.7777777777777778, \"#fb9f3a\"], [0.8888888888888888, \"#fdca26\"], [1.0, \"#f0f921\"]], \"type\": \"heatmap\"}], \"heatmapgl\": [{\"colorbar\": {\"outlinewidth\": 0, \"ticks\": \"\"}, \"colorscale\": [[0.0, \"#0d0887\"], [0.1111111111111111, \"#46039f\"], [0.2222222222222222, \"#7201a8\"], [0.3333333333333333, \"#9c179e\"], [0.4444444444444444, \"#bd3786\"], [0.5555555555555556, \"#d8576b\"], [0.6666666666666666, \"#ed7953\"], [0.7777777777777778, \"#fb9f3a\"], [0.8888888888888888, \"#fdca26\"], [1.0, \"#f0f921\"]], \"type\": \"heatmapgl\"}], \"histogram\": [{\"marker\": {\"colorbar\": {\"outlinewidth\": 0, \"ticks\": \"\"}}, \"type\": \"histogram\"}], \"histogram2d\": [{\"colorbar\": {\"outlinewidth\": 0, \"ticks\": \"\"}, \"colorscale\": [[0.0, \"#0d0887\"], [0.1111111111111111, \"#46039f\"], [0.2222222222222222, \"#7201a8\"], [0.3333333333333333, \"#9c179e\"], [0.4444444444444444, \"#bd3786\"], [0.5555555555555556, \"#d8576b\"], [0.6666666666666666, \"#ed7953\"], [0.7777777777777778, \"#fb9f3a\"], [0.8888888888888888, \"#fdca26\"], [1.0, \"#f0f921\"]], \"type\": \"histogram2d\"}], \"histogram2dcontour\": [{\"colorbar\": {\"outlinewidth\": 0, \"ticks\": \"\"}, \"colorscale\": [[0.0, \"#0d0887\"], [0.1111111111111111, \"#46039f\"], [0.2222222222222222, \"#7201a8\"], [0.3333333333333333, \"#9c179e\"], [0.4444444444444444, \"#bd3786\"], [0.5555555555555556, \"#d8576b\"], [0.6666666666666666, \"#ed7953\"], [0.7777777777777778, \"#fb9f3a\"], [0.8888888888888888, \"#fdca26\"], [1.0, \"#f0f921\"]], \"type\": \"histogram2dcontour\"}], \"mesh3d\": [{\"colorbar\": {\"outlinewidth\": 0, \"ticks\": \"\"}, \"type\": \"mesh3d\"}], \"parcoords\": [{\"line\": {\"colorbar\": {\"outlinewidth\": 0, \"ticks\": \"\"}}, \"type\": \"parcoords\"}], \"pie\": [{\"automargin\": true, \"type\": \"pie\"}], \"scatter\": [{\"marker\": {\"colorbar\": {\"outlinewidth\": 0, \"ticks\": \"\"}}, \"type\": \"scatter\"}], \"scatter3d\": [{\"line\": {\"colorbar\": {\"outlinewidth\": 0, \"ticks\": \"\"}}, \"marker\": {\"colorbar\": {\"outlinewidth\": 0, \"ticks\": \"\"}}, \"type\": \"scatter3d\"}], \"scattercarpet\": [{\"marker\": {\"colorbar\": {\"outlinewidth\": 0, \"ticks\": \"\"}}, \"type\": \"scattercarpet\"}], \"scattergeo\": [{\"marker\": {\"colorbar\": {\"outlinewidth\": 0, \"ticks\": \"\"}}, \"type\": \"scattergeo\"}], \"scattergl\": [{\"marker\": {\"colorbar\": {\"outlinewidth\": 0, \"ticks\": \"\"}}, \"type\": \"scattergl\"}], \"scattermapbox\": [{\"marker\": {\"colorbar\": {\"outlinewidth\": 0, \"ticks\": \"\"}}, \"type\": \"scattermapbox\"}], \"scatterpolar\": [{\"marker\": {\"colorbar\": {\"outlinewidth\": 0, \"ticks\": \"\"}}, \"type\": \"scatterpolar\"}], \"scatterpolargl\": [{\"marker\": {\"colorbar\": {\"outlinewidth\": 0, \"ticks\": \"\"}}, \"type\": \"scatterpolargl\"}], \"scatterternary\": [{\"marker\": {\"colorbar\": {\"outlinewidth\": 0, \"ticks\": \"\"}}, \"type\": \"scatterternary\"}], \"surface\": [{\"colorbar\": {\"outlinewidth\": 0, \"ticks\": \"\"}, \"colorscale\": [[0.0, \"#0d0887\"], [0.1111111111111111, \"#46039f\"], [0.2222222222222222, \"#7201a8\"], [0.3333333333333333, \"#9c179e\"], [0.4444444444444444, \"#bd3786\"], [0.5555555555555556, \"#d8576b\"], [0.6666666666666666, \"#ed7953\"], [0.7777777777777778, \"#fb9f3a\"], [0.8888888888888888, \"#fdca26\"], [1.0, \"#f0f921\"]], \"type\": \"surface\"}], \"table\": [{\"cells\": {\"fill\": {\"color\": \"#EBF0F8\"}, \"line\": {\"color\": \"white\"}}, \"header\": {\"fill\": {\"color\": \"#C8D4E3\"}, \"line\": {\"color\": \"white\"}}, \"type\": \"table\"}]}, \"layout\": {\"annotationdefaults\": {\"arrowcolor\": \"#2a3f5f\", \"arrowhead\": 0, \"arrowwidth\": 1}, \"coloraxis\": {\"colorbar\": {\"outlinewidth\": 0, \"ticks\": \"\"}}, \"colorscale\": {\"diverging\": [[0, \"#8e0152\"], [0.1, \"#c51b7d\"], [0.2, \"#de77ae\"], [0.3, \"#f1b6da\"], [0.4, \"#fde0ef\"], [0.5, \"#f7f7f7\"], [0.6, \"#e6f5d0\"], [0.7, \"#b8e186\"], [0.8, \"#7fbc41\"], [0.9, \"#4d9221\"], [1, \"#276419\"]], \"sequential\": [[0.0, \"#0d0887\"], [0.1111111111111111, \"#46039f\"], [0.2222222222222222, \"#7201a8\"], [0.3333333333333333, \"#9c179e\"], [0.4444444444444444, \"#bd3786\"], [0.5555555555555556, \"#d8576b\"], [0.6666666666666666, \"#ed7953\"], [0.7777777777777778, \"#fb9f3a\"], [0.8888888888888888, \"#fdca26\"], [1.0, \"#f0f921\"]], \"sequentialminus\": [[0.0, \"#0d0887\"], [0.1111111111111111, \"#46039f\"], [0.2222222222222222, \"#7201a8\"], [0.3333333333333333, \"#9c179e\"], [0.4444444444444444, \"#bd3786\"], [0.5555555555555556, \"#d8576b\"], [0.6666666666666666, \"#ed7953\"], [0.7777777777777778, \"#fb9f3a\"], [0.8888888888888888, \"#fdca26\"], [1.0, \"#f0f921\"]]}, \"colorway\": [\"#636efa\", \"#EF553B\", \"#00cc96\", \"#ab63fa\", \"#FFA15A\", \"#19d3f3\", \"#FF6692\", \"#B6E880\", \"#FF97FF\", \"#FECB52\"], \"font\": {\"color\": \"#2a3f5f\"}, \"geo\": {\"bgcolor\": \"white\", \"lakecolor\": \"white\", \"landcolor\": \"#E5ECF6\", \"showlakes\": true, \"showland\": true, \"subunitcolor\": \"white\"}, \"hoverlabel\": {\"align\": \"left\"}, \"hovermode\": \"closest\", \"mapbox\": {\"style\": \"light\"}, \"paper_bgcolor\": \"white\", \"plot_bgcolor\": \"#E5ECF6\", \"polar\": {\"angularaxis\": {\"gridcolor\": \"white\", \"linecolor\": \"white\", \"ticks\": \"\"}, \"bgcolor\": \"#E5ECF6\", \"radialaxis\": {\"gridcolor\": \"white\", \"linecolor\": \"white\", \"ticks\": \"\"}}, \"scene\": {\"xaxis\": {\"backgroundcolor\": \"#E5ECF6\", \"gridcolor\": \"white\", \"gridwidth\": 2, \"linecolor\": \"white\", \"showbackground\": true, \"ticks\": \"\", \"zerolinecolor\": \"white\"}, \"yaxis\": {\"backgroundcolor\": \"#E5ECF6\", \"gridcolor\": \"white\", \"gridwidth\": 2, \"linecolor\": \"white\", \"showbackground\": true, \"ticks\": \"\", \"zerolinecolor\": \"white\"}, \"zaxis\": {\"backgroundcolor\": \"#E5ECF6\", \"gridcolor\": \"white\", \"gridwidth\": 2, \"linecolor\": \"white\", \"showbackground\": true, \"ticks\": \"\", \"zerolinecolor\": \"white\"}}, \"shapedefaults\": {\"line\": {\"color\": \"#2a3f5f\"}}, \"ternary\": {\"aaxis\": {\"gridcolor\": \"white\", \"linecolor\": \"white\", \"ticks\": \"\"}, \"baxis\": {\"gridcolor\": \"white\", \"linecolor\": \"white\", \"ticks\": \"\"}, \"bgcolor\": \"#E5ECF6\", \"caxis\": {\"gridcolor\": \"white\", \"linecolor\": \"white\", \"ticks\": \"\"}}, \"title\": {\"x\": 0.05}, \"xaxis\": {\"automargin\": true, \"gridcolor\": \"white\", \"linecolor\": \"white\", \"ticks\": \"\", \"title\": {\"standoff\": 15}, \"zerolinecolor\": \"white\", \"zerolinewidth\": 2}, \"yaxis\": {\"automargin\": true, \"gridcolor\": \"white\", \"linecolor\": \"white\", \"ticks\": \"\", \"title\": {\"standoff\": 15}, \"zerolinecolor\": \"white\", \"zerolinewidth\": 2}}}, \"xaxis\": {\"anchor\": \"y\", \"domain\": [0.0, 1.0], \"title\": {\"text\": \"BloodPressure\"}}, \"yaxis\": {\"anchor\": \"x\", \"domain\": [0.0, 1.0], \"title\": {\"text\": \"count\"}}},\n",
              "                        {\"responsive\": true}\n",
              "                    ).then(function(){\n",
              "                            \n",
              "var gd = document.getElementById('3c071182-946c-4668-8f15-4fb4c28286b0');\n",
              "var x = new MutationObserver(function (mutations, observer) {{\n",
              "        var display = window.getComputedStyle(gd).display;\n",
              "        if (!display || display === 'none') {{\n",
              "            console.log([gd, 'removed!']);\n",
              "            Plotly.purge(gd);\n",
              "            observer.disconnect();\n",
              "        }}\n",
              "}});\n",
              "\n",
              "// Listen for the removal of the full notebook cells\n",
              "var notebookContainer = gd.closest('#notebook-container');\n",
              "if (notebookContainer) {{\n",
              "    x.observe(notebookContainer, {childList: true});\n",
              "}}\n",
              "\n",
              "// Listen for the clearing of the current output cell\n",
              "var outputEl = gd.closest('.output');\n",
              "if (outputEl) {{\n",
              "    x.observe(outputEl, {childList: true});\n",
              "}}\n",
              "\n",
              "                        })\n",
              "                };\n",
              "                \n",
              "            </script>\n",
              "        </div>\n",
              "</body>\n",
              "</html>"
            ]
          },
          "metadata": {
            "tags": []
          }
        },
        {
          "output_type": "display_data",
          "data": {
            "text/html": [
              "<html>\n",
              "<head><meta charset=\"utf-8\" /></head>\n",
              "<body>\n",
              "    <div>\n",
              "            <script src=\"https://cdnjs.cloudflare.com/ajax/libs/mathjax/2.7.5/MathJax.js?config=TeX-AMS-MML_SVG\"></script><script type=\"text/javascript\">if (window.MathJax) {MathJax.Hub.Config({SVG: {font: \"STIX-Web\"}});}</script>\n",
              "                <script type=\"text/javascript\">window.PlotlyConfig = {MathJaxConfig: 'local'};</script>\n",
              "        <script src=\"https://cdn.plot.ly/plotly-latest.min.js\"></script>    \n",
              "            <div id=\"4286d5f3-832b-42e9-8be8-647e9662105a\" class=\"plotly-graph-div\" style=\"height:525px; width:100%;\"></div>\n",
              "            <script type=\"text/javascript\">\n",
              "                \n",
              "                    window.PLOTLYENV=window.PLOTLYENV || {};\n",
              "                    \n",
              "                if (document.getElementById(\"4286d5f3-832b-42e9-8be8-647e9662105a\")) {\n",
              "                    Plotly.newPlot(\n",
              "                        '4286d5f3-832b-42e9-8be8-647e9662105a',\n",
              "                        [{\"alignmentgroup\": \"True\", \"hoverlabel\": {\"namelength\": 0}, \"hovertemplate\": \"Outcome=1<br>BloodPressure=%{x}\", \"legendgroup\": \"Outcome=1\", \"marker\": {\"color\": \"#636efa\"}, \"name\": \"Outcome=1\", \"notched\": false, \"offsetgroup\": \"Outcome=1\", \"orientation\": \"v\", \"showlegend\": true, \"type\": \"box\", \"x\": [72.0, 64.0, 40.0, 50.0, 70.0, 96.0, 74.0, 60.0, 72.0, 69.10546875, 84.0, 74.0, 70.0, 90.0, 80.0, 94.0, 70.0, 76.0, 76.0, 76.0, 68.0, 72.0, 110.0, 66.0, 66.0, 90.0, 68.0, 72.0, 66.0, 88.0, 66.0, 90.0, 69.10546875, 108.0, 70.0, 72.0, 90.0, 72.0, 85.0, 72.0, 62.0, 54.0, 92.0, 74.0, 76.0, 76.0, 30.0, 88.0, 84.0, 70.0, 56.0, 64.0, 66.0, 86.0, 78.0, 88.0, 72.0, 88.0, 74.0, 82.0, 70.0, 72.0, 110.0, 82.0, 68.0, 68.0, 98.0, 76.0, 80.0, 66.0, 69.10546875, 84.0, 62.0, 64.0, 60.0, 76.0, 104.0, 84.0, 65.0, 82.0, 70.0, 62.0, 74.0, 66.0, 60.0, 90.0, 52.0, 86.0, 80.0, 72.0, 84.0, 90.0, 84.0, 54.0, 50.0, 85.0, 62.0, 64.0, 76.0, 69.10546875, 62.0, 69.10546875, 69.10546875, 86.0, 60.0, 70.0, 86.0, 80.0, 86.0, 62.0, 78.0, 48.0, 70.0, 78.0, 69.10546875, 58.0, 98.0, 68.0, 68.0, 68.0, 74.0, 80.0, 74.0, 78.0, 74.0, 70.0, 90.0, 64.0, 86.0, 69.10546875, 76.0, 78.0, 84.0, 80.0, 88.0, 50.0, 69.10546875, 76.0, 64.0, 78.0, 72.0, 102.0, 82.0, 82.0, 75.0, 74.0, 100.0, 82.0, 76.0, 78.0, 66.0, 70.0, 64.0, 84.0, 64.0, 72.0, 74.0, 68.0, 60.0, 84.0, 82.0, 64.0, 78.0, 78.0, 64.0, 82.0, 69.10546875, 104.0, 70.0, 62.0, 78.0, 64.0, 70.0, 62.0, 84.0, 69.10546875, 80.0, 70.0, 69.10546875, 68.0, 70.0, 70.0, 68.0, 90.0, 72.0, 70.0, 88.0, 70.0, 69.10546875, 92.0, 74.0, 72.0, 85.0, 90.0, 76.0, 76.0, 66.0, 66.0, 80.0, 70.0, 90.0, 76.0, 66.0, 86.0, 84.0, 80.0, 82.0, 74.0, 78.0, 69.10546875, 78.0, 58.0, 88.0, 74.0, 82.0, 69.10546875, 64.0, 72.0, 76.0, 80.0, 74.0, 50.0, 84.0, 52.0, 82.0, 76.0, 106.0, 80.0, 60.0, 82.0, 70.0, 70.0, 86.0, 52.0, 76.0, 80.0, 82.0, 114.0, 68.0, 90.0, 74.0, 78.0, 88.0, 69.10546875, 78.0, 64.0, 62.0, 50.0, 78.0, 76.0, 68.0, 78.0, 86.0, 88.0, 74.0, 80.0, 94.0, 94.0, 70.0, 62.0, 70.0, 88.0, 78.0, 88.0, 72.0, 92.0, 74.0, 60.0], \"x0\": \" \", \"xaxis\": \"x\", \"y0\": \" \", \"yaxis\": \"y\"}, {\"alignmentgroup\": \"True\", \"hoverlabel\": {\"namelength\": 0}, \"hovertemplate\": \"Outcome=0<br>BloodPressure=%{x}\", \"legendgroup\": \"Outcome=0\", \"marker\": {\"color\": \"#EF553B\"}, \"name\": \"Outcome=0\", \"notched\": false, \"offsetgroup\": \"Outcome=0\", \"orientation\": \"v\", \"showlegend\": true, \"type\": \"box\", \"x\": [66.0, 66.0, 74.0, 69.10546875, 92.0, 80.0, 30.0, 88.0, 84.0, 66.0, 82.0, 92.0, 75.0, 58.0, 92.0, 78.0, 60.0, 76.0, 64.0, 84.0, 92.0, 64.0, 56.0, 70.0, 69.10546875, 80.0, 50.0, 66.0, 66.0, 50.0, 88.0, 82.0, 64.0, 69.10546875, 62.0, 58.0, 74.0, 92.0, 66.0, 85.0, 64.0, 86.0, 75.0, 48.0, 78.0, 72.0, 66.0, 44.0, 69.10546875, 78.0, 65.0, 74.0, 72.0, 68.0, 68.0, 55.0, 80.0, 78.0, 82.0, 72.0, 62.0, 48.0, 50.0, 60.0, 96.0, 72.0, 65.0, 56.0, 122.0, 58.0, 58.0, 76.0, 62.0, 48.0, 60.0, 76.0, 64.0, 74.0, 80.0, 70.0, 58.0, 74.0, 68.0, 60.0, 70.0, 60.0, 80.0, 72.0, 78.0, 82.0, 52.0, 62.0, 75.0, 80.0, 64.0, 78.0, 70.0, 74.0, 65.0, 82.0, 52.0, 56.0, 74.0, 90.0, 74.0, 80.0, 64.0, 66.0, 68.0, 66.0, 90.0, 69.10546875, 60.0, 64.0, 78.0, 78.0, 80.0, 64.0, 74.0, 60.0, 74.0, 62.0, 70.0, 55.0, 58.0, 80.0, 82.0, 68.0, 70.0, 72.0, 72.0, 64.0, 60.0, 85.0, 95.0, 68.0, 69.10546875, 60.0, 66.0, 78.0, 76.0, 70.0, 80.0, 80.0, 68.0, 68.0, 76.0, 64.0, 70.0, 76.0, 68.0, 90.0, 70.0, 86.0, 52.0, 84.0, 80.0, 68.0, 56.0, 68.0, 50.0, 68.0, 70.0, 80.0, 74.0, 64.0, 52.0, 62.0, 78.0, 78.0, 70.0, 70.0, 64.0, 74.0, 62.0, 76.0, 88.0, 74.0, 84.0, 56.0, 72.0, 88.0, 50.0, 62.0, 84.0, 72.0, 82.0, 76.0, 76.0, 68.0, 66.0, 70.0, 50.0, 68.0, 80.0, 66.0, 60.0, 75.0, 72.0, 70.0, 70.0, 72.0, 58.0, 80.0, 60.0, 76.0, 69.10546875, 70.0, 74.0, 68.0, 86.0, 72.0, 88.0, 46.0, 69.10546875, 62.0, 80.0, 84.0, 82.0, 62.0, 78.0, 74.0, 70.0, 108.0, 74.0, 54.0, 64.0, 86.0, 64.0, 64.0, 58.0, 52.0, 82.0, 60.0, 100.0, 72.0, 68.0, 60.0, 62.0, 70.0, 54.0, 68.0, 66.0, 64.0, 72.0, 58.0, 56.0, 70.0, 61.0, 78.0, 48.0, 62.0, 90.0, 72.0, 84.0, 74.0, 68.0, 68.0, 88.0, 68.0, 64.0, 64.0, 69.10546875, 94.0, 69.10546875, 74.0, 74.0, 75.0, 68.0, 85.0, 75.0, 70.0, 88.0, 66.0, 64.0, 72.0, 80.0, 74.0, 64.0, 68.0, 69.10546875, 54.0, 54.0, 68.0, 74.0, 72.0, 62.0, 70.0, 78.0, 98.0, 56.0, 52.0, 64.0, 78.0, 82.0, 70.0, 66.0, 90.0, 64.0, 84.0, 76.0, 74.0, 86.0, 88.0, 58.0, 82.0, 62.0, 78.0, 72.0, 80.0, 65.0, 90.0, 68.0, 69.10546875, 74.0, 68.0, 72.0, 74.0, 90.0, 72.0, 64.0, 78.0, 82.0, 60.0, 50.0, 78.0, 62.0, 68.0, 62.0, 54.0, 86.0, 60.0, 90.0, 70.0, 80.0, 69.10546875, 58.0, 60.0, 64.0, 74.0, 66.0, 65.0, 60.0, 76.0, 66.0, 69.10546875, 56.0, 90.0, 60.0, 80.0, 90.0, 78.0, 68.0, 82.0, 110.0, 70.0, 68.0, 88.0, 62.0, 64.0, 70.0, 70.0, 76.0, 68.0, 74.0, 68.0, 60.0, 80.0, 54.0, 72.0, 62.0, 72.0, 70.0, 96.0, 58.0, 60.0, 86.0, 44.0, 44.0, 68.0, 60.0, 78.0, 76.0, 56.0, 66.0, 69.10546875, 78.0, 52.0, 72.0, 76.0, 24.0, 38.0, 88.0, 69.10546875, 74.0, 60.0, 62.0, 82.0, 62.0, 54.0, 80.0, 72.0, 96.0, 62.0, 86.0, 76.0, 94.0, 70.0, 64.0, 88.0, 68.0, 78.0, 80.0, 65.0, 78.0, 60.0, 82.0, 62.0, 74.0, 76.0, 74.0, 86.0, 70.0, 69.10546875, 72.0, 74.0, 60.0, 54.0, 60.0, 74.0, 54.0, 70.0, 58.0, 80.0, 106.0, 84.0, 80.0, 58.0, 78.0, 68.0, 58.0, 106.0, 100.0, 82.0, 60.0, 58.0, 56.0, 64.0, 82.0, 74.0, 64.0, 50.0, 74.0, 80.0, 70.0, 60.0, 69.10546875, 88.0, 70.0, 76.0, 69.10546875, 76.0, 80.0, 46.0, 64.0, 78.0, 58.0, 74.0, 72.0, 60.0, 86.0, 66.0, 86.0, 94.0, 78.0, 78.0, 84.0, 88.0, 52.0, 56.0, 75.0, 60.0, 86.0, 72.0, 60.0, 44.0, 58.0, 88.0, 84.0, 74.0, 78.0, 62.0, 90.0, 76.0, 58.0, 62.0, 76.0, 70.0, 72.0, 70.0], \"x0\": \" \", \"xaxis\": \"x\", \"y0\": \" \", \"yaxis\": \"y\"}],\n",
              "                        {\"boxmode\": \"group\", \"legend\": {\"tracegroupgap\": 0}, \"margin\": {\"t\": 60}, \"template\": {\"data\": {\"bar\": [{\"error_x\": {\"color\": \"#2a3f5f\"}, \"error_y\": {\"color\": \"#2a3f5f\"}, \"marker\": {\"line\": {\"color\": \"#E5ECF6\", \"width\": 0.5}}, \"type\": \"bar\"}], \"barpolar\": [{\"marker\": {\"line\": {\"color\": \"#E5ECF6\", \"width\": 0.5}}, \"type\": \"barpolar\"}], \"carpet\": [{\"aaxis\": {\"endlinecolor\": \"#2a3f5f\", \"gridcolor\": \"white\", \"linecolor\": \"white\", \"minorgridcolor\": \"white\", \"startlinecolor\": \"#2a3f5f\"}, \"baxis\": {\"endlinecolor\": \"#2a3f5f\", \"gridcolor\": \"white\", \"linecolor\": \"white\", \"minorgridcolor\": \"white\", \"startlinecolor\": \"#2a3f5f\"}, \"type\": \"carpet\"}], \"choropleth\": [{\"colorbar\": {\"outlinewidth\": 0, \"ticks\": \"\"}, \"type\": \"choropleth\"}], \"contour\": [{\"colorbar\": {\"outlinewidth\": 0, \"ticks\": \"\"}, \"colorscale\": [[0.0, \"#0d0887\"], [0.1111111111111111, \"#46039f\"], [0.2222222222222222, \"#7201a8\"], [0.3333333333333333, \"#9c179e\"], [0.4444444444444444, \"#bd3786\"], [0.5555555555555556, \"#d8576b\"], [0.6666666666666666, \"#ed7953\"], [0.7777777777777778, \"#fb9f3a\"], [0.8888888888888888, \"#fdca26\"], [1.0, \"#f0f921\"]], \"type\": \"contour\"}], \"contourcarpet\": [{\"colorbar\": {\"outlinewidth\": 0, \"ticks\": \"\"}, \"type\": \"contourcarpet\"}], \"heatmap\": [{\"colorbar\": {\"outlinewidth\": 0, \"ticks\": \"\"}, \"colorscale\": [[0.0, \"#0d0887\"], [0.1111111111111111, \"#46039f\"], [0.2222222222222222, \"#7201a8\"], [0.3333333333333333, \"#9c179e\"], [0.4444444444444444, \"#bd3786\"], [0.5555555555555556, \"#d8576b\"], [0.6666666666666666, \"#ed7953\"], [0.7777777777777778, \"#fb9f3a\"], [0.8888888888888888, \"#fdca26\"], [1.0, \"#f0f921\"]], \"type\": \"heatmap\"}], \"heatmapgl\": [{\"colorbar\": {\"outlinewidth\": 0, \"ticks\": \"\"}, \"colorscale\": [[0.0, \"#0d0887\"], [0.1111111111111111, \"#46039f\"], [0.2222222222222222, \"#7201a8\"], [0.3333333333333333, \"#9c179e\"], [0.4444444444444444, \"#bd3786\"], [0.5555555555555556, \"#d8576b\"], [0.6666666666666666, \"#ed7953\"], [0.7777777777777778, \"#fb9f3a\"], [0.8888888888888888, \"#fdca26\"], [1.0, \"#f0f921\"]], \"type\": \"heatmapgl\"}], \"histogram\": [{\"marker\": {\"colorbar\": {\"outlinewidth\": 0, \"ticks\": \"\"}}, \"type\": \"histogram\"}], \"histogram2d\": [{\"colorbar\": {\"outlinewidth\": 0, \"ticks\": \"\"}, \"colorscale\": [[0.0, \"#0d0887\"], [0.1111111111111111, \"#46039f\"], [0.2222222222222222, \"#7201a8\"], [0.3333333333333333, \"#9c179e\"], [0.4444444444444444, \"#bd3786\"], [0.5555555555555556, \"#d8576b\"], [0.6666666666666666, \"#ed7953\"], [0.7777777777777778, \"#fb9f3a\"], [0.8888888888888888, \"#fdca26\"], [1.0, \"#f0f921\"]], \"type\": \"histogram2d\"}], \"histogram2dcontour\": [{\"colorbar\": {\"outlinewidth\": 0, \"ticks\": \"\"}, \"colorscale\": [[0.0, \"#0d0887\"], [0.1111111111111111, \"#46039f\"], [0.2222222222222222, \"#7201a8\"], [0.3333333333333333, \"#9c179e\"], [0.4444444444444444, \"#bd3786\"], [0.5555555555555556, \"#d8576b\"], [0.6666666666666666, \"#ed7953\"], [0.7777777777777778, \"#fb9f3a\"], [0.8888888888888888, \"#fdca26\"], [1.0, \"#f0f921\"]], \"type\": \"histogram2dcontour\"}], \"mesh3d\": [{\"colorbar\": {\"outlinewidth\": 0, \"ticks\": \"\"}, \"type\": \"mesh3d\"}], \"parcoords\": [{\"line\": {\"colorbar\": {\"outlinewidth\": 0, \"ticks\": \"\"}}, \"type\": \"parcoords\"}], \"pie\": [{\"automargin\": true, \"type\": \"pie\"}], \"scatter\": [{\"marker\": {\"colorbar\": {\"outlinewidth\": 0, \"ticks\": \"\"}}, \"type\": \"scatter\"}], \"scatter3d\": [{\"line\": {\"colorbar\": {\"outlinewidth\": 0, \"ticks\": \"\"}}, \"marker\": {\"colorbar\": {\"outlinewidth\": 0, \"ticks\": \"\"}}, \"type\": \"scatter3d\"}], \"scattercarpet\": [{\"marker\": {\"colorbar\": {\"outlinewidth\": 0, \"ticks\": \"\"}}, \"type\": \"scattercarpet\"}], \"scattergeo\": [{\"marker\": {\"colorbar\": {\"outlinewidth\": 0, \"ticks\": \"\"}}, \"type\": \"scattergeo\"}], \"scattergl\": [{\"marker\": {\"colorbar\": {\"outlinewidth\": 0, \"ticks\": \"\"}}, \"type\": \"scattergl\"}], \"scattermapbox\": [{\"marker\": {\"colorbar\": {\"outlinewidth\": 0, \"ticks\": \"\"}}, \"type\": \"scattermapbox\"}], \"scatterpolar\": [{\"marker\": {\"colorbar\": {\"outlinewidth\": 0, \"ticks\": \"\"}}, \"type\": \"scatterpolar\"}], \"scatterpolargl\": [{\"marker\": {\"colorbar\": {\"outlinewidth\": 0, \"ticks\": \"\"}}, \"type\": \"scatterpolargl\"}], \"scatterternary\": [{\"marker\": {\"colorbar\": {\"outlinewidth\": 0, \"ticks\": \"\"}}, \"type\": \"scatterternary\"}], \"surface\": [{\"colorbar\": {\"outlinewidth\": 0, \"ticks\": \"\"}, \"colorscale\": [[0.0, \"#0d0887\"], [0.1111111111111111, \"#46039f\"], [0.2222222222222222, \"#7201a8\"], [0.3333333333333333, \"#9c179e\"], [0.4444444444444444, \"#bd3786\"], [0.5555555555555556, \"#d8576b\"], [0.6666666666666666, \"#ed7953\"], [0.7777777777777778, \"#fb9f3a\"], [0.8888888888888888, \"#fdca26\"], [1.0, \"#f0f921\"]], \"type\": \"surface\"}], \"table\": [{\"cells\": {\"fill\": {\"color\": \"#EBF0F8\"}, \"line\": {\"color\": \"white\"}}, \"header\": {\"fill\": {\"color\": \"#C8D4E3\"}, \"line\": {\"color\": \"white\"}}, \"type\": \"table\"}]}, \"layout\": {\"annotationdefaults\": {\"arrowcolor\": \"#2a3f5f\", \"arrowhead\": 0, \"arrowwidth\": 1}, \"coloraxis\": {\"colorbar\": {\"outlinewidth\": 0, \"ticks\": \"\"}}, \"colorscale\": {\"diverging\": [[0, \"#8e0152\"], [0.1, \"#c51b7d\"], [0.2, \"#de77ae\"], [0.3, \"#f1b6da\"], [0.4, \"#fde0ef\"], [0.5, \"#f7f7f7\"], [0.6, \"#e6f5d0\"], [0.7, \"#b8e186\"], [0.8, \"#7fbc41\"], [0.9, \"#4d9221\"], [1, \"#276419\"]], \"sequential\": [[0.0, \"#0d0887\"], [0.1111111111111111, \"#46039f\"], [0.2222222222222222, \"#7201a8\"], [0.3333333333333333, \"#9c179e\"], [0.4444444444444444, \"#bd3786\"], [0.5555555555555556, \"#d8576b\"], [0.6666666666666666, \"#ed7953\"], [0.7777777777777778, \"#fb9f3a\"], [0.8888888888888888, \"#fdca26\"], [1.0, \"#f0f921\"]], \"sequentialminus\": [[0.0, \"#0d0887\"], [0.1111111111111111, \"#46039f\"], [0.2222222222222222, \"#7201a8\"], [0.3333333333333333, \"#9c179e\"], [0.4444444444444444, \"#bd3786\"], [0.5555555555555556, \"#d8576b\"], [0.6666666666666666, \"#ed7953\"], [0.7777777777777778, \"#fb9f3a\"], [0.8888888888888888, \"#fdca26\"], [1.0, \"#f0f921\"]]}, \"colorway\": [\"#636efa\", \"#EF553B\", \"#00cc96\", \"#ab63fa\", \"#FFA15A\", \"#19d3f3\", \"#FF6692\", \"#B6E880\", \"#FF97FF\", \"#FECB52\"], \"font\": {\"color\": \"#2a3f5f\"}, \"geo\": {\"bgcolor\": \"white\", \"lakecolor\": \"white\", \"landcolor\": \"#E5ECF6\", \"showlakes\": true, \"showland\": true, \"subunitcolor\": \"white\"}, \"hoverlabel\": {\"align\": \"left\"}, \"hovermode\": \"closest\", \"mapbox\": {\"style\": \"light\"}, \"paper_bgcolor\": \"white\", \"plot_bgcolor\": \"#E5ECF6\", \"polar\": {\"angularaxis\": {\"gridcolor\": \"white\", \"linecolor\": \"white\", \"ticks\": \"\"}, \"bgcolor\": \"#E5ECF6\", \"radialaxis\": {\"gridcolor\": \"white\", \"linecolor\": \"white\", \"ticks\": \"\"}}, \"scene\": {\"xaxis\": {\"backgroundcolor\": \"#E5ECF6\", \"gridcolor\": \"white\", \"gridwidth\": 2, \"linecolor\": \"white\", \"showbackground\": true, \"ticks\": \"\", \"zerolinecolor\": \"white\"}, \"yaxis\": {\"backgroundcolor\": \"#E5ECF6\", \"gridcolor\": \"white\", \"gridwidth\": 2, \"linecolor\": \"white\", \"showbackground\": true, \"ticks\": \"\", \"zerolinecolor\": \"white\"}, \"zaxis\": {\"backgroundcolor\": \"#E5ECF6\", \"gridcolor\": \"white\", \"gridwidth\": 2, \"linecolor\": \"white\", \"showbackground\": true, \"ticks\": \"\", \"zerolinecolor\": \"white\"}}, \"shapedefaults\": {\"line\": {\"color\": \"#2a3f5f\"}}, \"ternary\": {\"aaxis\": {\"gridcolor\": \"white\", \"linecolor\": \"white\", \"ticks\": \"\"}, \"baxis\": {\"gridcolor\": \"white\", \"linecolor\": \"white\", \"ticks\": \"\"}, \"bgcolor\": \"#E5ECF6\", \"caxis\": {\"gridcolor\": \"white\", \"linecolor\": \"white\", \"ticks\": \"\"}}, \"title\": {\"x\": 0.05}, \"xaxis\": {\"automargin\": true, \"gridcolor\": \"white\", \"linecolor\": \"white\", \"ticks\": \"\", \"title\": {\"standoff\": 15}, \"zerolinecolor\": \"white\", \"zerolinewidth\": 2}, \"yaxis\": {\"automargin\": true, \"gridcolor\": \"white\", \"linecolor\": \"white\", \"ticks\": \"\", \"title\": {\"standoff\": 15}, \"zerolinecolor\": \"white\", \"zerolinewidth\": 2}}}, \"xaxis\": {\"anchor\": \"y\", \"domain\": [0.0, 1.0], \"title\": {\"text\": \"BloodPressure\"}}, \"yaxis\": {\"anchor\": \"x\", \"domain\": [0.0, 1.0]}},\n",
              "                        {\"responsive\": true}\n",
              "                    ).then(function(){\n",
              "                            \n",
              "var gd = document.getElementById('4286d5f3-832b-42e9-8be8-647e9662105a');\n",
              "var x = new MutationObserver(function (mutations, observer) {{\n",
              "        var display = window.getComputedStyle(gd).display;\n",
              "        if (!display || display === 'none') {{\n",
              "            console.log([gd, 'removed!']);\n",
              "            Plotly.purge(gd);\n",
              "            observer.disconnect();\n",
              "        }}\n",
              "}});\n",
              "\n",
              "// Listen for the removal of the full notebook cells\n",
              "var notebookContainer = gd.closest('#notebook-container');\n",
              "if (notebookContainer) {{\n",
              "    x.observe(notebookContainer, {childList: true});\n",
              "}}\n",
              "\n",
              "// Listen for the clearing of the current output cell\n",
              "var outputEl = gd.closest('.output');\n",
              "if (outputEl) {{\n",
              "    x.observe(outputEl, {childList: true});\n",
              "}}\n",
              "\n",
              "                        })\n",
              "                };\n",
              "                \n",
              "            </script>\n",
              "        </div>\n",
              "</body>\n",
              "</html>"
            ]
          },
          "metadata": {
            "tags": []
          }
        }
      ]
    },
    {
      "cell_type": "markdown",
      "metadata": {
        "papermill": {
          "duration": 0.057907,
          "end_time": "2021-07-22T14:33:29.104326",
          "exception": false,
          "start_time": "2021-07-22T14:33:29.046419",
          "status": "completed"
        },
        "tags": [],
        "id": "2ab16bb1"
      },
      "source": [
        "### we can seee that the probabilty of diabetes is higher when Blood pressure is high."
      ]
    },
    {
      "cell_type": "markdown",
      "metadata": {
        "papermill": {
          "duration": 0.058312,
          "end_time": "2021-07-22T14:33:29.220839",
          "exception": false,
          "start_time": "2021-07-22T14:33:29.162527",
          "status": "completed"
        },
        "tags": [],
        "id": "97aea469"
      },
      "source": [
        "\n",
        "\n",
        "<p style=\"font-family: Arials; line-height: 1.3; font-size: 23px; font-weight: bold; letter-spacing: 2px; text-align: left; color: #23527c\">Let's look at how the SkinThickness affect the chances if being Diabetic</p>"
      ]
    },
    {
      "cell_type": "code",
      "metadata": {
        "execution": {
          "iopub.execute_input": "2021-07-22T14:33:29.359601Z",
          "iopub.status.busy": "2021-07-22T14:33:29.355331Z",
          "iopub.status.idle": "2021-07-22T14:33:29.502006Z",
          "shell.execute_reply": "2021-07-22T14:33:29.501410Z",
          "shell.execute_reply.started": "2021-07-17T18:13:35.431074Z"
        },
        "papermill": {
          "duration": 0.221816,
          "end_time": "2021-07-22T14:33:29.502151",
          "exception": false,
          "start_time": "2021-07-22T14:33:29.280335",
          "status": "completed"
        },
        "tags": [],
        "id": "af671ed3",
        "colab": {
          "base_uri": "https://localhost:8080/",
          "height": 1000
        },
        "outputId": "a4017ed7-5f19-43e7-b461-f0fb794d8c7e"
      },
      "source": [
        "#SkinThickness vs Outcome\n",
        "fig = px.histogram(data, x = data['SkinThickness'], color = 'Outcome')\n",
        "fig.show()\n",
        "fig2 = px.box(data, x = data['SkinThickness'], color = 'Outcome')\n",
        "fig2.show()"
      ],
      "execution_count": 13,
      "outputs": [
        {
          "output_type": "display_data",
          "data": {
            "text/html": [
              "<html>\n",
              "<head><meta charset=\"utf-8\" /></head>\n",
              "<body>\n",
              "    <div>\n",
              "            <script src=\"https://cdnjs.cloudflare.com/ajax/libs/mathjax/2.7.5/MathJax.js?config=TeX-AMS-MML_SVG\"></script><script type=\"text/javascript\">if (window.MathJax) {MathJax.Hub.Config({SVG: {font: \"STIX-Web\"}});}</script>\n",
              "                <script type=\"text/javascript\">window.PlotlyConfig = {MathJaxConfig: 'local'};</script>\n",
              "        <script src=\"https://cdn.plot.ly/plotly-latest.min.js\"></script>    \n",
              "            <div id=\"adf186bf-ff58-4a19-9079-b4e8f85d8e43\" class=\"plotly-graph-div\" style=\"height:525px; width:100%;\"></div>\n",
              "            <script type=\"text/javascript\">\n",
              "                \n",
              "                    window.PLOTLYENV=window.PLOTLYENV || {};\n",
              "                    \n",
              "                if (document.getElementById(\"adf186bf-ff58-4a19-9079-b4e8f85d8e43\")) {\n",
              "                    Plotly.newPlot(\n",
              "                        'adf186bf-ff58-4a19-9079-b4e8f85d8e43',\n",
              "                        [{\"alignmentgroup\": \"True\", \"bingroup\": \"x\", \"hoverlabel\": {\"namelength\": 0}, \"hovertemplate\": \"Outcome=1<br>SkinThickness=%{x}<br>count=%{y}\", \"legendgroup\": \"Outcome=1\", \"marker\": {\"color\": \"#636efa\"}, \"name\": \"Outcome=1\", \"offsetgroup\": \"Outcome=1\", \"orientation\": \"v\", \"showlegend\": true, \"type\": \"histogram\", \"x\": [35.0, 20.536458333333332, 35.0, 32.0, 45.0, 20.536458333333332, 20.536458333333332, 23.0, 19.0, 20.536458333333332, 47.0, 20.536458333333332, 30.0, 20.536458333333332, 35.0, 33.0, 26.0, 20.536458333333332, 36.0, 37.0, 42.0, 47.0, 24.0, 39.0, 32.0, 34.0, 39.0, 20.536458333333332, 20.536458333333332, 30.0, 20.0, 20.536458333333332, 20.536458333333332, 20.536458333333332, 32.0, 20.536458333333332, 51.0, 20.536458333333332, 25.0, 33.0, 26.0, 32.0, 20.536458333333332, 20.536458333333332, 56.0, 20.536458333333332, 42.0, 24.0, 20.536458333333332, 14.0, 20.536458333333332, 37.0, 20.536458333333332, 28.0, 20.536458333333332, 44.0, 41.0, 20.536458333333332, 18.0, 20.536458333333332, 23.0, 42.0, 46.0, 20.536458333333332, 28.0, 36.0, 41.0, 39.0, 35.0, 20.536458333333332, 20.536458333333332, 41.0, 13.0, 44.0, 27.0, 29.0, 20.536458333333332, 33.0, 26.0, 32.0, 40.0, 41.0, 22.0, 20.536458333333332, 29.0, 20.536458333333332, 38.0, 20.536458333333332, 37.0, 20.536458333333332, 21.0, 27.0, 21.0, 20.536458333333332, 22.0, 15.0, 7.0, 35.0, 28.0, 20.536458333333332, 20.536458333333332, 20.536458333333332, 20.536458333333332, 37.0, 24.0, 20.536458333333332, 20.536458333333332, 20.536458333333332, 39.0, 30.0, 37.0, 45.0, 38.0, 25.0, 20.536458333333332, 33.0, 20.536458333333332, 23.0, 19.0, 28.0, 17.0, 31.0, 20.536458333333332, 20.536458333333332, 30.0, 20.0, 33.0, 32.0, 36.0, 20.536458333333332, 20.536458333333332, 34.0, 20.536458333333332, 32.0, 20.536458333333332, 40.0, 30.0, 36.0, 33.0, 20.536458333333332, 20.536458333333332, 28.0, 48.0, 43.0, 20.536458333333332, 29.0, 36.0, 26.0, 20.536458333333332, 20.536458333333332, 40.0, 31.0, 20.536458333333332, 41.0, 20.536458333333332, 20.536458333333332, 20.536458333333332, 49.0, 35.0, 33.0, 32.0, 29.0, 32.0, 39.0, 30.0, 25.0, 20.536458333333332, 25.0, 20.536458333333332, 12.0, 63.0, 37.0, 20.536458333333332, 30.0, 48.0, 20.536458333333332, 45.0, 30.0, 20.536458333333332, 42.0, 18.0, 33.0, 41.0, 26.0, 31.0, 18.0, 34.0, 20.536458333333332, 20.536458333333332, 49.0, 40.0, 25.0, 32.0, 35.0, 27.0, 20.536458333333332, 32.0, 30.0, 20.536458333333332, 99.0, 46.0, 24.0, 20.536458333333332, 27.0, 40.0, 20.536458333333332, 14.0, 20.536458333333332, 29.0, 20.536458333333332, 42.0, 22.0, 42.0, 26.0, 24.0, 20.536458333333332, 20.536458333333332, 20.536458333333332, 32.0, 20.536458333333332, 17.0, 36.0, 35.0, 27.0, 31.0, 43.0, 46.0, 46.0, 39.0, 18.0, 27.0, 20.536458333333332, 20.536458333333332, 20.536458333333332, 36.0, 20.536458333333332, 46.0, 20.536458333333332, 49.0, 24.0, 19.0, 31.0, 29.0, 20.536458333333332, 20.536458333333332, 32.0, 36.0, 33.0, 39.0, 27.0, 29.0, 23.0, 20.536458333333332, 37.0, 20.536458333333332, 37.0, 20.536458333333332, 41.0, 22.0, 20.536458333333332, 20.536458333333332, 44.0, 32.0, 39.0, 20.536458333333332, 20.536458333333332, 31.0, 20.536458333333332], \"xaxis\": \"x\", \"yaxis\": \"y\"}, {\"alignmentgroup\": \"True\", \"bingroup\": \"x\", \"hoverlabel\": {\"namelength\": 0}, \"hovertemplate\": \"Outcome=0<br>SkinThickness=%{x}<br>count=%{y}\", \"legendgroup\": \"Outcome=0\", \"marker\": {\"color\": \"#EF553B\"}, \"name\": \"Outcome=0\", \"offsetgroup\": \"Outcome=0\", \"orientation\": \"v\", \"showlegend\": true, \"type\": \"histogram\", \"x\": [29.0, 23.0, 20.536458333333332, 20.536458333333332, 20.536458333333332, 20.536458333333332, 38.0, 41.0, 20.536458333333332, 15.0, 19.0, 20.536458333333332, 26.0, 11.0, 20.536458333333332, 31.0, 33.0, 20.536458333333332, 25.0, 20.536458333333332, 18.0, 20.536458333333332, 20.536458333333332, 27.0, 20.536458333333332, 11.0, 15.0, 21.0, 42.0, 10.0, 60.0, 20.536458333333332, 41.0, 20.536458333333332, 20.536458333333332, 34.0, 27.0, 20.536458333333332, 13.0, 27.0, 35.0, 20.0, 30.0, 20.0, 20.536458333333332, 33.0, 22.0, 13.0, 20.536458333333332, 26.0, 28.0, 29.0, 54.0, 25.0, 19.0, 20.536458333333332, 15.0, 40.0, 18.0, 27.0, 28.0, 18.0, 30.0, 20.536458333333332, 20.536458333333332, 18.0, 20.536458333333332, 29.0, 20.536458333333332, 28.0, 31.0, 34.0, 20.536458333333332, 20.536458333333332, 23.0, 15.0, 39.0, 30.0, 20.536458333333332, 30.0, 36.0, 31.0, 13.0, 20.0, 26.0, 25.0, 20.536458333333332, 29.0, 20.536458333333332, 30.0, 26.0, 31.0, 23.0, 37.0, 35.0, 20.536458333333332, 17.0, 50.0, 20.536458333333332, 42.0, 15.0, 21.0, 19.0, 38.0, 40.0, 34.0, 23.0, 25.0, 20.536458333333332, 20.536458333333332, 12.0, 23.0, 42.0, 24.0, 20.536458333333332, 20.536458333333332, 20.536458333333332, 18.0, 20.0, 20.536458333333332, 20.536458333333332, 20.536458333333332, 44.0, 20.0, 20.536458333333332, 16.0, 20.536458333333332, 20.0, 16.0, 32.0, 28.0, 27.0, 22.0, 54.0, 31.0, 30.0, 20.536458333333332, 33.0, 15.0, 27.0, 20.536458333333332, 39.0, 31.0, 25.0, 20.536458333333332, 28.0, 20.536458333333332, 24.0, 32.0, 35.0, 20.536458333333332, 33.0, 33.0, 19.0, 20.536458333333332, 20.536458333333332, 14.0, 32.0, 39.0, 22.0, 16.0, 15.0, 32.0, 15.0, 18.0, 42.0, 20.536458333333332, 32.0, 20.536458333333332, 50.0, 20.536458333333332, 52.0, 23.0, 20.536458333333332, 10.0, 28.0, 15.0, 26.0, 44.0, 17.0, 43.0, 29.0, 20.536458333333332, 31.0, 29.0, 20.536458333333332, 41.0, 20.536458333333332, 37.0, 14.0, 30.0, 37.0, 10.0, 22.0, 11.0, 39.0, 12.0, 32.0, 21.0, 20.536458333333332, 32.0, 19.0, 16.0, 20.536458333333332, 18.0, 43.0, 20.536458333333332, 13.0, 21.0, 35.0, 20.536458333333332, 20.536458333333332, 36.0, 19.0, 20.536458333333332, 19.0, 20.536458333333332, 20.536458333333332, 28.0, 12.0, 20.536458333333332, 40.0, 20.536458333333332, 37.0, 25.0, 28.0, 17.0, 16.0, 23.0, 22.0, 40.0, 43.0, 15.0, 37.0, 39.0, 30.0, 22.0, 8.0, 18.0, 24.0, 13.0, 23.0, 29.0, 14.0, 12.0, 24.0, 34.0, 20.536458333333332, 20.536458333333332, 25.0, 32.0, 20.536458333333332, 39.0, 30.0, 23.0, 22.0, 21.0, 20.536458333333332, 41.0, 18.0, 46.0, 22.0, 20.536458333333332, 46.0, 20.536458333333332, 16.0, 11.0, 20.536458333333332, 8.0, 33.0, 20.536458333333332, 15.0, 20.536458333333332, 23.0, 27.0, 12.0, 45.0, 18.0, 13.0, 32.0, 20.536458333333332, 28.0, 20.536458333333332, 28.0, 33.0, 22.0, 20.536458333333332, 40.0, 30.0, 20.536458333333332, 13.0, 10.0, 36.0, 41.0, 40.0, 38.0, 27.0, 20.536458333333332, 20.536458333333332, 27.0, 17.0, 38.0, 31.0, 37.0, 22.0, 31.0, 41.0, 32.0, 17.0, 20.536458333333332, 28.0, 30.0, 38.0, 20.536458333333332, 20.536458333333332, 20.536458333333332, 15.0, 32.0, 19.0, 32.0, 25.0, 39.0, 20.536458333333332, 23.0, 23.0, 20.536458333333332, 17.0, 20.536458333333332, 20.536458333333332, 19.0, 20.536458333333332, 20.536458333333332, 7.0, 32.0, 33.0, 20.536458333333332, 20.536458333333332, 18.0, 19.0, 15.0, 31.0, 20.536458333333332, 18.0, 20.536458333333332, 52.0, 20.536458333333332, 30.0, 20.536458333333332, 20.536458333333332, 37.0, 23.0, 29.0, 21.0, 43.0, 31.0, 28.0, 30.0, 20.536458333333332, 24.0, 23.0, 33.0, 40.0, 20.536458333333332, 40.0, 20.536458333333332, 34.0, 19.0, 20.536458333333332, 14.0, 30.0, 32.0, 29.0, 20.536458333333332, 20.536458333333332, 31.0, 17.0, 30.0, 47.0, 20.0, 20.536458333333332, 27.0, 17.0, 20.536458333333332, 11.0, 20.536458333333332, 20.536458333333332, 50.0, 22.0, 45.0, 20.536458333333332, 19.0, 18.0, 19.0, 20.536458333333332, 36.0, 32.0, 25.0, 39.0, 13.0, 21.0, 28.0, 20.536458333333332, 20.536458333333332, 13.0, 42.0, 20.0, 20.536458333333332, 27.0, 20.536458333333332, 47.0, 20.536458333333332, 20.536458333333332, 20.536458333333332, 22.0, 40.0, 20.536458333333332, 17.0, 20.536458333333332, 20.536458333333332, 18.0, 12.0, 17.0, 20.536458333333332, 20.536458333333332, 30.0, 35.0, 25.0, 25.0, 23.0, 40.0, 20.536458333333332, 28.0, 35.0, 48.0, 20.536458333333332, 20.536458333333332, 45.0, 33.0, 30.0, 26.0, 10.0, 23.0, 35.0, 20.536458333333332, 20.536458333333332, 17.0, 28.0, 39.0, 20.536458333333332, 26.0, 20.536458333333332, 19.0, 26.0, 20.536458333333332, 32.0, 20.536458333333332, 20.536458333333332, 11.0, 20.536458333333332, 27.0, 20.536458333333332, 20.0, 36.0, 21.0, 13.0, 27.0, 20.0, 20.536458333333332, 18.0, 46.0, 19.0, 36.0, 30.0, 20.536458333333332, 40.0, 29.0, 26.0, 20.536458333333332, 20.536458333333332, 27.0, 20.536458333333332, 32.0, 27.0, 23.0, 17.0, 20.0, 18.0, 37.0, 33.0, 41.0, 39.0, 24.0, 41.0, 20.536458333333332, 26.0, 20.536458333333332, 48.0, 27.0, 23.0, 31.0], \"xaxis\": \"x\", \"yaxis\": \"y\"}],\n",
              "                        {\"barmode\": \"relative\", \"legend\": {\"tracegroupgap\": 0}, \"margin\": {\"t\": 60}, \"template\": {\"data\": {\"bar\": [{\"error_x\": {\"color\": \"#2a3f5f\"}, \"error_y\": {\"color\": \"#2a3f5f\"}, \"marker\": {\"line\": {\"color\": \"#E5ECF6\", \"width\": 0.5}}, \"type\": \"bar\"}], \"barpolar\": [{\"marker\": {\"line\": {\"color\": \"#E5ECF6\", \"width\": 0.5}}, \"type\": \"barpolar\"}], \"carpet\": [{\"aaxis\": {\"endlinecolor\": \"#2a3f5f\", \"gridcolor\": \"white\", \"linecolor\": \"white\", \"minorgridcolor\": \"white\", \"startlinecolor\": \"#2a3f5f\"}, \"baxis\": {\"endlinecolor\": \"#2a3f5f\", \"gridcolor\": \"white\", \"linecolor\": \"white\", \"minorgridcolor\": \"white\", \"startlinecolor\": \"#2a3f5f\"}, \"type\": \"carpet\"}], \"choropleth\": [{\"colorbar\": {\"outlinewidth\": 0, \"ticks\": \"\"}, \"type\": \"choropleth\"}], \"contour\": [{\"colorbar\": {\"outlinewidth\": 0, \"ticks\": \"\"}, \"colorscale\": [[0.0, \"#0d0887\"], [0.1111111111111111, \"#46039f\"], [0.2222222222222222, \"#7201a8\"], [0.3333333333333333, \"#9c179e\"], [0.4444444444444444, \"#bd3786\"], [0.5555555555555556, \"#d8576b\"], [0.6666666666666666, \"#ed7953\"], [0.7777777777777778, \"#fb9f3a\"], [0.8888888888888888, \"#fdca26\"], [1.0, \"#f0f921\"]], \"type\": \"contour\"}], \"contourcarpet\": [{\"colorbar\": {\"outlinewidth\": 0, \"ticks\": \"\"}, \"type\": \"contourcarpet\"}], \"heatmap\": [{\"colorbar\": {\"outlinewidth\": 0, \"ticks\": \"\"}, \"colorscale\": [[0.0, \"#0d0887\"], [0.1111111111111111, \"#46039f\"], [0.2222222222222222, \"#7201a8\"], [0.3333333333333333, \"#9c179e\"], [0.4444444444444444, \"#bd3786\"], [0.5555555555555556, \"#d8576b\"], [0.6666666666666666, \"#ed7953\"], [0.7777777777777778, \"#fb9f3a\"], [0.8888888888888888, \"#fdca26\"], [1.0, \"#f0f921\"]], \"type\": \"heatmap\"}], \"heatmapgl\": [{\"colorbar\": {\"outlinewidth\": 0, \"ticks\": \"\"}, \"colorscale\": [[0.0, \"#0d0887\"], [0.1111111111111111, \"#46039f\"], [0.2222222222222222, \"#7201a8\"], [0.3333333333333333, \"#9c179e\"], [0.4444444444444444, \"#bd3786\"], [0.5555555555555556, \"#d8576b\"], [0.6666666666666666, \"#ed7953\"], [0.7777777777777778, \"#fb9f3a\"], [0.8888888888888888, \"#fdca26\"], [1.0, \"#f0f921\"]], \"type\": \"heatmapgl\"}], \"histogram\": [{\"marker\": {\"colorbar\": {\"outlinewidth\": 0, \"ticks\": \"\"}}, \"type\": \"histogram\"}], \"histogram2d\": [{\"colorbar\": {\"outlinewidth\": 0, \"ticks\": \"\"}, \"colorscale\": [[0.0, \"#0d0887\"], [0.1111111111111111, \"#46039f\"], [0.2222222222222222, \"#7201a8\"], [0.3333333333333333, \"#9c179e\"], [0.4444444444444444, \"#bd3786\"], [0.5555555555555556, \"#d8576b\"], [0.6666666666666666, \"#ed7953\"], [0.7777777777777778, \"#fb9f3a\"], [0.8888888888888888, \"#fdca26\"], [1.0, \"#f0f921\"]], \"type\": \"histogram2d\"}], \"histogram2dcontour\": [{\"colorbar\": {\"outlinewidth\": 0, \"ticks\": \"\"}, \"colorscale\": [[0.0, \"#0d0887\"], [0.1111111111111111, \"#46039f\"], [0.2222222222222222, \"#7201a8\"], [0.3333333333333333, \"#9c179e\"], [0.4444444444444444, \"#bd3786\"], [0.5555555555555556, \"#d8576b\"], [0.6666666666666666, \"#ed7953\"], [0.7777777777777778, \"#fb9f3a\"], [0.8888888888888888, \"#fdca26\"], [1.0, \"#f0f921\"]], \"type\": \"histogram2dcontour\"}], \"mesh3d\": [{\"colorbar\": {\"outlinewidth\": 0, \"ticks\": \"\"}, \"type\": \"mesh3d\"}], \"parcoords\": [{\"line\": {\"colorbar\": {\"outlinewidth\": 0, \"ticks\": \"\"}}, \"type\": \"parcoords\"}], \"pie\": [{\"automargin\": true, \"type\": \"pie\"}], \"scatter\": [{\"marker\": {\"colorbar\": {\"outlinewidth\": 0, \"ticks\": \"\"}}, \"type\": \"scatter\"}], \"scatter3d\": [{\"line\": {\"colorbar\": {\"outlinewidth\": 0, \"ticks\": \"\"}}, \"marker\": {\"colorbar\": {\"outlinewidth\": 0, \"ticks\": \"\"}}, \"type\": \"scatter3d\"}], \"scattercarpet\": [{\"marker\": {\"colorbar\": {\"outlinewidth\": 0, \"ticks\": \"\"}}, \"type\": \"scattercarpet\"}], \"scattergeo\": [{\"marker\": {\"colorbar\": {\"outlinewidth\": 0, \"ticks\": \"\"}}, \"type\": \"scattergeo\"}], \"scattergl\": [{\"marker\": {\"colorbar\": {\"outlinewidth\": 0, \"ticks\": \"\"}}, \"type\": \"scattergl\"}], \"scattermapbox\": [{\"marker\": {\"colorbar\": {\"outlinewidth\": 0, \"ticks\": \"\"}}, \"type\": \"scattermapbox\"}], \"scatterpolar\": [{\"marker\": {\"colorbar\": {\"outlinewidth\": 0, \"ticks\": \"\"}}, \"type\": \"scatterpolar\"}], \"scatterpolargl\": [{\"marker\": {\"colorbar\": {\"outlinewidth\": 0, \"ticks\": \"\"}}, \"type\": \"scatterpolargl\"}], \"scatterternary\": [{\"marker\": {\"colorbar\": {\"outlinewidth\": 0, \"ticks\": \"\"}}, \"type\": \"scatterternary\"}], \"surface\": [{\"colorbar\": {\"outlinewidth\": 0, \"ticks\": \"\"}, \"colorscale\": [[0.0, \"#0d0887\"], [0.1111111111111111, \"#46039f\"], [0.2222222222222222, \"#7201a8\"], [0.3333333333333333, \"#9c179e\"], [0.4444444444444444, \"#bd3786\"], [0.5555555555555556, \"#d8576b\"], [0.6666666666666666, \"#ed7953\"], [0.7777777777777778, \"#fb9f3a\"], [0.8888888888888888, \"#fdca26\"], [1.0, \"#f0f921\"]], \"type\": \"surface\"}], \"table\": [{\"cells\": {\"fill\": {\"color\": \"#EBF0F8\"}, \"line\": {\"color\": \"white\"}}, \"header\": {\"fill\": {\"color\": \"#C8D4E3\"}, \"line\": {\"color\": \"white\"}}, \"type\": \"table\"}]}, \"layout\": {\"annotationdefaults\": {\"arrowcolor\": \"#2a3f5f\", \"arrowhead\": 0, \"arrowwidth\": 1}, \"coloraxis\": {\"colorbar\": {\"outlinewidth\": 0, \"ticks\": \"\"}}, \"colorscale\": {\"diverging\": [[0, \"#8e0152\"], [0.1, \"#c51b7d\"], [0.2, \"#de77ae\"], [0.3, \"#f1b6da\"], [0.4, \"#fde0ef\"], [0.5, \"#f7f7f7\"], [0.6, \"#e6f5d0\"], [0.7, \"#b8e186\"], [0.8, \"#7fbc41\"], [0.9, \"#4d9221\"], [1, \"#276419\"]], \"sequential\": [[0.0, \"#0d0887\"], [0.1111111111111111, \"#46039f\"], [0.2222222222222222, \"#7201a8\"], [0.3333333333333333, \"#9c179e\"], [0.4444444444444444, \"#bd3786\"], [0.5555555555555556, \"#d8576b\"], [0.6666666666666666, \"#ed7953\"], [0.7777777777777778, \"#fb9f3a\"], [0.8888888888888888, \"#fdca26\"], [1.0, \"#f0f921\"]], \"sequentialminus\": [[0.0, \"#0d0887\"], [0.1111111111111111, \"#46039f\"], [0.2222222222222222, \"#7201a8\"], [0.3333333333333333, \"#9c179e\"], [0.4444444444444444, \"#bd3786\"], [0.5555555555555556, \"#d8576b\"], [0.6666666666666666, \"#ed7953\"], [0.7777777777777778, \"#fb9f3a\"], [0.8888888888888888, \"#fdca26\"], [1.0, \"#f0f921\"]]}, \"colorway\": [\"#636efa\", \"#EF553B\", \"#00cc96\", \"#ab63fa\", \"#FFA15A\", \"#19d3f3\", \"#FF6692\", \"#B6E880\", \"#FF97FF\", \"#FECB52\"], \"font\": {\"color\": \"#2a3f5f\"}, \"geo\": {\"bgcolor\": \"white\", \"lakecolor\": \"white\", \"landcolor\": \"#E5ECF6\", \"showlakes\": true, \"showland\": true, \"subunitcolor\": \"white\"}, \"hoverlabel\": {\"align\": \"left\"}, \"hovermode\": \"closest\", \"mapbox\": {\"style\": \"light\"}, \"paper_bgcolor\": \"white\", \"plot_bgcolor\": \"#E5ECF6\", \"polar\": {\"angularaxis\": {\"gridcolor\": \"white\", \"linecolor\": \"white\", \"ticks\": \"\"}, \"bgcolor\": \"#E5ECF6\", \"radialaxis\": {\"gridcolor\": \"white\", \"linecolor\": \"white\", \"ticks\": \"\"}}, \"scene\": {\"xaxis\": {\"backgroundcolor\": \"#E5ECF6\", \"gridcolor\": \"white\", \"gridwidth\": 2, \"linecolor\": \"white\", \"showbackground\": true, \"ticks\": \"\", \"zerolinecolor\": \"white\"}, \"yaxis\": {\"backgroundcolor\": \"#E5ECF6\", \"gridcolor\": \"white\", \"gridwidth\": 2, \"linecolor\": \"white\", \"showbackground\": true, \"ticks\": \"\", \"zerolinecolor\": \"white\"}, \"zaxis\": {\"backgroundcolor\": \"#E5ECF6\", \"gridcolor\": \"white\", \"gridwidth\": 2, \"linecolor\": \"white\", \"showbackground\": true, \"ticks\": \"\", \"zerolinecolor\": \"white\"}}, \"shapedefaults\": {\"line\": {\"color\": \"#2a3f5f\"}}, \"ternary\": {\"aaxis\": {\"gridcolor\": \"white\", \"linecolor\": \"white\", \"ticks\": \"\"}, \"baxis\": {\"gridcolor\": \"white\", \"linecolor\": \"white\", \"ticks\": \"\"}, \"bgcolor\": \"#E5ECF6\", \"caxis\": {\"gridcolor\": \"white\", \"linecolor\": \"white\", \"ticks\": \"\"}}, \"title\": {\"x\": 0.05}, \"xaxis\": {\"automargin\": true, \"gridcolor\": \"white\", \"linecolor\": \"white\", \"ticks\": \"\", \"title\": {\"standoff\": 15}, \"zerolinecolor\": \"white\", \"zerolinewidth\": 2}, \"yaxis\": {\"automargin\": true, \"gridcolor\": \"white\", \"linecolor\": \"white\", \"ticks\": \"\", \"title\": {\"standoff\": 15}, \"zerolinecolor\": \"white\", \"zerolinewidth\": 2}}}, \"xaxis\": {\"anchor\": \"y\", \"domain\": [0.0, 1.0], \"title\": {\"text\": \"SkinThickness\"}}, \"yaxis\": {\"anchor\": \"x\", \"domain\": [0.0, 1.0], \"title\": {\"text\": \"count\"}}},\n",
              "                        {\"responsive\": true}\n",
              "                    ).then(function(){\n",
              "                            \n",
              "var gd = document.getElementById('adf186bf-ff58-4a19-9079-b4e8f85d8e43');\n",
              "var x = new MutationObserver(function (mutations, observer) {{\n",
              "        var display = window.getComputedStyle(gd).display;\n",
              "        if (!display || display === 'none') {{\n",
              "            console.log([gd, 'removed!']);\n",
              "            Plotly.purge(gd);\n",
              "            observer.disconnect();\n",
              "        }}\n",
              "}});\n",
              "\n",
              "// Listen for the removal of the full notebook cells\n",
              "var notebookContainer = gd.closest('#notebook-container');\n",
              "if (notebookContainer) {{\n",
              "    x.observe(notebookContainer, {childList: true});\n",
              "}}\n",
              "\n",
              "// Listen for the clearing of the current output cell\n",
              "var outputEl = gd.closest('.output');\n",
              "if (outputEl) {{\n",
              "    x.observe(outputEl, {childList: true});\n",
              "}}\n",
              "\n",
              "                        })\n",
              "                };\n",
              "                \n",
              "            </script>\n",
              "        </div>\n",
              "</body>\n",
              "</html>"
            ]
          },
          "metadata": {
            "tags": []
          }
        },
        {
          "output_type": "display_data",
          "data": {
            "text/html": [
              "<html>\n",
              "<head><meta charset=\"utf-8\" /></head>\n",
              "<body>\n",
              "    <div>\n",
              "            <script src=\"https://cdnjs.cloudflare.com/ajax/libs/mathjax/2.7.5/MathJax.js?config=TeX-AMS-MML_SVG\"></script><script type=\"text/javascript\">if (window.MathJax) {MathJax.Hub.Config({SVG: {font: \"STIX-Web\"}});}</script>\n",
              "                <script type=\"text/javascript\">window.PlotlyConfig = {MathJaxConfig: 'local'};</script>\n",
              "        <script src=\"https://cdn.plot.ly/plotly-latest.min.js\"></script>    \n",
              "            <div id=\"35eb6f8a-011d-4b70-a67e-4b6b4101d137\" class=\"plotly-graph-div\" style=\"height:525px; width:100%;\"></div>\n",
              "            <script type=\"text/javascript\">\n",
              "                \n",
              "                    window.PLOTLYENV=window.PLOTLYENV || {};\n",
              "                    \n",
              "                if (document.getElementById(\"35eb6f8a-011d-4b70-a67e-4b6b4101d137\")) {\n",
              "                    Plotly.newPlot(\n",
              "                        '35eb6f8a-011d-4b70-a67e-4b6b4101d137',\n",
              "                        [{\"alignmentgroup\": \"True\", \"hoverlabel\": {\"namelength\": 0}, \"hovertemplate\": \"Outcome=1<br>SkinThickness=%{x}\", \"legendgroup\": \"Outcome=1\", \"marker\": {\"color\": \"#636efa\"}, \"name\": \"Outcome=1\", \"notched\": false, \"offsetgroup\": \"Outcome=1\", \"orientation\": \"v\", \"showlegend\": true, \"type\": \"box\", \"x\": [35.0, 20.536458333333332, 35.0, 32.0, 45.0, 20.536458333333332, 20.536458333333332, 23.0, 19.0, 20.536458333333332, 47.0, 20.536458333333332, 30.0, 20.536458333333332, 35.0, 33.0, 26.0, 20.536458333333332, 36.0, 37.0, 42.0, 47.0, 24.0, 39.0, 32.0, 34.0, 39.0, 20.536458333333332, 20.536458333333332, 30.0, 20.0, 20.536458333333332, 20.536458333333332, 20.536458333333332, 32.0, 20.536458333333332, 51.0, 20.536458333333332, 25.0, 33.0, 26.0, 32.0, 20.536458333333332, 20.536458333333332, 56.0, 20.536458333333332, 42.0, 24.0, 20.536458333333332, 14.0, 20.536458333333332, 37.0, 20.536458333333332, 28.0, 20.536458333333332, 44.0, 41.0, 20.536458333333332, 18.0, 20.536458333333332, 23.0, 42.0, 46.0, 20.536458333333332, 28.0, 36.0, 41.0, 39.0, 35.0, 20.536458333333332, 20.536458333333332, 41.0, 13.0, 44.0, 27.0, 29.0, 20.536458333333332, 33.0, 26.0, 32.0, 40.0, 41.0, 22.0, 20.536458333333332, 29.0, 20.536458333333332, 38.0, 20.536458333333332, 37.0, 20.536458333333332, 21.0, 27.0, 21.0, 20.536458333333332, 22.0, 15.0, 7.0, 35.0, 28.0, 20.536458333333332, 20.536458333333332, 20.536458333333332, 20.536458333333332, 37.0, 24.0, 20.536458333333332, 20.536458333333332, 20.536458333333332, 39.0, 30.0, 37.0, 45.0, 38.0, 25.0, 20.536458333333332, 33.0, 20.536458333333332, 23.0, 19.0, 28.0, 17.0, 31.0, 20.536458333333332, 20.536458333333332, 30.0, 20.0, 33.0, 32.0, 36.0, 20.536458333333332, 20.536458333333332, 34.0, 20.536458333333332, 32.0, 20.536458333333332, 40.0, 30.0, 36.0, 33.0, 20.536458333333332, 20.536458333333332, 28.0, 48.0, 43.0, 20.536458333333332, 29.0, 36.0, 26.0, 20.536458333333332, 20.536458333333332, 40.0, 31.0, 20.536458333333332, 41.0, 20.536458333333332, 20.536458333333332, 20.536458333333332, 49.0, 35.0, 33.0, 32.0, 29.0, 32.0, 39.0, 30.0, 25.0, 20.536458333333332, 25.0, 20.536458333333332, 12.0, 63.0, 37.0, 20.536458333333332, 30.0, 48.0, 20.536458333333332, 45.0, 30.0, 20.536458333333332, 42.0, 18.0, 33.0, 41.0, 26.0, 31.0, 18.0, 34.0, 20.536458333333332, 20.536458333333332, 49.0, 40.0, 25.0, 32.0, 35.0, 27.0, 20.536458333333332, 32.0, 30.0, 20.536458333333332, 99.0, 46.0, 24.0, 20.536458333333332, 27.0, 40.0, 20.536458333333332, 14.0, 20.536458333333332, 29.0, 20.536458333333332, 42.0, 22.0, 42.0, 26.0, 24.0, 20.536458333333332, 20.536458333333332, 20.536458333333332, 32.0, 20.536458333333332, 17.0, 36.0, 35.0, 27.0, 31.0, 43.0, 46.0, 46.0, 39.0, 18.0, 27.0, 20.536458333333332, 20.536458333333332, 20.536458333333332, 36.0, 20.536458333333332, 46.0, 20.536458333333332, 49.0, 24.0, 19.0, 31.0, 29.0, 20.536458333333332, 20.536458333333332, 32.0, 36.0, 33.0, 39.0, 27.0, 29.0, 23.0, 20.536458333333332, 37.0, 20.536458333333332, 37.0, 20.536458333333332, 41.0, 22.0, 20.536458333333332, 20.536458333333332, 44.0, 32.0, 39.0, 20.536458333333332, 20.536458333333332, 31.0, 20.536458333333332], \"x0\": \" \", \"xaxis\": \"x\", \"y0\": \" \", \"yaxis\": \"y\"}, {\"alignmentgroup\": \"True\", \"hoverlabel\": {\"namelength\": 0}, \"hovertemplate\": \"Outcome=0<br>SkinThickness=%{x}\", \"legendgroup\": \"Outcome=0\", \"marker\": {\"color\": \"#EF553B\"}, \"name\": \"Outcome=0\", \"notched\": false, \"offsetgroup\": \"Outcome=0\", \"orientation\": \"v\", \"showlegend\": true, \"type\": \"box\", \"x\": [29.0, 23.0, 20.536458333333332, 20.536458333333332, 20.536458333333332, 20.536458333333332, 38.0, 41.0, 20.536458333333332, 15.0, 19.0, 20.536458333333332, 26.0, 11.0, 20.536458333333332, 31.0, 33.0, 20.536458333333332, 25.0, 20.536458333333332, 18.0, 20.536458333333332, 20.536458333333332, 27.0, 20.536458333333332, 11.0, 15.0, 21.0, 42.0, 10.0, 60.0, 20.536458333333332, 41.0, 20.536458333333332, 20.536458333333332, 34.0, 27.0, 20.536458333333332, 13.0, 27.0, 35.0, 20.0, 30.0, 20.0, 20.536458333333332, 33.0, 22.0, 13.0, 20.536458333333332, 26.0, 28.0, 29.0, 54.0, 25.0, 19.0, 20.536458333333332, 15.0, 40.0, 18.0, 27.0, 28.0, 18.0, 30.0, 20.536458333333332, 20.536458333333332, 18.0, 20.536458333333332, 29.0, 20.536458333333332, 28.0, 31.0, 34.0, 20.536458333333332, 20.536458333333332, 23.0, 15.0, 39.0, 30.0, 20.536458333333332, 30.0, 36.0, 31.0, 13.0, 20.0, 26.0, 25.0, 20.536458333333332, 29.0, 20.536458333333332, 30.0, 26.0, 31.0, 23.0, 37.0, 35.0, 20.536458333333332, 17.0, 50.0, 20.536458333333332, 42.0, 15.0, 21.0, 19.0, 38.0, 40.0, 34.0, 23.0, 25.0, 20.536458333333332, 20.536458333333332, 12.0, 23.0, 42.0, 24.0, 20.536458333333332, 20.536458333333332, 20.536458333333332, 18.0, 20.0, 20.536458333333332, 20.536458333333332, 20.536458333333332, 44.0, 20.0, 20.536458333333332, 16.0, 20.536458333333332, 20.0, 16.0, 32.0, 28.0, 27.0, 22.0, 54.0, 31.0, 30.0, 20.536458333333332, 33.0, 15.0, 27.0, 20.536458333333332, 39.0, 31.0, 25.0, 20.536458333333332, 28.0, 20.536458333333332, 24.0, 32.0, 35.0, 20.536458333333332, 33.0, 33.0, 19.0, 20.536458333333332, 20.536458333333332, 14.0, 32.0, 39.0, 22.0, 16.0, 15.0, 32.0, 15.0, 18.0, 42.0, 20.536458333333332, 32.0, 20.536458333333332, 50.0, 20.536458333333332, 52.0, 23.0, 20.536458333333332, 10.0, 28.0, 15.0, 26.0, 44.0, 17.0, 43.0, 29.0, 20.536458333333332, 31.0, 29.0, 20.536458333333332, 41.0, 20.536458333333332, 37.0, 14.0, 30.0, 37.0, 10.0, 22.0, 11.0, 39.0, 12.0, 32.0, 21.0, 20.536458333333332, 32.0, 19.0, 16.0, 20.536458333333332, 18.0, 43.0, 20.536458333333332, 13.0, 21.0, 35.0, 20.536458333333332, 20.536458333333332, 36.0, 19.0, 20.536458333333332, 19.0, 20.536458333333332, 20.536458333333332, 28.0, 12.0, 20.536458333333332, 40.0, 20.536458333333332, 37.0, 25.0, 28.0, 17.0, 16.0, 23.0, 22.0, 40.0, 43.0, 15.0, 37.0, 39.0, 30.0, 22.0, 8.0, 18.0, 24.0, 13.0, 23.0, 29.0, 14.0, 12.0, 24.0, 34.0, 20.536458333333332, 20.536458333333332, 25.0, 32.0, 20.536458333333332, 39.0, 30.0, 23.0, 22.0, 21.0, 20.536458333333332, 41.0, 18.0, 46.0, 22.0, 20.536458333333332, 46.0, 20.536458333333332, 16.0, 11.0, 20.536458333333332, 8.0, 33.0, 20.536458333333332, 15.0, 20.536458333333332, 23.0, 27.0, 12.0, 45.0, 18.0, 13.0, 32.0, 20.536458333333332, 28.0, 20.536458333333332, 28.0, 33.0, 22.0, 20.536458333333332, 40.0, 30.0, 20.536458333333332, 13.0, 10.0, 36.0, 41.0, 40.0, 38.0, 27.0, 20.536458333333332, 20.536458333333332, 27.0, 17.0, 38.0, 31.0, 37.0, 22.0, 31.0, 41.0, 32.0, 17.0, 20.536458333333332, 28.0, 30.0, 38.0, 20.536458333333332, 20.536458333333332, 20.536458333333332, 15.0, 32.0, 19.0, 32.0, 25.0, 39.0, 20.536458333333332, 23.0, 23.0, 20.536458333333332, 17.0, 20.536458333333332, 20.536458333333332, 19.0, 20.536458333333332, 20.536458333333332, 7.0, 32.0, 33.0, 20.536458333333332, 20.536458333333332, 18.0, 19.0, 15.0, 31.0, 20.536458333333332, 18.0, 20.536458333333332, 52.0, 20.536458333333332, 30.0, 20.536458333333332, 20.536458333333332, 37.0, 23.0, 29.0, 21.0, 43.0, 31.0, 28.0, 30.0, 20.536458333333332, 24.0, 23.0, 33.0, 40.0, 20.536458333333332, 40.0, 20.536458333333332, 34.0, 19.0, 20.536458333333332, 14.0, 30.0, 32.0, 29.0, 20.536458333333332, 20.536458333333332, 31.0, 17.0, 30.0, 47.0, 20.0, 20.536458333333332, 27.0, 17.0, 20.536458333333332, 11.0, 20.536458333333332, 20.536458333333332, 50.0, 22.0, 45.0, 20.536458333333332, 19.0, 18.0, 19.0, 20.536458333333332, 36.0, 32.0, 25.0, 39.0, 13.0, 21.0, 28.0, 20.536458333333332, 20.536458333333332, 13.0, 42.0, 20.0, 20.536458333333332, 27.0, 20.536458333333332, 47.0, 20.536458333333332, 20.536458333333332, 20.536458333333332, 22.0, 40.0, 20.536458333333332, 17.0, 20.536458333333332, 20.536458333333332, 18.0, 12.0, 17.0, 20.536458333333332, 20.536458333333332, 30.0, 35.0, 25.0, 25.0, 23.0, 40.0, 20.536458333333332, 28.0, 35.0, 48.0, 20.536458333333332, 20.536458333333332, 45.0, 33.0, 30.0, 26.0, 10.0, 23.0, 35.0, 20.536458333333332, 20.536458333333332, 17.0, 28.0, 39.0, 20.536458333333332, 26.0, 20.536458333333332, 19.0, 26.0, 20.536458333333332, 32.0, 20.536458333333332, 20.536458333333332, 11.0, 20.536458333333332, 27.0, 20.536458333333332, 20.0, 36.0, 21.0, 13.0, 27.0, 20.0, 20.536458333333332, 18.0, 46.0, 19.0, 36.0, 30.0, 20.536458333333332, 40.0, 29.0, 26.0, 20.536458333333332, 20.536458333333332, 27.0, 20.536458333333332, 32.0, 27.0, 23.0, 17.0, 20.0, 18.0, 37.0, 33.0, 41.0, 39.0, 24.0, 41.0, 20.536458333333332, 26.0, 20.536458333333332, 48.0, 27.0, 23.0, 31.0], \"x0\": \" \", \"xaxis\": \"x\", \"y0\": \" \", \"yaxis\": \"y\"}],\n",
              "                        {\"boxmode\": \"group\", \"legend\": {\"tracegroupgap\": 0}, \"margin\": {\"t\": 60}, \"template\": {\"data\": {\"bar\": [{\"error_x\": {\"color\": \"#2a3f5f\"}, \"error_y\": {\"color\": \"#2a3f5f\"}, \"marker\": {\"line\": {\"color\": \"#E5ECF6\", \"width\": 0.5}}, \"type\": \"bar\"}], \"barpolar\": [{\"marker\": {\"line\": {\"color\": \"#E5ECF6\", \"width\": 0.5}}, \"type\": \"barpolar\"}], \"carpet\": [{\"aaxis\": {\"endlinecolor\": \"#2a3f5f\", \"gridcolor\": \"white\", \"linecolor\": \"white\", \"minorgridcolor\": \"white\", \"startlinecolor\": \"#2a3f5f\"}, \"baxis\": {\"endlinecolor\": \"#2a3f5f\", \"gridcolor\": \"white\", \"linecolor\": \"white\", \"minorgridcolor\": \"white\", \"startlinecolor\": \"#2a3f5f\"}, \"type\": \"carpet\"}], \"choropleth\": [{\"colorbar\": {\"outlinewidth\": 0, \"ticks\": \"\"}, \"type\": \"choropleth\"}], \"contour\": [{\"colorbar\": {\"outlinewidth\": 0, \"ticks\": \"\"}, \"colorscale\": [[0.0, \"#0d0887\"], [0.1111111111111111, \"#46039f\"], [0.2222222222222222, \"#7201a8\"], [0.3333333333333333, \"#9c179e\"], [0.4444444444444444, \"#bd3786\"], [0.5555555555555556, \"#d8576b\"], [0.6666666666666666, \"#ed7953\"], [0.7777777777777778, \"#fb9f3a\"], [0.8888888888888888, \"#fdca26\"], [1.0, \"#f0f921\"]], \"type\": \"contour\"}], \"contourcarpet\": [{\"colorbar\": {\"outlinewidth\": 0, \"ticks\": \"\"}, \"type\": \"contourcarpet\"}], \"heatmap\": [{\"colorbar\": {\"outlinewidth\": 0, \"ticks\": \"\"}, \"colorscale\": [[0.0, \"#0d0887\"], [0.1111111111111111, \"#46039f\"], [0.2222222222222222, \"#7201a8\"], [0.3333333333333333, \"#9c179e\"], [0.4444444444444444, \"#bd3786\"], [0.5555555555555556, \"#d8576b\"], [0.6666666666666666, \"#ed7953\"], [0.7777777777777778, \"#fb9f3a\"], [0.8888888888888888, \"#fdca26\"], [1.0, \"#f0f921\"]], \"type\": \"heatmap\"}], \"heatmapgl\": [{\"colorbar\": {\"outlinewidth\": 0, \"ticks\": \"\"}, \"colorscale\": [[0.0, \"#0d0887\"], [0.1111111111111111, \"#46039f\"], [0.2222222222222222, \"#7201a8\"], [0.3333333333333333, \"#9c179e\"], [0.4444444444444444, \"#bd3786\"], [0.5555555555555556, \"#d8576b\"], [0.6666666666666666, \"#ed7953\"], [0.7777777777777778, \"#fb9f3a\"], [0.8888888888888888, \"#fdca26\"], [1.0, \"#f0f921\"]], \"type\": \"heatmapgl\"}], \"histogram\": [{\"marker\": {\"colorbar\": {\"outlinewidth\": 0, \"ticks\": \"\"}}, \"type\": \"histogram\"}], \"histogram2d\": [{\"colorbar\": {\"outlinewidth\": 0, \"ticks\": \"\"}, \"colorscale\": [[0.0, \"#0d0887\"], [0.1111111111111111, \"#46039f\"], [0.2222222222222222, \"#7201a8\"], [0.3333333333333333, \"#9c179e\"], [0.4444444444444444, \"#bd3786\"], [0.5555555555555556, \"#d8576b\"], [0.6666666666666666, \"#ed7953\"], [0.7777777777777778, \"#fb9f3a\"], [0.8888888888888888, \"#fdca26\"], [1.0, \"#f0f921\"]], \"type\": \"histogram2d\"}], \"histogram2dcontour\": [{\"colorbar\": {\"outlinewidth\": 0, \"ticks\": \"\"}, \"colorscale\": [[0.0, \"#0d0887\"], [0.1111111111111111, \"#46039f\"], [0.2222222222222222, \"#7201a8\"], [0.3333333333333333, \"#9c179e\"], [0.4444444444444444, \"#bd3786\"], [0.5555555555555556, \"#d8576b\"], [0.6666666666666666, \"#ed7953\"], [0.7777777777777778, \"#fb9f3a\"], [0.8888888888888888, \"#fdca26\"], [1.0, \"#f0f921\"]], \"type\": \"histogram2dcontour\"}], \"mesh3d\": [{\"colorbar\": {\"outlinewidth\": 0, \"ticks\": \"\"}, \"type\": \"mesh3d\"}], \"parcoords\": [{\"line\": {\"colorbar\": {\"outlinewidth\": 0, \"ticks\": \"\"}}, \"type\": \"parcoords\"}], \"pie\": [{\"automargin\": true, \"type\": \"pie\"}], \"scatter\": [{\"marker\": {\"colorbar\": {\"outlinewidth\": 0, \"ticks\": \"\"}}, \"type\": \"scatter\"}], \"scatter3d\": [{\"line\": {\"colorbar\": {\"outlinewidth\": 0, \"ticks\": \"\"}}, \"marker\": {\"colorbar\": {\"outlinewidth\": 0, \"ticks\": \"\"}}, \"type\": \"scatter3d\"}], \"scattercarpet\": [{\"marker\": {\"colorbar\": {\"outlinewidth\": 0, \"ticks\": \"\"}}, \"type\": \"scattercarpet\"}], \"scattergeo\": [{\"marker\": {\"colorbar\": {\"outlinewidth\": 0, \"ticks\": \"\"}}, \"type\": \"scattergeo\"}], \"scattergl\": [{\"marker\": {\"colorbar\": {\"outlinewidth\": 0, \"ticks\": \"\"}}, \"type\": \"scattergl\"}], \"scattermapbox\": [{\"marker\": {\"colorbar\": {\"outlinewidth\": 0, \"ticks\": \"\"}}, \"type\": \"scattermapbox\"}], \"scatterpolar\": [{\"marker\": {\"colorbar\": {\"outlinewidth\": 0, \"ticks\": \"\"}}, \"type\": \"scatterpolar\"}], \"scatterpolargl\": [{\"marker\": {\"colorbar\": {\"outlinewidth\": 0, \"ticks\": \"\"}}, \"type\": \"scatterpolargl\"}], \"scatterternary\": [{\"marker\": {\"colorbar\": {\"outlinewidth\": 0, \"ticks\": \"\"}}, \"type\": \"scatterternary\"}], \"surface\": [{\"colorbar\": {\"outlinewidth\": 0, \"ticks\": \"\"}, \"colorscale\": [[0.0, \"#0d0887\"], [0.1111111111111111, \"#46039f\"], [0.2222222222222222, \"#7201a8\"], [0.3333333333333333, \"#9c179e\"], [0.4444444444444444, \"#bd3786\"], [0.5555555555555556, \"#d8576b\"], [0.6666666666666666, \"#ed7953\"], [0.7777777777777778, \"#fb9f3a\"], [0.8888888888888888, \"#fdca26\"], [1.0, \"#f0f921\"]], \"type\": \"surface\"}], \"table\": [{\"cells\": {\"fill\": {\"color\": \"#EBF0F8\"}, \"line\": {\"color\": \"white\"}}, \"header\": {\"fill\": {\"color\": \"#C8D4E3\"}, \"line\": {\"color\": \"white\"}}, \"type\": \"table\"}]}, \"layout\": {\"annotationdefaults\": {\"arrowcolor\": \"#2a3f5f\", \"arrowhead\": 0, \"arrowwidth\": 1}, \"coloraxis\": {\"colorbar\": {\"outlinewidth\": 0, \"ticks\": \"\"}}, \"colorscale\": {\"diverging\": [[0, \"#8e0152\"], [0.1, \"#c51b7d\"], [0.2, \"#de77ae\"], [0.3, \"#f1b6da\"], [0.4, \"#fde0ef\"], [0.5, \"#f7f7f7\"], [0.6, \"#e6f5d0\"], [0.7, \"#b8e186\"], [0.8, \"#7fbc41\"], [0.9, \"#4d9221\"], [1, \"#276419\"]], \"sequential\": [[0.0, \"#0d0887\"], [0.1111111111111111, \"#46039f\"], [0.2222222222222222, \"#7201a8\"], [0.3333333333333333, \"#9c179e\"], [0.4444444444444444, \"#bd3786\"], [0.5555555555555556, \"#d8576b\"], [0.6666666666666666, \"#ed7953\"], [0.7777777777777778, \"#fb9f3a\"], [0.8888888888888888, \"#fdca26\"], [1.0, \"#f0f921\"]], \"sequentialminus\": [[0.0, \"#0d0887\"], [0.1111111111111111, \"#46039f\"], [0.2222222222222222, \"#7201a8\"], [0.3333333333333333, \"#9c179e\"], [0.4444444444444444, \"#bd3786\"], [0.5555555555555556, \"#d8576b\"], [0.6666666666666666, \"#ed7953\"], [0.7777777777777778, \"#fb9f3a\"], [0.8888888888888888, \"#fdca26\"], [1.0, \"#f0f921\"]]}, \"colorway\": [\"#636efa\", \"#EF553B\", \"#00cc96\", \"#ab63fa\", \"#FFA15A\", \"#19d3f3\", \"#FF6692\", \"#B6E880\", \"#FF97FF\", \"#FECB52\"], \"font\": {\"color\": \"#2a3f5f\"}, \"geo\": {\"bgcolor\": \"white\", \"lakecolor\": \"white\", \"landcolor\": \"#E5ECF6\", \"showlakes\": true, \"showland\": true, \"subunitcolor\": \"white\"}, \"hoverlabel\": {\"align\": \"left\"}, \"hovermode\": \"closest\", \"mapbox\": {\"style\": \"light\"}, \"paper_bgcolor\": \"white\", \"plot_bgcolor\": \"#E5ECF6\", \"polar\": {\"angularaxis\": {\"gridcolor\": \"white\", \"linecolor\": \"white\", \"ticks\": \"\"}, \"bgcolor\": \"#E5ECF6\", \"radialaxis\": {\"gridcolor\": \"white\", \"linecolor\": \"white\", \"ticks\": \"\"}}, \"scene\": {\"xaxis\": {\"backgroundcolor\": \"#E5ECF6\", \"gridcolor\": \"white\", \"gridwidth\": 2, \"linecolor\": \"white\", \"showbackground\": true, \"ticks\": \"\", \"zerolinecolor\": \"white\"}, \"yaxis\": {\"backgroundcolor\": \"#E5ECF6\", \"gridcolor\": \"white\", \"gridwidth\": 2, \"linecolor\": \"white\", \"showbackground\": true, \"ticks\": \"\", \"zerolinecolor\": \"white\"}, \"zaxis\": {\"backgroundcolor\": \"#E5ECF6\", \"gridcolor\": \"white\", \"gridwidth\": 2, \"linecolor\": \"white\", \"showbackground\": true, \"ticks\": \"\", \"zerolinecolor\": \"white\"}}, \"shapedefaults\": {\"line\": {\"color\": \"#2a3f5f\"}}, \"ternary\": {\"aaxis\": {\"gridcolor\": \"white\", \"linecolor\": \"white\", \"ticks\": \"\"}, \"baxis\": {\"gridcolor\": \"white\", \"linecolor\": \"white\", \"ticks\": \"\"}, \"bgcolor\": \"#E5ECF6\", \"caxis\": {\"gridcolor\": \"white\", \"linecolor\": \"white\", \"ticks\": \"\"}}, \"title\": {\"x\": 0.05}, \"xaxis\": {\"automargin\": true, \"gridcolor\": \"white\", \"linecolor\": \"white\", \"ticks\": \"\", \"title\": {\"standoff\": 15}, \"zerolinecolor\": \"white\", \"zerolinewidth\": 2}, \"yaxis\": {\"automargin\": true, \"gridcolor\": \"white\", \"linecolor\": \"white\", \"ticks\": \"\", \"title\": {\"standoff\": 15}, \"zerolinecolor\": \"white\", \"zerolinewidth\": 2}}}, \"xaxis\": {\"anchor\": \"y\", \"domain\": [0.0, 1.0], \"title\": {\"text\": \"SkinThickness\"}}, \"yaxis\": {\"anchor\": \"x\", \"domain\": [0.0, 1.0]}},\n",
              "                        {\"responsive\": true}\n",
              "                    ).then(function(){\n",
              "                            \n",
              "var gd = document.getElementById('35eb6f8a-011d-4b70-a67e-4b6b4101d137');\n",
              "var x = new MutationObserver(function (mutations, observer) {{\n",
              "        var display = window.getComputedStyle(gd).display;\n",
              "        if (!display || display === 'none') {{\n",
              "            console.log([gd, 'removed!']);\n",
              "            Plotly.purge(gd);\n",
              "            observer.disconnect();\n",
              "        }}\n",
              "}});\n",
              "\n",
              "// Listen for the removal of the full notebook cells\n",
              "var notebookContainer = gd.closest('#notebook-container');\n",
              "if (notebookContainer) {{\n",
              "    x.observe(notebookContainer, {childList: true});\n",
              "}}\n",
              "\n",
              "// Listen for the clearing of the current output cell\n",
              "var outputEl = gd.closest('.output');\n",
              "if (outputEl) {{\n",
              "    x.observe(outputEl, {childList: true});\n",
              "}}\n",
              "\n",
              "                        })\n",
              "                };\n",
              "                \n",
              "            </script>\n",
              "        </div>\n",
              "</body>\n",
              "</html>"
            ]
          },
          "metadata": {
            "tags": []
          }
        }
      ]
    },
    {
      "cell_type": "markdown",
      "metadata": {
        "papermill": {
          "duration": 0.060829,
          "end_time": "2021-07-22T14:33:29.623045",
          "exception": false,
          "start_time": "2021-07-22T14:33:29.562216",
          "status": "completed"
        },
        "tags": [],
        "id": "c342c24c"
      },
      "source": [
        "- This feature needs further analysis"
      ]
    },
    {
      "cell_type": "markdown",
      "metadata": {
        "papermill": {
          "duration": 0.059423,
          "end_time": "2021-07-22T14:33:29.742219",
          "exception": false,
          "start_time": "2021-07-22T14:33:29.682796",
          "status": "completed"
        },
        "tags": [],
        "id": "c04b3397"
      },
      "source": [
        "\n",
        "<p style=\"font-family: Arials; line-height: 1.3; font-size: 23px; font-weight: bold; letter-spacing: 2px; text-align: left; color: #23527c\">Let's look at how the Insulin level affect the chances if being Diabetic</p>"
      ]
    },
    {
      "cell_type": "code",
      "metadata": {
        "execution": {
          "iopub.execute_input": "2021-07-22T14:33:29.883435Z",
          "iopub.status.busy": "2021-07-22T14:33:29.879100Z",
          "iopub.status.idle": "2021-07-22T14:33:30.027108Z",
          "shell.execute_reply": "2021-07-22T14:33:30.026447Z",
          "shell.execute_reply.started": "2021-07-17T18:13:35.572605Z"
        },
        "papermill": {
          "duration": 0.224277,
          "end_time": "2021-07-22T14:33:30.027253",
          "exception": false,
          "start_time": "2021-07-22T14:33:29.802976",
          "status": "completed"
        },
        "tags": [],
        "id": "63e53592",
        "colab": {
          "base_uri": "https://localhost:8080/",
          "height": 1000
        },
        "outputId": "1b8aebfc-a8fc-4aa1-adc6-e6c83b27fdc0"
      },
      "source": [
        "#Insulin vs Outcome\n",
        "fig = px.histogram(data, x = data['Insulin'], color = 'Outcome')\n",
        "fig.show()\n",
        "fig2 = px.box(data, x = data['Insulin'], color = 'Outcome')\n",
        "fig2.show()"
      ],
      "execution_count": 14,
      "outputs": [
        {
          "output_type": "display_data",
          "data": {
            "text/html": [
              "<html>\n",
              "<head><meta charset=\"utf-8\" /></head>\n",
              "<body>\n",
              "    <div>\n",
              "            <script src=\"https://cdnjs.cloudflare.com/ajax/libs/mathjax/2.7.5/MathJax.js?config=TeX-AMS-MML_SVG\"></script><script type=\"text/javascript\">if (window.MathJax) {MathJax.Hub.Config({SVG: {font: \"STIX-Web\"}});}</script>\n",
              "                <script type=\"text/javascript\">window.PlotlyConfig = {MathJaxConfig: 'local'};</script>\n",
              "        <script src=\"https://cdn.plot.ly/plotly-latest.min.js\"></script>    \n",
              "            <div id=\"1462ae32-d3dc-40ae-9bf4-27f5a6cccb6f\" class=\"plotly-graph-div\" style=\"height:525px; width:100%;\"></div>\n",
              "            <script type=\"text/javascript\">\n",
              "                \n",
              "                    window.PLOTLYENV=window.PLOTLYENV || {};\n",
              "                    \n",
              "                if (document.getElementById(\"1462ae32-d3dc-40ae-9bf4-27f5a6cccb6f\")) {\n",
              "                    Plotly.newPlot(\n",
              "                        '1462ae32-d3dc-40ae-9bf4-27f5a6cccb6f',\n",
              "                        [{\"alignmentgroup\": \"True\", \"bingroup\": \"x\", \"hoverlabel\": {\"namelength\": 0}, \"hovertemplate\": \"Outcome=1<br>Insulin=%{x}<br>count=%{y}\", \"legendgroup\": \"Outcome=1\", \"marker\": {\"color\": \"#636efa\"}, \"name\": \"Outcome=1\", \"offsetgroup\": \"Outcome=1\", \"orientation\": \"v\", \"showlegend\": true, \"type\": \"histogram\", \"x\": [79.79947916666667, 79.79947916666667, 168.0, 88.0, 543.0, 79.79947916666667, 79.79947916666667, 846.0, 175.0, 79.79947916666667, 230.0, 79.79947916666667, 96.0, 79.79947916666667, 79.79947916666667, 146.0, 115.0, 79.79947916666667, 245.0, 79.79947916666667, 79.79947916666667, 207.0, 240.0, 79.79947916666667, 79.79947916666667, 300.0, 304.0, 79.79947916666667, 79.79947916666667, 79.79947916666667, 90.0, 79.79947916666667, 79.79947916666667, 79.79947916666667, 110.0, 79.79947916666667, 220.0, 79.79947916666667, 36.0, 135.0, 495.0, 175.0, 79.79947916666667, 79.79947916666667, 100.0, 79.79947916666667, 99.0, 145.0, 79.79947916666667, 168.0, 79.79947916666667, 225.0, 79.79947916666667, 155.0, 79.79947916666667, 79.79947916666667, 114.0, 79.79947916666667, 156.0, 79.79947916666667, 130.0, 130.0, 130.0, 79.79947916666667, 79.79947916666667, 495.0, 58.0, 114.0, 160.0, 79.79947916666667, 79.79947916666667, 210.0, 48.0, 99.0, 318.0, 280.0, 79.79947916666667, 79.79947916666667, 130.0, 175.0, 271.0, 129.0, 79.79947916666667, 79.79947916666667, 478.0, 79.79947916666667, 79.79947916666667, 79.79947916666667, 370.0, 79.79947916666667, 192.0, 79.79947916666667, 79.79947916666667, 79.79947916666667, 176.0, 79.79947916666667, 258.0, 79.79947916666667, 150.0, 79.79947916666667, 79.79947916666667, 79.79947916666667, 79.79947916666667, 79.79947916666667, 79.79947916666667, 79.79947916666667, 79.79947916666667, 79.79947916666667, 220.0, 74.0, 182.0, 194.0, 360.0, 184.0, 79.79947916666667, 135.0, 79.79947916666667, 132.0, 180.0, 205.0, 96.0, 79.79947916666667, 79.79947916666667, 79.79947916666667, 79.79947916666667, 79.79947916666667, 29.0, 156.0, 120.0, 79.79947916666667, 79.79947916666667, 171.0, 79.79947916666667, 79.79947916666667, 79.79947916666667, 167.0, 79.79947916666667, 249.0, 325.0, 79.79947916666667, 79.79947916666667, 140.0, 465.0, 325.0, 79.79947916666667, 79.79947916666667, 79.79947916666667, 285.0, 79.79947916666667, 79.79947916666667, 79.79947916666667, 79.79947916666667, 79.79947916666667, 88.0, 79.79947916666667, 79.79947916666667, 79.79947916666667, 579.0, 167.0, 474.0, 79.79947916666667, 115.0, 210.0, 277.0, 180.0, 180.0, 79.79947916666667, 79.79947916666667, 79.79947916666667, 79.79947916666667, 14.0, 64.0, 79.79947916666667, 79.79947916666667, 237.0, 79.79947916666667, 191.0, 328.0, 79.79947916666667, 250.0, 122.0, 145.0, 79.79947916666667, 90.0, 79.79947916666667, 105.0, 165.0, 79.79947916666667, 79.79947916666667, 155.0, 215.0, 190.0, 79.79947916666667, 225.0, 207.0, 79.79947916666667, 274.0, 165.0, 79.79947916666667, 79.79947916666667, 79.79947916666667, 600.0, 79.79947916666667, 156.0, 79.79947916666667, 79.79947916666667, 185.0, 79.79947916666667, 126.0, 79.79947916666667, 293.0, 194.0, 321.0, 144.0, 79.79947916666667, 79.79947916666667, 79.79947916666667, 79.79947916666667, 91.0, 79.79947916666667, 144.0, 159.0, 130.0, 540.0, 70.0, 79.79947916666667, 231.0, 130.0, 79.79947916666667, 79.79947916666667, 79.79947916666667, 79.79947916666667, 79.79947916666667, 79.79947916666667, 79.79947916666667, 79.79947916666667, 180.0, 79.79947916666667, 125.0, 480.0, 125.0, 79.79947916666667, 79.79947916666667, 79.79947916666667, 79.79947916666667, 160.0, 79.79947916666667, 392.0, 185.0, 79.79947916666667, 127.0, 79.0, 79.79947916666667, 120.0, 79.79947916666667, 150.0, 79.79947916666667, 79.79947916666667, 200.0, 79.79947916666667, 79.79947916666667, 510.0, 79.79947916666667, 110.0, 79.79947916666667, 79.79947916666667, 79.79947916666667, 79.79947916666667], \"xaxis\": \"x\", \"yaxis\": \"y\"}, {\"alignmentgroup\": \"True\", \"bingroup\": \"x\", \"hoverlabel\": {\"namelength\": 0}, \"hovertemplate\": \"Outcome=0<br>Insulin=%{x}<br>count=%{y}\", \"legendgroup\": \"Outcome=0\", \"marker\": {\"color\": \"#EF553B\"}, \"name\": \"Outcome=0\", \"offsetgroup\": \"Outcome=0\", \"orientation\": \"v\", \"showlegend\": true, \"type\": \"histogram\", \"x\": [79.79947916666667, 94.0, 79.79947916666667, 79.79947916666667, 79.79947916666667, 79.79947916666667, 83.0, 235.0, 79.79947916666667, 140.0, 110.0, 79.79947916666667, 79.79947916666667, 54.0, 79.79947916666667, 79.79947916666667, 192.0, 79.79947916666667, 70.0, 79.79947916666667, 79.79947916666667, 79.79947916666667, 79.79947916666667, 79.79947916666667, 79.79947916666667, 82.0, 36.0, 23.0, 342.0, 79.79947916666667, 110.0, 79.79947916666667, 142.0, 79.79947916666667, 79.79947916666667, 128.0, 79.79947916666667, 79.79947916666667, 38.0, 100.0, 140.0, 270.0, 79.79947916666667, 79.79947916666667, 79.79947916666667, 79.79947916666667, 79.79947916666667, 79.79947916666667, 79.79947916666667, 71.0, 79.79947916666667, 125.0, 79.79947916666667, 71.0, 79.79947916666667, 79.79947916666667, 176.0, 48.0, 64.0, 228.0, 79.79947916666667, 76.0, 64.0, 79.79947916666667, 79.79947916666667, 40.0, 79.79947916666667, 152.0, 79.79947916666667, 140.0, 18.0, 37.0, 79.79947916666667, 79.79947916666667, 79.79947916666667, 51.0, 79.79947916666667, 100.0, 79.79947916666667, 135.0, 94.0, 79.79947916666667, 49.0, 140.0, 50.0, 92.0, 79.79947916666667, 325.0, 79.79947916666667, 79.79947916666667, 63.0, 284.0, 79.79947916666667, 79.79947916666667, 119.0, 79.79947916666667, 79.79947916666667, 204.0, 79.79947916666667, 485.0, 94.0, 135.0, 53.0, 79.79947916666667, 105.0, 285.0, 79.79947916666667, 79.79947916666667, 79.79947916666667, 79.79947916666667, 78.0, 79.79947916666667, 48.0, 55.0, 79.79947916666667, 79.79947916666667, 79.79947916666667, 92.0, 23.0, 79.79947916666667, 79.79947916666667, 79.79947916666667, 94.0, 79.79947916666667, 79.79947916666667, 79.79947916666667, 79.79947916666667, 79.79947916666667, 44.0, 190.0, 79.79947916666667, 87.0, 79.79947916666667, 79.79947916666667, 79.79947916666667, 120.0, 79.79947916666667, 190.0, 56.0, 32.0, 79.79947916666667, 744.0, 53.0, 37.0, 79.79947916666667, 45.0, 79.79947916666667, 79.79947916666667, 88.0, 194.0, 79.79947916666667, 680.0, 402.0, 79.79947916666667, 79.79947916666667, 79.79947916666667, 55.0, 79.79947916666667, 79.79947916666667, 79.79947916666667, 375.0, 130.0, 79.79947916666667, 79.79947916666667, 67.0, 79.79947916666667, 79.79947916666667, 56.0, 79.79947916666667, 45.0, 79.79947916666667, 57.0, 116.0, 79.79947916666667, 278.0, 122.0, 155.0, 135.0, 545.0, 49.0, 75.0, 40.0, 79.79947916666667, 120.0, 215.0, 79.79947916666667, 42.0, 79.79947916666667, 105.0, 148.0, 79.79947916666667, 148.0, 85.0, 94.0, 64.0, 140.0, 231.0, 79.79947916666667, 168.0, 79.79947916666667, 68.0, 79.79947916666667, 52.0, 79.79947916666667, 58.0, 255.0, 79.79947916666667, 105.0, 73.0, 79.79947916666667, 79.79947916666667, 79.79947916666667, 108.0, 83.0, 79.79947916666667, 74.0, 79.79947916666667, 79.79947916666667, 79.79947916666667, 43.0, 79.79947916666667, 54.0, 79.79947916666667, 79.79947916666667, 293.0, 83.0, 79.79947916666667, 66.0, 89.0, 66.0, 94.0, 158.0, 84.0, 75.0, 72.0, 82.0, 79.79947916666667, 182.0, 59.0, 110.0, 50.0, 81.0, 196.0, 415.0, 87.0, 275.0, 115.0, 79.79947916666667, 79.79947916666667, 79.79947916666667, 165.0, 79.79947916666667, 79.79947916666667, 176.0, 310.0, 61.0, 79.79947916666667, 79.79947916666667, 170.0, 76.0, 78.0, 79.79947916666667, 79.79947916666667, 145.0, 79.79947916666667, 85.0, 60.0, 79.79947916666667, 79.79947916666667, 79.79947916666667, 79.79947916666667, 79.79947916666667, 79.79947916666667, 50.0, 120.0, 70.0, 92.0, 63.0, 95.0, 210.0, 79.79947916666667, 105.0, 79.79947916666667, 71.0, 60.0, 56.0, 79.79947916666667, 49.0, 79.79947916666667, 79.79947916666667, 105.0, 36.0, 100.0, 140.0, 79.79947916666667, 79.79947916666667, 79.79947916666667, 79.79947916666667, 79.79947916666667, 79.79947916666667, 110.0, 75.0, 79.79947916666667, 79.79947916666667, 49.0, 125.0, 480.0, 265.0, 79.79947916666667, 79.79947916666667, 66.0, 79.79947916666667, 79.79947916666667, 79.79947916666667, 79.79947916666667, 79.79947916666667, 76.0, 193.0, 71.0, 79.79947916666667, 79.0, 79.79947916666667, 79.79947916666667, 170.0, 76.0, 79.79947916666667, 210.0, 79.79947916666667, 79.79947916666667, 86.0, 79.79947916666667, 79.79947916666667, 326.0, 66.0, 130.0, 79.79947916666667, 79.79947916666667, 79.79947916666667, 82.0, 105.0, 188.0, 79.79947916666667, 106.0, 79.79947916666667, 65.0, 79.79947916666667, 56.0, 79.79947916666667, 79.79947916666667, 210.0, 56.0, 76.0, 166.0, 67.0, 79.79947916666667, 79.79947916666667, 106.0, 79.79947916666667, 44.0, 115.0, 215.0, 79.79947916666667, 79.79947916666667, 79.79947916666667, 79.79947916666667, 77.0, 54.0, 79.79947916666667, 88.0, 18.0, 126.0, 126.0, 79.79947916666667, 79.79947916666667, 44.0, 120.0, 330.0, 63.0, 130.0, 79.79947916666667, 79.79947916666667, 79.79947916666667, 79.79947916666667, 79.79947916666667, 79.79947916666667, 79.79947916666667, 140.0, 115.0, 230.0, 79.79947916666667, 25.0, 120.0, 79.79947916666667, 79.79947916666667, 79.79947916666667, 79.79947916666667, 41.0, 272.0, 182.0, 158.0, 79.79947916666667, 79.79947916666667, 79.79947916666667, 15.0, 160.0, 79.79947916666667, 79.79947916666667, 115.0, 79.79947916666667, 54.0, 79.79947916666667, 79.79947916666667, 79.79947916666667, 79.79947916666667, 90.0, 79.79947916666667, 183.0, 79.79947916666667, 79.79947916666667, 66.0, 46.0, 105.0, 79.79947916666667, 79.79947916666667, 152.0, 440.0, 79.79947916666667, 100.0, 106.0, 77.0, 79.79947916666667, 135.0, 90.0, 200.0, 79.79947916666667, 79.79947916666667, 132.0, 190.0, 100.0, 168.0, 79.79947916666667, 49.0, 240.0, 79.79947916666667, 79.79947916666667, 265.0, 45.0, 105.0, 79.79947916666667, 205.0, 79.79947916666667, 79.79947916666667, 180.0, 79.79947916666667, 95.0, 79.79947916666667, 79.79947916666667, 155.0, 79.79947916666667, 200.0, 79.79947916666667, 100.0, 79.79947916666667, 335.0, 387.0, 22.0, 291.0, 79.79947916666667, 79.79947916666667, 178.0, 79.79947916666667, 200.0, 105.0, 79.79947916666667, 79.79947916666667, 180.0, 79.79947916666667, 79.79947916666667, 79.79947916666667, 165.0, 79.79947916666667, 79.79947916666667, 120.0, 79.79947916666667, 160.0, 94.0, 116.0, 140.0, 105.0, 57.0, 74.0, 79.79947916666667, 79.79947916666667, 79.79947916666667, 16.0, 79.79947916666667, 180.0, 79.79947916666667, 112.0, 79.79947916666667], \"xaxis\": \"x\", \"yaxis\": \"y\"}],\n",
              "                        {\"barmode\": \"relative\", \"legend\": {\"tracegroupgap\": 0}, \"margin\": {\"t\": 60}, \"template\": {\"data\": {\"bar\": [{\"error_x\": {\"color\": \"#2a3f5f\"}, \"error_y\": {\"color\": \"#2a3f5f\"}, \"marker\": {\"line\": {\"color\": \"#E5ECF6\", \"width\": 0.5}}, \"type\": \"bar\"}], \"barpolar\": [{\"marker\": {\"line\": {\"color\": \"#E5ECF6\", \"width\": 0.5}}, \"type\": \"barpolar\"}], \"carpet\": [{\"aaxis\": {\"endlinecolor\": \"#2a3f5f\", \"gridcolor\": \"white\", \"linecolor\": \"white\", \"minorgridcolor\": \"white\", \"startlinecolor\": \"#2a3f5f\"}, \"baxis\": {\"endlinecolor\": \"#2a3f5f\", \"gridcolor\": \"white\", \"linecolor\": \"white\", \"minorgridcolor\": \"white\", \"startlinecolor\": \"#2a3f5f\"}, \"type\": \"carpet\"}], \"choropleth\": [{\"colorbar\": {\"outlinewidth\": 0, \"ticks\": \"\"}, \"type\": \"choropleth\"}], \"contour\": [{\"colorbar\": {\"outlinewidth\": 0, \"ticks\": \"\"}, \"colorscale\": [[0.0, \"#0d0887\"], [0.1111111111111111, \"#46039f\"], [0.2222222222222222, \"#7201a8\"], [0.3333333333333333, \"#9c179e\"], [0.4444444444444444, \"#bd3786\"], [0.5555555555555556, \"#d8576b\"], [0.6666666666666666, \"#ed7953\"], [0.7777777777777778, \"#fb9f3a\"], [0.8888888888888888, \"#fdca26\"], [1.0, \"#f0f921\"]], \"type\": \"contour\"}], \"contourcarpet\": [{\"colorbar\": {\"outlinewidth\": 0, \"ticks\": \"\"}, \"type\": \"contourcarpet\"}], \"heatmap\": [{\"colorbar\": {\"outlinewidth\": 0, \"ticks\": \"\"}, \"colorscale\": [[0.0, \"#0d0887\"], [0.1111111111111111, \"#46039f\"], [0.2222222222222222, \"#7201a8\"], [0.3333333333333333, \"#9c179e\"], [0.4444444444444444, \"#bd3786\"], [0.5555555555555556, \"#d8576b\"], [0.6666666666666666, \"#ed7953\"], [0.7777777777777778, \"#fb9f3a\"], [0.8888888888888888, \"#fdca26\"], [1.0, \"#f0f921\"]], \"type\": \"heatmap\"}], \"heatmapgl\": [{\"colorbar\": {\"outlinewidth\": 0, \"ticks\": \"\"}, \"colorscale\": [[0.0, \"#0d0887\"], [0.1111111111111111, \"#46039f\"], [0.2222222222222222, \"#7201a8\"], [0.3333333333333333, \"#9c179e\"], [0.4444444444444444, \"#bd3786\"], [0.5555555555555556, \"#d8576b\"], [0.6666666666666666, \"#ed7953\"], [0.7777777777777778, \"#fb9f3a\"], [0.8888888888888888, \"#fdca26\"], [1.0, \"#f0f921\"]], \"type\": \"heatmapgl\"}], \"histogram\": [{\"marker\": {\"colorbar\": {\"outlinewidth\": 0, \"ticks\": \"\"}}, \"type\": \"histogram\"}], \"histogram2d\": [{\"colorbar\": {\"outlinewidth\": 0, \"ticks\": \"\"}, \"colorscale\": [[0.0, \"#0d0887\"], [0.1111111111111111, \"#46039f\"], [0.2222222222222222, \"#7201a8\"], [0.3333333333333333, \"#9c179e\"], [0.4444444444444444, \"#bd3786\"], [0.5555555555555556, \"#d8576b\"], [0.6666666666666666, \"#ed7953\"], [0.7777777777777778, \"#fb9f3a\"], [0.8888888888888888, \"#fdca26\"], [1.0, \"#f0f921\"]], \"type\": \"histogram2d\"}], \"histogram2dcontour\": [{\"colorbar\": {\"outlinewidth\": 0, \"ticks\": \"\"}, \"colorscale\": [[0.0, \"#0d0887\"], [0.1111111111111111, \"#46039f\"], [0.2222222222222222, \"#7201a8\"], [0.3333333333333333, \"#9c179e\"], [0.4444444444444444, \"#bd3786\"], [0.5555555555555556, \"#d8576b\"], [0.6666666666666666, \"#ed7953\"], [0.7777777777777778, \"#fb9f3a\"], [0.8888888888888888, \"#fdca26\"], [1.0, \"#f0f921\"]], \"type\": \"histogram2dcontour\"}], \"mesh3d\": [{\"colorbar\": {\"outlinewidth\": 0, \"ticks\": \"\"}, \"type\": \"mesh3d\"}], \"parcoords\": [{\"line\": {\"colorbar\": {\"outlinewidth\": 0, \"ticks\": \"\"}}, \"type\": \"parcoords\"}], \"pie\": [{\"automargin\": true, \"type\": \"pie\"}], \"scatter\": [{\"marker\": {\"colorbar\": {\"outlinewidth\": 0, \"ticks\": \"\"}}, \"type\": \"scatter\"}], \"scatter3d\": [{\"line\": {\"colorbar\": {\"outlinewidth\": 0, \"ticks\": \"\"}}, \"marker\": {\"colorbar\": {\"outlinewidth\": 0, \"ticks\": \"\"}}, \"type\": \"scatter3d\"}], \"scattercarpet\": [{\"marker\": {\"colorbar\": {\"outlinewidth\": 0, \"ticks\": \"\"}}, \"type\": \"scattercarpet\"}], \"scattergeo\": [{\"marker\": {\"colorbar\": {\"outlinewidth\": 0, \"ticks\": \"\"}}, \"type\": \"scattergeo\"}], \"scattergl\": [{\"marker\": {\"colorbar\": {\"outlinewidth\": 0, \"ticks\": \"\"}}, \"type\": \"scattergl\"}], \"scattermapbox\": [{\"marker\": {\"colorbar\": {\"outlinewidth\": 0, \"ticks\": \"\"}}, \"type\": \"scattermapbox\"}], \"scatterpolar\": [{\"marker\": {\"colorbar\": {\"outlinewidth\": 0, \"ticks\": \"\"}}, \"type\": \"scatterpolar\"}], \"scatterpolargl\": [{\"marker\": {\"colorbar\": {\"outlinewidth\": 0, \"ticks\": \"\"}}, \"type\": \"scatterpolargl\"}], \"scatterternary\": [{\"marker\": {\"colorbar\": {\"outlinewidth\": 0, \"ticks\": \"\"}}, \"type\": \"scatterternary\"}], \"surface\": [{\"colorbar\": {\"outlinewidth\": 0, \"ticks\": \"\"}, \"colorscale\": [[0.0, \"#0d0887\"], [0.1111111111111111, \"#46039f\"], [0.2222222222222222, \"#7201a8\"], [0.3333333333333333, \"#9c179e\"], [0.4444444444444444, \"#bd3786\"], [0.5555555555555556, \"#d8576b\"], [0.6666666666666666, \"#ed7953\"], [0.7777777777777778, \"#fb9f3a\"], [0.8888888888888888, \"#fdca26\"], [1.0, \"#f0f921\"]], \"type\": \"surface\"}], \"table\": [{\"cells\": {\"fill\": {\"color\": \"#EBF0F8\"}, \"line\": {\"color\": \"white\"}}, \"header\": {\"fill\": {\"color\": \"#C8D4E3\"}, \"line\": {\"color\": \"white\"}}, \"type\": \"table\"}]}, \"layout\": {\"annotationdefaults\": {\"arrowcolor\": \"#2a3f5f\", \"arrowhead\": 0, \"arrowwidth\": 1}, \"coloraxis\": {\"colorbar\": {\"outlinewidth\": 0, \"ticks\": \"\"}}, \"colorscale\": {\"diverging\": [[0, \"#8e0152\"], [0.1, \"#c51b7d\"], [0.2, \"#de77ae\"], [0.3, \"#f1b6da\"], [0.4, \"#fde0ef\"], [0.5, \"#f7f7f7\"], [0.6, \"#e6f5d0\"], [0.7, \"#b8e186\"], [0.8, \"#7fbc41\"], [0.9, \"#4d9221\"], [1, \"#276419\"]], \"sequential\": [[0.0, \"#0d0887\"], [0.1111111111111111, \"#46039f\"], [0.2222222222222222, \"#7201a8\"], [0.3333333333333333, \"#9c179e\"], [0.4444444444444444, \"#bd3786\"], [0.5555555555555556, \"#d8576b\"], [0.6666666666666666, \"#ed7953\"], [0.7777777777777778, \"#fb9f3a\"], [0.8888888888888888, \"#fdca26\"], [1.0, \"#f0f921\"]], \"sequentialminus\": [[0.0, \"#0d0887\"], [0.1111111111111111, \"#46039f\"], [0.2222222222222222, \"#7201a8\"], [0.3333333333333333, \"#9c179e\"], [0.4444444444444444, \"#bd3786\"], [0.5555555555555556, \"#d8576b\"], [0.6666666666666666, \"#ed7953\"], [0.7777777777777778, \"#fb9f3a\"], [0.8888888888888888, \"#fdca26\"], [1.0, \"#f0f921\"]]}, \"colorway\": [\"#636efa\", \"#EF553B\", \"#00cc96\", \"#ab63fa\", \"#FFA15A\", \"#19d3f3\", \"#FF6692\", \"#B6E880\", \"#FF97FF\", \"#FECB52\"], \"font\": {\"color\": \"#2a3f5f\"}, \"geo\": {\"bgcolor\": \"white\", \"lakecolor\": \"white\", \"landcolor\": \"#E5ECF6\", \"showlakes\": true, \"showland\": true, \"subunitcolor\": \"white\"}, \"hoverlabel\": {\"align\": \"left\"}, \"hovermode\": \"closest\", \"mapbox\": {\"style\": \"light\"}, \"paper_bgcolor\": \"white\", \"plot_bgcolor\": \"#E5ECF6\", \"polar\": {\"angularaxis\": {\"gridcolor\": \"white\", \"linecolor\": \"white\", \"ticks\": \"\"}, \"bgcolor\": \"#E5ECF6\", \"radialaxis\": {\"gridcolor\": \"white\", \"linecolor\": \"white\", \"ticks\": \"\"}}, \"scene\": {\"xaxis\": {\"backgroundcolor\": \"#E5ECF6\", \"gridcolor\": \"white\", \"gridwidth\": 2, \"linecolor\": \"white\", \"showbackground\": true, \"ticks\": \"\", \"zerolinecolor\": \"white\"}, \"yaxis\": {\"backgroundcolor\": \"#E5ECF6\", \"gridcolor\": \"white\", \"gridwidth\": 2, \"linecolor\": \"white\", \"showbackground\": true, \"ticks\": \"\", \"zerolinecolor\": \"white\"}, \"zaxis\": {\"backgroundcolor\": \"#E5ECF6\", \"gridcolor\": \"white\", \"gridwidth\": 2, \"linecolor\": \"white\", \"showbackground\": true, \"ticks\": \"\", \"zerolinecolor\": \"white\"}}, \"shapedefaults\": {\"line\": {\"color\": \"#2a3f5f\"}}, \"ternary\": {\"aaxis\": {\"gridcolor\": \"white\", \"linecolor\": \"white\", \"ticks\": \"\"}, \"baxis\": {\"gridcolor\": \"white\", \"linecolor\": \"white\", \"ticks\": \"\"}, \"bgcolor\": \"#E5ECF6\", \"caxis\": {\"gridcolor\": \"white\", \"linecolor\": \"white\", \"ticks\": \"\"}}, \"title\": {\"x\": 0.05}, \"xaxis\": {\"automargin\": true, \"gridcolor\": \"white\", \"linecolor\": \"white\", \"ticks\": \"\", \"title\": {\"standoff\": 15}, \"zerolinecolor\": \"white\", \"zerolinewidth\": 2}, \"yaxis\": {\"automargin\": true, \"gridcolor\": \"white\", \"linecolor\": \"white\", \"ticks\": \"\", \"title\": {\"standoff\": 15}, \"zerolinecolor\": \"white\", \"zerolinewidth\": 2}}}, \"xaxis\": {\"anchor\": \"y\", \"domain\": [0.0, 1.0], \"title\": {\"text\": \"Insulin\"}}, \"yaxis\": {\"anchor\": \"x\", \"domain\": [0.0, 1.0], \"title\": {\"text\": \"count\"}}},\n",
              "                        {\"responsive\": true}\n",
              "                    ).then(function(){\n",
              "                            \n",
              "var gd = document.getElementById('1462ae32-d3dc-40ae-9bf4-27f5a6cccb6f');\n",
              "var x = new MutationObserver(function (mutations, observer) {{\n",
              "        var display = window.getComputedStyle(gd).display;\n",
              "        if (!display || display === 'none') {{\n",
              "            console.log([gd, 'removed!']);\n",
              "            Plotly.purge(gd);\n",
              "            observer.disconnect();\n",
              "        }}\n",
              "}});\n",
              "\n",
              "// Listen for the removal of the full notebook cells\n",
              "var notebookContainer = gd.closest('#notebook-container');\n",
              "if (notebookContainer) {{\n",
              "    x.observe(notebookContainer, {childList: true});\n",
              "}}\n",
              "\n",
              "// Listen for the clearing of the current output cell\n",
              "var outputEl = gd.closest('.output');\n",
              "if (outputEl) {{\n",
              "    x.observe(outputEl, {childList: true});\n",
              "}}\n",
              "\n",
              "                        })\n",
              "                };\n",
              "                \n",
              "            </script>\n",
              "        </div>\n",
              "</body>\n",
              "</html>"
            ]
          },
          "metadata": {
            "tags": []
          }
        },
        {
          "output_type": "display_data",
          "data": {
            "text/html": [
              "<html>\n",
              "<head><meta charset=\"utf-8\" /></head>\n",
              "<body>\n",
              "    <div>\n",
              "            <script src=\"https://cdnjs.cloudflare.com/ajax/libs/mathjax/2.7.5/MathJax.js?config=TeX-AMS-MML_SVG\"></script><script type=\"text/javascript\">if (window.MathJax) {MathJax.Hub.Config({SVG: {font: \"STIX-Web\"}});}</script>\n",
              "                <script type=\"text/javascript\">window.PlotlyConfig = {MathJaxConfig: 'local'};</script>\n",
              "        <script src=\"https://cdn.plot.ly/plotly-latest.min.js\"></script>    \n",
              "            <div id=\"e303645f-d0a2-4ae9-a3eb-f1996f29df85\" class=\"plotly-graph-div\" style=\"height:525px; width:100%;\"></div>\n",
              "            <script type=\"text/javascript\">\n",
              "                \n",
              "                    window.PLOTLYENV=window.PLOTLYENV || {};\n",
              "                    \n",
              "                if (document.getElementById(\"e303645f-d0a2-4ae9-a3eb-f1996f29df85\")) {\n",
              "                    Plotly.newPlot(\n",
              "                        'e303645f-d0a2-4ae9-a3eb-f1996f29df85',\n",
              "                        [{\"alignmentgroup\": \"True\", \"hoverlabel\": {\"namelength\": 0}, \"hovertemplate\": \"Outcome=1<br>Insulin=%{x}\", \"legendgroup\": \"Outcome=1\", \"marker\": {\"color\": \"#636efa\"}, \"name\": \"Outcome=1\", \"notched\": false, \"offsetgroup\": \"Outcome=1\", \"orientation\": \"v\", \"showlegend\": true, \"type\": \"box\", \"x\": [79.79947916666667, 79.79947916666667, 168.0, 88.0, 543.0, 79.79947916666667, 79.79947916666667, 846.0, 175.0, 79.79947916666667, 230.0, 79.79947916666667, 96.0, 79.79947916666667, 79.79947916666667, 146.0, 115.0, 79.79947916666667, 245.0, 79.79947916666667, 79.79947916666667, 207.0, 240.0, 79.79947916666667, 79.79947916666667, 300.0, 304.0, 79.79947916666667, 79.79947916666667, 79.79947916666667, 90.0, 79.79947916666667, 79.79947916666667, 79.79947916666667, 110.0, 79.79947916666667, 220.0, 79.79947916666667, 36.0, 135.0, 495.0, 175.0, 79.79947916666667, 79.79947916666667, 100.0, 79.79947916666667, 99.0, 145.0, 79.79947916666667, 168.0, 79.79947916666667, 225.0, 79.79947916666667, 155.0, 79.79947916666667, 79.79947916666667, 114.0, 79.79947916666667, 156.0, 79.79947916666667, 130.0, 130.0, 130.0, 79.79947916666667, 79.79947916666667, 495.0, 58.0, 114.0, 160.0, 79.79947916666667, 79.79947916666667, 210.0, 48.0, 99.0, 318.0, 280.0, 79.79947916666667, 79.79947916666667, 130.0, 175.0, 271.0, 129.0, 79.79947916666667, 79.79947916666667, 478.0, 79.79947916666667, 79.79947916666667, 79.79947916666667, 370.0, 79.79947916666667, 192.0, 79.79947916666667, 79.79947916666667, 79.79947916666667, 176.0, 79.79947916666667, 258.0, 79.79947916666667, 150.0, 79.79947916666667, 79.79947916666667, 79.79947916666667, 79.79947916666667, 79.79947916666667, 79.79947916666667, 79.79947916666667, 79.79947916666667, 79.79947916666667, 220.0, 74.0, 182.0, 194.0, 360.0, 184.0, 79.79947916666667, 135.0, 79.79947916666667, 132.0, 180.0, 205.0, 96.0, 79.79947916666667, 79.79947916666667, 79.79947916666667, 79.79947916666667, 79.79947916666667, 29.0, 156.0, 120.0, 79.79947916666667, 79.79947916666667, 171.0, 79.79947916666667, 79.79947916666667, 79.79947916666667, 167.0, 79.79947916666667, 249.0, 325.0, 79.79947916666667, 79.79947916666667, 140.0, 465.0, 325.0, 79.79947916666667, 79.79947916666667, 79.79947916666667, 285.0, 79.79947916666667, 79.79947916666667, 79.79947916666667, 79.79947916666667, 79.79947916666667, 88.0, 79.79947916666667, 79.79947916666667, 79.79947916666667, 579.0, 167.0, 474.0, 79.79947916666667, 115.0, 210.0, 277.0, 180.0, 180.0, 79.79947916666667, 79.79947916666667, 79.79947916666667, 79.79947916666667, 14.0, 64.0, 79.79947916666667, 79.79947916666667, 237.0, 79.79947916666667, 191.0, 328.0, 79.79947916666667, 250.0, 122.0, 145.0, 79.79947916666667, 90.0, 79.79947916666667, 105.0, 165.0, 79.79947916666667, 79.79947916666667, 155.0, 215.0, 190.0, 79.79947916666667, 225.0, 207.0, 79.79947916666667, 274.0, 165.0, 79.79947916666667, 79.79947916666667, 79.79947916666667, 600.0, 79.79947916666667, 156.0, 79.79947916666667, 79.79947916666667, 185.0, 79.79947916666667, 126.0, 79.79947916666667, 293.0, 194.0, 321.0, 144.0, 79.79947916666667, 79.79947916666667, 79.79947916666667, 79.79947916666667, 91.0, 79.79947916666667, 144.0, 159.0, 130.0, 540.0, 70.0, 79.79947916666667, 231.0, 130.0, 79.79947916666667, 79.79947916666667, 79.79947916666667, 79.79947916666667, 79.79947916666667, 79.79947916666667, 79.79947916666667, 79.79947916666667, 180.0, 79.79947916666667, 125.0, 480.0, 125.0, 79.79947916666667, 79.79947916666667, 79.79947916666667, 79.79947916666667, 160.0, 79.79947916666667, 392.0, 185.0, 79.79947916666667, 127.0, 79.0, 79.79947916666667, 120.0, 79.79947916666667, 150.0, 79.79947916666667, 79.79947916666667, 200.0, 79.79947916666667, 79.79947916666667, 510.0, 79.79947916666667, 110.0, 79.79947916666667, 79.79947916666667, 79.79947916666667, 79.79947916666667], \"x0\": \" \", \"xaxis\": \"x\", \"y0\": \" \", \"yaxis\": \"y\"}, {\"alignmentgroup\": \"True\", \"hoverlabel\": {\"namelength\": 0}, \"hovertemplate\": \"Outcome=0<br>Insulin=%{x}\", \"legendgroup\": \"Outcome=0\", \"marker\": {\"color\": \"#EF553B\"}, \"name\": \"Outcome=0\", \"notched\": false, \"offsetgroup\": \"Outcome=0\", \"orientation\": \"v\", \"showlegend\": true, \"type\": \"box\", \"x\": [79.79947916666667, 94.0, 79.79947916666667, 79.79947916666667, 79.79947916666667, 79.79947916666667, 83.0, 235.0, 79.79947916666667, 140.0, 110.0, 79.79947916666667, 79.79947916666667, 54.0, 79.79947916666667, 79.79947916666667, 192.0, 79.79947916666667, 70.0, 79.79947916666667, 79.79947916666667, 79.79947916666667, 79.79947916666667, 79.79947916666667, 79.79947916666667, 82.0, 36.0, 23.0, 342.0, 79.79947916666667, 110.0, 79.79947916666667, 142.0, 79.79947916666667, 79.79947916666667, 128.0, 79.79947916666667, 79.79947916666667, 38.0, 100.0, 140.0, 270.0, 79.79947916666667, 79.79947916666667, 79.79947916666667, 79.79947916666667, 79.79947916666667, 79.79947916666667, 79.79947916666667, 71.0, 79.79947916666667, 125.0, 79.79947916666667, 71.0, 79.79947916666667, 79.79947916666667, 176.0, 48.0, 64.0, 228.0, 79.79947916666667, 76.0, 64.0, 79.79947916666667, 79.79947916666667, 40.0, 79.79947916666667, 152.0, 79.79947916666667, 140.0, 18.0, 37.0, 79.79947916666667, 79.79947916666667, 79.79947916666667, 51.0, 79.79947916666667, 100.0, 79.79947916666667, 135.0, 94.0, 79.79947916666667, 49.0, 140.0, 50.0, 92.0, 79.79947916666667, 325.0, 79.79947916666667, 79.79947916666667, 63.0, 284.0, 79.79947916666667, 79.79947916666667, 119.0, 79.79947916666667, 79.79947916666667, 204.0, 79.79947916666667, 485.0, 94.0, 135.0, 53.0, 79.79947916666667, 105.0, 285.0, 79.79947916666667, 79.79947916666667, 79.79947916666667, 79.79947916666667, 78.0, 79.79947916666667, 48.0, 55.0, 79.79947916666667, 79.79947916666667, 79.79947916666667, 92.0, 23.0, 79.79947916666667, 79.79947916666667, 79.79947916666667, 94.0, 79.79947916666667, 79.79947916666667, 79.79947916666667, 79.79947916666667, 79.79947916666667, 44.0, 190.0, 79.79947916666667, 87.0, 79.79947916666667, 79.79947916666667, 79.79947916666667, 120.0, 79.79947916666667, 190.0, 56.0, 32.0, 79.79947916666667, 744.0, 53.0, 37.0, 79.79947916666667, 45.0, 79.79947916666667, 79.79947916666667, 88.0, 194.0, 79.79947916666667, 680.0, 402.0, 79.79947916666667, 79.79947916666667, 79.79947916666667, 55.0, 79.79947916666667, 79.79947916666667, 79.79947916666667, 375.0, 130.0, 79.79947916666667, 79.79947916666667, 67.0, 79.79947916666667, 79.79947916666667, 56.0, 79.79947916666667, 45.0, 79.79947916666667, 57.0, 116.0, 79.79947916666667, 278.0, 122.0, 155.0, 135.0, 545.0, 49.0, 75.0, 40.0, 79.79947916666667, 120.0, 215.0, 79.79947916666667, 42.0, 79.79947916666667, 105.0, 148.0, 79.79947916666667, 148.0, 85.0, 94.0, 64.0, 140.0, 231.0, 79.79947916666667, 168.0, 79.79947916666667, 68.0, 79.79947916666667, 52.0, 79.79947916666667, 58.0, 255.0, 79.79947916666667, 105.0, 73.0, 79.79947916666667, 79.79947916666667, 79.79947916666667, 108.0, 83.0, 79.79947916666667, 74.0, 79.79947916666667, 79.79947916666667, 79.79947916666667, 43.0, 79.79947916666667, 54.0, 79.79947916666667, 79.79947916666667, 293.0, 83.0, 79.79947916666667, 66.0, 89.0, 66.0, 94.0, 158.0, 84.0, 75.0, 72.0, 82.0, 79.79947916666667, 182.0, 59.0, 110.0, 50.0, 81.0, 196.0, 415.0, 87.0, 275.0, 115.0, 79.79947916666667, 79.79947916666667, 79.79947916666667, 165.0, 79.79947916666667, 79.79947916666667, 176.0, 310.0, 61.0, 79.79947916666667, 79.79947916666667, 170.0, 76.0, 78.0, 79.79947916666667, 79.79947916666667, 145.0, 79.79947916666667, 85.0, 60.0, 79.79947916666667, 79.79947916666667, 79.79947916666667, 79.79947916666667, 79.79947916666667, 79.79947916666667, 50.0, 120.0, 70.0, 92.0, 63.0, 95.0, 210.0, 79.79947916666667, 105.0, 79.79947916666667, 71.0, 60.0, 56.0, 79.79947916666667, 49.0, 79.79947916666667, 79.79947916666667, 105.0, 36.0, 100.0, 140.0, 79.79947916666667, 79.79947916666667, 79.79947916666667, 79.79947916666667, 79.79947916666667, 79.79947916666667, 110.0, 75.0, 79.79947916666667, 79.79947916666667, 49.0, 125.0, 480.0, 265.0, 79.79947916666667, 79.79947916666667, 66.0, 79.79947916666667, 79.79947916666667, 79.79947916666667, 79.79947916666667, 79.79947916666667, 76.0, 193.0, 71.0, 79.79947916666667, 79.0, 79.79947916666667, 79.79947916666667, 170.0, 76.0, 79.79947916666667, 210.0, 79.79947916666667, 79.79947916666667, 86.0, 79.79947916666667, 79.79947916666667, 326.0, 66.0, 130.0, 79.79947916666667, 79.79947916666667, 79.79947916666667, 82.0, 105.0, 188.0, 79.79947916666667, 106.0, 79.79947916666667, 65.0, 79.79947916666667, 56.0, 79.79947916666667, 79.79947916666667, 210.0, 56.0, 76.0, 166.0, 67.0, 79.79947916666667, 79.79947916666667, 106.0, 79.79947916666667, 44.0, 115.0, 215.0, 79.79947916666667, 79.79947916666667, 79.79947916666667, 79.79947916666667, 77.0, 54.0, 79.79947916666667, 88.0, 18.0, 126.0, 126.0, 79.79947916666667, 79.79947916666667, 44.0, 120.0, 330.0, 63.0, 130.0, 79.79947916666667, 79.79947916666667, 79.79947916666667, 79.79947916666667, 79.79947916666667, 79.79947916666667, 79.79947916666667, 140.0, 115.0, 230.0, 79.79947916666667, 25.0, 120.0, 79.79947916666667, 79.79947916666667, 79.79947916666667, 79.79947916666667, 41.0, 272.0, 182.0, 158.0, 79.79947916666667, 79.79947916666667, 79.79947916666667, 15.0, 160.0, 79.79947916666667, 79.79947916666667, 115.0, 79.79947916666667, 54.0, 79.79947916666667, 79.79947916666667, 79.79947916666667, 79.79947916666667, 90.0, 79.79947916666667, 183.0, 79.79947916666667, 79.79947916666667, 66.0, 46.0, 105.0, 79.79947916666667, 79.79947916666667, 152.0, 440.0, 79.79947916666667, 100.0, 106.0, 77.0, 79.79947916666667, 135.0, 90.0, 200.0, 79.79947916666667, 79.79947916666667, 132.0, 190.0, 100.0, 168.0, 79.79947916666667, 49.0, 240.0, 79.79947916666667, 79.79947916666667, 265.0, 45.0, 105.0, 79.79947916666667, 205.0, 79.79947916666667, 79.79947916666667, 180.0, 79.79947916666667, 95.0, 79.79947916666667, 79.79947916666667, 155.0, 79.79947916666667, 200.0, 79.79947916666667, 100.0, 79.79947916666667, 335.0, 387.0, 22.0, 291.0, 79.79947916666667, 79.79947916666667, 178.0, 79.79947916666667, 200.0, 105.0, 79.79947916666667, 79.79947916666667, 180.0, 79.79947916666667, 79.79947916666667, 79.79947916666667, 165.0, 79.79947916666667, 79.79947916666667, 120.0, 79.79947916666667, 160.0, 94.0, 116.0, 140.0, 105.0, 57.0, 74.0, 79.79947916666667, 79.79947916666667, 79.79947916666667, 16.0, 79.79947916666667, 180.0, 79.79947916666667, 112.0, 79.79947916666667], \"x0\": \" \", \"xaxis\": \"x\", \"y0\": \" \", \"yaxis\": \"y\"}],\n",
              "                        {\"boxmode\": \"group\", \"legend\": {\"tracegroupgap\": 0}, \"margin\": {\"t\": 60}, \"template\": {\"data\": {\"bar\": [{\"error_x\": {\"color\": \"#2a3f5f\"}, \"error_y\": {\"color\": \"#2a3f5f\"}, \"marker\": {\"line\": {\"color\": \"#E5ECF6\", \"width\": 0.5}}, \"type\": \"bar\"}], \"barpolar\": [{\"marker\": {\"line\": {\"color\": \"#E5ECF6\", \"width\": 0.5}}, \"type\": \"barpolar\"}], \"carpet\": [{\"aaxis\": {\"endlinecolor\": \"#2a3f5f\", \"gridcolor\": \"white\", \"linecolor\": \"white\", \"minorgridcolor\": \"white\", \"startlinecolor\": \"#2a3f5f\"}, \"baxis\": {\"endlinecolor\": \"#2a3f5f\", \"gridcolor\": \"white\", \"linecolor\": \"white\", \"minorgridcolor\": \"white\", \"startlinecolor\": \"#2a3f5f\"}, \"type\": \"carpet\"}], \"choropleth\": [{\"colorbar\": {\"outlinewidth\": 0, \"ticks\": \"\"}, \"type\": \"choropleth\"}], \"contour\": [{\"colorbar\": {\"outlinewidth\": 0, \"ticks\": \"\"}, \"colorscale\": [[0.0, \"#0d0887\"], [0.1111111111111111, \"#46039f\"], [0.2222222222222222, \"#7201a8\"], [0.3333333333333333, \"#9c179e\"], [0.4444444444444444, \"#bd3786\"], [0.5555555555555556, \"#d8576b\"], [0.6666666666666666, \"#ed7953\"], [0.7777777777777778, \"#fb9f3a\"], [0.8888888888888888, \"#fdca26\"], [1.0, \"#f0f921\"]], \"type\": \"contour\"}], \"contourcarpet\": [{\"colorbar\": {\"outlinewidth\": 0, \"ticks\": \"\"}, \"type\": \"contourcarpet\"}], \"heatmap\": [{\"colorbar\": {\"outlinewidth\": 0, \"ticks\": \"\"}, \"colorscale\": [[0.0, \"#0d0887\"], [0.1111111111111111, \"#46039f\"], [0.2222222222222222, \"#7201a8\"], [0.3333333333333333, \"#9c179e\"], [0.4444444444444444, \"#bd3786\"], [0.5555555555555556, \"#d8576b\"], [0.6666666666666666, \"#ed7953\"], [0.7777777777777778, \"#fb9f3a\"], [0.8888888888888888, \"#fdca26\"], [1.0, \"#f0f921\"]], \"type\": \"heatmap\"}], \"heatmapgl\": [{\"colorbar\": {\"outlinewidth\": 0, \"ticks\": \"\"}, \"colorscale\": [[0.0, \"#0d0887\"], [0.1111111111111111, \"#46039f\"], [0.2222222222222222, \"#7201a8\"], [0.3333333333333333, \"#9c179e\"], [0.4444444444444444, \"#bd3786\"], [0.5555555555555556, \"#d8576b\"], [0.6666666666666666, \"#ed7953\"], [0.7777777777777778, \"#fb9f3a\"], [0.8888888888888888, \"#fdca26\"], [1.0, \"#f0f921\"]], \"type\": \"heatmapgl\"}], \"histogram\": [{\"marker\": {\"colorbar\": {\"outlinewidth\": 0, \"ticks\": \"\"}}, \"type\": \"histogram\"}], \"histogram2d\": [{\"colorbar\": {\"outlinewidth\": 0, \"ticks\": \"\"}, \"colorscale\": [[0.0, \"#0d0887\"], [0.1111111111111111, \"#46039f\"], [0.2222222222222222, \"#7201a8\"], [0.3333333333333333, \"#9c179e\"], [0.4444444444444444, \"#bd3786\"], [0.5555555555555556, \"#d8576b\"], [0.6666666666666666, \"#ed7953\"], [0.7777777777777778, \"#fb9f3a\"], [0.8888888888888888, \"#fdca26\"], [1.0, \"#f0f921\"]], \"type\": \"histogram2d\"}], \"histogram2dcontour\": [{\"colorbar\": {\"outlinewidth\": 0, \"ticks\": \"\"}, \"colorscale\": [[0.0, \"#0d0887\"], [0.1111111111111111, \"#46039f\"], [0.2222222222222222, \"#7201a8\"], [0.3333333333333333, \"#9c179e\"], [0.4444444444444444, \"#bd3786\"], [0.5555555555555556, \"#d8576b\"], [0.6666666666666666, \"#ed7953\"], [0.7777777777777778, \"#fb9f3a\"], [0.8888888888888888, \"#fdca26\"], [1.0, \"#f0f921\"]], \"type\": \"histogram2dcontour\"}], \"mesh3d\": [{\"colorbar\": {\"outlinewidth\": 0, \"ticks\": \"\"}, \"type\": \"mesh3d\"}], \"parcoords\": [{\"line\": {\"colorbar\": {\"outlinewidth\": 0, \"ticks\": \"\"}}, \"type\": \"parcoords\"}], \"pie\": [{\"automargin\": true, \"type\": \"pie\"}], \"scatter\": [{\"marker\": {\"colorbar\": {\"outlinewidth\": 0, \"ticks\": \"\"}}, \"type\": \"scatter\"}], \"scatter3d\": [{\"line\": {\"colorbar\": {\"outlinewidth\": 0, \"ticks\": \"\"}}, \"marker\": {\"colorbar\": {\"outlinewidth\": 0, \"ticks\": \"\"}}, \"type\": \"scatter3d\"}], \"scattercarpet\": [{\"marker\": {\"colorbar\": {\"outlinewidth\": 0, \"ticks\": \"\"}}, \"type\": \"scattercarpet\"}], \"scattergeo\": [{\"marker\": {\"colorbar\": {\"outlinewidth\": 0, \"ticks\": \"\"}}, \"type\": \"scattergeo\"}], \"scattergl\": [{\"marker\": {\"colorbar\": {\"outlinewidth\": 0, \"ticks\": \"\"}}, \"type\": \"scattergl\"}], \"scattermapbox\": [{\"marker\": {\"colorbar\": {\"outlinewidth\": 0, \"ticks\": \"\"}}, \"type\": \"scattermapbox\"}], \"scatterpolar\": [{\"marker\": {\"colorbar\": {\"outlinewidth\": 0, \"ticks\": \"\"}}, \"type\": \"scatterpolar\"}], \"scatterpolargl\": [{\"marker\": {\"colorbar\": {\"outlinewidth\": 0, \"ticks\": \"\"}}, \"type\": \"scatterpolargl\"}], \"scatterternary\": [{\"marker\": {\"colorbar\": {\"outlinewidth\": 0, \"ticks\": \"\"}}, \"type\": \"scatterternary\"}], \"surface\": [{\"colorbar\": {\"outlinewidth\": 0, \"ticks\": \"\"}, \"colorscale\": [[0.0, \"#0d0887\"], [0.1111111111111111, \"#46039f\"], [0.2222222222222222, \"#7201a8\"], [0.3333333333333333, \"#9c179e\"], [0.4444444444444444, \"#bd3786\"], [0.5555555555555556, \"#d8576b\"], [0.6666666666666666, \"#ed7953\"], [0.7777777777777778, \"#fb9f3a\"], [0.8888888888888888, \"#fdca26\"], [1.0, \"#f0f921\"]], \"type\": \"surface\"}], \"table\": [{\"cells\": {\"fill\": {\"color\": \"#EBF0F8\"}, \"line\": {\"color\": \"white\"}}, \"header\": {\"fill\": {\"color\": \"#C8D4E3\"}, \"line\": {\"color\": \"white\"}}, \"type\": \"table\"}]}, \"layout\": {\"annotationdefaults\": {\"arrowcolor\": \"#2a3f5f\", \"arrowhead\": 0, \"arrowwidth\": 1}, \"coloraxis\": {\"colorbar\": {\"outlinewidth\": 0, \"ticks\": \"\"}}, \"colorscale\": {\"diverging\": [[0, \"#8e0152\"], [0.1, \"#c51b7d\"], [0.2, \"#de77ae\"], [0.3, \"#f1b6da\"], [0.4, \"#fde0ef\"], [0.5, \"#f7f7f7\"], [0.6, \"#e6f5d0\"], [0.7, \"#b8e186\"], [0.8, \"#7fbc41\"], [0.9, \"#4d9221\"], [1, \"#276419\"]], \"sequential\": [[0.0, \"#0d0887\"], [0.1111111111111111, \"#46039f\"], [0.2222222222222222, \"#7201a8\"], [0.3333333333333333, \"#9c179e\"], [0.4444444444444444, \"#bd3786\"], [0.5555555555555556, \"#d8576b\"], [0.6666666666666666, \"#ed7953\"], [0.7777777777777778, \"#fb9f3a\"], [0.8888888888888888, \"#fdca26\"], [1.0, \"#f0f921\"]], \"sequentialminus\": [[0.0, \"#0d0887\"], [0.1111111111111111, \"#46039f\"], [0.2222222222222222, \"#7201a8\"], [0.3333333333333333, \"#9c179e\"], [0.4444444444444444, \"#bd3786\"], [0.5555555555555556, \"#d8576b\"], [0.6666666666666666, \"#ed7953\"], [0.7777777777777778, \"#fb9f3a\"], [0.8888888888888888, \"#fdca26\"], [1.0, \"#f0f921\"]]}, \"colorway\": [\"#636efa\", \"#EF553B\", \"#00cc96\", \"#ab63fa\", \"#FFA15A\", \"#19d3f3\", \"#FF6692\", \"#B6E880\", \"#FF97FF\", \"#FECB52\"], \"font\": {\"color\": \"#2a3f5f\"}, \"geo\": {\"bgcolor\": \"white\", \"lakecolor\": \"white\", \"landcolor\": \"#E5ECF6\", \"showlakes\": true, \"showland\": true, \"subunitcolor\": \"white\"}, \"hoverlabel\": {\"align\": \"left\"}, \"hovermode\": \"closest\", \"mapbox\": {\"style\": \"light\"}, \"paper_bgcolor\": \"white\", \"plot_bgcolor\": \"#E5ECF6\", \"polar\": {\"angularaxis\": {\"gridcolor\": \"white\", \"linecolor\": \"white\", \"ticks\": \"\"}, \"bgcolor\": \"#E5ECF6\", \"radialaxis\": {\"gridcolor\": \"white\", \"linecolor\": \"white\", \"ticks\": \"\"}}, \"scene\": {\"xaxis\": {\"backgroundcolor\": \"#E5ECF6\", \"gridcolor\": \"white\", \"gridwidth\": 2, \"linecolor\": \"white\", \"showbackground\": true, \"ticks\": \"\", \"zerolinecolor\": \"white\"}, \"yaxis\": {\"backgroundcolor\": \"#E5ECF6\", \"gridcolor\": \"white\", \"gridwidth\": 2, \"linecolor\": \"white\", \"showbackground\": true, \"ticks\": \"\", \"zerolinecolor\": \"white\"}, \"zaxis\": {\"backgroundcolor\": \"#E5ECF6\", \"gridcolor\": \"white\", \"gridwidth\": 2, \"linecolor\": \"white\", \"showbackground\": true, \"ticks\": \"\", \"zerolinecolor\": \"white\"}}, \"shapedefaults\": {\"line\": {\"color\": \"#2a3f5f\"}}, \"ternary\": {\"aaxis\": {\"gridcolor\": \"white\", \"linecolor\": \"white\", \"ticks\": \"\"}, \"baxis\": {\"gridcolor\": \"white\", \"linecolor\": \"white\", \"ticks\": \"\"}, \"bgcolor\": \"#E5ECF6\", \"caxis\": {\"gridcolor\": \"white\", \"linecolor\": \"white\", \"ticks\": \"\"}}, \"title\": {\"x\": 0.05}, \"xaxis\": {\"automargin\": true, \"gridcolor\": \"white\", \"linecolor\": \"white\", \"ticks\": \"\", \"title\": {\"standoff\": 15}, \"zerolinecolor\": \"white\", \"zerolinewidth\": 2}, \"yaxis\": {\"automargin\": true, \"gridcolor\": \"white\", \"linecolor\": \"white\", \"ticks\": \"\", \"title\": {\"standoff\": 15}, \"zerolinecolor\": \"white\", \"zerolinewidth\": 2}}}, \"xaxis\": {\"anchor\": \"y\", \"domain\": [0.0, 1.0], \"title\": {\"text\": \"Insulin\"}}, \"yaxis\": {\"anchor\": \"x\", \"domain\": [0.0, 1.0]}},\n",
              "                        {\"responsive\": true}\n",
              "                    ).then(function(){\n",
              "                            \n",
              "var gd = document.getElementById('e303645f-d0a2-4ae9-a3eb-f1996f29df85');\n",
              "var x = new MutationObserver(function (mutations, observer) {{\n",
              "        var display = window.getComputedStyle(gd).display;\n",
              "        if (!display || display === 'none') {{\n",
              "            console.log([gd, 'removed!']);\n",
              "            Plotly.purge(gd);\n",
              "            observer.disconnect();\n",
              "        }}\n",
              "}});\n",
              "\n",
              "// Listen for the removal of the full notebook cells\n",
              "var notebookContainer = gd.closest('#notebook-container');\n",
              "if (notebookContainer) {{\n",
              "    x.observe(notebookContainer, {childList: true});\n",
              "}}\n",
              "\n",
              "// Listen for the clearing of the current output cell\n",
              "var outputEl = gd.closest('.output');\n",
              "if (outputEl) {{\n",
              "    x.observe(outputEl, {childList: true});\n",
              "}}\n",
              "\n",
              "                        })\n",
              "                };\n",
              "                \n",
              "            </script>\n",
              "        </div>\n",
              "</body>\n",
              "</html>"
            ]
          },
          "metadata": {
            "tags": []
          }
        }
      ]
    },
    {
      "cell_type": "markdown",
      "metadata": {
        "papermill": {
          "duration": 0.063306,
          "end_time": "2021-07-22T14:33:30.153494",
          "exception": false,
          "start_time": "2021-07-22T14:33:30.090188",
          "status": "completed"
        },
        "tags": [],
        "id": "65cbbd8e"
      },
      "source": [
        "  ### that higher the Insulin level more the chances of diabetes.¶"
      ]
    },
    {
      "cell_type": "markdown",
      "metadata": {
        "papermill": {
          "duration": 0.062934,
          "end_time": "2021-07-22T14:33:30.278679",
          "exception": false,
          "start_time": "2021-07-22T14:33:30.215745",
          "status": "completed"
        },
        "tags": [],
        "id": "8bf004f6"
      },
      "source": [
        "\n",
        "<p style=\"font-family: Arials; line-height: 1.3; font-size: 23px; font-weight: bold; letter-spacing: 2px; text-align: left; color: #23527c\">Let's look at how the BMI affect the chances if being Diabetic</p>"
      ]
    },
    {
      "cell_type": "code",
      "metadata": {
        "execution": {
          "iopub.execute_input": "2021-07-22T14:33:30.419941Z",
          "iopub.status.busy": "2021-07-22T14:33:30.418944Z",
          "iopub.status.idle": "2021-07-22T14:33:30.561814Z",
          "shell.execute_reply": "2021-07-22T14:33:30.561132Z",
          "shell.execute_reply.started": "2021-07-17T18:13:35.713992Z"
        },
        "papermill": {
          "duration": 0.220829,
          "end_time": "2021-07-22T14:33:30.562005",
          "exception": false,
          "start_time": "2021-07-22T14:33:30.341176",
          "status": "completed"
        },
        "tags": [],
        "id": "94172cc5",
        "colab": {
          "base_uri": "https://localhost:8080/",
          "height": 1000
        },
        "outputId": "43f81b13-9fce-4e62-fd8a-e9767e592267"
      },
      "source": [
        "#BMI vs Outcome\n",
        "fig = px.histogram(data, x = data['BMI'], color = 'Outcome')\n",
        "fig.show()\n",
        "fig2 = px.box(data, x = data['BMI'], color = 'Outcome')\n",
        "fig2.show()"
      ],
      "execution_count": 15,
      "outputs": [
        {
          "output_type": "display_data",
          "data": {
            "text/html": [
              "<html>\n",
              "<head><meta charset=\"utf-8\" /></head>\n",
              "<body>\n",
              "    <div>\n",
              "            <script src=\"https://cdnjs.cloudflare.com/ajax/libs/mathjax/2.7.5/MathJax.js?config=TeX-AMS-MML_SVG\"></script><script type=\"text/javascript\">if (window.MathJax) {MathJax.Hub.Config({SVG: {font: \"STIX-Web\"}});}</script>\n",
              "                <script type=\"text/javascript\">window.PlotlyConfig = {MathJaxConfig: 'local'};</script>\n",
              "        <script src=\"https://cdn.plot.ly/plotly-latest.min.js\"></script>    \n",
              "            <div id=\"439f7cc3-7fe8-4210-aafb-a077d4ef26b5\" class=\"plotly-graph-div\" style=\"height:525px; width:100%;\"></div>\n",
              "            <script type=\"text/javascript\">\n",
              "                \n",
              "                    window.PLOTLYENV=window.PLOTLYENV || {};\n",
              "                    \n",
              "                if (document.getElementById(\"439f7cc3-7fe8-4210-aafb-a077d4ef26b5\")) {\n",
              "                    Plotly.newPlot(\n",
              "                        '439f7cc3-7fe8-4210-aafb-a077d4ef26b5',\n",
              "                        [{\"alignmentgroup\": \"True\", \"bingroup\": \"x\", \"hoverlabel\": {\"namelength\": 0}, \"hovertemplate\": \"Outcome=1<br>BMI=%{x}<br>count=%{y}\", \"legendgroup\": \"Outcome=1\", \"marker\": {\"color\": \"#636efa\"}, \"name\": \"Outcome=1\", \"offsetgroup\": \"Outcome=1\", \"orientation\": \"v\", \"showlegend\": true, \"type\": \"histogram\", \"x\": [33.6, 23.3, 43.1, 31.0, 30.5, 31.992578124999977, 38.0, 30.1, 25.8, 30.0, 45.8, 29.6, 34.6, 39.8, 29.0, 36.6, 31.1, 39.4, 31.6, 32.9, 38.2, 37.1, 45.4, 42.0, 39.1, 33.7, 37.7, 32.9, 32.8, 32.5, 32.9, 43.4, 43.2, 48.8, 37.1, 23.8, 49.7, 39.0, 37.4, 33.3, 34.0, 30.5, 31.2, 34.0, 53.2, 33.3, 55.0, 34.5, 27.9, 29.7, 33.3, 34.5, 32.4, 34.3, 47.9, 50.0, 40.9, 31.6, 29.9, 30.8, 35.4, 32.7, 67.1, 39.1, 35.9, 30.1, 32.0, 27.9, 31.6, 30.4, 52.3, 39.4, 22.9, 34.8, 30.9, 37.5, 37.7, 35.5, 42.6, 34.2, 41.8, 35.8, 29.0, 37.8, 34.6, 31.6, 37.2, 44.0, 46.2, 43.6, 35.9, 44.1, 30.8, 25.6, 27.1, 30.0, 27.6, 33.6, 33.3, 30.0, 32.0, 36.3, 27.5, 45.6, 26.5, 37.9, 30.4, 27.0, 45.6, 36.6, 43.3, 40.5, 28.0, 36.6, 32.3, 31.6, 52.9, 25.5, 30.5, 32.9, 26.6, 35.9, 30.5, 23.5, 31.6, 27.4, 26.8, 35.1, 45.5, 43.3, 31.2, 34.2, 39.9, 41.0, 30.4, 33.3, 39.9, 36.5, 31.2, 38.5, 27.6, 32.8, 38.4, 39.2, 48.3, 32.3, 43.3, 32.0, 45.7, 32.9, 34.3, 34.9, 32.0, 35.0, 32.9, 28.9, 25.9, 42.4, 34.6, 35.7, 38.5, 26.4, 42.9, 37.0, 34.1, 35.0, 42.4, 34.3, 30.5, 29.7, 59.4, 33.6, 28.9, 33.6, 37.6, 30.0, 33.7, 35.5, 44.2, 42.3, 28.9, 25.1, 39.0, 36.5, 29.7, 31.6, 30.3, 34.2, 32.9, 36.4, 39.4, 32.4, 34.9, 34.5, 43.6, 33.8, 41.3, 34.3, 42.9, 34.7, 42.1, 28.7, 34.9, 33.3, 46.8, 34.4, 32.0, 36.8, 35.2, 28.4, 40.0, 32.9, 38.2, 36.1, 28.2, 32.4, 27.4, 31.2, 40.9, 29.5, 23.4, 37.8, 28.3, 38.7, 34.2, 42.9, 37.6, 37.9, 33.7, 32.5, 27.5, 30.9, 24.8, 36.0, 49.6, 32.3, 46.1, 42.3, 38.5, 30.4, 29.9, 27.6, 35.0, 31.992578124999977, 32.8, 38.0, 41.2, 33.9, 33.8, 35.6, 29.3, 28.4, 28.4, 44.5, 39.5, 42.3, 32.7, 49.3, 36.4, 24.3, 31.2, 43.3, 32.4, 36.5, 36.3, 35.5, 44.0, 30.1], \"xaxis\": \"x\", \"yaxis\": \"y\"}, {\"alignmentgroup\": \"True\", \"bingroup\": \"x\", \"hoverlabel\": {\"namelength\": 0}, \"hovertemplate\": \"Outcome=0<br>BMI=%{x}<br>count=%{y}\", \"legendgroup\": \"Outcome=0\", \"marker\": {\"color\": \"#EF553B\"}, \"name\": \"Outcome=0\", \"offsetgroup\": \"Outcome=0\", \"orientation\": \"v\", \"showlegend\": true, \"type\": \"histogram\", \"x\": [26.6, 28.1, 25.6, 35.3, 37.6, 27.1, 43.3, 39.3, 35.4, 23.2, 22.2, 34.1, 36.0, 24.8, 19.9, 27.6, 24.0, 33.2, 34.0, 40.2, 22.7, 27.4, 29.7, 28.0, 31.992578124999977, 19.4, 24.2, 24.4, 34.7, 23.0, 46.8, 40.5, 41.5, 31.992578124999977, 25.0, 25.4, 29.0, 42.7, 19.6, 28.9, 28.6, 35.1, 32.0, 24.7, 32.6, 37.7, 25.0, 22.4, 31.992578124999977, 29.3, 24.6, 32.4, 36.6, 38.5, 26.5, 19.1, 32.0, 46.7, 24.7, 33.9, 31.6, 20.4, 28.7, 26.1, 22.5, 26.6, 39.6, 28.7, 22.4, 29.5, 34.3, 31.2, 34.0, 33.7, 28.2, 23.2, 34.2, 33.6, 26.8, 42.9, 33.3, 38.3, 21.1, 33.8, 30.8, 28.7, 31.2, 36.9, 21.1, 39.5, 32.5, 32.8, 31.992578124999977, 32.8, 30.5, 33.7, 27.3, 37.4, 21.9, 40.6, 24.6, 25.2, 29.0, 29.7, 37.2, 44.2, 29.7, 32.5, 29.6, 31.9, 28.4, 28.9, 43.5, 29.7, 31.2, 45.0, 23.2, 34.9, 27.7, 26.8, 27.6, 22.6, 33.1, 24.4, 24.3, 31.0, 40.1, 27.3, 20.4, 37.7, 23.9, 33.2, 27.7, 42.8, 34.2, 30.0, 25.2, 28.8, 23.6, 34.6, 35.7, 36.7, 45.2, 25.4, 35.0, 29.7, 18.4, 29.2, 33.1, 38.2, 31.2, 52.3, 35.4, 30.1, 31.2, 28.0, 24.4, 35.8, 30.1, 28.7, 25.9, 30.9, 32.1, 32.4, 33.6, 40.0, 25.1, 25.2, 23.0, 33.2, 34.2, 40.5, 27.8, 24.9, 25.3, 35.9, 32.4, 26.0, 38.7, 20.8, 36.1, 36.9, 21.9, 35.5, 30.7, 23.6, 35.8, 21.0, 39.7, 24.8, 26.2, 39.4, 29.5, 34.1, 19.3, 38.1, 27.5, 35.7, 25.6, 35.1, 30.8, 23.1, 32.7, 23.6, 23.9, 47.9, 33.8, 25.9, 25.9, 32.0, 34.7, 36.8, 38.5, 28.7, 23.5, 21.8, 42.2, 31.2, 34.4, 27.2, 42.7, 35.3, 29.8, 39.2, 34.9, 34.0, 21.0, 27.5, 31.992578124999977, 35.8, 34.9, 36.2, 25.2, 37.2, 43.4, 30.8, 20.0, 25.4, 25.1, 24.3, 22.3, 31.6, 32.0, 23.7, 22.1, 27.7, 24.7, 21.1, 24.2, 31.6, 42.1, 21.9, 35.7, 34.4, 42.4, 26.2, 27.2, 18.2, 45.3, 26.0, 40.6, 30.8, 31.992578124999977, 40.6, 22.2, 30.4, 30.0, 25.6, 24.5, 37.4, 29.9, 18.2, 36.8, 32.2, 33.2, 25.3, 36.5, 30.5, 21.2, 39.9, 19.6, 37.8, 26.7, 30.2, 25.9, 20.8, 21.8, 35.3, 27.6, 24.0, 21.8, 27.8, 36.8, 46.1, 41.3, 33.2, 38.8, 29.9, 28.9, 27.3, 23.8, 25.9, 28.0, 35.2, 27.8, 38.2, 40.7, 46.5, 25.6, 26.1, 36.8, 33.5, 32.8, 31.992578124999977, 26.6, 26.0, 30.1, 29.3, 25.2, 37.2, 33.3, 37.3, 33.3, 28.6, 30.4, 25.0, 22.1, 24.2, 27.3, 25.6, 37.6, 32.8, 19.6, 25.0, 33.2, 31.992578124999977, 31.6, 21.8, 18.2, 26.3, 30.8, 24.6, 29.8, 45.3, 41.3, 29.8, 33.3, 29.6, 21.7, 36.3, 39.5, 32.0, 33.1, 32.8, 28.5, 27.4, 31.9, 27.8, 29.9, 36.9, 25.5, 38.1, 27.8, 46.2, 30.1, 37.6, 26.9, 32.4, 26.1, 38.6, 32.0, 31.3, 32.5, 22.6, 29.5, 34.7, 30.1, 35.5, 24.0, 27.0, 25.0, 26.5, 38.7, 22.5, 24.3, 21.1, 39.4, 28.5, 33.6, 45.3, 27.8, 23.1, 27.1, 23.7, 27.8, 35.8, 19.5, 41.5, 24.0, 30.9, 32.5, 25.8, 28.7, 20.1, 38.4, 24.2, 40.8, 43.5, 30.8, 37.7, 24.7, 32.4, 34.6, 24.7, 34.5, 26.2, 27.5, 25.9, 28.8, 31.6, 19.5, 29.3, 34.3, 28.0, 27.6, 39.4, 26.4, 25.2, 33.8, 34.1, 26.8, 34.2, 21.8, 38.9, 39.0, 27.7, 34.8, 34.0, 30.9, 33.6, 25.4, 35.5, 57.3, 35.6, 35.3, 24.2, 24.2, 44.6, 31.992578124999977, 33.2, 23.1, 28.3, 24.1, 24.6, 39.1, 23.5, 25.0, 34.5, 44.5, 35.9, 38.5, 28.4, 39.8, 34.4, 31.2, 29.6, 26.4, 29.5, 23.1, 35.5, 29.3, 38.1, 39.1, 32.8, 39.4, 36.1, 32.4, 22.9, 30.1, 29.0, 23.3, 35.4, 27.4, 32.0, 36.6, 30.8, 28.5, 40.6, 30.0, 46.3, 39.0, 26.0, 32.0, 37.5, 28.4, 22.5, 32.9, 36.8, 26.2, 30.4], \"xaxis\": \"x\", \"yaxis\": \"y\"}],\n",
              "                        {\"barmode\": \"relative\", \"legend\": {\"tracegroupgap\": 0}, \"margin\": {\"t\": 60}, \"template\": {\"data\": {\"bar\": [{\"error_x\": {\"color\": \"#2a3f5f\"}, \"error_y\": {\"color\": \"#2a3f5f\"}, \"marker\": {\"line\": {\"color\": \"#E5ECF6\", \"width\": 0.5}}, \"type\": \"bar\"}], \"barpolar\": [{\"marker\": {\"line\": {\"color\": \"#E5ECF6\", \"width\": 0.5}}, \"type\": \"barpolar\"}], \"carpet\": [{\"aaxis\": {\"endlinecolor\": \"#2a3f5f\", \"gridcolor\": \"white\", \"linecolor\": \"white\", \"minorgridcolor\": \"white\", \"startlinecolor\": \"#2a3f5f\"}, \"baxis\": {\"endlinecolor\": \"#2a3f5f\", \"gridcolor\": \"white\", \"linecolor\": \"white\", \"minorgridcolor\": \"white\", \"startlinecolor\": \"#2a3f5f\"}, \"type\": \"carpet\"}], \"choropleth\": [{\"colorbar\": {\"outlinewidth\": 0, \"ticks\": \"\"}, \"type\": \"choropleth\"}], \"contour\": [{\"colorbar\": {\"outlinewidth\": 0, \"ticks\": \"\"}, \"colorscale\": [[0.0, \"#0d0887\"], [0.1111111111111111, \"#46039f\"], [0.2222222222222222, \"#7201a8\"], [0.3333333333333333, \"#9c179e\"], [0.4444444444444444, \"#bd3786\"], [0.5555555555555556, \"#d8576b\"], [0.6666666666666666, \"#ed7953\"], [0.7777777777777778, \"#fb9f3a\"], [0.8888888888888888, \"#fdca26\"], [1.0, \"#f0f921\"]], \"type\": \"contour\"}], \"contourcarpet\": [{\"colorbar\": {\"outlinewidth\": 0, \"ticks\": \"\"}, \"type\": \"contourcarpet\"}], \"heatmap\": [{\"colorbar\": {\"outlinewidth\": 0, \"ticks\": \"\"}, \"colorscale\": [[0.0, \"#0d0887\"], [0.1111111111111111, \"#46039f\"], [0.2222222222222222, \"#7201a8\"], [0.3333333333333333, \"#9c179e\"], [0.4444444444444444, \"#bd3786\"], [0.5555555555555556, \"#d8576b\"], [0.6666666666666666, \"#ed7953\"], [0.7777777777777778, \"#fb9f3a\"], [0.8888888888888888, \"#fdca26\"], [1.0, \"#f0f921\"]], \"type\": \"heatmap\"}], \"heatmapgl\": [{\"colorbar\": {\"outlinewidth\": 0, \"ticks\": \"\"}, \"colorscale\": [[0.0, \"#0d0887\"], [0.1111111111111111, \"#46039f\"], [0.2222222222222222, \"#7201a8\"], [0.3333333333333333, \"#9c179e\"], [0.4444444444444444, \"#bd3786\"], [0.5555555555555556, \"#d8576b\"], [0.6666666666666666, \"#ed7953\"], [0.7777777777777778, \"#fb9f3a\"], [0.8888888888888888, \"#fdca26\"], [1.0, \"#f0f921\"]], \"type\": \"heatmapgl\"}], \"histogram\": [{\"marker\": {\"colorbar\": {\"outlinewidth\": 0, \"ticks\": \"\"}}, \"type\": \"histogram\"}], \"histogram2d\": [{\"colorbar\": {\"outlinewidth\": 0, \"ticks\": \"\"}, \"colorscale\": [[0.0, \"#0d0887\"], [0.1111111111111111, \"#46039f\"], [0.2222222222222222, \"#7201a8\"], [0.3333333333333333, \"#9c179e\"], [0.4444444444444444, \"#bd3786\"], [0.5555555555555556, \"#d8576b\"], [0.6666666666666666, \"#ed7953\"], [0.7777777777777778, \"#fb9f3a\"], [0.8888888888888888, \"#fdca26\"], [1.0, \"#f0f921\"]], \"type\": \"histogram2d\"}], \"histogram2dcontour\": [{\"colorbar\": {\"outlinewidth\": 0, \"ticks\": \"\"}, \"colorscale\": [[0.0, \"#0d0887\"], [0.1111111111111111, \"#46039f\"], [0.2222222222222222, \"#7201a8\"], [0.3333333333333333, \"#9c179e\"], [0.4444444444444444, \"#bd3786\"], [0.5555555555555556, \"#d8576b\"], [0.6666666666666666, \"#ed7953\"], [0.7777777777777778, \"#fb9f3a\"], [0.8888888888888888, \"#fdca26\"], [1.0, \"#f0f921\"]], \"type\": \"histogram2dcontour\"}], \"mesh3d\": [{\"colorbar\": {\"outlinewidth\": 0, \"ticks\": \"\"}, \"type\": \"mesh3d\"}], \"parcoords\": [{\"line\": {\"colorbar\": {\"outlinewidth\": 0, \"ticks\": \"\"}}, \"type\": \"parcoords\"}], \"pie\": [{\"automargin\": true, \"type\": \"pie\"}], \"scatter\": [{\"marker\": {\"colorbar\": {\"outlinewidth\": 0, \"ticks\": \"\"}}, \"type\": \"scatter\"}], \"scatter3d\": [{\"line\": {\"colorbar\": {\"outlinewidth\": 0, \"ticks\": \"\"}}, \"marker\": {\"colorbar\": {\"outlinewidth\": 0, \"ticks\": \"\"}}, \"type\": \"scatter3d\"}], \"scattercarpet\": [{\"marker\": {\"colorbar\": {\"outlinewidth\": 0, \"ticks\": \"\"}}, \"type\": \"scattercarpet\"}], \"scattergeo\": [{\"marker\": {\"colorbar\": {\"outlinewidth\": 0, \"ticks\": \"\"}}, \"type\": \"scattergeo\"}], \"scattergl\": [{\"marker\": {\"colorbar\": {\"outlinewidth\": 0, \"ticks\": \"\"}}, \"type\": \"scattergl\"}], \"scattermapbox\": [{\"marker\": {\"colorbar\": {\"outlinewidth\": 0, \"ticks\": \"\"}}, \"type\": \"scattermapbox\"}], \"scatterpolar\": [{\"marker\": {\"colorbar\": {\"outlinewidth\": 0, \"ticks\": \"\"}}, \"type\": \"scatterpolar\"}], \"scatterpolargl\": [{\"marker\": {\"colorbar\": {\"outlinewidth\": 0, \"ticks\": \"\"}}, \"type\": \"scatterpolargl\"}], \"scatterternary\": [{\"marker\": {\"colorbar\": {\"outlinewidth\": 0, \"ticks\": \"\"}}, \"type\": \"scatterternary\"}], \"surface\": [{\"colorbar\": {\"outlinewidth\": 0, \"ticks\": \"\"}, \"colorscale\": [[0.0, \"#0d0887\"], [0.1111111111111111, \"#46039f\"], [0.2222222222222222, \"#7201a8\"], [0.3333333333333333, \"#9c179e\"], [0.4444444444444444, \"#bd3786\"], [0.5555555555555556, \"#d8576b\"], [0.6666666666666666, \"#ed7953\"], [0.7777777777777778, \"#fb9f3a\"], [0.8888888888888888, \"#fdca26\"], [1.0, \"#f0f921\"]], \"type\": \"surface\"}], \"table\": [{\"cells\": {\"fill\": {\"color\": \"#EBF0F8\"}, \"line\": {\"color\": \"white\"}}, \"header\": {\"fill\": {\"color\": \"#C8D4E3\"}, \"line\": {\"color\": \"white\"}}, \"type\": \"table\"}]}, \"layout\": {\"annotationdefaults\": {\"arrowcolor\": \"#2a3f5f\", \"arrowhead\": 0, \"arrowwidth\": 1}, \"coloraxis\": {\"colorbar\": {\"outlinewidth\": 0, \"ticks\": \"\"}}, \"colorscale\": {\"diverging\": [[0, \"#8e0152\"], [0.1, \"#c51b7d\"], [0.2, \"#de77ae\"], [0.3, \"#f1b6da\"], [0.4, \"#fde0ef\"], [0.5, \"#f7f7f7\"], [0.6, \"#e6f5d0\"], [0.7, \"#b8e186\"], [0.8, \"#7fbc41\"], [0.9, \"#4d9221\"], [1, \"#276419\"]], \"sequential\": [[0.0, \"#0d0887\"], [0.1111111111111111, \"#46039f\"], [0.2222222222222222, \"#7201a8\"], [0.3333333333333333, \"#9c179e\"], [0.4444444444444444, \"#bd3786\"], [0.5555555555555556, \"#d8576b\"], [0.6666666666666666, \"#ed7953\"], [0.7777777777777778, \"#fb9f3a\"], [0.8888888888888888, \"#fdca26\"], [1.0, \"#f0f921\"]], \"sequentialminus\": [[0.0, \"#0d0887\"], [0.1111111111111111, \"#46039f\"], [0.2222222222222222, \"#7201a8\"], [0.3333333333333333, \"#9c179e\"], [0.4444444444444444, \"#bd3786\"], [0.5555555555555556, \"#d8576b\"], [0.6666666666666666, \"#ed7953\"], [0.7777777777777778, \"#fb9f3a\"], [0.8888888888888888, \"#fdca26\"], [1.0, \"#f0f921\"]]}, \"colorway\": [\"#636efa\", \"#EF553B\", \"#00cc96\", \"#ab63fa\", \"#FFA15A\", \"#19d3f3\", \"#FF6692\", \"#B6E880\", \"#FF97FF\", \"#FECB52\"], \"font\": {\"color\": \"#2a3f5f\"}, \"geo\": {\"bgcolor\": \"white\", \"lakecolor\": \"white\", \"landcolor\": \"#E5ECF6\", \"showlakes\": true, \"showland\": true, \"subunitcolor\": \"white\"}, \"hoverlabel\": {\"align\": \"left\"}, \"hovermode\": \"closest\", \"mapbox\": {\"style\": \"light\"}, \"paper_bgcolor\": \"white\", \"plot_bgcolor\": \"#E5ECF6\", \"polar\": {\"angularaxis\": {\"gridcolor\": \"white\", \"linecolor\": \"white\", \"ticks\": \"\"}, \"bgcolor\": \"#E5ECF6\", \"radialaxis\": {\"gridcolor\": \"white\", \"linecolor\": \"white\", \"ticks\": \"\"}}, \"scene\": {\"xaxis\": {\"backgroundcolor\": \"#E5ECF6\", \"gridcolor\": \"white\", \"gridwidth\": 2, \"linecolor\": \"white\", \"showbackground\": true, \"ticks\": \"\", \"zerolinecolor\": \"white\"}, \"yaxis\": {\"backgroundcolor\": \"#E5ECF6\", \"gridcolor\": \"white\", \"gridwidth\": 2, \"linecolor\": \"white\", \"showbackground\": true, \"ticks\": \"\", \"zerolinecolor\": \"white\"}, \"zaxis\": {\"backgroundcolor\": \"#E5ECF6\", \"gridcolor\": \"white\", \"gridwidth\": 2, \"linecolor\": \"white\", \"showbackground\": true, \"ticks\": \"\", \"zerolinecolor\": \"white\"}}, \"shapedefaults\": {\"line\": {\"color\": \"#2a3f5f\"}}, \"ternary\": {\"aaxis\": {\"gridcolor\": \"white\", \"linecolor\": \"white\", \"ticks\": \"\"}, \"baxis\": {\"gridcolor\": \"white\", \"linecolor\": \"white\", \"ticks\": \"\"}, \"bgcolor\": \"#E5ECF6\", \"caxis\": {\"gridcolor\": \"white\", \"linecolor\": \"white\", \"ticks\": \"\"}}, \"title\": {\"x\": 0.05}, \"xaxis\": {\"automargin\": true, \"gridcolor\": \"white\", \"linecolor\": \"white\", \"ticks\": \"\", \"title\": {\"standoff\": 15}, \"zerolinecolor\": \"white\", \"zerolinewidth\": 2}, \"yaxis\": {\"automargin\": true, \"gridcolor\": \"white\", \"linecolor\": \"white\", \"ticks\": \"\", \"title\": {\"standoff\": 15}, \"zerolinecolor\": \"white\", \"zerolinewidth\": 2}}}, \"xaxis\": {\"anchor\": \"y\", \"domain\": [0.0, 1.0], \"title\": {\"text\": \"BMI\"}}, \"yaxis\": {\"anchor\": \"x\", \"domain\": [0.0, 1.0], \"title\": {\"text\": \"count\"}}},\n",
              "                        {\"responsive\": true}\n",
              "                    ).then(function(){\n",
              "                            \n",
              "var gd = document.getElementById('439f7cc3-7fe8-4210-aafb-a077d4ef26b5');\n",
              "var x = new MutationObserver(function (mutations, observer) {{\n",
              "        var display = window.getComputedStyle(gd).display;\n",
              "        if (!display || display === 'none') {{\n",
              "            console.log([gd, 'removed!']);\n",
              "            Plotly.purge(gd);\n",
              "            observer.disconnect();\n",
              "        }}\n",
              "}});\n",
              "\n",
              "// Listen for the removal of the full notebook cells\n",
              "var notebookContainer = gd.closest('#notebook-container');\n",
              "if (notebookContainer) {{\n",
              "    x.observe(notebookContainer, {childList: true});\n",
              "}}\n",
              "\n",
              "// Listen for the clearing of the current output cell\n",
              "var outputEl = gd.closest('.output');\n",
              "if (outputEl) {{\n",
              "    x.observe(outputEl, {childList: true});\n",
              "}}\n",
              "\n",
              "                        })\n",
              "                };\n",
              "                \n",
              "            </script>\n",
              "        </div>\n",
              "</body>\n",
              "</html>"
            ]
          },
          "metadata": {
            "tags": []
          }
        },
        {
          "output_type": "display_data",
          "data": {
            "text/html": [
              "<html>\n",
              "<head><meta charset=\"utf-8\" /></head>\n",
              "<body>\n",
              "    <div>\n",
              "            <script src=\"https://cdnjs.cloudflare.com/ajax/libs/mathjax/2.7.5/MathJax.js?config=TeX-AMS-MML_SVG\"></script><script type=\"text/javascript\">if (window.MathJax) {MathJax.Hub.Config({SVG: {font: \"STIX-Web\"}});}</script>\n",
              "                <script type=\"text/javascript\">window.PlotlyConfig = {MathJaxConfig: 'local'};</script>\n",
              "        <script src=\"https://cdn.plot.ly/plotly-latest.min.js\"></script>    \n",
              "            <div id=\"5303d52b-0fd5-4235-a657-d1c307a60cb4\" class=\"plotly-graph-div\" style=\"height:525px; width:100%;\"></div>\n",
              "            <script type=\"text/javascript\">\n",
              "                \n",
              "                    window.PLOTLYENV=window.PLOTLYENV || {};\n",
              "                    \n",
              "                if (document.getElementById(\"5303d52b-0fd5-4235-a657-d1c307a60cb4\")) {\n",
              "                    Plotly.newPlot(\n",
              "                        '5303d52b-0fd5-4235-a657-d1c307a60cb4',\n",
              "                        [{\"alignmentgroup\": \"True\", \"hoverlabel\": {\"namelength\": 0}, \"hovertemplate\": \"Outcome=1<br>BMI=%{x}\", \"legendgroup\": \"Outcome=1\", \"marker\": {\"color\": \"#636efa\"}, \"name\": \"Outcome=1\", \"notched\": false, \"offsetgroup\": \"Outcome=1\", \"orientation\": \"v\", \"showlegend\": true, \"type\": \"box\", \"x\": [33.6, 23.3, 43.1, 31.0, 30.5, 31.992578124999977, 38.0, 30.1, 25.8, 30.0, 45.8, 29.6, 34.6, 39.8, 29.0, 36.6, 31.1, 39.4, 31.6, 32.9, 38.2, 37.1, 45.4, 42.0, 39.1, 33.7, 37.7, 32.9, 32.8, 32.5, 32.9, 43.4, 43.2, 48.8, 37.1, 23.8, 49.7, 39.0, 37.4, 33.3, 34.0, 30.5, 31.2, 34.0, 53.2, 33.3, 55.0, 34.5, 27.9, 29.7, 33.3, 34.5, 32.4, 34.3, 47.9, 50.0, 40.9, 31.6, 29.9, 30.8, 35.4, 32.7, 67.1, 39.1, 35.9, 30.1, 32.0, 27.9, 31.6, 30.4, 52.3, 39.4, 22.9, 34.8, 30.9, 37.5, 37.7, 35.5, 42.6, 34.2, 41.8, 35.8, 29.0, 37.8, 34.6, 31.6, 37.2, 44.0, 46.2, 43.6, 35.9, 44.1, 30.8, 25.6, 27.1, 30.0, 27.6, 33.6, 33.3, 30.0, 32.0, 36.3, 27.5, 45.6, 26.5, 37.9, 30.4, 27.0, 45.6, 36.6, 43.3, 40.5, 28.0, 36.6, 32.3, 31.6, 52.9, 25.5, 30.5, 32.9, 26.6, 35.9, 30.5, 23.5, 31.6, 27.4, 26.8, 35.1, 45.5, 43.3, 31.2, 34.2, 39.9, 41.0, 30.4, 33.3, 39.9, 36.5, 31.2, 38.5, 27.6, 32.8, 38.4, 39.2, 48.3, 32.3, 43.3, 32.0, 45.7, 32.9, 34.3, 34.9, 32.0, 35.0, 32.9, 28.9, 25.9, 42.4, 34.6, 35.7, 38.5, 26.4, 42.9, 37.0, 34.1, 35.0, 42.4, 34.3, 30.5, 29.7, 59.4, 33.6, 28.9, 33.6, 37.6, 30.0, 33.7, 35.5, 44.2, 42.3, 28.9, 25.1, 39.0, 36.5, 29.7, 31.6, 30.3, 34.2, 32.9, 36.4, 39.4, 32.4, 34.9, 34.5, 43.6, 33.8, 41.3, 34.3, 42.9, 34.7, 42.1, 28.7, 34.9, 33.3, 46.8, 34.4, 32.0, 36.8, 35.2, 28.4, 40.0, 32.9, 38.2, 36.1, 28.2, 32.4, 27.4, 31.2, 40.9, 29.5, 23.4, 37.8, 28.3, 38.7, 34.2, 42.9, 37.6, 37.9, 33.7, 32.5, 27.5, 30.9, 24.8, 36.0, 49.6, 32.3, 46.1, 42.3, 38.5, 30.4, 29.9, 27.6, 35.0, 31.992578124999977, 32.8, 38.0, 41.2, 33.9, 33.8, 35.6, 29.3, 28.4, 28.4, 44.5, 39.5, 42.3, 32.7, 49.3, 36.4, 24.3, 31.2, 43.3, 32.4, 36.5, 36.3, 35.5, 44.0, 30.1], \"x0\": \" \", \"xaxis\": \"x\", \"y0\": \" \", \"yaxis\": \"y\"}, {\"alignmentgroup\": \"True\", \"hoverlabel\": {\"namelength\": 0}, \"hovertemplate\": \"Outcome=0<br>BMI=%{x}\", \"legendgroup\": \"Outcome=0\", \"marker\": {\"color\": \"#EF553B\"}, \"name\": \"Outcome=0\", \"notched\": false, \"offsetgroup\": \"Outcome=0\", \"orientation\": \"v\", \"showlegend\": true, \"type\": \"box\", \"x\": [26.6, 28.1, 25.6, 35.3, 37.6, 27.1, 43.3, 39.3, 35.4, 23.2, 22.2, 34.1, 36.0, 24.8, 19.9, 27.6, 24.0, 33.2, 34.0, 40.2, 22.7, 27.4, 29.7, 28.0, 31.992578124999977, 19.4, 24.2, 24.4, 34.7, 23.0, 46.8, 40.5, 41.5, 31.992578124999977, 25.0, 25.4, 29.0, 42.7, 19.6, 28.9, 28.6, 35.1, 32.0, 24.7, 32.6, 37.7, 25.0, 22.4, 31.992578124999977, 29.3, 24.6, 32.4, 36.6, 38.5, 26.5, 19.1, 32.0, 46.7, 24.7, 33.9, 31.6, 20.4, 28.7, 26.1, 22.5, 26.6, 39.6, 28.7, 22.4, 29.5, 34.3, 31.2, 34.0, 33.7, 28.2, 23.2, 34.2, 33.6, 26.8, 42.9, 33.3, 38.3, 21.1, 33.8, 30.8, 28.7, 31.2, 36.9, 21.1, 39.5, 32.5, 32.8, 31.992578124999977, 32.8, 30.5, 33.7, 27.3, 37.4, 21.9, 40.6, 24.6, 25.2, 29.0, 29.7, 37.2, 44.2, 29.7, 32.5, 29.6, 31.9, 28.4, 28.9, 43.5, 29.7, 31.2, 45.0, 23.2, 34.9, 27.7, 26.8, 27.6, 22.6, 33.1, 24.4, 24.3, 31.0, 40.1, 27.3, 20.4, 37.7, 23.9, 33.2, 27.7, 42.8, 34.2, 30.0, 25.2, 28.8, 23.6, 34.6, 35.7, 36.7, 45.2, 25.4, 35.0, 29.7, 18.4, 29.2, 33.1, 38.2, 31.2, 52.3, 35.4, 30.1, 31.2, 28.0, 24.4, 35.8, 30.1, 28.7, 25.9, 30.9, 32.1, 32.4, 33.6, 40.0, 25.1, 25.2, 23.0, 33.2, 34.2, 40.5, 27.8, 24.9, 25.3, 35.9, 32.4, 26.0, 38.7, 20.8, 36.1, 36.9, 21.9, 35.5, 30.7, 23.6, 35.8, 21.0, 39.7, 24.8, 26.2, 39.4, 29.5, 34.1, 19.3, 38.1, 27.5, 35.7, 25.6, 35.1, 30.8, 23.1, 32.7, 23.6, 23.9, 47.9, 33.8, 25.9, 25.9, 32.0, 34.7, 36.8, 38.5, 28.7, 23.5, 21.8, 42.2, 31.2, 34.4, 27.2, 42.7, 35.3, 29.8, 39.2, 34.9, 34.0, 21.0, 27.5, 31.992578124999977, 35.8, 34.9, 36.2, 25.2, 37.2, 43.4, 30.8, 20.0, 25.4, 25.1, 24.3, 22.3, 31.6, 32.0, 23.7, 22.1, 27.7, 24.7, 21.1, 24.2, 31.6, 42.1, 21.9, 35.7, 34.4, 42.4, 26.2, 27.2, 18.2, 45.3, 26.0, 40.6, 30.8, 31.992578124999977, 40.6, 22.2, 30.4, 30.0, 25.6, 24.5, 37.4, 29.9, 18.2, 36.8, 32.2, 33.2, 25.3, 36.5, 30.5, 21.2, 39.9, 19.6, 37.8, 26.7, 30.2, 25.9, 20.8, 21.8, 35.3, 27.6, 24.0, 21.8, 27.8, 36.8, 46.1, 41.3, 33.2, 38.8, 29.9, 28.9, 27.3, 23.8, 25.9, 28.0, 35.2, 27.8, 38.2, 40.7, 46.5, 25.6, 26.1, 36.8, 33.5, 32.8, 31.992578124999977, 26.6, 26.0, 30.1, 29.3, 25.2, 37.2, 33.3, 37.3, 33.3, 28.6, 30.4, 25.0, 22.1, 24.2, 27.3, 25.6, 37.6, 32.8, 19.6, 25.0, 33.2, 31.992578124999977, 31.6, 21.8, 18.2, 26.3, 30.8, 24.6, 29.8, 45.3, 41.3, 29.8, 33.3, 29.6, 21.7, 36.3, 39.5, 32.0, 33.1, 32.8, 28.5, 27.4, 31.9, 27.8, 29.9, 36.9, 25.5, 38.1, 27.8, 46.2, 30.1, 37.6, 26.9, 32.4, 26.1, 38.6, 32.0, 31.3, 32.5, 22.6, 29.5, 34.7, 30.1, 35.5, 24.0, 27.0, 25.0, 26.5, 38.7, 22.5, 24.3, 21.1, 39.4, 28.5, 33.6, 45.3, 27.8, 23.1, 27.1, 23.7, 27.8, 35.8, 19.5, 41.5, 24.0, 30.9, 32.5, 25.8, 28.7, 20.1, 38.4, 24.2, 40.8, 43.5, 30.8, 37.7, 24.7, 32.4, 34.6, 24.7, 34.5, 26.2, 27.5, 25.9, 28.8, 31.6, 19.5, 29.3, 34.3, 28.0, 27.6, 39.4, 26.4, 25.2, 33.8, 34.1, 26.8, 34.2, 21.8, 38.9, 39.0, 27.7, 34.8, 34.0, 30.9, 33.6, 25.4, 35.5, 57.3, 35.6, 35.3, 24.2, 24.2, 44.6, 31.992578124999977, 33.2, 23.1, 28.3, 24.1, 24.6, 39.1, 23.5, 25.0, 34.5, 44.5, 35.9, 38.5, 28.4, 39.8, 34.4, 31.2, 29.6, 26.4, 29.5, 23.1, 35.5, 29.3, 38.1, 39.1, 32.8, 39.4, 36.1, 32.4, 22.9, 30.1, 29.0, 23.3, 35.4, 27.4, 32.0, 36.6, 30.8, 28.5, 40.6, 30.0, 46.3, 39.0, 26.0, 32.0, 37.5, 28.4, 22.5, 32.9, 36.8, 26.2, 30.4], \"x0\": \" \", \"xaxis\": \"x\", \"y0\": \" \", \"yaxis\": \"y\"}],\n",
              "                        {\"boxmode\": \"group\", \"legend\": {\"tracegroupgap\": 0}, \"margin\": {\"t\": 60}, \"template\": {\"data\": {\"bar\": [{\"error_x\": {\"color\": \"#2a3f5f\"}, \"error_y\": {\"color\": \"#2a3f5f\"}, \"marker\": {\"line\": {\"color\": \"#E5ECF6\", \"width\": 0.5}}, \"type\": \"bar\"}], \"barpolar\": [{\"marker\": {\"line\": {\"color\": \"#E5ECF6\", \"width\": 0.5}}, \"type\": \"barpolar\"}], \"carpet\": [{\"aaxis\": {\"endlinecolor\": \"#2a3f5f\", \"gridcolor\": \"white\", \"linecolor\": \"white\", \"minorgridcolor\": \"white\", \"startlinecolor\": \"#2a3f5f\"}, \"baxis\": {\"endlinecolor\": \"#2a3f5f\", \"gridcolor\": \"white\", \"linecolor\": \"white\", \"minorgridcolor\": \"white\", \"startlinecolor\": \"#2a3f5f\"}, \"type\": \"carpet\"}], \"choropleth\": [{\"colorbar\": {\"outlinewidth\": 0, \"ticks\": \"\"}, \"type\": \"choropleth\"}], \"contour\": [{\"colorbar\": {\"outlinewidth\": 0, \"ticks\": \"\"}, \"colorscale\": [[0.0, \"#0d0887\"], [0.1111111111111111, \"#46039f\"], [0.2222222222222222, \"#7201a8\"], [0.3333333333333333, \"#9c179e\"], [0.4444444444444444, \"#bd3786\"], [0.5555555555555556, \"#d8576b\"], [0.6666666666666666, \"#ed7953\"], [0.7777777777777778, \"#fb9f3a\"], [0.8888888888888888, \"#fdca26\"], [1.0, \"#f0f921\"]], \"type\": \"contour\"}], \"contourcarpet\": [{\"colorbar\": {\"outlinewidth\": 0, \"ticks\": \"\"}, \"type\": \"contourcarpet\"}], \"heatmap\": [{\"colorbar\": {\"outlinewidth\": 0, \"ticks\": \"\"}, \"colorscale\": [[0.0, \"#0d0887\"], [0.1111111111111111, \"#46039f\"], [0.2222222222222222, \"#7201a8\"], [0.3333333333333333, \"#9c179e\"], [0.4444444444444444, \"#bd3786\"], [0.5555555555555556, \"#d8576b\"], [0.6666666666666666, \"#ed7953\"], [0.7777777777777778, \"#fb9f3a\"], [0.8888888888888888, \"#fdca26\"], [1.0, \"#f0f921\"]], \"type\": \"heatmap\"}], \"heatmapgl\": [{\"colorbar\": {\"outlinewidth\": 0, \"ticks\": \"\"}, \"colorscale\": [[0.0, \"#0d0887\"], [0.1111111111111111, \"#46039f\"], [0.2222222222222222, \"#7201a8\"], [0.3333333333333333, \"#9c179e\"], [0.4444444444444444, \"#bd3786\"], [0.5555555555555556, \"#d8576b\"], [0.6666666666666666, \"#ed7953\"], [0.7777777777777778, \"#fb9f3a\"], [0.8888888888888888, \"#fdca26\"], [1.0, \"#f0f921\"]], \"type\": \"heatmapgl\"}], \"histogram\": [{\"marker\": {\"colorbar\": {\"outlinewidth\": 0, \"ticks\": \"\"}}, \"type\": \"histogram\"}], \"histogram2d\": [{\"colorbar\": {\"outlinewidth\": 0, \"ticks\": \"\"}, \"colorscale\": [[0.0, \"#0d0887\"], [0.1111111111111111, \"#46039f\"], [0.2222222222222222, \"#7201a8\"], [0.3333333333333333, \"#9c179e\"], [0.4444444444444444, \"#bd3786\"], [0.5555555555555556, \"#d8576b\"], [0.6666666666666666, \"#ed7953\"], [0.7777777777777778, \"#fb9f3a\"], [0.8888888888888888, \"#fdca26\"], [1.0, \"#f0f921\"]], \"type\": \"histogram2d\"}], \"histogram2dcontour\": [{\"colorbar\": {\"outlinewidth\": 0, \"ticks\": \"\"}, \"colorscale\": [[0.0, \"#0d0887\"], [0.1111111111111111, \"#46039f\"], [0.2222222222222222, \"#7201a8\"], [0.3333333333333333, \"#9c179e\"], [0.4444444444444444, \"#bd3786\"], [0.5555555555555556, \"#d8576b\"], [0.6666666666666666, \"#ed7953\"], [0.7777777777777778, \"#fb9f3a\"], [0.8888888888888888, \"#fdca26\"], [1.0, \"#f0f921\"]], \"type\": \"histogram2dcontour\"}], \"mesh3d\": [{\"colorbar\": {\"outlinewidth\": 0, \"ticks\": \"\"}, \"type\": \"mesh3d\"}], \"parcoords\": [{\"line\": {\"colorbar\": {\"outlinewidth\": 0, \"ticks\": \"\"}}, \"type\": \"parcoords\"}], \"pie\": [{\"automargin\": true, \"type\": \"pie\"}], \"scatter\": [{\"marker\": {\"colorbar\": {\"outlinewidth\": 0, \"ticks\": \"\"}}, \"type\": \"scatter\"}], \"scatter3d\": [{\"line\": {\"colorbar\": {\"outlinewidth\": 0, \"ticks\": \"\"}}, \"marker\": {\"colorbar\": {\"outlinewidth\": 0, \"ticks\": \"\"}}, \"type\": \"scatter3d\"}], \"scattercarpet\": [{\"marker\": {\"colorbar\": {\"outlinewidth\": 0, \"ticks\": \"\"}}, \"type\": \"scattercarpet\"}], \"scattergeo\": [{\"marker\": {\"colorbar\": {\"outlinewidth\": 0, \"ticks\": \"\"}}, \"type\": \"scattergeo\"}], \"scattergl\": [{\"marker\": {\"colorbar\": {\"outlinewidth\": 0, \"ticks\": \"\"}}, \"type\": \"scattergl\"}], \"scattermapbox\": [{\"marker\": {\"colorbar\": {\"outlinewidth\": 0, \"ticks\": \"\"}}, \"type\": \"scattermapbox\"}], \"scatterpolar\": [{\"marker\": {\"colorbar\": {\"outlinewidth\": 0, \"ticks\": \"\"}}, \"type\": \"scatterpolar\"}], \"scatterpolargl\": [{\"marker\": {\"colorbar\": {\"outlinewidth\": 0, \"ticks\": \"\"}}, \"type\": \"scatterpolargl\"}], \"scatterternary\": [{\"marker\": {\"colorbar\": {\"outlinewidth\": 0, \"ticks\": \"\"}}, \"type\": \"scatterternary\"}], \"surface\": [{\"colorbar\": {\"outlinewidth\": 0, \"ticks\": \"\"}, \"colorscale\": [[0.0, \"#0d0887\"], [0.1111111111111111, \"#46039f\"], [0.2222222222222222, \"#7201a8\"], [0.3333333333333333, \"#9c179e\"], [0.4444444444444444, \"#bd3786\"], [0.5555555555555556, \"#d8576b\"], [0.6666666666666666, \"#ed7953\"], [0.7777777777777778, \"#fb9f3a\"], [0.8888888888888888, \"#fdca26\"], [1.0, \"#f0f921\"]], \"type\": \"surface\"}], \"table\": [{\"cells\": {\"fill\": {\"color\": \"#EBF0F8\"}, \"line\": {\"color\": \"white\"}}, \"header\": {\"fill\": {\"color\": \"#C8D4E3\"}, \"line\": {\"color\": \"white\"}}, \"type\": \"table\"}]}, \"layout\": {\"annotationdefaults\": {\"arrowcolor\": \"#2a3f5f\", \"arrowhead\": 0, \"arrowwidth\": 1}, \"coloraxis\": {\"colorbar\": {\"outlinewidth\": 0, \"ticks\": \"\"}}, \"colorscale\": {\"diverging\": [[0, \"#8e0152\"], [0.1, \"#c51b7d\"], [0.2, \"#de77ae\"], [0.3, \"#f1b6da\"], [0.4, \"#fde0ef\"], [0.5, \"#f7f7f7\"], [0.6, \"#e6f5d0\"], [0.7, \"#b8e186\"], [0.8, \"#7fbc41\"], [0.9, \"#4d9221\"], [1, \"#276419\"]], \"sequential\": [[0.0, \"#0d0887\"], [0.1111111111111111, \"#46039f\"], [0.2222222222222222, \"#7201a8\"], [0.3333333333333333, \"#9c179e\"], [0.4444444444444444, \"#bd3786\"], [0.5555555555555556, \"#d8576b\"], [0.6666666666666666, \"#ed7953\"], [0.7777777777777778, \"#fb9f3a\"], [0.8888888888888888, \"#fdca26\"], [1.0, \"#f0f921\"]], \"sequentialminus\": [[0.0, \"#0d0887\"], [0.1111111111111111, \"#46039f\"], [0.2222222222222222, \"#7201a8\"], [0.3333333333333333, \"#9c179e\"], [0.4444444444444444, \"#bd3786\"], [0.5555555555555556, \"#d8576b\"], [0.6666666666666666, \"#ed7953\"], [0.7777777777777778, \"#fb9f3a\"], [0.8888888888888888, \"#fdca26\"], [1.0, \"#f0f921\"]]}, \"colorway\": [\"#636efa\", \"#EF553B\", \"#00cc96\", \"#ab63fa\", \"#FFA15A\", \"#19d3f3\", \"#FF6692\", \"#B6E880\", \"#FF97FF\", \"#FECB52\"], \"font\": {\"color\": \"#2a3f5f\"}, \"geo\": {\"bgcolor\": \"white\", \"lakecolor\": \"white\", \"landcolor\": \"#E5ECF6\", \"showlakes\": true, \"showland\": true, \"subunitcolor\": \"white\"}, \"hoverlabel\": {\"align\": \"left\"}, \"hovermode\": \"closest\", \"mapbox\": {\"style\": \"light\"}, \"paper_bgcolor\": \"white\", \"plot_bgcolor\": \"#E5ECF6\", \"polar\": {\"angularaxis\": {\"gridcolor\": \"white\", \"linecolor\": \"white\", \"ticks\": \"\"}, \"bgcolor\": \"#E5ECF6\", \"radialaxis\": {\"gridcolor\": \"white\", \"linecolor\": \"white\", \"ticks\": \"\"}}, \"scene\": {\"xaxis\": {\"backgroundcolor\": \"#E5ECF6\", \"gridcolor\": \"white\", \"gridwidth\": 2, \"linecolor\": \"white\", \"showbackground\": true, \"ticks\": \"\", \"zerolinecolor\": \"white\"}, \"yaxis\": {\"backgroundcolor\": \"#E5ECF6\", \"gridcolor\": \"white\", \"gridwidth\": 2, \"linecolor\": \"white\", \"showbackground\": true, \"ticks\": \"\", \"zerolinecolor\": \"white\"}, \"zaxis\": {\"backgroundcolor\": \"#E5ECF6\", \"gridcolor\": \"white\", \"gridwidth\": 2, \"linecolor\": \"white\", \"showbackground\": true, \"ticks\": \"\", \"zerolinecolor\": \"white\"}}, \"shapedefaults\": {\"line\": {\"color\": \"#2a3f5f\"}}, \"ternary\": {\"aaxis\": {\"gridcolor\": \"white\", \"linecolor\": \"white\", \"ticks\": \"\"}, \"baxis\": {\"gridcolor\": \"white\", \"linecolor\": \"white\", \"ticks\": \"\"}, \"bgcolor\": \"#E5ECF6\", \"caxis\": {\"gridcolor\": \"white\", \"linecolor\": \"white\", \"ticks\": \"\"}}, \"title\": {\"x\": 0.05}, \"xaxis\": {\"automargin\": true, \"gridcolor\": \"white\", \"linecolor\": \"white\", \"ticks\": \"\", \"title\": {\"standoff\": 15}, \"zerolinecolor\": \"white\", \"zerolinewidth\": 2}, \"yaxis\": {\"automargin\": true, \"gridcolor\": \"white\", \"linecolor\": \"white\", \"ticks\": \"\", \"title\": {\"standoff\": 15}, \"zerolinecolor\": \"white\", \"zerolinewidth\": 2}}}, \"xaxis\": {\"anchor\": \"y\", \"domain\": [0.0, 1.0], \"title\": {\"text\": \"BMI\"}}, \"yaxis\": {\"anchor\": \"x\", \"domain\": [0.0, 1.0]}},\n",
              "                        {\"responsive\": true}\n",
              "                    ).then(function(){\n",
              "                            \n",
              "var gd = document.getElementById('5303d52b-0fd5-4235-a657-d1c307a60cb4');\n",
              "var x = new MutationObserver(function (mutations, observer) {{\n",
              "        var display = window.getComputedStyle(gd).display;\n",
              "        if (!display || display === 'none') {{\n",
              "            console.log([gd, 'removed!']);\n",
              "            Plotly.purge(gd);\n",
              "            observer.disconnect();\n",
              "        }}\n",
              "}});\n",
              "\n",
              "// Listen for the removal of the full notebook cells\n",
              "var notebookContainer = gd.closest('#notebook-container');\n",
              "if (notebookContainer) {{\n",
              "    x.observe(notebookContainer, {childList: true});\n",
              "}}\n",
              "\n",
              "// Listen for the clearing of the current output cell\n",
              "var outputEl = gd.closest('.output');\n",
              "if (outputEl) {{\n",
              "    x.observe(outputEl, {childList: true});\n",
              "}}\n",
              "\n",
              "                        })\n",
              "                };\n",
              "                \n",
              "            </script>\n",
              "        </div>\n",
              "</body>\n",
              "</html>"
            ]
          },
          "metadata": {
            "tags": []
          }
        }
      ]
    },
    {
      "cell_type": "markdown",
      "metadata": {
        "papermill": {
          "duration": 0.06542,
          "end_time": "2021-07-22T14:33:30.693817",
          "exception": false,
          "start_time": "2021-07-22T14:33:30.628397",
          "status": "completed"
        },
        "tags": [],
        "id": "46b9a1d6"
      },
      "source": [
        " ### We observe that higher the BMI more the chances of diabetes."
      ]
    },
    {
      "cell_type": "markdown",
      "metadata": {
        "papermill": {
          "duration": 0.063124,
          "end_time": "2021-07-22T14:33:30.820477",
          "exception": false,
          "start_time": "2021-07-22T14:33:30.757353",
          "status": "completed"
        },
        "tags": [],
        "id": "5fafd8a8"
      },
      "source": [
        "\n",
        "<p style=\"font-family: Arials; line-height: 1.3; font-size: 23px; font-weight: bold; letter-spacing: 2px; text-align: left; color: #23527c\">Let's look at how DiabetesPedigreeFunction affect the chances if being Diabetic</p>"
      ]
    },
    {
      "cell_type": "code",
      "metadata": {
        "execution": {
          "iopub.execute_input": "2021-07-22T14:33:30.965009Z",
          "iopub.status.busy": "2021-07-22T14:33:30.964259Z",
          "iopub.status.idle": "2021-07-22T14:33:31.112105Z",
          "shell.execute_reply": "2021-07-22T14:33:31.111501Z",
          "shell.execute_reply.started": "2021-07-17T18:13:35.854353Z"
        },
        "papermill": {
          "duration": 0.22849,
          "end_time": "2021-07-22T14:33:31.112279",
          "exception": false,
          "start_time": "2021-07-22T14:33:30.883789",
          "status": "completed"
        },
        "tags": [],
        "id": "77604ad2",
        "colab": {
          "base_uri": "https://localhost:8080/",
          "height": 1000
        },
        "outputId": "0e7f141a-bc7c-4440-a354-0ea42b599b4f"
      },
      "source": [
        "# DiabetesPedigreeFunction andd Outcome\n",
        "fig = px.histogram(data, x = data['DiabetesPedigreeFunction'], color = 'Outcome')\n",
        "fig.show()\n",
        "fig2 = px.box(data, x = data['DiabetesPedigreeFunction'], color = 'Outcome')\n",
        "fig2.show()"
      ],
      "execution_count": 16,
      "outputs": [
        {
          "output_type": "display_data",
          "data": {
            "text/html": [
              "<html>\n",
              "<head><meta charset=\"utf-8\" /></head>\n",
              "<body>\n",
              "    <div>\n",
              "            <script src=\"https://cdnjs.cloudflare.com/ajax/libs/mathjax/2.7.5/MathJax.js?config=TeX-AMS-MML_SVG\"></script><script type=\"text/javascript\">if (window.MathJax) {MathJax.Hub.Config({SVG: {font: \"STIX-Web\"}});}</script>\n",
              "                <script type=\"text/javascript\">window.PlotlyConfig = {MathJaxConfig: 'local'};</script>\n",
              "        <script src=\"https://cdn.plot.ly/plotly-latest.min.js\"></script>    \n",
              "            <div id=\"51e45605-a20f-4b8c-bf2c-36c5dbd9c64e\" class=\"plotly-graph-div\" style=\"height:525px; width:100%;\"></div>\n",
              "            <script type=\"text/javascript\">\n",
              "                \n",
              "                    window.PLOTLYENV=window.PLOTLYENV || {};\n",
              "                    \n",
              "                if (document.getElementById(\"51e45605-a20f-4b8c-bf2c-36c5dbd9c64e\")) {\n",
              "                    Plotly.newPlot(\n",
              "                        '51e45605-a20f-4b8c-bf2c-36c5dbd9c64e',\n",
              "                        [{\"alignmentgroup\": \"True\", \"bingroup\": \"x\", \"hoverlabel\": {\"namelength\": 0}, \"hovertemplate\": \"Outcome=1<br>DiabetesPedigreeFunction=%{x}<br>count=%{y}\", \"legendgroup\": \"Outcome=1\", \"marker\": {\"color\": \"#636efa\"}, \"name\": \"Outcome=1\", \"offsetgroup\": \"Outcome=1\", \"orientation\": \"v\", \"showlegend\": true, \"type\": \"histogram\", \"x\": [0.627, 0.672, 2.2880000000000003, 0.248, 0.158, 0.23199999999999998, 0.537, 0.39799999999999996, 0.5870000000000001, 0.484, 0.551, 0.254, 0.529, 0.451, 0.263, 0.254, 0.205, 0.257, 0.851, 0.665, 0.503, 1.39, 0.721, 1.893, 0.344, 0.467, 0.254, 0.27, 0.258, 0.855, 0.867, 0.583, 0.27, 0.22699999999999998, 0.153, 0.27699999999999997, 0.325, 1.222, 0.247, 0.19899999999999998, 0.5429999999999999, 0.588, 0.539, 0.22, 0.759, 0.278, 0.496, 0.40299999999999997, 0.741, 0.361, 1.114, 0.35600000000000004, 0.272, 1.189, 0.13699999999999998, 0.337, 0.8170000000000001, 0.743, 0.722, 0.18, 0.542, 0.7190000000000001, 0.319, 0.956, 0.745, 0.615, 1.321, 0.64, 0.361, 0.38299999999999995, 0.578, 0.395, 0.6779999999999999, 0.905, 0.15, 0.605, 0.151, 0.355, 0.431, 0.26, 0.742, 0.514, 1.224, 0.261, 1.072, 0.805, 0.652, 0.645, 0.23800000000000002, 0.479, 0.586, 0.6859999999999999, 0.831, 0.402, 1.318, 1.213, 0.9259999999999999, 0.5429999999999999, 1.3530000000000002, 0.7609999999999999, 0.226, 0.9329999999999999, 0.24, 1.136, 0.29600000000000004, 0.33399999999999996, 0.165, 0.259, 0.8079999999999999, 0.757, 1.224, 0.613, 0.337, 0.41200000000000003, 0.8390000000000001, 0.42200000000000004, 0.209, 0.326, 1.391, 0.875, 0.433, 1.127, 0.345, 0.129, 0.19699999999999998, 0.254, 0.731, 0.6920000000000001, 0.127, 0.282, 0.34299999999999997, 0.893, 0.331, 0.34600000000000003, 0.302, 0.9620000000000001, 0.569, 0.875, 0.583, 0.52, 0.368, 0.23399999999999999, 2.137, 0.528, 0.23800000000000002, 0.66, 0.239, 0.452, 0.34, 0.8029999999999999, 0.196, 0.24100000000000002, 0.161, 0.28600000000000003, 0.135, 0.376, 1.1909999999999998, 0.7020000000000001, 0.534, 0.258, 0.5539999999999999, 0.21899999999999997, 0.516, 0.264, 0.32799999999999996, 0.233, 0.205, 0.435, 0.955, 0.38, 2.42, 0.51, 0.542, 0.212, 1.001, 0.183, 0.711, 0.344, 0.63, 0.365, 1.1440000000000001, 0.163, 0.727, 0.314, 0.297, 0.268, 0.7709999999999999, 0.652, 0.302, 0.968, 0.6609999999999999, 0.5489999999999999, 0.825, 0.423, 1.034, 0.121, 0.502, 0.203, 0.693, 0.575, 0.371, 0.687, 0.129, 1.1540000000000001, 0.925, 0.402, 0.682, 0.08800000000000001, 0.6920000000000001, 0.212, 1.258, 0.593, 0.787, 0.557, 1.2819999999999998, 0.141, 0.732, 0.465, 0.871, 0.17800000000000002, 0.447, 0.455, 0.26, 0.24, 1.2919999999999998, 1.3940000000000001, 0.165, 0.637, 0.245, 0.235, 0.141, 0.32799999999999996, 0.23, 0.127, 0.364, 0.536, 0.335, 0.257, 0.439, 0.128, 0.268, 0.565, 0.905, 0.261, 0.14800000000000002, 0.674, 0.441, 0.826, 0.97, 0.37799999999999995, 0.349, 0.32299999999999995, 0.259, 0.6459999999999999, 0.293, 0.785, 0.7340000000000001, 0.358, 0.408, 0.17800000000000002, 1.182, 0.222, 0.44299999999999995, 1.057, 0.258, 0.278, 0.40299999999999997, 0.349], \"xaxis\": \"x\", \"yaxis\": \"y\"}, {\"alignmentgroup\": \"True\", \"bingroup\": \"x\", \"hoverlabel\": {\"namelength\": 0}, \"hovertemplate\": \"Outcome=0<br>DiabetesPedigreeFunction=%{x}<br>count=%{y}\", \"legendgroup\": \"Outcome=0\", \"marker\": {\"color\": \"#EF553B\"}, \"name\": \"Outcome=0\", \"offsetgroup\": \"Outcome=0\", \"orientation\": \"v\", \"showlegend\": true, \"type\": \"histogram\", \"x\": [0.35100000000000003, 0.16699999999999998, 0.201, 0.134, 0.191, 1.4409999999999998, 0.183, 0.7040000000000001, 0.38799999999999996, 0.48700000000000004, 0.245, 0.337, 0.546, 0.267, 0.188, 0.512, 0.966, 0.42, 0.271, 0.696, 0.235, 0.294, 0.564, 0.586, 0.305, 0.491, 0.526, 0.342, 0.718, 0.248, 0.9620000000000001, 1.781, 0.17300000000000001, 0.304, 0.5870000000000001, 0.6990000000000001, 0.203, 0.845, 0.33399999999999996, 0.18899999999999997, 0.41100000000000003, 0.231, 0.396, 0.14, 0.391, 0.37, 0.307, 0.14, 0.102, 0.767, 0.237, 0.698, 0.17800000000000002, 0.324, 0.165, 0.258, 0.44299999999999995, 0.261, 0.7609999999999999, 0.255, 0.13, 0.32299999999999995, 0.35600000000000004, 0.179, 0.262, 0.28300000000000003, 0.93, 0.8009999999999999, 0.207, 0.287, 0.336, 0.192, 0.391, 0.654, 0.44299999999999995, 0.223, 0.26, 0.40399999999999997, 0.18600000000000003, 0.452, 0.261, 0.457, 0.647, 0.08800000000000001, 0.597, 0.532, 0.703, 0.159, 0.268, 0.28600000000000003, 0.318, 0.237, 0.5720000000000001, 0.096, 1.4, 0.218, 0.085, 0.39899999999999997, 0.43200000000000005, 0.687, 0.637, 0.833, 0.22899999999999998, 0.294, 0.204, 0.16699999999999998, 0.368, 0.256, 0.7090000000000001, 0.47100000000000003, 0.495, 0.773, 0.6779999999999999, 0.37, 0.382, 0.19, 0.084, 0.725, 0.299, 0.268, 0.244, 0.142, 0.374, 0.136, 0.187, 0.8740000000000001, 0.23600000000000002, 0.787, 0.235, 0.324, 0.40700000000000003, 0.289, 0.29, 0.375, 0.16399999999999998, 0.46399999999999997, 0.209, 0.687, 0.6659999999999999, 0.10099999999999999, 0.198, 2.329, 0.08900000000000001, 0.583, 0.39399999999999996, 0.293, 0.5820000000000001, 0.192, 0.446, 0.32899999999999996, 0.258, 0.42700000000000005, 0.282, 0.14300000000000002, 0.38, 0.284, 0.249, 0.23800000000000002, 0.557, 0.092, 0.655, 0.299, 0.612, 0.2, 0.997, 1.101, 0.078, 0.128, 0.254, 0.42200000000000004, 0.251, 0.677, 0.45399999999999996, 0.7440000000000001, 0.8809999999999999, 0.28, 0.262, 0.647, 0.619, 0.34, 0.263, 0.434, 0.254, 0.6920000000000001, 0.52, 0.84, 0.156, 0.207, 0.215, 0.14300000000000002, 0.313, 0.605, 0.626, 0.315, 0.284, 0.15, 0.527, 0.14800000000000002, 0.12300000000000001, 0.2, 0.122, 1.476, 0.166, 0.13699999999999998, 0.26, 0.259, 0.932, 0.47200000000000003, 0.6729999999999999, 0.389, 0.29, 0.485, 0.349, 0.654, 0.187, 0.27899999999999997, 0.237, 0.252, 0.243, 0.58, 0.5589999999999999, 0.37799999999999995, 0.207, 0.305, 0.385, 0.499, 0.252, 0.306, 1.7309999999999999, 0.545, 0.225, 0.816, 0.299, 0.509, 1.021, 0.821, 0.23600000000000002, 0.9470000000000001, 1.268, 0.221, 0.205, 0.9490000000000001, 0.444, 0.389, 0.46299999999999997, 1.6, 0.9440000000000001, 0.389, 0.151, 0.28, 0.52, 0.336, 0.674, 0.528, 1.0759999999999998, 0.256, 1.095, 0.624, 0.507, 0.561, 0.496, 0.42100000000000004, 0.256, 0.284, 0.10800000000000001, 0.551, 0.527, 0.16699999999999998, 1.138, 0.244, 0.434, 0.147, 0.727, 0.49700000000000005, 0.23, 0.6579999999999999, 0.33, 0.285, 0.415, 0.381, 0.8320000000000001, 0.498, 0.687, 0.364, 0.46, 0.733, 0.41600000000000004, 0.705, 0.258, 1.022, 0.452, 0.26899999999999996, 0.6, 0.5710000000000001, 0.607, 0.17, 0.259, 0.21, 0.126, 0.231, 0.466, 0.162, 0.419, 0.19699999999999998, 0.306, 0.233, 0.536, 1.159, 0.294, 0.551, 0.629, 0.292, 0.145, 0.174, 0.304, 0.292, 0.547, 0.8390000000000001, 0.313, 0.267, 0.738, 0.23800000000000002, 0.263, 0.6920000000000001, 0.968, 0.409, 0.207, 0.2, 0.525, 0.154, 0.304, 0.18, 0.5820000000000001, 0.187, 0.305, 0.18899999999999997, 0.151, 0.444, 0.299, 0.107, 0.493, 0.66, 0.7170000000000001, 0.6859999999999999, 0.917, 0.501, 1.251, 0.19699999999999998, 0.735, 0.804, 0.159, 0.365, 0.16, 0.341, 0.68, 0.204, 0.591, 0.247, 0.42200000000000004, 0.47100000000000003, 0.161, 0.218, 0.237, 0.126, 0.3, 0.401, 0.49700000000000005, 0.601, 0.748, 0.41200000000000003, 0.085, 0.33799999999999997, 0.27, 0.268, 0.43, 0.198, 0.892, 0.28, 0.813, 0.245, 0.20600000000000002, 0.259, 0.19, 0.41700000000000004, 0.249, 0.342, 0.175, 1.699, 0.733, 0.19399999999999998, 0.5589999999999999, 0.40700000000000003, 0.4, 0.19, 0.1, 0.514, 0.48200000000000004, 0.27, 0.138, 0.292, 0.878, 0.207, 0.157, 0.257, 0.24600000000000002, 1.6980000000000002, 1.4609999999999999, 0.34700000000000003, 0.158, 0.36200000000000004, 0.20600000000000002, 0.39299999999999996, 0.14400000000000002, 0.14800000000000002, 0.23800000000000002, 0.34299999999999997, 0.115, 0.16699999999999998, 0.153, 0.649, 0.149, 0.695, 0.303, 0.61, 0.73, 0.134, 0.133, 0.23399999999999999, 0.466, 0.26899999999999996, 0.455, 0.142, 0.155, 1.162, 0.19, 0.182, 0.217, 0.43, 0.16399999999999998, 0.631, 0.551, 0.285, 0.88, 0.5870000000000001, 0.263, 0.614, 0.332, 0.366, 0.64, 0.591, 0.314, 0.18100000000000002, 0.828, 0.856, 0.8859999999999999, 0.191, 0.253, 0.598, 0.904, 0.483, 0.304, 0.11800000000000001, 0.177, 0.17600000000000002, 0.295, 0.439, 0.35200000000000004, 0.121, 0.595, 0.415, 0.317, 0.289, 0.251, 0.265, 0.23600000000000002, 0.496, 0.433, 0.326, 0.141, 0.426, 0.56, 0.284, 0.515, 0.6, 0.45299999999999996, 0.4, 0.21899999999999997, 1.1740000000000002, 0.488, 1.0959999999999999, 0.261, 0.223, 0.391, 0.19699999999999998, 0.7659999999999999, 0.142, 0.171, 0.34, 0.245, 0.315], \"xaxis\": \"x\", \"yaxis\": \"y\"}],\n",
              "                        {\"barmode\": \"relative\", \"legend\": {\"tracegroupgap\": 0}, \"margin\": {\"t\": 60}, \"template\": {\"data\": {\"bar\": [{\"error_x\": {\"color\": \"#2a3f5f\"}, \"error_y\": {\"color\": \"#2a3f5f\"}, \"marker\": {\"line\": {\"color\": \"#E5ECF6\", \"width\": 0.5}}, \"type\": \"bar\"}], \"barpolar\": [{\"marker\": {\"line\": {\"color\": \"#E5ECF6\", \"width\": 0.5}}, \"type\": \"barpolar\"}], \"carpet\": [{\"aaxis\": {\"endlinecolor\": \"#2a3f5f\", \"gridcolor\": \"white\", \"linecolor\": \"white\", \"minorgridcolor\": \"white\", \"startlinecolor\": \"#2a3f5f\"}, \"baxis\": {\"endlinecolor\": \"#2a3f5f\", \"gridcolor\": \"white\", \"linecolor\": \"white\", \"minorgridcolor\": \"white\", \"startlinecolor\": \"#2a3f5f\"}, \"type\": \"carpet\"}], \"choropleth\": [{\"colorbar\": {\"outlinewidth\": 0, \"ticks\": \"\"}, \"type\": \"choropleth\"}], \"contour\": [{\"colorbar\": {\"outlinewidth\": 0, \"ticks\": \"\"}, \"colorscale\": [[0.0, \"#0d0887\"], [0.1111111111111111, \"#46039f\"], [0.2222222222222222, \"#7201a8\"], [0.3333333333333333, \"#9c179e\"], [0.4444444444444444, \"#bd3786\"], [0.5555555555555556, \"#d8576b\"], [0.6666666666666666, \"#ed7953\"], [0.7777777777777778, \"#fb9f3a\"], [0.8888888888888888, \"#fdca26\"], [1.0, \"#f0f921\"]], \"type\": \"contour\"}], \"contourcarpet\": [{\"colorbar\": {\"outlinewidth\": 0, \"ticks\": \"\"}, \"type\": \"contourcarpet\"}], \"heatmap\": [{\"colorbar\": {\"outlinewidth\": 0, \"ticks\": \"\"}, \"colorscale\": [[0.0, \"#0d0887\"], [0.1111111111111111, \"#46039f\"], [0.2222222222222222, \"#7201a8\"], [0.3333333333333333, \"#9c179e\"], [0.4444444444444444, \"#bd3786\"], [0.5555555555555556, \"#d8576b\"], [0.6666666666666666, \"#ed7953\"], [0.7777777777777778, \"#fb9f3a\"], [0.8888888888888888, \"#fdca26\"], [1.0, \"#f0f921\"]], \"type\": \"heatmap\"}], \"heatmapgl\": [{\"colorbar\": {\"outlinewidth\": 0, \"ticks\": \"\"}, \"colorscale\": [[0.0, \"#0d0887\"], [0.1111111111111111, \"#46039f\"], [0.2222222222222222, \"#7201a8\"], [0.3333333333333333, \"#9c179e\"], [0.4444444444444444, \"#bd3786\"], [0.5555555555555556, \"#d8576b\"], [0.6666666666666666, \"#ed7953\"], [0.7777777777777778, \"#fb9f3a\"], [0.8888888888888888, \"#fdca26\"], [1.0, \"#f0f921\"]], \"type\": \"heatmapgl\"}], \"histogram\": [{\"marker\": {\"colorbar\": {\"outlinewidth\": 0, \"ticks\": \"\"}}, \"type\": \"histogram\"}], \"histogram2d\": [{\"colorbar\": {\"outlinewidth\": 0, \"ticks\": \"\"}, \"colorscale\": [[0.0, \"#0d0887\"], [0.1111111111111111, \"#46039f\"], [0.2222222222222222, \"#7201a8\"], [0.3333333333333333, \"#9c179e\"], [0.4444444444444444, \"#bd3786\"], [0.5555555555555556, \"#d8576b\"], [0.6666666666666666, \"#ed7953\"], [0.7777777777777778, \"#fb9f3a\"], [0.8888888888888888, \"#fdca26\"], [1.0, \"#f0f921\"]], \"type\": \"histogram2d\"}], \"histogram2dcontour\": [{\"colorbar\": {\"outlinewidth\": 0, \"ticks\": \"\"}, \"colorscale\": [[0.0, \"#0d0887\"], [0.1111111111111111, \"#46039f\"], [0.2222222222222222, \"#7201a8\"], [0.3333333333333333, \"#9c179e\"], [0.4444444444444444, \"#bd3786\"], [0.5555555555555556, \"#d8576b\"], [0.6666666666666666, \"#ed7953\"], [0.7777777777777778, \"#fb9f3a\"], [0.8888888888888888, \"#fdca26\"], [1.0, \"#f0f921\"]], \"type\": \"histogram2dcontour\"}], \"mesh3d\": [{\"colorbar\": {\"outlinewidth\": 0, \"ticks\": \"\"}, \"type\": \"mesh3d\"}], \"parcoords\": [{\"line\": {\"colorbar\": {\"outlinewidth\": 0, \"ticks\": \"\"}}, \"type\": \"parcoords\"}], \"pie\": [{\"automargin\": true, \"type\": \"pie\"}], \"scatter\": [{\"marker\": {\"colorbar\": {\"outlinewidth\": 0, \"ticks\": \"\"}}, \"type\": \"scatter\"}], \"scatter3d\": [{\"line\": {\"colorbar\": {\"outlinewidth\": 0, \"ticks\": \"\"}}, \"marker\": {\"colorbar\": {\"outlinewidth\": 0, \"ticks\": \"\"}}, \"type\": \"scatter3d\"}], \"scattercarpet\": [{\"marker\": {\"colorbar\": {\"outlinewidth\": 0, \"ticks\": \"\"}}, \"type\": \"scattercarpet\"}], \"scattergeo\": [{\"marker\": {\"colorbar\": {\"outlinewidth\": 0, \"ticks\": \"\"}}, \"type\": \"scattergeo\"}], \"scattergl\": [{\"marker\": {\"colorbar\": {\"outlinewidth\": 0, \"ticks\": \"\"}}, \"type\": \"scattergl\"}], \"scattermapbox\": [{\"marker\": {\"colorbar\": {\"outlinewidth\": 0, \"ticks\": \"\"}}, \"type\": \"scattermapbox\"}], \"scatterpolar\": [{\"marker\": {\"colorbar\": {\"outlinewidth\": 0, \"ticks\": \"\"}}, \"type\": \"scatterpolar\"}], \"scatterpolargl\": [{\"marker\": {\"colorbar\": {\"outlinewidth\": 0, \"ticks\": \"\"}}, \"type\": \"scatterpolargl\"}], \"scatterternary\": [{\"marker\": {\"colorbar\": {\"outlinewidth\": 0, \"ticks\": \"\"}}, \"type\": \"scatterternary\"}], \"surface\": [{\"colorbar\": {\"outlinewidth\": 0, \"ticks\": \"\"}, \"colorscale\": [[0.0, \"#0d0887\"], [0.1111111111111111, \"#46039f\"], [0.2222222222222222, \"#7201a8\"], [0.3333333333333333, \"#9c179e\"], [0.4444444444444444, \"#bd3786\"], [0.5555555555555556, \"#d8576b\"], [0.6666666666666666, \"#ed7953\"], [0.7777777777777778, \"#fb9f3a\"], [0.8888888888888888, \"#fdca26\"], [1.0, \"#f0f921\"]], \"type\": \"surface\"}], \"table\": [{\"cells\": {\"fill\": {\"color\": \"#EBF0F8\"}, \"line\": {\"color\": \"white\"}}, \"header\": {\"fill\": {\"color\": \"#C8D4E3\"}, \"line\": {\"color\": \"white\"}}, \"type\": \"table\"}]}, \"layout\": {\"annotationdefaults\": {\"arrowcolor\": \"#2a3f5f\", \"arrowhead\": 0, \"arrowwidth\": 1}, \"coloraxis\": {\"colorbar\": {\"outlinewidth\": 0, \"ticks\": \"\"}}, \"colorscale\": {\"diverging\": [[0, \"#8e0152\"], [0.1, \"#c51b7d\"], [0.2, \"#de77ae\"], [0.3, \"#f1b6da\"], [0.4, \"#fde0ef\"], [0.5, \"#f7f7f7\"], [0.6, \"#e6f5d0\"], [0.7, \"#b8e186\"], [0.8, \"#7fbc41\"], [0.9, \"#4d9221\"], [1, \"#276419\"]], \"sequential\": [[0.0, \"#0d0887\"], [0.1111111111111111, \"#46039f\"], [0.2222222222222222, \"#7201a8\"], [0.3333333333333333, \"#9c179e\"], [0.4444444444444444, \"#bd3786\"], [0.5555555555555556, \"#d8576b\"], [0.6666666666666666, \"#ed7953\"], [0.7777777777777778, \"#fb9f3a\"], [0.8888888888888888, \"#fdca26\"], [1.0, \"#f0f921\"]], \"sequentialminus\": [[0.0, \"#0d0887\"], [0.1111111111111111, \"#46039f\"], [0.2222222222222222, \"#7201a8\"], [0.3333333333333333, \"#9c179e\"], [0.4444444444444444, \"#bd3786\"], [0.5555555555555556, \"#d8576b\"], [0.6666666666666666, \"#ed7953\"], [0.7777777777777778, \"#fb9f3a\"], [0.8888888888888888, \"#fdca26\"], [1.0, \"#f0f921\"]]}, \"colorway\": [\"#636efa\", \"#EF553B\", \"#00cc96\", \"#ab63fa\", \"#FFA15A\", \"#19d3f3\", \"#FF6692\", \"#B6E880\", \"#FF97FF\", \"#FECB52\"], \"font\": {\"color\": \"#2a3f5f\"}, \"geo\": {\"bgcolor\": \"white\", \"lakecolor\": \"white\", \"landcolor\": \"#E5ECF6\", \"showlakes\": true, \"showland\": true, \"subunitcolor\": \"white\"}, \"hoverlabel\": {\"align\": \"left\"}, \"hovermode\": \"closest\", \"mapbox\": {\"style\": \"light\"}, \"paper_bgcolor\": \"white\", \"plot_bgcolor\": \"#E5ECF6\", \"polar\": {\"angularaxis\": {\"gridcolor\": \"white\", \"linecolor\": \"white\", \"ticks\": \"\"}, \"bgcolor\": \"#E5ECF6\", \"radialaxis\": {\"gridcolor\": \"white\", \"linecolor\": \"white\", \"ticks\": \"\"}}, \"scene\": {\"xaxis\": {\"backgroundcolor\": \"#E5ECF6\", \"gridcolor\": \"white\", \"gridwidth\": 2, \"linecolor\": \"white\", \"showbackground\": true, \"ticks\": \"\", \"zerolinecolor\": \"white\"}, \"yaxis\": {\"backgroundcolor\": \"#E5ECF6\", \"gridcolor\": \"white\", \"gridwidth\": 2, \"linecolor\": \"white\", \"showbackground\": true, \"ticks\": \"\", \"zerolinecolor\": \"white\"}, \"zaxis\": {\"backgroundcolor\": \"#E5ECF6\", \"gridcolor\": \"white\", \"gridwidth\": 2, \"linecolor\": \"white\", \"showbackground\": true, \"ticks\": \"\", \"zerolinecolor\": \"white\"}}, \"shapedefaults\": {\"line\": {\"color\": \"#2a3f5f\"}}, \"ternary\": {\"aaxis\": {\"gridcolor\": \"white\", \"linecolor\": \"white\", \"ticks\": \"\"}, \"baxis\": {\"gridcolor\": \"white\", \"linecolor\": \"white\", \"ticks\": \"\"}, \"bgcolor\": \"#E5ECF6\", \"caxis\": {\"gridcolor\": \"white\", \"linecolor\": \"white\", \"ticks\": \"\"}}, \"title\": {\"x\": 0.05}, \"xaxis\": {\"automargin\": true, \"gridcolor\": \"white\", \"linecolor\": \"white\", \"ticks\": \"\", \"title\": {\"standoff\": 15}, \"zerolinecolor\": \"white\", \"zerolinewidth\": 2}, \"yaxis\": {\"automargin\": true, \"gridcolor\": \"white\", \"linecolor\": \"white\", \"ticks\": \"\", \"title\": {\"standoff\": 15}, \"zerolinecolor\": \"white\", \"zerolinewidth\": 2}}}, \"xaxis\": {\"anchor\": \"y\", \"domain\": [0.0, 1.0], \"title\": {\"text\": \"DiabetesPedigreeFunction\"}}, \"yaxis\": {\"anchor\": \"x\", \"domain\": [0.0, 1.0], \"title\": {\"text\": \"count\"}}},\n",
              "                        {\"responsive\": true}\n",
              "                    ).then(function(){\n",
              "                            \n",
              "var gd = document.getElementById('51e45605-a20f-4b8c-bf2c-36c5dbd9c64e');\n",
              "var x = new MutationObserver(function (mutations, observer) {{\n",
              "        var display = window.getComputedStyle(gd).display;\n",
              "        if (!display || display === 'none') {{\n",
              "            console.log([gd, 'removed!']);\n",
              "            Plotly.purge(gd);\n",
              "            observer.disconnect();\n",
              "        }}\n",
              "}});\n",
              "\n",
              "// Listen for the removal of the full notebook cells\n",
              "var notebookContainer = gd.closest('#notebook-container');\n",
              "if (notebookContainer) {{\n",
              "    x.observe(notebookContainer, {childList: true});\n",
              "}}\n",
              "\n",
              "// Listen for the clearing of the current output cell\n",
              "var outputEl = gd.closest('.output');\n",
              "if (outputEl) {{\n",
              "    x.observe(outputEl, {childList: true});\n",
              "}}\n",
              "\n",
              "                        })\n",
              "                };\n",
              "                \n",
              "            </script>\n",
              "        </div>\n",
              "</body>\n",
              "</html>"
            ]
          },
          "metadata": {
            "tags": []
          }
        },
        {
          "output_type": "display_data",
          "data": {
            "text/html": [
              "<html>\n",
              "<head><meta charset=\"utf-8\" /></head>\n",
              "<body>\n",
              "    <div>\n",
              "            <script src=\"https://cdnjs.cloudflare.com/ajax/libs/mathjax/2.7.5/MathJax.js?config=TeX-AMS-MML_SVG\"></script><script type=\"text/javascript\">if (window.MathJax) {MathJax.Hub.Config({SVG: {font: \"STIX-Web\"}});}</script>\n",
              "                <script type=\"text/javascript\">window.PlotlyConfig = {MathJaxConfig: 'local'};</script>\n",
              "        <script src=\"https://cdn.plot.ly/plotly-latest.min.js\"></script>    \n",
              "            <div id=\"f55ff40b-6735-4b4b-8878-015599fccbeb\" class=\"plotly-graph-div\" style=\"height:525px; width:100%;\"></div>\n",
              "            <script type=\"text/javascript\">\n",
              "                \n",
              "                    window.PLOTLYENV=window.PLOTLYENV || {};\n",
              "                    \n",
              "                if (document.getElementById(\"f55ff40b-6735-4b4b-8878-015599fccbeb\")) {\n",
              "                    Plotly.newPlot(\n",
              "                        'f55ff40b-6735-4b4b-8878-015599fccbeb',\n",
              "                        [{\"alignmentgroup\": \"True\", \"hoverlabel\": {\"namelength\": 0}, \"hovertemplate\": \"Outcome=1<br>DiabetesPedigreeFunction=%{x}\", \"legendgroup\": \"Outcome=1\", \"marker\": {\"color\": \"#636efa\"}, \"name\": \"Outcome=1\", \"notched\": false, \"offsetgroup\": \"Outcome=1\", \"orientation\": \"v\", \"showlegend\": true, \"type\": \"box\", \"x\": [0.627, 0.672, 2.2880000000000003, 0.248, 0.158, 0.23199999999999998, 0.537, 0.39799999999999996, 0.5870000000000001, 0.484, 0.551, 0.254, 0.529, 0.451, 0.263, 0.254, 0.205, 0.257, 0.851, 0.665, 0.503, 1.39, 0.721, 1.893, 0.344, 0.467, 0.254, 0.27, 0.258, 0.855, 0.867, 0.583, 0.27, 0.22699999999999998, 0.153, 0.27699999999999997, 0.325, 1.222, 0.247, 0.19899999999999998, 0.5429999999999999, 0.588, 0.539, 0.22, 0.759, 0.278, 0.496, 0.40299999999999997, 0.741, 0.361, 1.114, 0.35600000000000004, 0.272, 1.189, 0.13699999999999998, 0.337, 0.8170000000000001, 0.743, 0.722, 0.18, 0.542, 0.7190000000000001, 0.319, 0.956, 0.745, 0.615, 1.321, 0.64, 0.361, 0.38299999999999995, 0.578, 0.395, 0.6779999999999999, 0.905, 0.15, 0.605, 0.151, 0.355, 0.431, 0.26, 0.742, 0.514, 1.224, 0.261, 1.072, 0.805, 0.652, 0.645, 0.23800000000000002, 0.479, 0.586, 0.6859999999999999, 0.831, 0.402, 1.318, 1.213, 0.9259999999999999, 0.5429999999999999, 1.3530000000000002, 0.7609999999999999, 0.226, 0.9329999999999999, 0.24, 1.136, 0.29600000000000004, 0.33399999999999996, 0.165, 0.259, 0.8079999999999999, 0.757, 1.224, 0.613, 0.337, 0.41200000000000003, 0.8390000000000001, 0.42200000000000004, 0.209, 0.326, 1.391, 0.875, 0.433, 1.127, 0.345, 0.129, 0.19699999999999998, 0.254, 0.731, 0.6920000000000001, 0.127, 0.282, 0.34299999999999997, 0.893, 0.331, 0.34600000000000003, 0.302, 0.9620000000000001, 0.569, 0.875, 0.583, 0.52, 0.368, 0.23399999999999999, 2.137, 0.528, 0.23800000000000002, 0.66, 0.239, 0.452, 0.34, 0.8029999999999999, 0.196, 0.24100000000000002, 0.161, 0.28600000000000003, 0.135, 0.376, 1.1909999999999998, 0.7020000000000001, 0.534, 0.258, 0.5539999999999999, 0.21899999999999997, 0.516, 0.264, 0.32799999999999996, 0.233, 0.205, 0.435, 0.955, 0.38, 2.42, 0.51, 0.542, 0.212, 1.001, 0.183, 0.711, 0.344, 0.63, 0.365, 1.1440000000000001, 0.163, 0.727, 0.314, 0.297, 0.268, 0.7709999999999999, 0.652, 0.302, 0.968, 0.6609999999999999, 0.5489999999999999, 0.825, 0.423, 1.034, 0.121, 0.502, 0.203, 0.693, 0.575, 0.371, 0.687, 0.129, 1.1540000000000001, 0.925, 0.402, 0.682, 0.08800000000000001, 0.6920000000000001, 0.212, 1.258, 0.593, 0.787, 0.557, 1.2819999999999998, 0.141, 0.732, 0.465, 0.871, 0.17800000000000002, 0.447, 0.455, 0.26, 0.24, 1.2919999999999998, 1.3940000000000001, 0.165, 0.637, 0.245, 0.235, 0.141, 0.32799999999999996, 0.23, 0.127, 0.364, 0.536, 0.335, 0.257, 0.439, 0.128, 0.268, 0.565, 0.905, 0.261, 0.14800000000000002, 0.674, 0.441, 0.826, 0.97, 0.37799999999999995, 0.349, 0.32299999999999995, 0.259, 0.6459999999999999, 0.293, 0.785, 0.7340000000000001, 0.358, 0.408, 0.17800000000000002, 1.182, 0.222, 0.44299999999999995, 1.057, 0.258, 0.278, 0.40299999999999997, 0.349], \"x0\": \" \", \"xaxis\": \"x\", \"y0\": \" \", \"yaxis\": \"y\"}, {\"alignmentgroup\": \"True\", \"hoverlabel\": {\"namelength\": 0}, \"hovertemplate\": \"Outcome=0<br>DiabetesPedigreeFunction=%{x}\", \"legendgroup\": \"Outcome=0\", \"marker\": {\"color\": \"#EF553B\"}, \"name\": \"Outcome=0\", \"notched\": false, \"offsetgroup\": \"Outcome=0\", \"orientation\": \"v\", \"showlegend\": true, \"type\": \"box\", \"x\": [0.35100000000000003, 0.16699999999999998, 0.201, 0.134, 0.191, 1.4409999999999998, 0.183, 0.7040000000000001, 0.38799999999999996, 0.48700000000000004, 0.245, 0.337, 0.546, 0.267, 0.188, 0.512, 0.966, 0.42, 0.271, 0.696, 0.235, 0.294, 0.564, 0.586, 0.305, 0.491, 0.526, 0.342, 0.718, 0.248, 0.9620000000000001, 1.781, 0.17300000000000001, 0.304, 0.5870000000000001, 0.6990000000000001, 0.203, 0.845, 0.33399999999999996, 0.18899999999999997, 0.41100000000000003, 0.231, 0.396, 0.14, 0.391, 0.37, 0.307, 0.14, 0.102, 0.767, 0.237, 0.698, 0.17800000000000002, 0.324, 0.165, 0.258, 0.44299999999999995, 0.261, 0.7609999999999999, 0.255, 0.13, 0.32299999999999995, 0.35600000000000004, 0.179, 0.262, 0.28300000000000003, 0.93, 0.8009999999999999, 0.207, 0.287, 0.336, 0.192, 0.391, 0.654, 0.44299999999999995, 0.223, 0.26, 0.40399999999999997, 0.18600000000000003, 0.452, 0.261, 0.457, 0.647, 0.08800000000000001, 0.597, 0.532, 0.703, 0.159, 0.268, 0.28600000000000003, 0.318, 0.237, 0.5720000000000001, 0.096, 1.4, 0.218, 0.085, 0.39899999999999997, 0.43200000000000005, 0.687, 0.637, 0.833, 0.22899999999999998, 0.294, 0.204, 0.16699999999999998, 0.368, 0.256, 0.7090000000000001, 0.47100000000000003, 0.495, 0.773, 0.6779999999999999, 0.37, 0.382, 0.19, 0.084, 0.725, 0.299, 0.268, 0.244, 0.142, 0.374, 0.136, 0.187, 0.8740000000000001, 0.23600000000000002, 0.787, 0.235, 0.324, 0.40700000000000003, 0.289, 0.29, 0.375, 0.16399999999999998, 0.46399999999999997, 0.209, 0.687, 0.6659999999999999, 0.10099999999999999, 0.198, 2.329, 0.08900000000000001, 0.583, 0.39399999999999996, 0.293, 0.5820000000000001, 0.192, 0.446, 0.32899999999999996, 0.258, 0.42700000000000005, 0.282, 0.14300000000000002, 0.38, 0.284, 0.249, 0.23800000000000002, 0.557, 0.092, 0.655, 0.299, 0.612, 0.2, 0.997, 1.101, 0.078, 0.128, 0.254, 0.42200000000000004, 0.251, 0.677, 0.45399999999999996, 0.7440000000000001, 0.8809999999999999, 0.28, 0.262, 0.647, 0.619, 0.34, 0.263, 0.434, 0.254, 0.6920000000000001, 0.52, 0.84, 0.156, 0.207, 0.215, 0.14300000000000002, 0.313, 0.605, 0.626, 0.315, 0.284, 0.15, 0.527, 0.14800000000000002, 0.12300000000000001, 0.2, 0.122, 1.476, 0.166, 0.13699999999999998, 0.26, 0.259, 0.932, 0.47200000000000003, 0.6729999999999999, 0.389, 0.29, 0.485, 0.349, 0.654, 0.187, 0.27899999999999997, 0.237, 0.252, 0.243, 0.58, 0.5589999999999999, 0.37799999999999995, 0.207, 0.305, 0.385, 0.499, 0.252, 0.306, 1.7309999999999999, 0.545, 0.225, 0.816, 0.299, 0.509, 1.021, 0.821, 0.23600000000000002, 0.9470000000000001, 1.268, 0.221, 0.205, 0.9490000000000001, 0.444, 0.389, 0.46299999999999997, 1.6, 0.9440000000000001, 0.389, 0.151, 0.28, 0.52, 0.336, 0.674, 0.528, 1.0759999999999998, 0.256, 1.095, 0.624, 0.507, 0.561, 0.496, 0.42100000000000004, 0.256, 0.284, 0.10800000000000001, 0.551, 0.527, 0.16699999999999998, 1.138, 0.244, 0.434, 0.147, 0.727, 0.49700000000000005, 0.23, 0.6579999999999999, 0.33, 0.285, 0.415, 0.381, 0.8320000000000001, 0.498, 0.687, 0.364, 0.46, 0.733, 0.41600000000000004, 0.705, 0.258, 1.022, 0.452, 0.26899999999999996, 0.6, 0.5710000000000001, 0.607, 0.17, 0.259, 0.21, 0.126, 0.231, 0.466, 0.162, 0.419, 0.19699999999999998, 0.306, 0.233, 0.536, 1.159, 0.294, 0.551, 0.629, 0.292, 0.145, 0.174, 0.304, 0.292, 0.547, 0.8390000000000001, 0.313, 0.267, 0.738, 0.23800000000000002, 0.263, 0.6920000000000001, 0.968, 0.409, 0.207, 0.2, 0.525, 0.154, 0.304, 0.18, 0.5820000000000001, 0.187, 0.305, 0.18899999999999997, 0.151, 0.444, 0.299, 0.107, 0.493, 0.66, 0.7170000000000001, 0.6859999999999999, 0.917, 0.501, 1.251, 0.19699999999999998, 0.735, 0.804, 0.159, 0.365, 0.16, 0.341, 0.68, 0.204, 0.591, 0.247, 0.42200000000000004, 0.47100000000000003, 0.161, 0.218, 0.237, 0.126, 0.3, 0.401, 0.49700000000000005, 0.601, 0.748, 0.41200000000000003, 0.085, 0.33799999999999997, 0.27, 0.268, 0.43, 0.198, 0.892, 0.28, 0.813, 0.245, 0.20600000000000002, 0.259, 0.19, 0.41700000000000004, 0.249, 0.342, 0.175, 1.699, 0.733, 0.19399999999999998, 0.5589999999999999, 0.40700000000000003, 0.4, 0.19, 0.1, 0.514, 0.48200000000000004, 0.27, 0.138, 0.292, 0.878, 0.207, 0.157, 0.257, 0.24600000000000002, 1.6980000000000002, 1.4609999999999999, 0.34700000000000003, 0.158, 0.36200000000000004, 0.20600000000000002, 0.39299999999999996, 0.14400000000000002, 0.14800000000000002, 0.23800000000000002, 0.34299999999999997, 0.115, 0.16699999999999998, 0.153, 0.649, 0.149, 0.695, 0.303, 0.61, 0.73, 0.134, 0.133, 0.23399999999999999, 0.466, 0.26899999999999996, 0.455, 0.142, 0.155, 1.162, 0.19, 0.182, 0.217, 0.43, 0.16399999999999998, 0.631, 0.551, 0.285, 0.88, 0.5870000000000001, 0.263, 0.614, 0.332, 0.366, 0.64, 0.591, 0.314, 0.18100000000000002, 0.828, 0.856, 0.8859999999999999, 0.191, 0.253, 0.598, 0.904, 0.483, 0.304, 0.11800000000000001, 0.177, 0.17600000000000002, 0.295, 0.439, 0.35200000000000004, 0.121, 0.595, 0.415, 0.317, 0.289, 0.251, 0.265, 0.23600000000000002, 0.496, 0.433, 0.326, 0.141, 0.426, 0.56, 0.284, 0.515, 0.6, 0.45299999999999996, 0.4, 0.21899999999999997, 1.1740000000000002, 0.488, 1.0959999999999999, 0.261, 0.223, 0.391, 0.19699999999999998, 0.7659999999999999, 0.142, 0.171, 0.34, 0.245, 0.315], \"x0\": \" \", \"xaxis\": \"x\", \"y0\": \" \", \"yaxis\": \"y\"}],\n",
              "                        {\"boxmode\": \"group\", \"legend\": {\"tracegroupgap\": 0}, \"margin\": {\"t\": 60}, \"template\": {\"data\": {\"bar\": [{\"error_x\": {\"color\": \"#2a3f5f\"}, \"error_y\": {\"color\": \"#2a3f5f\"}, \"marker\": {\"line\": {\"color\": \"#E5ECF6\", \"width\": 0.5}}, \"type\": \"bar\"}], \"barpolar\": [{\"marker\": {\"line\": {\"color\": \"#E5ECF6\", \"width\": 0.5}}, \"type\": \"barpolar\"}], \"carpet\": [{\"aaxis\": {\"endlinecolor\": \"#2a3f5f\", \"gridcolor\": \"white\", \"linecolor\": \"white\", \"minorgridcolor\": \"white\", \"startlinecolor\": \"#2a3f5f\"}, \"baxis\": {\"endlinecolor\": \"#2a3f5f\", \"gridcolor\": \"white\", \"linecolor\": \"white\", \"minorgridcolor\": \"white\", \"startlinecolor\": \"#2a3f5f\"}, \"type\": \"carpet\"}], \"choropleth\": [{\"colorbar\": {\"outlinewidth\": 0, \"ticks\": \"\"}, \"type\": \"choropleth\"}], \"contour\": [{\"colorbar\": {\"outlinewidth\": 0, \"ticks\": \"\"}, \"colorscale\": [[0.0, \"#0d0887\"], [0.1111111111111111, \"#46039f\"], [0.2222222222222222, \"#7201a8\"], [0.3333333333333333, \"#9c179e\"], [0.4444444444444444, \"#bd3786\"], [0.5555555555555556, \"#d8576b\"], [0.6666666666666666, \"#ed7953\"], [0.7777777777777778, \"#fb9f3a\"], [0.8888888888888888, \"#fdca26\"], [1.0, \"#f0f921\"]], \"type\": \"contour\"}], \"contourcarpet\": [{\"colorbar\": {\"outlinewidth\": 0, \"ticks\": \"\"}, \"type\": \"contourcarpet\"}], \"heatmap\": [{\"colorbar\": {\"outlinewidth\": 0, \"ticks\": \"\"}, \"colorscale\": [[0.0, \"#0d0887\"], [0.1111111111111111, \"#46039f\"], [0.2222222222222222, \"#7201a8\"], [0.3333333333333333, \"#9c179e\"], [0.4444444444444444, \"#bd3786\"], [0.5555555555555556, \"#d8576b\"], [0.6666666666666666, \"#ed7953\"], [0.7777777777777778, \"#fb9f3a\"], [0.8888888888888888, \"#fdca26\"], [1.0, \"#f0f921\"]], \"type\": \"heatmap\"}], \"heatmapgl\": [{\"colorbar\": {\"outlinewidth\": 0, \"ticks\": \"\"}, \"colorscale\": [[0.0, \"#0d0887\"], [0.1111111111111111, \"#46039f\"], [0.2222222222222222, \"#7201a8\"], [0.3333333333333333, \"#9c179e\"], [0.4444444444444444, \"#bd3786\"], [0.5555555555555556, \"#d8576b\"], [0.6666666666666666, \"#ed7953\"], [0.7777777777777778, \"#fb9f3a\"], [0.8888888888888888, \"#fdca26\"], [1.0, \"#f0f921\"]], \"type\": \"heatmapgl\"}], \"histogram\": [{\"marker\": {\"colorbar\": {\"outlinewidth\": 0, \"ticks\": \"\"}}, \"type\": \"histogram\"}], \"histogram2d\": [{\"colorbar\": {\"outlinewidth\": 0, \"ticks\": \"\"}, \"colorscale\": [[0.0, \"#0d0887\"], [0.1111111111111111, \"#46039f\"], [0.2222222222222222, \"#7201a8\"], [0.3333333333333333, \"#9c179e\"], [0.4444444444444444, \"#bd3786\"], [0.5555555555555556, \"#d8576b\"], [0.6666666666666666, \"#ed7953\"], [0.7777777777777778, \"#fb9f3a\"], [0.8888888888888888, \"#fdca26\"], [1.0, \"#f0f921\"]], \"type\": \"histogram2d\"}], \"histogram2dcontour\": [{\"colorbar\": {\"outlinewidth\": 0, \"ticks\": \"\"}, \"colorscale\": [[0.0, \"#0d0887\"], [0.1111111111111111, \"#46039f\"], [0.2222222222222222, \"#7201a8\"], [0.3333333333333333, \"#9c179e\"], [0.4444444444444444, \"#bd3786\"], [0.5555555555555556, \"#d8576b\"], [0.6666666666666666, \"#ed7953\"], [0.7777777777777778, \"#fb9f3a\"], [0.8888888888888888, \"#fdca26\"], [1.0, \"#f0f921\"]], \"type\": \"histogram2dcontour\"}], \"mesh3d\": [{\"colorbar\": {\"outlinewidth\": 0, \"ticks\": \"\"}, \"type\": \"mesh3d\"}], \"parcoords\": [{\"line\": {\"colorbar\": {\"outlinewidth\": 0, \"ticks\": \"\"}}, \"type\": \"parcoords\"}], \"pie\": [{\"automargin\": true, \"type\": \"pie\"}], \"scatter\": [{\"marker\": {\"colorbar\": {\"outlinewidth\": 0, \"ticks\": \"\"}}, \"type\": \"scatter\"}], \"scatter3d\": [{\"line\": {\"colorbar\": {\"outlinewidth\": 0, \"ticks\": \"\"}}, \"marker\": {\"colorbar\": {\"outlinewidth\": 0, \"ticks\": \"\"}}, \"type\": \"scatter3d\"}], \"scattercarpet\": [{\"marker\": {\"colorbar\": {\"outlinewidth\": 0, \"ticks\": \"\"}}, \"type\": \"scattercarpet\"}], \"scattergeo\": [{\"marker\": {\"colorbar\": {\"outlinewidth\": 0, \"ticks\": \"\"}}, \"type\": \"scattergeo\"}], \"scattergl\": [{\"marker\": {\"colorbar\": {\"outlinewidth\": 0, \"ticks\": \"\"}}, \"type\": \"scattergl\"}], \"scattermapbox\": [{\"marker\": {\"colorbar\": {\"outlinewidth\": 0, \"ticks\": \"\"}}, \"type\": \"scattermapbox\"}], \"scatterpolar\": [{\"marker\": {\"colorbar\": {\"outlinewidth\": 0, \"ticks\": \"\"}}, \"type\": \"scatterpolar\"}], \"scatterpolargl\": [{\"marker\": {\"colorbar\": {\"outlinewidth\": 0, \"ticks\": \"\"}}, \"type\": \"scatterpolargl\"}], \"scatterternary\": [{\"marker\": {\"colorbar\": {\"outlinewidth\": 0, \"ticks\": \"\"}}, \"type\": \"scatterternary\"}], \"surface\": [{\"colorbar\": {\"outlinewidth\": 0, \"ticks\": \"\"}, \"colorscale\": [[0.0, \"#0d0887\"], [0.1111111111111111, \"#46039f\"], [0.2222222222222222, \"#7201a8\"], [0.3333333333333333, \"#9c179e\"], [0.4444444444444444, \"#bd3786\"], [0.5555555555555556, \"#d8576b\"], [0.6666666666666666, \"#ed7953\"], [0.7777777777777778, \"#fb9f3a\"], [0.8888888888888888, \"#fdca26\"], [1.0, \"#f0f921\"]], \"type\": \"surface\"}], \"table\": [{\"cells\": {\"fill\": {\"color\": \"#EBF0F8\"}, \"line\": {\"color\": \"white\"}}, \"header\": {\"fill\": {\"color\": \"#C8D4E3\"}, \"line\": {\"color\": \"white\"}}, \"type\": \"table\"}]}, \"layout\": {\"annotationdefaults\": {\"arrowcolor\": \"#2a3f5f\", \"arrowhead\": 0, \"arrowwidth\": 1}, \"coloraxis\": {\"colorbar\": {\"outlinewidth\": 0, \"ticks\": \"\"}}, \"colorscale\": {\"diverging\": [[0, \"#8e0152\"], [0.1, \"#c51b7d\"], [0.2, \"#de77ae\"], [0.3, \"#f1b6da\"], [0.4, \"#fde0ef\"], [0.5, \"#f7f7f7\"], [0.6, \"#e6f5d0\"], [0.7, \"#b8e186\"], [0.8, \"#7fbc41\"], [0.9, \"#4d9221\"], [1, \"#276419\"]], \"sequential\": [[0.0, \"#0d0887\"], [0.1111111111111111, \"#46039f\"], [0.2222222222222222, \"#7201a8\"], [0.3333333333333333, \"#9c179e\"], [0.4444444444444444, \"#bd3786\"], [0.5555555555555556, \"#d8576b\"], [0.6666666666666666, \"#ed7953\"], [0.7777777777777778, \"#fb9f3a\"], [0.8888888888888888, \"#fdca26\"], [1.0, \"#f0f921\"]], \"sequentialminus\": [[0.0, \"#0d0887\"], [0.1111111111111111, \"#46039f\"], [0.2222222222222222, \"#7201a8\"], [0.3333333333333333, \"#9c179e\"], [0.4444444444444444, \"#bd3786\"], [0.5555555555555556, \"#d8576b\"], [0.6666666666666666, \"#ed7953\"], [0.7777777777777778, \"#fb9f3a\"], [0.8888888888888888, \"#fdca26\"], [1.0, \"#f0f921\"]]}, \"colorway\": [\"#636efa\", \"#EF553B\", \"#00cc96\", \"#ab63fa\", \"#FFA15A\", \"#19d3f3\", \"#FF6692\", \"#B6E880\", \"#FF97FF\", \"#FECB52\"], \"font\": {\"color\": \"#2a3f5f\"}, \"geo\": {\"bgcolor\": \"white\", \"lakecolor\": \"white\", \"landcolor\": \"#E5ECF6\", \"showlakes\": true, \"showland\": true, \"subunitcolor\": \"white\"}, \"hoverlabel\": {\"align\": \"left\"}, \"hovermode\": \"closest\", \"mapbox\": {\"style\": \"light\"}, \"paper_bgcolor\": \"white\", \"plot_bgcolor\": \"#E5ECF6\", \"polar\": {\"angularaxis\": {\"gridcolor\": \"white\", \"linecolor\": \"white\", \"ticks\": \"\"}, \"bgcolor\": \"#E5ECF6\", \"radialaxis\": {\"gridcolor\": \"white\", \"linecolor\": \"white\", \"ticks\": \"\"}}, \"scene\": {\"xaxis\": {\"backgroundcolor\": \"#E5ECF6\", \"gridcolor\": \"white\", \"gridwidth\": 2, \"linecolor\": \"white\", \"showbackground\": true, \"ticks\": \"\", \"zerolinecolor\": \"white\"}, \"yaxis\": {\"backgroundcolor\": \"#E5ECF6\", \"gridcolor\": \"white\", \"gridwidth\": 2, \"linecolor\": \"white\", \"showbackground\": true, \"ticks\": \"\", \"zerolinecolor\": \"white\"}, \"zaxis\": {\"backgroundcolor\": \"#E5ECF6\", \"gridcolor\": \"white\", \"gridwidth\": 2, \"linecolor\": \"white\", \"showbackground\": true, \"ticks\": \"\", \"zerolinecolor\": \"white\"}}, \"shapedefaults\": {\"line\": {\"color\": \"#2a3f5f\"}}, \"ternary\": {\"aaxis\": {\"gridcolor\": \"white\", \"linecolor\": \"white\", \"ticks\": \"\"}, \"baxis\": {\"gridcolor\": \"white\", \"linecolor\": \"white\", \"ticks\": \"\"}, \"bgcolor\": \"#E5ECF6\", \"caxis\": {\"gridcolor\": \"white\", \"linecolor\": \"white\", \"ticks\": \"\"}}, \"title\": {\"x\": 0.05}, \"xaxis\": {\"automargin\": true, \"gridcolor\": \"white\", \"linecolor\": \"white\", \"ticks\": \"\", \"title\": {\"standoff\": 15}, \"zerolinecolor\": \"white\", \"zerolinewidth\": 2}, \"yaxis\": {\"automargin\": true, \"gridcolor\": \"white\", \"linecolor\": \"white\", \"ticks\": \"\", \"title\": {\"standoff\": 15}, \"zerolinecolor\": \"white\", \"zerolinewidth\": 2}}}, \"xaxis\": {\"anchor\": \"y\", \"domain\": [0.0, 1.0], \"title\": {\"text\": \"DiabetesPedigreeFunction\"}}, \"yaxis\": {\"anchor\": \"x\", \"domain\": [0.0, 1.0]}},\n",
              "                        {\"responsive\": true}\n",
              "                    ).then(function(){\n",
              "                            \n",
              "var gd = document.getElementById('f55ff40b-6735-4b4b-8878-015599fccbeb');\n",
              "var x = new MutationObserver(function (mutations, observer) {{\n",
              "        var display = window.getComputedStyle(gd).display;\n",
              "        if (!display || display === 'none') {{\n",
              "            console.log([gd, 'removed!']);\n",
              "            Plotly.purge(gd);\n",
              "            observer.disconnect();\n",
              "        }}\n",
              "}});\n",
              "\n",
              "// Listen for the removal of the full notebook cells\n",
              "var notebookContainer = gd.closest('#notebook-container');\n",
              "if (notebookContainer) {{\n",
              "    x.observe(notebookContainer, {childList: true});\n",
              "}}\n",
              "\n",
              "// Listen for the clearing of the current output cell\n",
              "var outputEl = gd.closest('.output');\n",
              "if (outputEl) {{\n",
              "    x.observe(outputEl, {childList: true});\n",
              "}}\n",
              "\n",
              "                        })\n",
              "                };\n",
              "                \n",
              "            </script>\n",
              "        </div>\n",
              "</body>\n",
              "</html>"
            ]
          },
          "metadata": {
            "tags": []
          }
        }
      ]
    },
    {
      "cell_type": "markdown",
      "metadata": {
        "papermill": {
          "duration": 0.072793,
          "end_time": "2021-07-22T14:33:31.252767",
          "exception": false,
          "start_time": "2021-07-22T14:33:31.179974",
          "status": "completed"
        },
        "tags": [],
        "id": "b18b6bb8"
      },
      "source": [
        " ### We observe that diabetic people have higher DiabetesPedigreeFunction value i,e genetic influence plays some role in the Diabetes among patients.\n"
      ]
    },
    {
      "cell_type": "markdown",
      "metadata": {
        "papermill": {
          "duration": 0.068746,
          "end_time": "2021-07-22T14:33:31.392753",
          "exception": false,
          "start_time": "2021-07-22T14:33:31.324007",
          "status": "completed"
        },
        "tags": [],
        "id": "49298b2b"
      },
      "source": [
        "\n",
        "\n",
        "<p style=\"font-family: Arials; line-height: 1.3; font-size: 23px; font-weight: bold; letter-spacing: 2px; text-align: left; color: #23527c\">Let's look at how Age affect the chances if being Diabetic</p>"
      ]
    },
    {
      "cell_type": "code",
      "metadata": {
        "execution": {
          "iopub.execute_input": "2021-07-22T14:33:31.549568Z",
          "iopub.status.busy": "2021-07-22T14:33:31.548353Z",
          "iopub.status.idle": "2021-07-22T14:33:31.703922Z",
          "shell.execute_reply": "2021-07-22T14:33:31.703268Z",
          "shell.execute_reply.started": "2021-07-17T18:13:35.998552Z"
        },
        "papermill": {
          "duration": 0.23675,
          "end_time": "2021-07-22T14:33:31.704074",
          "exception": false,
          "start_time": "2021-07-22T14:33:31.467324",
          "status": "completed"
        },
        "tags": [],
        "id": "7658e478",
        "colab": {
          "base_uri": "https://localhost:8080/",
          "height": 1000
        },
        "outputId": "fa0f7eab-c783-4230-e76b-9838746d053f"
      },
      "source": [
        "# Age andd Outcome\n",
        "fig = px.histogram(data, x = data['Age'], color = 'Outcome')\n",
        "fig.show()\n",
        "fig2 = px.box(data, x = data['Age'], color = 'Outcome')\n",
        "fig2.show()"
      ],
      "execution_count": 17,
      "outputs": [
        {
          "output_type": "display_data",
          "data": {
            "text/html": [
              "<html>\n",
              "<head><meta charset=\"utf-8\" /></head>\n",
              "<body>\n",
              "    <div>\n",
              "            <script src=\"https://cdnjs.cloudflare.com/ajax/libs/mathjax/2.7.5/MathJax.js?config=TeX-AMS-MML_SVG\"></script><script type=\"text/javascript\">if (window.MathJax) {MathJax.Hub.Config({SVG: {font: \"STIX-Web\"}});}</script>\n",
              "                <script type=\"text/javascript\">window.PlotlyConfig = {MathJaxConfig: 'local'};</script>\n",
              "        <script src=\"https://cdn.plot.ly/plotly-latest.min.js\"></script>    \n",
              "            <div id=\"533505d9-8a1e-4b59-9e55-8fdb59e5e4b4\" class=\"plotly-graph-div\" style=\"height:525px; width:100%;\"></div>\n",
              "            <script type=\"text/javascript\">\n",
              "                \n",
              "                    window.PLOTLYENV=window.PLOTLYENV || {};\n",
              "                    \n",
              "                if (document.getElementById(\"533505d9-8a1e-4b59-9e55-8fdb59e5e4b4\")) {\n",
              "                    Plotly.newPlot(\n",
              "                        '533505d9-8a1e-4b59-9e55-8fdb59e5e4b4',\n",
              "                        [{\"alignmentgroup\": \"True\", \"bingroup\": \"x\", \"hoverlabel\": {\"namelength\": 0}, \"hovertemplate\": \"Outcome=1<br>Age=%{x}<br>count=%{y}\", \"legendgroup\": \"Outcome=1\", \"marker\": {\"color\": \"#636efa\"}, \"name\": \"Outcome=1\", \"offsetgroup\": \"Outcome=1\", \"orientation\": \"v\", \"showlegend\": true, \"type\": \"histogram\", \"x\": [50, 32, 33, 26, 53, 54, 34, 59, 51, 32, 31, 31, 32, 41, 29, 51, 41, 43, 28, 46, 27, 56, 54, 25, 31, 58, 41, 39, 42, 38, 28, 42, 26, 37, 43, 60, 31, 33, 24, 24, 46, 39, 61, 38, 25, 23, 26, 40, 62, 33, 33, 30, 42, 42, 43, 36, 47, 32, 41, 36, 29, 36, 26, 37, 41, 60, 33, 31, 25, 36, 40, 29, 23, 26, 29, 57, 52, 41, 24, 36, 38, 25, 32, 41, 21, 66, 24, 22, 46, 26, 51, 23, 32, 22, 33, 49, 44, 21, 51, 27, 35, 25, 28, 38, 29, 28, 47, 52, 29, 25, 31, 24, 29, 46, 30, 25, 28, 47, 25, 30, 27, 43, 29, 59, 25, 36, 43, 30, 23, 41, 44, 33, 41, 37, 49, 28, 44, 29, 29, 67, 29, 45, 25, 58, 32, 35, 45, 58, 27, 31, 22, 25, 31, 35, 41, 46, 39, 28, 21, 22, 37, 28, 36, 31, 38, 43, 29, 41, 33, 30, 25, 22, 23, 38, 51, 38, 29, 35, 31, 24, 45, 55, 41, 35, 46, 28, 53, 45, 23, 32, 43, 27, 56, 37, 53, 54, 28, 33, 21, 62, 21, 52, 41, 52, 45, 44, 22, 38, 54, 36, 22, 36, 40, 50, 50, 24, 34, 38, 32, 50, 33, 22, 42, 25, 27, 22, 43, 40, 40, 70, 40, 31, 53, 25, 26, 27, 46, 44, 43, 43, 31, 49, 52, 30, 45, 23, 38, 34, 31, 52, 42, 34, 22, 24, 42, 48, 45, 27, 36, 50, 22, 26, 45, 37, 52, 66, 43, 47], \"xaxis\": \"x\", \"yaxis\": \"y\"}, {\"alignmentgroup\": \"True\", \"bingroup\": \"x\", \"hoverlabel\": {\"namelength\": 0}, \"hovertemplate\": \"Outcome=0<br>Age=%{x}<br>count=%{y}\", \"legendgroup\": \"Outcome=0\", \"marker\": {\"color\": \"#EF553B\"}, \"name\": \"Outcome=0\", \"offsetgroup\": \"Outcome=0\", \"orientation\": \"v\", \"showlegend\": true, \"type\": \"histogram\", \"x\": [31, 21, 30, 29, 30, 57, 33, 27, 50, 22, 57, 38, 60, 22, 28, 45, 33, 35, 26, 37, 48, 40, 29, 22, 24, 22, 26, 30, 42, 21, 31, 44, 22, 21, 36, 24, 32, 54, 25, 27, 26, 23, 22, 22, 41, 27, 24, 22, 22, 36, 22, 27, 45, 26, 24, 21, 34, 42, 21, 40, 24, 22, 23, 22, 21, 24, 27, 21, 27, 37, 25, 23, 25, 25, 22, 21, 24, 23, 69, 30, 23, 39, 26, 31, 21, 22, 29, 28, 55, 38, 22, 23, 21, 41, 34, 65, 22, 24, 37, 23, 21, 23, 22, 36, 45, 27, 21, 22, 34, 29, 29, 25, 23, 33, 42, 47, 32, 23, 21, 27, 40, 21, 40, 42, 21, 21, 28, 32, 27, 55, 27, 21, 25, 24, 60, 32, 37, 61, 26, 22, 26, 31, 24, 22, 29, 23, 27, 21, 22, 29, 41, 23, 34, 23, 42, 27, 24, 25, 30, 25, 24, 34, 24, 63, 43, 24, 21, 21, 40, 21, 52, 25, 23, 57, 22, 39, 37, 51, 34, 26, 33, 21, 65, 28, 24, 58, 35, 37, 29, 21, 41, 22, 25, 26, 30, 28, 31, 21, 24, 37, 37, 46, 25, 44, 22, 26, 44, 22, 36, 22, 33, 57, 49, 22, 23, 26, 29, 30, 46, 24, 21, 48, 63, 65, 30, 30, 21, 22, 21, 21, 25, 28, 22, 22, 35, 24, 22, 21, 25, 25, 24, 28, 42, 21, 37, 25, 39, 25, 55, 38, 26, 25, 28, 25, 22, 21, 22, 27, 26, 21, 21, 21, 25, 26, 23, 38, 22, 29, 36, 41, 28, 21, 31, 22, 24, 28, 26, 26, 23, 25, 72, 24, 62, 24, 81, 48, 26, 39, 37, 34, 21, 22, 25, 27, 28, 22, 22, 50, 24, 59, 31, 39, 63, 29, 28, 23, 21, 58, 28, 67, 24, 42, 33, 22, 66, 30, 25, 39, 21, 28, 41, 40, 38, 21, 21, 64, 21, 58, 22, 24, 51, 41, 60, 25, 26, 26, 24, 21, 21, 24, 22, 31, 22, 24, 29, 31, 24, 46, 67, 23, 25, 29, 28, 50, 37, 21, 25, 66, 23, 28, 37, 30, 58, 42, 35, 24, 32, 27, 22, 21, 46, 37, 39, 21, 22, 22, 23, 25, 35, 36, 27, 62, 42, 22, 29, 25, 24, 25, 34, 46, 21, 26, 24, 28, 30, 21, 25, 27, 23, 24, 26, 27, 30, 23, 28, 28, 45, 21, 21, 29, 21, 21, 45, 21, 24, 23, 22, 31, 48, 23, 28, 27, 24, 31, 27, 30, 23, 23, 27, 28, 27, 22, 22, 41, 51, 54, 24, 43, 45, 49, 21, 47, 22, 68, 25, 23, 22, 22, 69, 25, 22, 29, 23, 34, 23, 25, 22, 28, 26, 26, 41, 27, 28, 22, 24, 40, 21, 32, 56, 24, 34, 21, 42, 45, 38, 25, 22, 22, 22, 22, 53, 28, 21, 42, 21, 26, 22, 39, 46, 32, 28, 25, 39, 26, 22, 33, 63, 27, 30, 23], \"xaxis\": \"x\", \"yaxis\": \"y\"}],\n",
              "                        {\"barmode\": \"relative\", \"legend\": {\"tracegroupgap\": 0}, \"margin\": {\"t\": 60}, \"template\": {\"data\": {\"bar\": [{\"error_x\": {\"color\": \"#2a3f5f\"}, \"error_y\": {\"color\": \"#2a3f5f\"}, \"marker\": {\"line\": {\"color\": \"#E5ECF6\", \"width\": 0.5}}, \"type\": \"bar\"}], \"barpolar\": [{\"marker\": {\"line\": {\"color\": \"#E5ECF6\", \"width\": 0.5}}, \"type\": \"barpolar\"}], \"carpet\": [{\"aaxis\": {\"endlinecolor\": \"#2a3f5f\", \"gridcolor\": \"white\", \"linecolor\": \"white\", \"minorgridcolor\": \"white\", \"startlinecolor\": \"#2a3f5f\"}, \"baxis\": {\"endlinecolor\": \"#2a3f5f\", \"gridcolor\": \"white\", \"linecolor\": \"white\", \"minorgridcolor\": \"white\", \"startlinecolor\": \"#2a3f5f\"}, \"type\": \"carpet\"}], \"choropleth\": [{\"colorbar\": {\"outlinewidth\": 0, \"ticks\": \"\"}, \"type\": \"choropleth\"}], \"contour\": [{\"colorbar\": {\"outlinewidth\": 0, \"ticks\": \"\"}, \"colorscale\": [[0.0, \"#0d0887\"], [0.1111111111111111, \"#46039f\"], [0.2222222222222222, \"#7201a8\"], [0.3333333333333333, \"#9c179e\"], [0.4444444444444444, \"#bd3786\"], [0.5555555555555556, \"#d8576b\"], [0.6666666666666666, \"#ed7953\"], [0.7777777777777778, \"#fb9f3a\"], [0.8888888888888888, \"#fdca26\"], [1.0, \"#f0f921\"]], \"type\": \"contour\"}], \"contourcarpet\": [{\"colorbar\": {\"outlinewidth\": 0, \"ticks\": \"\"}, \"type\": \"contourcarpet\"}], \"heatmap\": [{\"colorbar\": {\"outlinewidth\": 0, \"ticks\": \"\"}, \"colorscale\": [[0.0, \"#0d0887\"], [0.1111111111111111, \"#46039f\"], [0.2222222222222222, \"#7201a8\"], [0.3333333333333333, \"#9c179e\"], [0.4444444444444444, \"#bd3786\"], [0.5555555555555556, \"#d8576b\"], [0.6666666666666666, \"#ed7953\"], [0.7777777777777778, \"#fb9f3a\"], [0.8888888888888888, \"#fdca26\"], [1.0, \"#f0f921\"]], \"type\": \"heatmap\"}], \"heatmapgl\": [{\"colorbar\": {\"outlinewidth\": 0, \"ticks\": \"\"}, \"colorscale\": [[0.0, \"#0d0887\"], [0.1111111111111111, \"#46039f\"], [0.2222222222222222, \"#7201a8\"], [0.3333333333333333, \"#9c179e\"], [0.4444444444444444, \"#bd3786\"], [0.5555555555555556, \"#d8576b\"], [0.6666666666666666, \"#ed7953\"], [0.7777777777777778, \"#fb9f3a\"], [0.8888888888888888, \"#fdca26\"], [1.0, \"#f0f921\"]], \"type\": \"heatmapgl\"}], \"histogram\": [{\"marker\": {\"colorbar\": {\"outlinewidth\": 0, \"ticks\": \"\"}}, \"type\": \"histogram\"}], \"histogram2d\": [{\"colorbar\": {\"outlinewidth\": 0, \"ticks\": \"\"}, \"colorscale\": [[0.0, \"#0d0887\"], [0.1111111111111111, \"#46039f\"], [0.2222222222222222, \"#7201a8\"], [0.3333333333333333, \"#9c179e\"], [0.4444444444444444, \"#bd3786\"], [0.5555555555555556, \"#d8576b\"], [0.6666666666666666, \"#ed7953\"], [0.7777777777777778, \"#fb9f3a\"], [0.8888888888888888, \"#fdca26\"], [1.0, \"#f0f921\"]], \"type\": \"histogram2d\"}], \"histogram2dcontour\": [{\"colorbar\": {\"outlinewidth\": 0, \"ticks\": \"\"}, \"colorscale\": [[0.0, \"#0d0887\"], [0.1111111111111111, \"#46039f\"], [0.2222222222222222, \"#7201a8\"], [0.3333333333333333, \"#9c179e\"], [0.4444444444444444, \"#bd3786\"], [0.5555555555555556, \"#d8576b\"], [0.6666666666666666, \"#ed7953\"], [0.7777777777777778, \"#fb9f3a\"], [0.8888888888888888, \"#fdca26\"], [1.0, \"#f0f921\"]], \"type\": \"histogram2dcontour\"}], \"mesh3d\": [{\"colorbar\": {\"outlinewidth\": 0, \"ticks\": \"\"}, \"type\": \"mesh3d\"}], \"parcoords\": [{\"line\": {\"colorbar\": {\"outlinewidth\": 0, \"ticks\": \"\"}}, \"type\": \"parcoords\"}], \"pie\": [{\"automargin\": true, \"type\": \"pie\"}], \"scatter\": [{\"marker\": {\"colorbar\": {\"outlinewidth\": 0, \"ticks\": \"\"}}, \"type\": \"scatter\"}], \"scatter3d\": [{\"line\": {\"colorbar\": {\"outlinewidth\": 0, \"ticks\": \"\"}}, \"marker\": {\"colorbar\": {\"outlinewidth\": 0, \"ticks\": \"\"}}, \"type\": \"scatter3d\"}], \"scattercarpet\": [{\"marker\": {\"colorbar\": {\"outlinewidth\": 0, \"ticks\": \"\"}}, \"type\": \"scattercarpet\"}], \"scattergeo\": [{\"marker\": {\"colorbar\": {\"outlinewidth\": 0, \"ticks\": \"\"}}, \"type\": \"scattergeo\"}], \"scattergl\": [{\"marker\": {\"colorbar\": {\"outlinewidth\": 0, \"ticks\": \"\"}}, \"type\": \"scattergl\"}], \"scattermapbox\": [{\"marker\": {\"colorbar\": {\"outlinewidth\": 0, \"ticks\": \"\"}}, \"type\": \"scattermapbox\"}], \"scatterpolar\": [{\"marker\": {\"colorbar\": {\"outlinewidth\": 0, \"ticks\": \"\"}}, \"type\": \"scatterpolar\"}], \"scatterpolargl\": [{\"marker\": {\"colorbar\": {\"outlinewidth\": 0, \"ticks\": \"\"}}, \"type\": \"scatterpolargl\"}], \"scatterternary\": [{\"marker\": {\"colorbar\": {\"outlinewidth\": 0, \"ticks\": \"\"}}, \"type\": \"scatterternary\"}], \"surface\": [{\"colorbar\": {\"outlinewidth\": 0, \"ticks\": \"\"}, \"colorscale\": [[0.0, \"#0d0887\"], [0.1111111111111111, \"#46039f\"], [0.2222222222222222, \"#7201a8\"], [0.3333333333333333, \"#9c179e\"], [0.4444444444444444, \"#bd3786\"], [0.5555555555555556, \"#d8576b\"], [0.6666666666666666, \"#ed7953\"], [0.7777777777777778, \"#fb9f3a\"], [0.8888888888888888, \"#fdca26\"], [1.0, \"#f0f921\"]], \"type\": \"surface\"}], \"table\": [{\"cells\": {\"fill\": {\"color\": \"#EBF0F8\"}, \"line\": {\"color\": \"white\"}}, \"header\": {\"fill\": {\"color\": \"#C8D4E3\"}, \"line\": {\"color\": \"white\"}}, \"type\": \"table\"}]}, \"layout\": {\"annotationdefaults\": {\"arrowcolor\": \"#2a3f5f\", \"arrowhead\": 0, \"arrowwidth\": 1}, \"coloraxis\": {\"colorbar\": {\"outlinewidth\": 0, \"ticks\": \"\"}}, \"colorscale\": {\"diverging\": [[0, \"#8e0152\"], [0.1, \"#c51b7d\"], [0.2, \"#de77ae\"], [0.3, \"#f1b6da\"], [0.4, \"#fde0ef\"], [0.5, \"#f7f7f7\"], [0.6, \"#e6f5d0\"], [0.7, \"#b8e186\"], [0.8, \"#7fbc41\"], [0.9, \"#4d9221\"], [1, \"#276419\"]], \"sequential\": [[0.0, \"#0d0887\"], [0.1111111111111111, \"#46039f\"], [0.2222222222222222, \"#7201a8\"], [0.3333333333333333, \"#9c179e\"], [0.4444444444444444, \"#bd3786\"], [0.5555555555555556, \"#d8576b\"], [0.6666666666666666, \"#ed7953\"], [0.7777777777777778, \"#fb9f3a\"], [0.8888888888888888, \"#fdca26\"], [1.0, \"#f0f921\"]], \"sequentialminus\": [[0.0, \"#0d0887\"], [0.1111111111111111, \"#46039f\"], [0.2222222222222222, \"#7201a8\"], [0.3333333333333333, \"#9c179e\"], [0.4444444444444444, \"#bd3786\"], [0.5555555555555556, \"#d8576b\"], [0.6666666666666666, \"#ed7953\"], [0.7777777777777778, \"#fb9f3a\"], [0.8888888888888888, \"#fdca26\"], [1.0, \"#f0f921\"]]}, \"colorway\": [\"#636efa\", \"#EF553B\", \"#00cc96\", \"#ab63fa\", \"#FFA15A\", \"#19d3f3\", \"#FF6692\", \"#B6E880\", \"#FF97FF\", \"#FECB52\"], \"font\": {\"color\": \"#2a3f5f\"}, \"geo\": {\"bgcolor\": \"white\", \"lakecolor\": \"white\", \"landcolor\": \"#E5ECF6\", \"showlakes\": true, \"showland\": true, \"subunitcolor\": \"white\"}, \"hoverlabel\": {\"align\": \"left\"}, \"hovermode\": \"closest\", \"mapbox\": {\"style\": \"light\"}, \"paper_bgcolor\": \"white\", \"plot_bgcolor\": \"#E5ECF6\", \"polar\": {\"angularaxis\": {\"gridcolor\": \"white\", \"linecolor\": \"white\", \"ticks\": \"\"}, \"bgcolor\": \"#E5ECF6\", \"radialaxis\": {\"gridcolor\": \"white\", \"linecolor\": \"white\", \"ticks\": \"\"}}, \"scene\": {\"xaxis\": {\"backgroundcolor\": \"#E5ECF6\", \"gridcolor\": \"white\", \"gridwidth\": 2, \"linecolor\": \"white\", \"showbackground\": true, \"ticks\": \"\", \"zerolinecolor\": \"white\"}, \"yaxis\": {\"backgroundcolor\": \"#E5ECF6\", \"gridcolor\": \"white\", \"gridwidth\": 2, \"linecolor\": \"white\", \"showbackground\": true, \"ticks\": \"\", \"zerolinecolor\": \"white\"}, \"zaxis\": {\"backgroundcolor\": \"#E5ECF6\", \"gridcolor\": \"white\", \"gridwidth\": 2, \"linecolor\": \"white\", \"showbackground\": true, \"ticks\": \"\", \"zerolinecolor\": \"white\"}}, \"shapedefaults\": {\"line\": {\"color\": \"#2a3f5f\"}}, \"ternary\": {\"aaxis\": {\"gridcolor\": \"white\", \"linecolor\": \"white\", \"ticks\": \"\"}, \"baxis\": {\"gridcolor\": \"white\", \"linecolor\": \"white\", \"ticks\": \"\"}, \"bgcolor\": \"#E5ECF6\", \"caxis\": {\"gridcolor\": \"white\", \"linecolor\": \"white\", \"ticks\": \"\"}}, \"title\": {\"x\": 0.05}, \"xaxis\": {\"automargin\": true, \"gridcolor\": \"white\", \"linecolor\": \"white\", \"ticks\": \"\", \"title\": {\"standoff\": 15}, \"zerolinecolor\": \"white\", \"zerolinewidth\": 2}, \"yaxis\": {\"automargin\": true, \"gridcolor\": \"white\", \"linecolor\": \"white\", \"ticks\": \"\", \"title\": {\"standoff\": 15}, \"zerolinecolor\": \"white\", \"zerolinewidth\": 2}}}, \"xaxis\": {\"anchor\": \"y\", \"domain\": [0.0, 1.0], \"title\": {\"text\": \"Age\"}}, \"yaxis\": {\"anchor\": \"x\", \"domain\": [0.0, 1.0], \"title\": {\"text\": \"count\"}}},\n",
              "                        {\"responsive\": true}\n",
              "                    ).then(function(){\n",
              "                            \n",
              "var gd = document.getElementById('533505d9-8a1e-4b59-9e55-8fdb59e5e4b4');\n",
              "var x = new MutationObserver(function (mutations, observer) {{\n",
              "        var display = window.getComputedStyle(gd).display;\n",
              "        if (!display || display === 'none') {{\n",
              "            console.log([gd, 'removed!']);\n",
              "            Plotly.purge(gd);\n",
              "            observer.disconnect();\n",
              "        }}\n",
              "}});\n",
              "\n",
              "// Listen for the removal of the full notebook cells\n",
              "var notebookContainer = gd.closest('#notebook-container');\n",
              "if (notebookContainer) {{\n",
              "    x.observe(notebookContainer, {childList: true});\n",
              "}}\n",
              "\n",
              "// Listen for the clearing of the current output cell\n",
              "var outputEl = gd.closest('.output');\n",
              "if (outputEl) {{\n",
              "    x.observe(outputEl, {childList: true});\n",
              "}}\n",
              "\n",
              "                        })\n",
              "                };\n",
              "                \n",
              "            </script>\n",
              "        </div>\n",
              "</body>\n",
              "</html>"
            ]
          },
          "metadata": {
            "tags": []
          }
        },
        {
          "output_type": "display_data",
          "data": {
            "text/html": [
              "<html>\n",
              "<head><meta charset=\"utf-8\" /></head>\n",
              "<body>\n",
              "    <div>\n",
              "            <script src=\"https://cdnjs.cloudflare.com/ajax/libs/mathjax/2.7.5/MathJax.js?config=TeX-AMS-MML_SVG\"></script><script type=\"text/javascript\">if (window.MathJax) {MathJax.Hub.Config({SVG: {font: \"STIX-Web\"}});}</script>\n",
              "                <script type=\"text/javascript\">window.PlotlyConfig = {MathJaxConfig: 'local'};</script>\n",
              "        <script src=\"https://cdn.plot.ly/plotly-latest.min.js\"></script>    \n",
              "            <div id=\"0d16046a-3c11-4aaa-9ca3-467e01118190\" class=\"plotly-graph-div\" style=\"height:525px; width:100%;\"></div>\n",
              "            <script type=\"text/javascript\">\n",
              "                \n",
              "                    window.PLOTLYENV=window.PLOTLYENV || {};\n",
              "                    \n",
              "                if (document.getElementById(\"0d16046a-3c11-4aaa-9ca3-467e01118190\")) {\n",
              "                    Plotly.newPlot(\n",
              "                        '0d16046a-3c11-4aaa-9ca3-467e01118190',\n",
              "                        [{\"alignmentgroup\": \"True\", \"hoverlabel\": {\"namelength\": 0}, \"hovertemplate\": \"Outcome=1<br>Age=%{x}\", \"legendgroup\": \"Outcome=1\", \"marker\": {\"color\": \"#636efa\"}, \"name\": \"Outcome=1\", \"notched\": false, \"offsetgroup\": \"Outcome=1\", \"orientation\": \"v\", \"showlegend\": true, \"type\": \"box\", \"x\": [50, 32, 33, 26, 53, 54, 34, 59, 51, 32, 31, 31, 32, 41, 29, 51, 41, 43, 28, 46, 27, 56, 54, 25, 31, 58, 41, 39, 42, 38, 28, 42, 26, 37, 43, 60, 31, 33, 24, 24, 46, 39, 61, 38, 25, 23, 26, 40, 62, 33, 33, 30, 42, 42, 43, 36, 47, 32, 41, 36, 29, 36, 26, 37, 41, 60, 33, 31, 25, 36, 40, 29, 23, 26, 29, 57, 52, 41, 24, 36, 38, 25, 32, 41, 21, 66, 24, 22, 46, 26, 51, 23, 32, 22, 33, 49, 44, 21, 51, 27, 35, 25, 28, 38, 29, 28, 47, 52, 29, 25, 31, 24, 29, 46, 30, 25, 28, 47, 25, 30, 27, 43, 29, 59, 25, 36, 43, 30, 23, 41, 44, 33, 41, 37, 49, 28, 44, 29, 29, 67, 29, 45, 25, 58, 32, 35, 45, 58, 27, 31, 22, 25, 31, 35, 41, 46, 39, 28, 21, 22, 37, 28, 36, 31, 38, 43, 29, 41, 33, 30, 25, 22, 23, 38, 51, 38, 29, 35, 31, 24, 45, 55, 41, 35, 46, 28, 53, 45, 23, 32, 43, 27, 56, 37, 53, 54, 28, 33, 21, 62, 21, 52, 41, 52, 45, 44, 22, 38, 54, 36, 22, 36, 40, 50, 50, 24, 34, 38, 32, 50, 33, 22, 42, 25, 27, 22, 43, 40, 40, 70, 40, 31, 53, 25, 26, 27, 46, 44, 43, 43, 31, 49, 52, 30, 45, 23, 38, 34, 31, 52, 42, 34, 22, 24, 42, 48, 45, 27, 36, 50, 22, 26, 45, 37, 52, 66, 43, 47], \"x0\": \" \", \"xaxis\": \"x\", \"y0\": \" \", \"yaxis\": \"y\"}, {\"alignmentgroup\": \"True\", \"hoverlabel\": {\"namelength\": 0}, \"hovertemplate\": \"Outcome=0<br>Age=%{x}\", \"legendgroup\": \"Outcome=0\", \"marker\": {\"color\": \"#EF553B\"}, \"name\": \"Outcome=0\", \"notched\": false, \"offsetgroup\": \"Outcome=0\", \"orientation\": \"v\", \"showlegend\": true, \"type\": \"box\", \"x\": [31, 21, 30, 29, 30, 57, 33, 27, 50, 22, 57, 38, 60, 22, 28, 45, 33, 35, 26, 37, 48, 40, 29, 22, 24, 22, 26, 30, 42, 21, 31, 44, 22, 21, 36, 24, 32, 54, 25, 27, 26, 23, 22, 22, 41, 27, 24, 22, 22, 36, 22, 27, 45, 26, 24, 21, 34, 42, 21, 40, 24, 22, 23, 22, 21, 24, 27, 21, 27, 37, 25, 23, 25, 25, 22, 21, 24, 23, 69, 30, 23, 39, 26, 31, 21, 22, 29, 28, 55, 38, 22, 23, 21, 41, 34, 65, 22, 24, 37, 23, 21, 23, 22, 36, 45, 27, 21, 22, 34, 29, 29, 25, 23, 33, 42, 47, 32, 23, 21, 27, 40, 21, 40, 42, 21, 21, 28, 32, 27, 55, 27, 21, 25, 24, 60, 32, 37, 61, 26, 22, 26, 31, 24, 22, 29, 23, 27, 21, 22, 29, 41, 23, 34, 23, 42, 27, 24, 25, 30, 25, 24, 34, 24, 63, 43, 24, 21, 21, 40, 21, 52, 25, 23, 57, 22, 39, 37, 51, 34, 26, 33, 21, 65, 28, 24, 58, 35, 37, 29, 21, 41, 22, 25, 26, 30, 28, 31, 21, 24, 37, 37, 46, 25, 44, 22, 26, 44, 22, 36, 22, 33, 57, 49, 22, 23, 26, 29, 30, 46, 24, 21, 48, 63, 65, 30, 30, 21, 22, 21, 21, 25, 28, 22, 22, 35, 24, 22, 21, 25, 25, 24, 28, 42, 21, 37, 25, 39, 25, 55, 38, 26, 25, 28, 25, 22, 21, 22, 27, 26, 21, 21, 21, 25, 26, 23, 38, 22, 29, 36, 41, 28, 21, 31, 22, 24, 28, 26, 26, 23, 25, 72, 24, 62, 24, 81, 48, 26, 39, 37, 34, 21, 22, 25, 27, 28, 22, 22, 50, 24, 59, 31, 39, 63, 29, 28, 23, 21, 58, 28, 67, 24, 42, 33, 22, 66, 30, 25, 39, 21, 28, 41, 40, 38, 21, 21, 64, 21, 58, 22, 24, 51, 41, 60, 25, 26, 26, 24, 21, 21, 24, 22, 31, 22, 24, 29, 31, 24, 46, 67, 23, 25, 29, 28, 50, 37, 21, 25, 66, 23, 28, 37, 30, 58, 42, 35, 24, 32, 27, 22, 21, 46, 37, 39, 21, 22, 22, 23, 25, 35, 36, 27, 62, 42, 22, 29, 25, 24, 25, 34, 46, 21, 26, 24, 28, 30, 21, 25, 27, 23, 24, 26, 27, 30, 23, 28, 28, 45, 21, 21, 29, 21, 21, 45, 21, 24, 23, 22, 31, 48, 23, 28, 27, 24, 31, 27, 30, 23, 23, 27, 28, 27, 22, 22, 41, 51, 54, 24, 43, 45, 49, 21, 47, 22, 68, 25, 23, 22, 22, 69, 25, 22, 29, 23, 34, 23, 25, 22, 28, 26, 26, 41, 27, 28, 22, 24, 40, 21, 32, 56, 24, 34, 21, 42, 45, 38, 25, 22, 22, 22, 22, 53, 28, 21, 42, 21, 26, 22, 39, 46, 32, 28, 25, 39, 26, 22, 33, 63, 27, 30, 23], \"x0\": \" \", \"xaxis\": \"x\", \"y0\": \" \", \"yaxis\": \"y\"}],\n",
              "                        {\"boxmode\": \"group\", \"legend\": {\"tracegroupgap\": 0}, \"margin\": {\"t\": 60}, \"template\": {\"data\": {\"bar\": [{\"error_x\": {\"color\": \"#2a3f5f\"}, \"error_y\": {\"color\": \"#2a3f5f\"}, \"marker\": {\"line\": {\"color\": \"#E5ECF6\", \"width\": 0.5}}, \"type\": \"bar\"}], \"barpolar\": [{\"marker\": {\"line\": {\"color\": \"#E5ECF6\", \"width\": 0.5}}, \"type\": \"barpolar\"}], \"carpet\": [{\"aaxis\": {\"endlinecolor\": \"#2a3f5f\", \"gridcolor\": \"white\", \"linecolor\": \"white\", \"minorgridcolor\": \"white\", \"startlinecolor\": \"#2a3f5f\"}, \"baxis\": {\"endlinecolor\": \"#2a3f5f\", \"gridcolor\": \"white\", \"linecolor\": \"white\", \"minorgridcolor\": \"white\", \"startlinecolor\": \"#2a3f5f\"}, \"type\": \"carpet\"}], \"choropleth\": [{\"colorbar\": {\"outlinewidth\": 0, \"ticks\": \"\"}, \"type\": \"choropleth\"}], \"contour\": [{\"colorbar\": {\"outlinewidth\": 0, \"ticks\": \"\"}, \"colorscale\": [[0.0, \"#0d0887\"], [0.1111111111111111, \"#46039f\"], [0.2222222222222222, \"#7201a8\"], [0.3333333333333333, \"#9c179e\"], [0.4444444444444444, \"#bd3786\"], [0.5555555555555556, \"#d8576b\"], [0.6666666666666666, \"#ed7953\"], [0.7777777777777778, \"#fb9f3a\"], [0.8888888888888888, \"#fdca26\"], [1.0, \"#f0f921\"]], \"type\": \"contour\"}], \"contourcarpet\": [{\"colorbar\": {\"outlinewidth\": 0, \"ticks\": \"\"}, \"type\": \"contourcarpet\"}], \"heatmap\": [{\"colorbar\": {\"outlinewidth\": 0, \"ticks\": \"\"}, \"colorscale\": [[0.0, \"#0d0887\"], [0.1111111111111111, \"#46039f\"], [0.2222222222222222, \"#7201a8\"], [0.3333333333333333, \"#9c179e\"], [0.4444444444444444, \"#bd3786\"], [0.5555555555555556, \"#d8576b\"], [0.6666666666666666, \"#ed7953\"], [0.7777777777777778, \"#fb9f3a\"], [0.8888888888888888, \"#fdca26\"], [1.0, \"#f0f921\"]], \"type\": \"heatmap\"}], \"heatmapgl\": [{\"colorbar\": {\"outlinewidth\": 0, \"ticks\": \"\"}, \"colorscale\": [[0.0, \"#0d0887\"], [0.1111111111111111, \"#46039f\"], [0.2222222222222222, \"#7201a8\"], [0.3333333333333333, \"#9c179e\"], [0.4444444444444444, \"#bd3786\"], [0.5555555555555556, \"#d8576b\"], [0.6666666666666666, \"#ed7953\"], [0.7777777777777778, \"#fb9f3a\"], [0.8888888888888888, \"#fdca26\"], [1.0, \"#f0f921\"]], \"type\": \"heatmapgl\"}], \"histogram\": [{\"marker\": {\"colorbar\": {\"outlinewidth\": 0, \"ticks\": \"\"}}, \"type\": \"histogram\"}], \"histogram2d\": [{\"colorbar\": {\"outlinewidth\": 0, \"ticks\": \"\"}, \"colorscale\": [[0.0, \"#0d0887\"], [0.1111111111111111, \"#46039f\"], [0.2222222222222222, \"#7201a8\"], [0.3333333333333333, \"#9c179e\"], [0.4444444444444444, \"#bd3786\"], [0.5555555555555556, \"#d8576b\"], [0.6666666666666666, \"#ed7953\"], [0.7777777777777778, \"#fb9f3a\"], [0.8888888888888888, \"#fdca26\"], [1.0, \"#f0f921\"]], \"type\": \"histogram2d\"}], \"histogram2dcontour\": [{\"colorbar\": {\"outlinewidth\": 0, \"ticks\": \"\"}, \"colorscale\": [[0.0, \"#0d0887\"], [0.1111111111111111, \"#46039f\"], [0.2222222222222222, \"#7201a8\"], [0.3333333333333333, \"#9c179e\"], [0.4444444444444444, \"#bd3786\"], [0.5555555555555556, \"#d8576b\"], [0.6666666666666666, \"#ed7953\"], [0.7777777777777778, \"#fb9f3a\"], [0.8888888888888888, \"#fdca26\"], [1.0, \"#f0f921\"]], \"type\": \"histogram2dcontour\"}], \"mesh3d\": [{\"colorbar\": {\"outlinewidth\": 0, \"ticks\": \"\"}, \"type\": \"mesh3d\"}], \"parcoords\": [{\"line\": {\"colorbar\": {\"outlinewidth\": 0, \"ticks\": \"\"}}, \"type\": \"parcoords\"}], \"pie\": [{\"automargin\": true, \"type\": \"pie\"}], \"scatter\": [{\"marker\": {\"colorbar\": {\"outlinewidth\": 0, \"ticks\": \"\"}}, \"type\": \"scatter\"}], \"scatter3d\": [{\"line\": {\"colorbar\": {\"outlinewidth\": 0, \"ticks\": \"\"}}, \"marker\": {\"colorbar\": {\"outlinewidth\": 0, \"ticks\": \"\"}}, \"type\": \"scatter3d\"}], \"scattercarpet\": [{\"marker\": {\"colorbar\": {\"outlinewidth\": 0, \"ticks\": \"\"}}, \"type\": \"scattercarpet\"}], \"scattergeo\": [{\"marker\": {\"colorbar\": {\"outlinewidth\": 0, \"ticks\": \"\"}}, \"type\": \"scattergeo\"}], \"scattergl\": [{\"marker\": {\"colorbar\": {\"outlinewidth\": 0, \"ticks\": \"\"}}, \"type\": \"scattergl\"}], \"scattermapbox\": [{\"marker\": {\"colorbar\": {\"outlinewidth\": 0, \"ticks\": \"\"}}, \"type\": \"scattermapbox\"}], \"scatterpolar\": [{\"marker\": {\"colorbar\": {\"outlinewidth\": 0, \"ticks\": \"\"}}, \"type\": \"scatterpolar\"}], \"scatterpolargl\": [{\"marker\": {\"colorbar\": {\"outlinewidth\": 0, \"ticks\": \"\"}}, \"type\": \"scatterpolargl\"}], \"scatterternary\": [{\"marker\": {\"colorbar\": {\"outlinewidth\": 0, \"ticks\": \"\"}}, \"type\": \"scatterternary\"}], \"surface\": [{\"colorbar\": {\"outlinewidth\": 0, \"ticks\": \"\"}, \"colorscale\": [[0.0, \"#0d0887\"], [0.1111111111111111, \"#46039f\"], [0.2222222222222222, \"#7201a8\"], [0.3333333333333333, \"#9c179e\"], [0.4444444444444444, \"#bd3786\"], [0.5555555555555556, \"#d8576b\"], [0.6666666666666666, \"#ed7953\"], [0.7777777777777778, \"#fb9f3a\"], [0.8888888888888888, \"#fdca26\"], [1.0, \"#f0f921\"]], \"type\": \"surface\"}], \"table\": [{\"cells\": {\"fill\": {\"color\": \"#EBF0F8\"}, \"line\": {\"color\": \"white\"}}, \"header\": {\"fill\": {\"color\": \"#C8D4E3\"}, \"line\": {\"color\": \"white\"}}, \"type\": \"table\"}]}, \"layout\": {\"annotationdefaults\": {\"arrowcolor\": \"#2a3f5f\", \"arrowhead\": 0, \"arrowwidth\": 1}, \"coloraxis\": {\"colorbar\": {\"outlinewidth\": 0, \"ticks\": \"\"}}, \"colorscale\": {\"diverging\": [[0, \"#8e0152\"], [0.1, \"#c51b7d\"], [0.2, \"#de77ae\"], [0.3, \"#f1b6da\"], [0.4, \"#fde0ef\"], [0.5, \"#f7f7f7\"], [0.6, \"#e6f5d0\"], [0.7, \"#b8e186\"], [0.8, \"#7fbc41\"], [0.9, \"#4d9221\"], [1, \"#276419\"]], \"sequential\": [[0.0, \"#0d0887\"], [0.1111111111111111, \"#46039f\"], [0.2222222222222222, \"#7201a8\"], [0.3333333333333333, \"#9c179e\"], [0.4444444444444444, \"#bd3786\"], [0.5555555555555556, \"#d8576b\"], [0.6666666666666666, \"#ed7953\"], [0.7777777777777778, \"#fb9f3a\"], [0.8888888888888888, \"#fdca26\"], [1.0, \"#f0f921\"]], \"sequentialminus\": [[0.0, \"#0d0887\"], [0.1111111111111111, \"#46039f\"], [0.2222222222222222, \"#7201a8\"], [0.3333333333333333, \"#9c179e\"], [0.4444444444444444, \"#bd3786\"], [0.5555555555555556, \"#d8576b\"], [0.6666666666666666, \"#ed7953\"], [0.7777777777777778, \"#fb9f3a\"], [0.8888888888888888, \"#fdca26\"], [1.0, \"#f0f921\"]]}, \"colorway\": [\"#636efa\", \"#EF553B\", \"#00cc96\", \"#ab63fa\", \"#FFA15A\", \"#19d3f3\", \"#FF6692\", \"#B6E880\", \"#FF97FF\", \"#FECB52\"], \"font\": {\"color\": \"#2a3f5f\"}, \"geo\": {\"bgcolor\": \"white\", \"lakecolor\": \"white\", \"landcolor\": \"#E5ECF6\", \"showlakes\": true, \"showland\": true, \"subunitcolor\": \"white\"}, \"hoverlabel\": {\"align\": \"left\"}, \"hovermode\": \"closest\", \"mapbox\": {\"style\": \"light\"}, \"paper_bgcolor\": \"white\", \"plot_bgcolor\": \"#E5ECF6\", \"polar\": {\"angularaxis\": {\"gridcolor\": \"white\", \"linecolor\": \"white\", \"ticks\": \"\"}, \"bgcolor\": \"#E5ECF6\", \"radialaxis\": {\"gridcolor\": \"white\", \"linecolor\": \"white\", \"ticks\": \"\"}}, \"scene\": {\"xaxis\": {\"backgroundcolor\": \"#E5ECF6\", \"gridcolor\": \"white\", \"gridwidth\": 2, \"linecolor\": \"white\", \"showbackground\": true, \"ticks\": \"\", \"zerolinecolor\": \"white\"}, \"yaxis\": {\"backgroundcolor\": \"#E5ECF6\", \"gridcolor\": \"white\", \"gridwidth\": 2, \"linecolor\": \"white\", \"showbackground\": true, \"ticks\": \"\", \"zerolinecolor\": \"white\"}, \"zaxis\": {\"backgroundcolor\": \"#E5ECF6\", \"gridcolor\": \"white\", \"gridwidth\": 2, \"linecolor\": \"white\", \"showbackground\": true, \"ticks\": \"\", \"zerolinecolor\": \"white\"}}, \"shapedefaults\": {\"line\": {\"color\": \"#2a3f5f\"}}, \"ternary\": {\"aaxis\": {\"gridcolor\": \"white\", \"linecolor\": \"white\", \"ticks\": \"\"}, \"baxis\": {\"gridcolor\": \"white\", \"linecolor\": \"white\", \"ticks\": \"\"}, \"bgcolor\": \"#E5ECF6\", \"caxis\": {\"gridcolor\": \"white\", \"linecolor\": \"white\", \"ticks\": \"\"}}, \"title\": {\"x\": 0.05}, \"xaxis\": {\"automargin\": true, \"gridcolor\": \"white\", \"linecolor\": \"white\", \"ticks\": \"\", \"title\": {\"standoff\": 15}, \"zerolinecolor\": \"white\", \"zerolinewidth\": 2}, \"yaxis\": {\"automargin\": true, \"gridcolor\": \"white\", \"linecolor\": \"white\", \"ticks\": \"\", \"title\": {\"standoff\": 15}, \"zerolinecolor\": \"white\", \"zerolinewidth\": 2}}}, \"xaxis\": {\"anchor\": \"y\", \"domain\": [0.0, 1.0], \"title\": {\"text\": \"Age\"}}, \"yaxis\": {\"anchor\": \"x\", \"domain\": [0.0, 1.0]}},\n",
              "                        {\"responsive\": true}\n",
              "                    ).then(function(){\n",
              "                            \n",
              "var gd = document.getElementById('0d16046a-3c11-4aaa-9ca3-467e01118190');\n",
              "var x = new MutationObserver(function (mutations, observer) {{\n",
              "        var display = window.getComputedStyle(gd).display;\n",
              "        if (!display || display === 'none') {{\n",
              "            console.log([gd, 'removed!']);\n",
              "            Plotly.purge(gd);\n",
              "            observer.disconnect();\n",
              "        }}\n",
              "}});\n",
              "\n",
              "// Listen for the removal of the full notebook cells\n",
              "var notebookContainer = gd.closest('#notebook-container');\n",
              "if (notebookContainer) {{\n",
              "    x.observe(notebookContainer, {childList: true});\n",
              "}}\n",
              "\n",
              "// Listen for the clearing of the current output cell\n",
              "var outputEl = gd.closest('.output');\n",
              "if (outputEl) {{\n",
              "    x.observe(outputEl, {childList: true});\n",
              "}}\n",
              "\n",
              "                        })\n",
              "                };\n",
              "                \n",
              "            </script>\n",
              "        </div>\n",
              "</body>\n",
              "</html>"
            ]
          },
          "metadata": {
            "tags": []
          }
        }
      ]
    },
    {
      "cell_type": "markdown",
      "metadata": {
        "papermill": {
          "duration": 0.066778,
          "end_time": "2021-07-22T14:33:31.838521",
          "exception": false,
          "start_time": "2021-07-22T14:33:31.771743",
          "status": "completed"
        },
        "tags": [],
        "id": "7b30171f"
      },
      "source": [
        " ### we observe that there is less chance of diabetes among young people and more chances for the people above the Age of years\n",
        "---"
      ]
    },
    {
      "cell_type": "markdown",
      "metadata": {
        "papermill": {
          "duration": 0.066318,
          "end_time": "2021-07-22T14:33:31.972068",
          "exception": false,
          "start_time": "2021-07-22T14:33:31.905750",
          "status": "completed"
        },
        "tags": [],
        "id": "de92109f"
      },
      "source": [
        "\n",
        "<p style=\"font-family: Arials; line-height: 1.3; font-size: 27px; font-weight: bold; letter-spacing: 2px; text-align: center; color: #23527c\">Scaling the Data</p>\n"
      ]
    },
    {
      "cell_type": "code",
      "metadata": {
        "execution": {
          "iopub.execute_input": "2021-07-22T14:33:32.118899Z",
          "iopub.status.busy": "2021-07-22T14:33:32.115604Z",
          "iopub.status.idle": "2021-07-22T14:33:32.128938Z",
          "shell.execute_reply": "2021-07-22T14:33:32.128311Z",
          "shell.execute_reply.started": "2021-07-17T18:13:36.140699Z"
        },
        "papermill": {
          "duration": 0.089062,
          "end_time": "2021-07-22T14:33:32.129122",
          "exception": false,
          "start_time": "2021-07-22T14:33:32.040060",
          "status": "completed"
        },
        "tags": [],
        "id": "01928157"
      },
      "source": [
        "from sklearn.preprocessing import StandardScaler\n",
        "# scaler\n",
        "scaler = StandardScaler()\n",
        "norm = scaler.fit_transform(data[['Pregnancies', 'Glucose', 'BloodPressure', 'SkinThickness', 'Insulin', 'BMI', 'DiabetesPedigreeFunction', 'Age']])\n",
        "df_norm = pd.DataFrame({'Pregnancies': norm[ :, 0], 'Glucose' : norm[ :, 1], 'BloodPressure' : norm[ :, 2], 'SkinThickness' : norm[ :, 3],\n",
        "                       'Insulin' : norm[ :, 4], 'BMI' : norm[ :, 5], 'DiabetesPedigreeFunction' : norm[ :, 5], 'Age' : norm[ :, 6]}, \n",
        "                       columns=['Pregnancies', 'Glucose', 'BloodPressure', 'SkinThickness', 'Insulin', 'BMI', 'DiabetesPedigreeFunction', 'Age'])\n",
        "df_norm['Outcome'] = data['Outcome']\n"
      ],
      "execution_count": 18,
      "outputs": []
    },
    {
      "cell_type": "markdown",
      "metadata": {
        "papermill": {
          "duration": 0.067425,
          "end_time": "2021-07-22T14:33:32.264519",
          "exception": false,
          "start_time": "2021-07-22T14:33:32.197094",
          "status": "completed"
        },
        "tags": [],
        "id": "0a800949"
      },
      "source": [
        "\n",
        "<p style=\"font-family: Arials; line-height: 1.3; font-size: 27px; font-weight: bold; letter-spacing: 2px; text-align: center; color: #23527c\">Splitting the Data into training and testing sets</p>"
      ]
    },
    {
      "cell_type": "code",
      "metadata": {
        "execution": {
          "iopub.execute_input": "2021-07-22T14:33:32.413084Z",
          "iopub.status.busy": "2021-07-22T14:33:32.409714Z",
          "iopub.status.idle": "2021-07-22T14:33:32.416978Z",
          "shell.execute_reply": "2021-07-22T14:33:32.416239Z",
          "shell.execute_reply.started": "2021-07-17T18:13:36.159039Z"
        },
        "papermill": {
          "duration": 0.083863,
          "end_time": "2021-07-22T14:33:32.417156",
          "exception": false,
          "start_time": "2021-07-22T14:33:32.333293",
          "status": "completed"
        },
        "tags": [],
        "id": "99c9f230"
      },
      "source": [
        "# split\n",
        "x = df_norm.drop(['Outcome'], axis=1)\n",
        "y = df_norm['Outcome']\n",
        "x_train, x_test, y_train, y_test = train_test_split(x, y, test_size=0.3, random_state=42)\n"
      ],
      "execution_count": 22,
      "outputs": []
    },
    {
      "cell_type": "markdown",
      "metadata": {
        "papermill": {
          "duration": 0.069812,
          "end_time": "2021-07-22T14:33:32.563172",
          "exception": false,
          "start_time": "2021-07-22T14:33:32.493360",
          "status": "completed"
        },
        "tags": [],
        "id": "bc3ff86f"
      },
      "source": [
        "\n",
        "<p style=\"font-family: Arials; line-height: 1.3; font-size: 27px; font-weight: bold; letter-spacing: 2px; text-align: center; color: #23527c\">Oversampling the data using SMOTE to deal with imbalance in dataset</p>\n"
      ]
    },
    {
      "cell_type": "code",
      "metadata": {
        "execution": {
          "iopub.execute_input": "2021-07-22T14:33:32.719131Z",
          "iopub.status.busy": "2021-07-22T14:33:32.718360Z",
          "iopub.status.idle": "2021-07-22T14:33:32.731627Z",
          "shell.execute_reply": "2021-07-22T14:33:32.730979Z",
          "shell.execute_reply.started": "2021-07-17T18:13:36.169797Z"
        },
        "papermill": {
          "duration": 0.095069,
          "end_time": "2021-07-22T14:33:32.731773",
          "exception": false,
          "start_time": "2021-07-22T14:33:32.636704",
          "status": "completed"
        },
        "tags": [],
        "id": "2fc06bc8"
      },
      "source": [
        "# over sampling\n",
        "os = SMOTE(random_state=42)\n",
        "columns = x_train.columns\n",
        "os_data_x,os_data_y = os.fit_resample(x_train, y_train.ravel())"
      ],
      "execution_count": 23,
      "outputs": []
    },
    {
      "cell_type": "markdown",
      "metadata": {
        "papermill": {
          "duration": 0.06601,
          "end_time": "2021-07-22T14:33:32.864815",
          "exception": false,
          "start_time": "2021-07-22T14:33:32.798805",
          "status": "completed"
        },
        "tags": [],
        "id": "270383ce"
      },
      "source": [
        "---\n",
        "\n",
        "<p style=\"font-family: Arials; line-height: 1.3; font-size: 27px; font-weight: bold; letter-spacing: 2px; text-align: center; color: #23527c\">Modelling</p>\n"
      ]
    },
    {
      "cell_type": "code",
      "metadata": {
        "execution": {
          "iopub.execute_input": "2021-07-22T14:33:33.008050Z",
          "iopub.status.busy": "2021-07-22T14:33:33.007331Z",
          "iopub.status.idle": "2021-07-22T14:33:34.173156Z",
          "shell.execute_reply": "2021-07-22T14:33:34.172505Z",
          "shell.execute_reply.started": "2021-07-17T18:13:36.192666Z"
        },
        "papermill": {
          "duration": 1.240947,
          "end_time": "2021-07-22T14:33:34.173332",
          "exception": false,
          "start_time": "2021-07-22T14:33:32.932385",
          "status": "completed"
        },
        "tags": [],
        "id": "9c4d4c53"
      },
      "source": [
        "# logistic regression\n",
        "log_params = {'penalty':['l1', 'l2'], \n",
        "              'C': [0.0001, 0.001, 0.01, 0.1, 1, 10, 100, 100], \n",
        "              'solver':['liblinear', 'saga']} \n",
        "log_model = GridSearchCV(LogisticRegression(), log_params, cv=5) #Tuning the hyper-parameters\n",
        "log_model.fit(os_data_x, os_data_y)\n",
        "log_predict = log_model.predict(x_test)\n",
        "log_score = log_model.best_score_"
      ],
      "execution_count": 24,
      "outputs": []
    },
    {
      "cell_type": "code",
      "metadata": {
        "execution": {
          "iopub.execute_input": "2021-07-22T14:33:34.325123Z",
          "iopub.status.busy": "2021-07-22T14:33:34.323747Z",
          "iopub.status.idle": "2021-07-22T14:33:50.669531Z",
          "shell.execute_reply": "2021-07-22T14:33:50.670972Z",
          "shell.execute_reply.started": "2021-07-17T18:13:37.23348Z"
        },
        "papermill": {
          "duration": 16.427358,
          "end_time": "2021-07-22T14:33:50.671300",
          "exception": false,
          "start_time": "2021-07-22T14:33:34.243942",
          "status": "completed"
        },
        "tags": [],
        "id": "e6b714bf"
      },
      "source": [
        "# knn\n",
        "knn_params = {'n_neighbors': list(range(3, 20, 2)),\n",
        "          'weights':['uniform', 'distance'],\n",
        "          'algorithm':['auto', 'ball_tree', 'kd_tree', 'brute'],\n",
        "          'metric':['euclidean', 'manhattan', 'chebyshev', 'minkowski']}\n",
        "knn_model = GridSearchCV(KNeighborsClassifier(), knn_params, cv=5) #Tuning the hyper-parameters\n",
        "knn_model.fit(os_data_x, os_data_y)\n",
        "knn_predict = knn_model.predict(x_test)\n",
        "knn_score = knn_model.best_score_"
      ],
      "execution_count": 25,
      "outputs": []
    },
    {
      "cell_type": "code",
      "metadata": {
        "execution": {
          "iopub.execute_input": "2021-07-22T14:33:50.851100Z",
          "iopub.status.busy": "2021-07-22T14:33:50.850389Z",
          "iopub.status.idle": "2021-07-22T14:33:52.204078Z",
          "shell.execute_reply": "2021-07-22T14:33:52.204578Z",
          "shell.execute_reply.started": "2021-07-17T18:13:53.903564Z"
        },
        "papermill": {
          "duration": 1.429694,
          "end_time": "2021-07-22T14:33:52.204803",
          "exception": false,
          "start_time": "2021-07-22T14:33:50.775109",
          "status": "completed"
        },
        "tags": [],
        "id": "ef5dc7a1"
      },
      "source": [
        "# svc\n",
        "svc_params = {'C': [0.001, 0.01, 0.1, 1],\n",
        "              'kernel': [ 'linear' , 'poly' , 'rbf' , 'sigmoid' ]}\n",
        "svc_model = GridSearchCV(SVC(), svc_params, cv=5) #Tuning the hyper-parameters\n",
        "svc_model.fit(os_data_x, os_data_y)\n",
        "svc_predict = svc_model.predict(x_test)\n",
        "svc_score = svc_model.best_score_\n"
      ],
      "execution_count": 26,
      "outputs": []
    },
    {
      "cell_type": "code",
      "metadata": {
        "execution": {
          "iopub.execute_input": "2021-07-22T14:33:52.343179Z",
          "iopub.status.busy": "2021-07-22T14:33:52.342481Z",
          "iopub.status.idle": "2021-07-22T14:33:53.218083Z",
          "shell.execute_reply": "2021-07-22T14:33:53.217351Z",
          "shell.execute_reply.started": "2021-07-17T18:13:55.284665Z"
        },
        "papermill": {
          "duration": 0.946002,
          "end_time": "2021-07-22T14:33:53.218246",
          "exception": false,
          "start_time": "2021-07-22T14:33:52.272244",
          "status": "completed"
        },
        "tags": [],
        "id": "f51b5191"
      },
      "source": [
        "# decsion tree\n",
        "dt_params = {'criterion' : ['gini', 'entropy'],\n",
        "              'splitter': ['random', 'best'], \n",
        "              'max_depth': [3, 5, 7, 9, 11, 13]}\n",
        "dt_model = GridSearchCV(DecisionTreeClassifier(), dt_params, cv=5) #Tuning the hyper-parameters\n",
        "dt_model.fit(os_data_x, os_data_y)\n",
        "dt_predict = dt_model.predict(x_test)\n",
        "dt_score = dt_model.best_score_"
      ],
      "execution_count": 27,
      "outputs": []
    },
    {
      "cell_type": "code",
      "metadata": {
        "execution": {
          "iopub.execute_input": "2021-07-22T14:33:53.360625Z",
          "iopub.status.busy": "2021-07-22T14:33:53.359820Z",
          "iopub.status.idle": "2021-07-22T14:34:13.350209Z",
          "shell.execute_reply": "2021-07-22T14:34:13.349206Z",
          "shell.execute_reply.started": "2021-07-17T18:13:56.058818Z"
        },
        "papermill": {
          "duration": 20.066142,
          "end_time": "2021-07-22T14:34:13.350402",
          "exception": false,
          "start_time": "2021-07-22T14:33:53.284260",
          "status": "completed"
        },
        "tags": [],
        "id": "c0f915cf"
      },
      "source": [
        "# random forest\n",
        "rf_params = {'criterion' : ['gini', 'entropy'],\n",
        "             'n_estimators': list(range(5, 26, 5)),\n",
        "             'max_depth': list(range(3, 20, 2))}\n",
        "rf_model = GridSearchCV(RandomForestClassifier(), rf_params, cv=5) #Tuning the hyper-parameters\n",
        "rf_model.fit(os_data_x, os_data_y)\n",
        "rf_predict = rf_model.predict(x_test)\n",
        "rf_score = rf_model.best_score_"
      ],
      "execution_count": 28,
      "outputs": []
    },
    {
      "cell_type": "markdown",
      "metadata": {
        "papermill": {
          "duration": 0.06815,
          "end_time": "2021-07-22T14:38:11.229506",
          "exception": false,
          "start_time": "2021-07-22T14:38:11.161356",
          "status": "completed"
        },
        "tags": [],
        "id": "62128e2e"
      },
      "source": [
        "---\n",
        "\n",
        "\n",
        "<p style=\"font-family: Arials; line-height: 1.3; font-size: 27px; font-weight: bold; letter-spacing: 2px; text-align: center; color: #23527c\">Evaluation</p>\n"
      ]
    },
    {
      "cell_type": "code",
      "metadata": {
        "execution": {
          "iopub.execute_input": "2021-07-22T14:38:11.408148Z",
          "iopub.status.busy": "2021-07-22T14:38:11.383659Z",
          "iopub.status.idle": "2021-07-22T14:38:11.764208Z",
          "shell.execute_reply": "2021-07-22T14:38:11.763589Z",
          "shell.execute_reply.started": "2021-07-17T18:17:50.344713Z"
        },
        "papermill": {
          "duration": 0.466331,
          "end_time": "2021-07-22T14:38:11.764377",
          "exception": false,
          "start_time": "2021-07-22T14:38:11.298046",
          "status": "completed"
        },
        "tags": [],
        "id": "5cf8f22c",
        "colab": {
          "base_uri": "https://localhost:8080/",
          "height": 386
        },
        "outputId": "1b0298ff-fb43-48c4-f516-32015a83afb8"
      },
      "source": [
        "models = ['LogisticRegression', 'KNeighborsClassifier', 'SVC', 'DecisionTreeClassifier', \n",
        "          'RandomForestClassifier']\n",
        "scores = [log_score, knn_score, svc_score, dt_score, rf_score]\n",
        "score_table = pd.DataFrame({'Model':models, 'Score':scores})\n",
        "score_table.sort_values(by='Score', axis=0, ascending=False)\n",
        "print(score_table.sort_values(by='Score', ascending=False))\n",
        "sns.barplot(x = score_table['Score'], y = score_table['Model'], palette='viridis');\n"
      ],
      "execution_count": 31,
      "outputs": [
        {
          "output_type": "stream",
          "text": [
            "                    Model     Score\n",
            "4  RandomForestClassifier  0.833936\n",
            "1    KNeighborsClassifier  0.822425\n",
            "2                     SVC  0.783710\n",
            "3  DecisionTreeClassifier  0.782467\n",
            "0      LogisticRegression  0.773649\n"
          ],
          "name": "stdout"
        },
        {
          "output_type": "display_data",
          "data": {
            "image/png": "[encoded data removed]",
            "text/plain": [
              "<Figure size 432x288 with 1 Axes>"
            ]
          },
          "metadata": {
            "tags": []
          }
        }
      ]
    },
    {
      "cell_type": "markdown",
      "metadata": {
        "papermill": {
          "duration": 0.070844,
          "end_time": "2021-07-22T14:38:11.906297",
          "exception": false,
          "start_time": "2021-07-22T14:38:11.835453",
          "status": "completed"
        },
        "tags": [],
        "id": "8286b4aa"
      },
      "source": [
        "\n",
        "<p style=\"font-family: Arials; line-height: 1.3; font-size: 23px; font-weight: bold; letter-spacing: 2px; text-align: left; color: #23527c\">We can see that RandomForest classifier is the Best performing model with a score of .8339</p>"
      ]
    },
    {
      "cell_type": "code",
      "metadata": {
        "execution": {
          "iopub.execute_input": "2021-07-22T14:38:12.050541Z",
          "iopub.status.busy": "2021-07-22T14:38:12.049841Z",
          "iopub.status.idle": "2021-07-22T14:38:12.061879Z",
          "shell.execute_reply": "2021-07-22T14:38:12.060897Z",
          "shell.execute_reply.started": "2021-07-17T18:17:50.721581Z"
        },
        "papermill": {
          "duration": 0.086342,
          "end_time": "2021-07-22T14:38:12.062113",
          "exception": false,
          "start_time": "2021-07-22T14:38:11.975771",
          "status": "completed"
        },
        "tags": [],
        "id": "875bd72a",
        "colab": {
          "base_uri": "https://localhost:8080/"
        },
        "outputId": "9afee3ec-ae1b-4e5b-ac98-21b43b528115"
      },
      "source": [
        "#Printing classification report for randomforest claassifier\n",
        "from sklearn import metrics\n",
        "print('Classification Report_test','\\n',metrics.classification_report(y_test, rf_predict))"
      ],
      "execution_count": 32,
      "outputs": [
        {
          "output_type": "stream",
          "text": [
            "Classification Report_test \n",
            "               precision    recall  f1-score   support\n",
            "\n",
            "           0       0.82      0.76      0.79       151\n",
            "           1       0.60      0.69      0.64        80\n",
            "\n",
            "    accuracy                           0.74       231\n",
            "   macro avg       0.71      0.72      0.72       231\n",
            "weighted avg       0.75      0.74      0.74       231\n",
            "\n"
          ],
          "name": "stdout"
        }
      ]
    },
    {
      "cell_type": "markdown",
      "metadata": {
        "papermill": {
          "duration": 0.149104,
          "end_time": "2021-07-22T14:38:12.284410",
          "exception": false,
          "start_time": "2021-07-22T14:38:12.135306",
          "status": "completed"
        },
        "tags": [],
        "id": "480cf93d"
      },
      "source": [
        "\n",
        "---\n",
        "\n",
        "<p style=\"font-family: Arials; line-height: 1.3; font-size: 23px; font-weight: bold; letter-spacing: 2px; text-align: left; color: #23527c\">Thank You!</p>\n"
      ]
    }
  ]
}